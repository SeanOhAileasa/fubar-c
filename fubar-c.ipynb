{
 "cells": [
  {
   "cell_type": "code",
   "execution_count": null,
   "metadata": {},
   "outputs": [
    {
     "data": {
      "text/html": [
       "<script>Jupyter.notebook.kernel.restart()</script>"
      ]
     },
     "metadata": {},
     "output_type": "display_data"
    }
   ],
   "source": [
    "from IPython.core.display import display_html\n",
    "display_html(\"<script>Jupyter.notebook.kernel.restart()</script>\",raw=True)"
   ]
  },
  {
   "cell_type": "code",
   "execution_count": 1,
   "metadata": {},
   "outputs": [
    {
     "data": {
      "text/html": [
       "<style>.container { width:100% !important; }</style>"
      ],
      "text/plain": [
       "<IPython.core.display.HTML object>"
      ]
     },
     "metadata": {},
     "output_type": "display_data"
    },
    {
     "data": {
      "text/html": [
       "<style>.container { width:100% !important; }</style>"
      ],
      "text/plain": [
       "<IPython.core.display.HTML object>"
      ]
     },
     "metadata": {},
     "output_type": "display_data"
    }
   ],
   "source": [
    "from sys import path; path.insert(1,\"../src\");\n",
    "import fubar; from importlib import reload; reload(fubar);"
   ]
  },
  {
   "cell_type": "markdown",
   "metadata": {},
   "source": [
    "***\n",
    "< [GMIT Data Analytics](https://web.archive.org/web/20201029063153/https://www.gmit.ie/computer-science-and-applied-physics/higher-diploma-science-computing-data-analytics-ict) | [Home](https://github.com/SeanOhAileasa) | [README](https://github.com/SeanOhAileasa/fubar-c/blob/main/README.md) >\n",
    "\n",
    "[![GMIT](https://github.com/SeanOhAileasa/SeanOhAileasa/blob/master/rc/gmit.png?raw=true)](https://web.archive.org/web/20201029063153/https://www.gmit.ie/computer-science-and-applied-physics/higher-diploma-science-computing-data-analytics-ict)\n",
    "\n",
    "## GMIT - Supplemental Course Material\n",
    "### Topic: [C](https://nbviewer.jupyter.org/github/SeanOhAileasa/fubar-c/blob/main/fubar-c.ipynb)\n",
    "***"
   ]
  },
  {
   "cell_type": "markdown",
   "metadata": {},
   "source": [
    "Supplemental course material for the ``Higher Diploma in Science in Computing (Data Analytics) (H.Dip)`` programme (75 Credits) at **Galway-Mayo Institute of Technology (GMIT)**. \n",
    "\n",
    "This repository is for self-study/self-examination for future modules of the H.Dip programme and preparation for future workplace opportunities."
   ]
  },
  {
   "cell_type": "markdown",
   "metadata": {},
   "source": [
    "<a id=\"top\"></a>\n",
    "***\n",
    "## Table of Contents\n",
    "***"
   ]
  },
  {
   "cell_type": "markdown",
   "metadata": {},
   "source": [
    "## [Abstract](#abstract)\n",
    "\n",
    "< [1-1](#abstract11)&nbsp;&nbsp;|&nbsp;&nbsp;[1-2](#abstract12)&nbsp;&nbsp;|&nbsp;&nbsp;[1-2.a](#abstract12a)&nbsp;&nbsp;|&nbsp;&nbsp;[1-3](#abstract13)&nbsp;&nbsp;|&nbsp;&nbsp;[1-4](#abstract14)&nbsp;&nbsp;|&nbsp;&nbsp;[1-4.a](#abstract14a)&nbsp;&nbsp;|&nbsp;&nbsp;[1-5](#abstract15)&nbsp;&nbsp;|&nbsp;&nbsp;[1-5.a](#abstract15a)&nbsp;&nbsp;|&nbsp;&nbsp;[1-5.b](#abstract15b)&nbsp;&nbsp;|&nbsp;&nbsp;[1-6](#abstract16)&nbsp;&nbsp;|&nbsp;&nbsp;[1-7](#abstract17)&nbsp;&nbsp;|&nbsp;&nbsp;[1-7.a](#abstract17a)&nbsp;&nbsp;|&nbsp;&nbsp;[1-7.b](#abstract17b)&nbsp;&nbsp;|&nbsp;&nbsp;[1-8](#abstract18)&nbsp;&nbsp;>"
   ]
  },
  {
   "cell_type": "markdown",
   "metadata": {},
   "source": [
    "<hr width=50%;>"
   ]
  },
  {
   "cell_type": "markdown",
   "metadata": {},
   "source": [
    "## [Introduction](#introduction) \n",
    "\n",
    "- &#x1F6A7;"
   ]
  },
  {
   "cell_type": "markdown",
   "metadata": {},
   "source": [
    "<hr width=50%;>"
   ]
  },
  {
   "cell_type": "markdown",
   "metadata": {},
   "source": [
    "* [Statement](#statement) <br/><br/>\n",
    "    * [Compound](#statementsCompound)"
   ]
  },
  {
   "cell_type": "markdown",
   "metadata": {},
   "source": [
    "<hr width=50%;>"
   ]
  },
  {
   "cell_type": "markdown",
   "metadata": {},
   "source": [
    "* [Data Type](#dataType) <br/><br/>\n",
    "    * [Character](#dataTypesCharacter) <br/><br/>\n",
    "        * [``char``](#intTypeschar) (&#8594; ``1-7.b``)&nbsp;&nbsp;|&nbsp;&nbsp;[``wchar_t``](#intTypeswchar_t) <br/><br/>\n",
    "            * [Stream](#dataTypesCharacterStream) <br/><br/>\n",
    "                * [``getchar``](#dataTypesCharacterStreamgetchar) (&#8594; ``1-5.b`` &#8594; ``1-6``) <br/><br/>\n",
    "                * [``putchar``](#dataTypesCharacterStreamputchar) (&#8594; ``1-5.b``) <br/><br/>\n",
    "    * [Integer](#dataTypesIntegers) <br/><br/>     \n",
    "        * [``int``](#intTypesint) <br/><br/>          \n",
    "        * [Qualifier](#intTypesQualifier) <br/><br/>\n",
    "            * [``short``](#intTypesshort) <br/><br/>\n",
    "            * [``long``](#intTypeslong) <br/><br/>\n",
    "            * [Signed/Unsigned](#intSignedversusUnsigned) <br/><br/>\n",
    "    * [Single-Precision Floating Point](#dataTypesSingle-PrecisionFloatingPoint) <br/><br/>\n",
    "        * [``float``](#dataTypesDoublePrecisionFloatingPointfloat) <br/><br/>\n",
    "    * [Double-Precision Floating Point](#dataTypesDoublePrecisionFloatingPoint) <br/><br/>\n",
    "        * [``double``](#dataTypesDoublePrecisionFloatingPointdouble) &#x1F6A7; <br/><br/>\n",
    "        * [Qualifier](#dataTypesDoubleQualifier) &#x1F6A7; <br/><br/>\n",
    "            * [``long``](#dataTypesDoubleQualifierslong) <br/><br/>\n",
    "    * [Symbolic Constant](#dataTypeSymbolicConstant) (&#8594; ``1.5``) <br/><br/>\n",
    "        * [``#define``](#dataTypeSymbolicConstantshashdefine) (&#8594; ``1.5.a``)"
   ]
  },
  {
   "cell_type": "markdown",
   "metadata": {},
   "source": [
    "<hr width=50%;>"
   ]
  },
  {
   "cell_type": "markdown",
   "metadata": {},
   "source": [
    "* [Declaration](#declaration)"
   ]
  },
  {
   "cell_type": "markdown",
   "metadata": {},
   "source": [
    "<hr width=50%;>"
   ]
  },
  {
   "cell_type": "markdown",
   "metadata": {},
   "source": [
    "* [Operators](#operators) &#x1F6A7; <br/><br/>\n",
    "    * [Increment](#operatorsIncrementDecrement)&nbsp;&nbsp;|&nbsp;&nbsp;[Decrement](#operatorsIncrementDecrement) (&#8594; ``1-7.a``)"
   ]
  },
  {
   "cell_type": "markdown",
   "metadata": {},
   "source": [
    "<hr width=50%;>"
   ]
  },
  {
   "cell_type": "markdown",
   "metadata": {},
   "source": [
    "* [Control Flow](#controlFlow) <br/><br/>\n",
    "    * [``while``](#controlFlowwhile) (&#8594; ``1-7.a``) <br/><br/>\n",
    "    * [``for``](#controlFlowfor) (&#8594; ``1-7.a``)"
   ]
  },
  {
   "cell_type": "markdown",
   "metadata": {},
   "source": [
    "<hr width=50%;>"
   ]
  },
  {
   "cell_type": "markdown",
   "metadata": {},
   "source": [
    "* [Function](#function) <br/><br/>\n",
    "    * [``main``](#functionsmain)"
   ]
  },
  {
   "cell_type": "markdown",
   "metadata": {},
   "source": [
    "<hr width=50%;>"
   ]
  },
  {
   "cell_type": "markdown",
   "metadata": {},
   "source": [
    "* [Preprocessor](#preprocessor) <br/><br/>\n",
    "    * [Directive](#preprocessorDirective) <br/><br/>\n",
    "        * [``include``](#preprocessorDirectivehashinclude) <br/><br/>\n",
    "            * [Header File](#preprocessorDirectivehashincludeHeaderFile) <br/><br/>\n",
    "                * [``stdio.h``](#preprocessorDirectivehashincludeHeaderFilesstdioh) <br/><br/>\n",
    "                    * [``EOF``](#preprocessorDirectivehashincludeHeaderFilesstdiohsymbolicconstantEOF) (&#8594; ``1-5.b`` &#8594; ``1-6`` &#8594; ``1-7``) <br/><br/>\n",
    "                    * [``printf``](#preprocessorDirectivehashincludeHeaderFilesstdiohprintf) <br/><br/>\n",
    "                    * [``scanf``](#preprocessorDirectivehashincludeHeaderFilesstdiohscanf) <br/><br/>\n",
    "                * [``limits.h``](#preprocessorDirectivehashincludeHeaderFileslimitsh) <br/><br/>\n",
    "                * [``float.h``](#preprocessorDirectivehashincludeHeaderFilesfloath)"
   ]
  },
  {
   "cell_type": "markdown",
   "metadata": {},
   "source": [
    "<hr width=50%;>"
   ]
  },
  {
   "cell_type": "markdown",
   "metadata": {},
   "source": [
    "## [Solution](#solution)\n",
    "\n",
    "- &#x1F6A7;"
   ]
  },
  {
   "cell_type": "markdown",
   "metadata": {},
   "source": [
    "<hr width=50%;>"
   ]
  },
  {
   "cell_type": "markdown",
   "metadata": {},
   "source": [
    "## [Conclusion](#conclusion)\n",
    "\n",
    "- &#x1F6A7;"
   ]
  },
  {
   "cell_type": "markdown",
   "metadata": {},
   "source": [
    "<hr width=50%;>"
   ]
  },
  {
   "cell_type": "markdown",
   "metadata": {},
   "source": [
    "***\n",
    "## END"
   ]
  },
  {
   "cell_type": "markdown",
   "metadata": {},
   "source": [
    "< [Table of Contents](#top) | [Introduction](#introduction) | [Solution](#solution) | [Conclusion](#conclusion) | [References](#references) >\n",
    "<a id=\"abstract\"></a>\n",
    "***\n",
    "## Abstract\n",
    "***"
   ]
  },
  {
   "cell_type": "markdown",
   "metadata": {},
   "source": [
    "< [Table of Contents](#top) | [References](#references) >\n",
    "<a id=\"abstract11\"></a>\n",
    "***\n",
    "###### 1-1\n",
    "***"
   ]
  },
  {
   "cell_type": "code",
   "execution_count": 1,
   "metadata": {},
   "outputs": [
    {
     "name": "stdout",
     "output_type": "stream",
     "text": [
      "Writing hw.c\n"
     ]
    }
   ],
   "source": [
    "%%writefile hw.c\n",
    "    /* Exercise 1-1.\n",
    "Input:\n",
    "Process: (printf)\n",
    "Output:\n",
    "*/\n",
    "#include <stdio.h>\n",
    "int main()\n",
    "{\n",
    "    printf(\"hw\\n\");\n",
    "}"
   ]
  },
  {
   "cell_type": "code",
   "execution_count": 2,
   "metadata": {},
   "outputs": [],
   "source": [
    "%%script bash\n",
    "cc hw.c"
   ]
  },
  {
   "cell_type": "code",
   "execution_count": 3,
   "metadata": {},
   "outputs": [
    {
     "name": "stdout",
     "output_type": "stream",
     "text": [
      "hw\n"
     ]
    }
   ],
   "source": [
    "%%script bash\n",
    "./a.out"
   ]
  },
  {
   "cell_type": "code",
   "execution_count": 4,
   "metadata": {},
   "outputs": [],
   "source": [
    "%%script bash\n",
    "rm -rf hw.c a.out"
   ]
  },
  {
   "cell_type": "markdown",
   "metadata": {},
   "source": [
    "< [Table of Contents](#top) | [References](#references) >\n",
    "<a id=\"abstract12\"></a>\n",
    "***\n",
    "###### 1-2\n",
    "***"
   ]
  },
  {
   "cell_type": "code",
   "execution_count": 1,
   "metadata": {},
   "outputs": [
    {
     "name": "stdout",
     "output_type": "stream",
     "text": [
      "Writing hw.c\n"
     ]
    }
   ],
   "source": [
    "%%writefile hw.c\n",
    "    /* Exercise 1-2: What happens when printf argument string contains \\c.\n",
    "Input:\n",
    "Process: (printf)\n",
    "Output:\n",
    "*/\n",
    "#include <stdio.h>\n",
    "int main()\n",
    "{\n",
    "    printf(\"hw\\c\");\n",
    "}"
   ]
  },
  {
   "cell_type": "code",
   "execution_count": 2,
   "metadata": {},
   "outputs": [
    {
     "name": "stderr",
     "output_type": "stream",
     "text": [
      "hw.c: In function 'main':\n",
      "hw.c:9:12: warning: unknown escape sequence: '\\c'\n",
      "    9 |     printf(\"hw\\c\");\n",
      "      |            ^~~~~~\n"
     ]
    }
   ],
   "source": [
    "%%script bash\n",
    "cc hw.c"
   ]
  },
  {
   "cell_type": "code",
   "execution_count": 3,
   "metadata": {},
   "outputs": [],
   "source": [
    "%%script bash\n",
    "rm -rf hw.c a.out"
   ]
  },
  {
   "cell_type": "markdown",
   "metadata": {},
   "source": [
    "< [Table of Contents](#top) | [References](#references) >\n",
    "<a id=\"abstract12a\"></a>\n",
    "***\n",
    "###### 1-2.a\n",
    "***"
   ]
  },
  {
   "cell_type": "code",
   "execution_count": 1,
   "metadata": {},
   "outputs": [
    {
     "name": "stdout",
     "output_type": "stream",
     "text": [
      "Welcome to JupyROOT 6.24/00\n"
     ]
    }
   ],
   "source": [
    "import ROOT"
   ]
  },
  {
   "cell_type": "markdown",
   "metadata": {},
   "source": [
    "- computation begins with assignment statements - setting the variables to initial values [2]"
   ]
  },
  {
   "cell_type": "code",
   "execution_count": 2,
   "metadata": {},
   "outputs": [],
   "source": [
    "%%cpp\n",
    "int nCelsius,nLower=0,nUpper=300,nStep=20,nFahr=nLower;"
   ]
  },
  {
   "cell_type": "markdown",
   "metadata": {},
   "source": [
    "- using the formula $C=(5{\\div}9)(F-32)$ to create the table of fahrenheit to celsius by first dividing $5{\\div}9$ would result in integer division truncation (fractional part is discarded) - since $5$ and $9$ are integers then $5{\\div}9$ would be truncated to zero and so all the celsius temperatures would be reported as zero [2] "
   ]
  },
  {
   "cell_type": "code",
   "execution_count": 3,
   "metadata": {},
   "outputs": [
    {
     "name": "stdout",
     "output_type": "stream",
     "text": [
      "(int) 0\n"
     ]
    }
   ],
   "source": [
    "%%cpp\n",
    "5/9"
   ]
  },
  {
   "cell_type": "code",
   "execution_count": 4,
   "metadata": {},
   "outputs": [
    {
     "name": "stdout",
     "output_type": "stream",
     "text": [
      "(int) -17\n"
     ]
    }
   ],
   "source": [
    "%%cpp\n",
    "5*(nFahr-32)/9"
   ]
  },
  {
   "cell_type": "markdown",
   "metadata": {},
   "source": [
    "- using integer arithmetic results in the celsius temperatures not being very accurate ($0^{\\circ}F$ is actually about $-17.8^{\\circ}C$) - declaring ``nFahr`` and ``nCelsius`` to be ``float`` allows the formula for conversion to be written in a more natural way (unable to use $5{\\div}9$ given integer division would truncate it to zero) - a decimal point in a constant indicates that it is floating point so $5.0{\\div}9.0$ is not truncated because it is the ratio of two floating-point values [2]"
   ]
  },
  {
   "cell_type": "code",
   "execution_count": 5,
   "metadata": {},
   "outputs": [
    {
     "name": "stdout",
     "output_type": "stream",
     "text": [
      "(double) 0.55555556\n"
     ]
    }
   ],
   "source": [
    "%%cpp\n",
    "5.0/9.0"
   ]
  },
  {
   "cell_type": "markdown",
   "metadata": {},
   "source": [
    "- if an arithmetic operator has integer operands then an integer operation is performed - if an arithmetic operator has one floating-point operand and one integer operand then the integer will be converted to floating point before the operation is done [2]"
   ]
  },
  {
   "cell_type": "code",
   "execution_count": 6,
   "metadata": {},
   "outputs": [
    {
     "name": "stdout",
     "output_type": "stream",
     "text": [
      "(double) 0.55555556\n"
     ]
    }
   ],
   "source": [
    "%%cpp\n",
    "5.0/9"
   ]
  },
  {
   "cell_type": "code",
   "execution_count": 7,
   "metadata": {},
   "outputs": [
    {
     "name": "stdout",
     "output_type": "stream",
     "text": [
      "(double) 0.55555556\n"
     ]
    }
   ],
   "source": [
    "%%cpp\n",
    "5/9.0"
   ]
  },
  {
   "cell_type": "code",
   "execution_count": 8,
   "metadata": {},
   "outputs": [],
   "source": [
    "%%cpp\n",
    "float nFahr,nCelsius;"
   ]
  },
  {
   "cell_type": "markdown",
   "metadata": {},
   "source": [
    "- writing ``nFahr-32`` then the ``32`` would be automatically converted to floating point - writing floating-point constants with explicit decimal points even when they are integral values emphasises their floating-point nature for human readers [2]"
   ]
  },
  {
   "cell_type": "code",
   "execution_count": 9,
   "metadata": {},
   "outputs": [
    {
     "name": "stdout",
     "output_type": "stream",
     "text": [
      "(float) -32.0000f\n"
     ]
    }
   ],
   "source": [
    "%%cpp\n",
    "nFahr-32"
   ]
  },
  {
   "cell_type": "markdown",
   "metadata": {},
   "source": [
    "- the assignment ``nFahr=nLower`` and the test ``while (nFahr<=nUpper)`` also works in the natural way (the ``int`` is converted to ``float`` before the operation is done) [2]"
   ]
  },
  {
   "cell_type": "code",
   "execution_count": 10,
   "metadata": {},
   "outputs": [
    {
     "name": "stdout",
     "output_type": "stream",
     "text": [
      "(float) 0.00000f\n"
     ]
    }
   ],
   "source": [
    "%%cpp\n",
    "nFahr"
   ]
  },
  {
   "cell_type": "code",
   "execution_count": 11,
   "metadata": {},
   "outputs": [
    {
     "name": "stdout",
     "output_type": "stream",
     "text": [
      "(int) 0\n"
     ]
    }
   ],
   "source": [
    "%%cpp\n",
    "nLower"
   ]
  },
  {
   "cell_type": "code",
   "execution_count": 12,
   "metadata": {},
   "outputs": [
    {
     "name": "stdout",
     "output_type": "stream",
     "text": [
      "(int) 300\n"
     ]
    }
   ],
   "source": [
    "%%cpp\n",
    "nUpper"
   ]
  },
  {
   "cell_type": "markdown",
   "metadata": {},
   "source": [
    "- each line of the table is computed the same way using a loop that repeats once per output line [2]"
   ]
  },
  {
   "cell_type": "code",
   "execution_count": 13,
   "metadata": {},
   "outputs": [
    {
     "name": "stdout",
     "output_type": "stream",
     "text": [
      "  0 -17.8\n",
      " 20  -6.7\n",
      " 40   4.4\n",
      " 60  15.6\n",
      " 80  26.7\n",
      "100  37.8\n",
      "120  48.9\n",
      "140  60.0\n",
      "160  71.1\n",
      "180  82.2\n",
      "200  93.3\n",
      "220 104.4\n",
      "240 115.6\n",
      "260 126.7\n",
      "280 137.8\n",
      "300 148.9\n"
     ]
    }
   ],
   "source": [
    "%%cpp\n",
    "while (nFahr<=nUpper)\n",
    "{ \n",
    "    nCelsius=(5.0/9)*(nFahr-32);\n",
    "    printf(\"%3.0f%6.1f\\n\",nFahr,nCelsius);\n",
    "    nFahr=nFahr+nStep;\n",
    "}"
   ]
  },
  {
   "cell_type": "markdown",
   "metadata": {},
   "source": [
    "< [Table of Contents](#top) | [References](#references) >\n",
    "<a id=\"abstract13\"></a>\n",
    "***\n",
    "###### 1-3\n",
    "***"
   ]
  },
  {
   "cell_type": "code",
   "execution_count": 1,
   "metadata": {},
   "outputs": [
    {
     "name": "stdout",
     "output_type": "stream",
     "text": [
      "Writing fc.c\n"
     ]
    }
   ],
   "source": [
    "%%writefile fc.c\n",
    "    /* Exercise 1-3: Using formula C=(5/9)(F-32) to create table of fahrenheit to celsius.\n",
    "Input:\n",
    "Process: (printf)\n",
    "Output:\n",
    "*/\n",
    "#include <stdio.h>\n",
    "int main()\n",
    "{\n",
    "    int nLower=0,nUpper=300,nStep=20;\n",
    "    float nFahr=nLower,nCelsius;\n",
    "    printf(\"Fahrenheit - Celsius\\n\");\n",
    "    while (nFahr<=nUpper)\n",
    "    {\n",
    "        nCelsius=(5.0/9)*(nFahr-32);\n",
    "        printf(\"%6.0f%13.1f\\n\",nFahr,nCelsius);\n",
    "        nFahr=nFahr+nStep;\n",
    "    }\n",
    "}"
   ]
  },
  {
   "cell_type": "code",
   "execution_count": 2,
   "metadata": {},
   "outputs": [],
   "source": [
    "%%script bash\n",
    "cc fc.c"
   ]
  },
  {
   "cell_type": "code",
   "execution_count": 3,
   "metadata": {},
   "outputs": [
    {
     "name": "stdout",
     "output_type": "stream",
     "text": [
      "Fahrenheit - Celsius\n",
      "     0        -17.8\n",
      "    20         -6.7\n",
      "    40          4.4\n",
      "    60         15.6\n",
      "    80         26.7\n",
      "   100         37.8\n",
      "   120         48.9\n",
      "   140         60.0\n",
      "   160         71.1\n",
      "   180         82.2\n",
      "   200         93.3\n",
      "   220        104.4\n",
      "   240        115.6\n",
      "   260        126.7\n",
      "   280        137.8\n",
      "   300        148.9\n"
     ]
    }
   ],
   "source": [
    "%%script bash\n",
    "./a.out"
   ]
  },
  {
   "cell_type": "code",
   "execution_count": 4,
   "metadata": {},
   "outputs": [],
   "source": [
    "%%script bash\n",
    "rm -rf fc.c a.out"
   ]
  },
  {
   "cell_type": "markdown",
   "metadata": {},
   "source": [
    "< [Table of Contents](#top) | [References](#references) >\n",
    "<a id=\"abstract14\"></a>\n",
    "***\n",
    "###### 1-4\n",
    "***"
   ]
  },
  {
   "cell_type": "code",
   "execution_count": 1,
   "metadata": {},
   "outputs": [
    {
     "name": "stdout",
     "output_type": "stream",
     "text": [
      "Writing cf.c\n"
     ]
    }
   ],
   "source": [
    "%%writefile cf.c\n",
    "    /* Exercise 1-4: Repurpose formula C=(5/9)(F-32) to create table of celsius to fahrenheit.\n",
    "Input:\n",
    "Process: (printf)\n",
    "Output:\n",
    "*/\n",
    "#include <stdio.h>\n",
    "int main()\n",
    "{\n",
    "    int nLower=0,nUpper=300,nStep=20;\n",
    "    float nFahr,nCelsius=nLower;\n",
    "    printf(\"Celsius - Fahrenheit\\n\");\n",
    "    while (nCelsius<=nUpper)\n",
    "    {\n",
    "        nFahr=nCelsius/(5.0/9)+32;\n",
    "        printf(\"%4.0f%13.1f\\n\",nCelsius,nFahr);\n",
    "        nCelsius=nCelsius+nStep;\n",
    "    }\n",
    "}"
   ]
  },
  {
   "cell_type": "code",
   "execution_count": 2,
   "metadata": {},
   "outputs": [],
   "source": [
    "%%script bash\n",
    "cc cf.c"
   ]
  },
  {
   "cell_type": "code",
   "execution_count": 3,
   "metadata": {},
   "outputs": [
    {
     "name": "stdout",
     "output_type": "stream",
     "text": [
      "Celsius - Fahrenheit\n",
      "   0         32.0\n",
      "  20         68.0\n",
      "  40        104.0\n",
      "  60        140.0\n",
      "  80        176.0\n",
      " 100        212.0\n",
      " 120        248.0\n",
      " 140        284.0\n",
      " 160        320.0\n",
      " 180        356.0\n",
      " 200        392.0\n",
      " 220        428.0\n",
      " 240        464.0\n",
      " 260        500.0\n",
      " 280        536.0\n",
      " 300        572.0\n"
     ]
    }
   ],
   "source": [
    "%%script bash\n",
    "./a.out"
   ]
  },
  {
   "cell_type": "code",
   "execution_count": 4,
   "metadata": {},
   "outputs": [],
   "source": [
    "%%script bash\n",
    "rm -rf cf.c a.out"
   ]
  },
  {
   "cell_type": "markdown",
   "metadata": {},
   "source": [
    "< [Table of Contents](#top) | [References](#references) >\n",
    "<a id=\"abstract14a\"></a>\n",
    "***\n",
    "###### 1-4.a\n",
    "***"
   ]
  },
  {
   "cell_type": "markdown",
   "metadata": {},
   "source": [
    "- variation on the temperature converter (refer ``1-2.a``) [2]"
   ]
  },
  {
   "cell_type": "code",
   "execution_count": 1,
   "metadata": {},
   "outputs": [
    {
     "name": "stdout",
     "output_type": "stream",
     "text": [
      "Welcome to JupyROOT 6.24/00\n"
     ]
    }
   ],
   "source": [
    "import ROOT"
   ]
  },
  {
   "cell_type": "markdown",
   "metadata": {},
   "source": [
    "- eliminate most of the variables with ``nFahr`` remaining (make it an ``int``) [2]"
   ]
  },
  {
   "cell_type": "code",
   "execution_count": 2,
   "metadata": {},
   "outputs": [],
   "source": [
    "%%cpp\n",
    "int nFahr;"
   ]
  },
  {
   "cell_type": "markdown",
   "metadata": {},
   "source": [
    "- variables ``nLower`` and ``nUpper`` and ``nStep`` appear only as constants in the ``for`` statement [2]"
   ]
  },
  {
   "cell_type": "markdown",
   "metadata": {},
   "source": [
    "- the expression that computes the ``nCelsius`` now appears as the third argument of the ``printf`` instead of as a separate assignment statement [2]"
   ]
  },
  {
   "cell_type": "code",
   "execution_count": 3,
   "metadata": {},
   "outputs": [
    {
     "name": "stdout",
     "output_type": "stream",
     "text": [
      "  0  -17.8\n",
      " 20   -6.7\n",
      " 40    4.4\n",
      " 60   15.6\n",
      " 80   26.7\n",
      "100   37.8\n",
      "120   48.9\n",
      "140   60.0\n",
      "160   71.1\n",
      "180   82.2\n",
      "200   93.3\n",
      "220  104.4\n",
      "240  115.6\n",
      "260  126.7\n",
      "280  137.8\n",
      "300  148.9\n"
     ]
    }
   ],
   "source": [
    "%%cpp\n",
    "for (nFahr=0; nFahr<=300; nFahr=nFahr+20)\n",
    "    printf(\"%3d %6.1f\\n\",nFahr,(5.0/9)*(nFahr-32));"
   ]
  },
  {
   "cell_type": "markdown",
   "metadata": {},
   "source": [
    "< [Table of Contents](#top) | [References](#references) >\n",
    "<a id=\"abstract15\"></a>\n",
    "***\n",
    "###### 1-5\n",
    "***"
   ]
  },
  {
   "cell_type": "code",
   "execution_count": 1,
   "metadata": {},
   "outputs": [
    {
     "name": "stdout",
     "output_type": "stream",
     "text": [
      "Writing cf.c\n"
     ]
    }
   ],
   "source": [
    "%%writefile cf.c\n",
    "    /* Exercise 1-5: Using the formula C=(5/9)(F-32) create table of celsius to fahrenheit in reverse order.\n",
    "Input:\n",
    "Process: (printf)\n",
    "Output:\n",
    "*/\n",
    "#include <stdio.h>\n",
    "int main()\n",
    "{\n",
    "    int nFahr;\n",
    "    for (nFahr=300; nFahr>=0; nFahr-=20)\n",
    "        printf(\"%3d %6.1f\\n\",nFahr,(5.0/9)*(nFahr-32));\n",
    "}"
   ]
  },
  {
   "cell_type": "code",
   "execution_count": 2,
   "metadata": {},
   "outputs": [],
   "source": [
    "%%script bash\n",
    "cc cf.c"
   ]
  },
  {
   "cell_type": "code",
   "execution_count": 3,
   "metadata": {},
   "outputs": [
    {
     "name": "stdout",
     "output_type": "stream",
     "text": [
      "300  148.9\n",
      "280  137.8\n",
      "260  126.7\n",
      "240  115.6\n",
      "220  104.4\n",
      "200   93.3\n",
      "180   82.2\n",
      "160   71.1\n",
      "140   60.0\n",
      "120   48.9\n",
      "100   37.8\n",
      " 80   26.7\n",
      " 60   15.6\n",
      " 40    4.4\n",
      " 20   -6.7\n",
      "  0  -17.8\n"
     ]
    }
   ],
   "source": [
    "%%script bash\n",
    "./a.out"
   ]
  },
  {
   "cell_type": "code",
   "execution_count": 4,
   "metadata": {},
   "outputs": [],
   "source": [
    "%%script bash\n",
    "rm -rf cf.c a.out"
   ]
  },
  {
   "cell_type": "markdown",
   "metadata": {},
   "source": [
    "< [Table of Contents](#top) | [References](#references) >\n",
    "<a id=\"abstract15a\"></a>\n",
    "***\n",
    "###### 1-5.a\n",
    "***"
   ]
  },
  {
   "cell_type": "code",
   "execution_count": 1,
   "metadata": {},
   "outputs": [
    {
     "name": "stdout",
     "output_type": "stream",
     "text": [
      "Welcome to JupyROOT 6.24/00\n"
     ]
    }
   ],
   "source": [
    "import ROOT"
   ]
  },
  {
   "cell_type": "markdown",
   "metadata": {},
   "source": [
    "- the quantities ``LOWER`` and ``UPPER`` and ``STEP`` are symbolic constants [2]"
   ]
  },
  {
   "cell_type": "markdown",
   "metadata": {},
   "source": [
    "- these are not variables so do not appear in declarations and are conventionally written in upper case so can be readily distinguished from lower case variable names [2]"
   ]
  },
  {
   "cell_type": "markdown",
   "metadata": {},
   "source": [
    "- note there is no ``;`` at the end [2]"
   ]
  },
  {
   "cell_type": "code",
   "execution_count": 2,
   "metadata": {},
   "outputs": [],
   "source": [
    "%%cpp\n",
    "#define LOWER 0 // table lower limit\n",
    "#define UPPER 300 //  table upper limit\n",
    "#define STEP 20 // table step size"
   ]
  },
  {
   "cell_type": "code",
   "execution_count": 3,
   "metadata": {},
   "outputs": [],
   "source": [
    "%%cpp\n",
    "int nFahr;"
   ]
  },
  {
   "cell_type": "code",
   "execution_count": 4,
   "metadata": {},
   "outputs": [
    {
     "name": "stdout",
     "output_type": "stream",
     "text": [
      "300 148.9\n",
      "280 137.8\n",
      "260 126.7\n",
      "240 115.6\n",
      "220 104.4\n",
      "200  93.3\n",
      "180  82.2\n",
      "160  71.1\n",
      "140  60.0\n",
      "120  48.9\n",
      "100  37.8\n",
      " 80  26.7\n",
      " 60  15.6\n",
      " 40   4.4\n",
      " 20  -6.7\n",
      "  0 -17.8\n"
     ]
    }
   ],
   "source": [
    "%%cpp\n",
    "for (nFahr=UPPER; nFahr>=LOWER; nFahr-=STEP)\n",
    "    printf(\"%3d%6.1f\\n\",nFahr,(5.0/9)*(nFahr-32));"
   ]
  },
  {
   "cell_type": "markdown",
   "metadata": {},
   "source": [
    "< [Table of Contents](#top) | [References](#references) >\n",
    "<a id=\"abstract15b\"></a>\n",
    "***\n",
    "###### 1-5.b\n",
    "***"
   ]
  },
  {
   "cell_type": "markdown",
   "metadata": {},
   "source": [
    "- can write a surprising amount of useful code without knowing anything more about input and output using ``getchar`` and ``putchar`` [2]"
   ]
  },
  {
   "cell_type": "markdown",
   "metadata": {},
   "source": [
    "- a character on the keyboard or screen like everything else is stored internally just as a bit pattern - type ``char`` is specifically meant for storing such character data but any type ``int`` can be used (``int`` is used for a subtle but important reason) [2]"
   ]
  },
  {
   "cell_type": "markdown",
   "metadata": {},
   "source": [
    "- the problem is distinguishing the end of the input from valid data - ``getchar`` returns a distinctive value when there is no more input (a value that cannot be confused with any real character - ``EOF``) [2]"
   ]
  },
  {
   "cell_type": "markdown",
   "metadata": {},
   "source": [
    "- variable ``c`` must be declared a type big enough to hold any value that ``getchar`` returns and big enough to hold ``EOF`` therefore using ``int`` [2] - on linux and OS X the character to input to cause an ``EOF`` is ``Ctrl-D`` and for windows its ``Ctrl-Z`` [[stackoverflow.com](https://stackoverflow.com/questions/1782080/what-is-eof-in-the-c-programming-language)]"
   ]
  },
  {
   "cell_type": "markdown",
   "metadata": {},
   "source": [
    "- ``EOF`` is an integer defined in ``stdio.h`` but the specific number value does not matter as long as it is not the same as any ``char`` value - using the symbolic constant assures that nothing in the program depends on the specific numeric value [2]"
   ]
  },
  {
   "cell_type": "code",
   "execution_count": 1,
   "metadata": {},
   "outputs": [
    {
     "name": "stdout",
     "output_type": "stream",
     "text": [
      "Writing getchar_putchar.c\n"
     ]
    }
   ],
   "source": [
    "%%writefile getchar_putchar.c\n",
    "    /* Version 1: A program that copies its input to its output one character at a time.\n",
    "Input: \n",
    "Process: (getchar; putchar)\n",
    "    read a character\n",
    "    while (character is not end-of-file indicator)\n",
    "        output the character just read\n",
    "        read a character\n",
    "Output: copy input to output\n",
    "*/\n",
    "#include <stdio.h>\n",
    "int main()\n",
    "{\n",
    "    int c;\n",
    "    c=getchar();\n",
    "    while (c!=EOF)\n",
    "    {\n",
    "        putchar(c);\n",
    "        c=getchar();\n",
    "    }\n",
    "}"
   ]
  },
  {
   "cell_type": "code",
   "execution_count": 2,
   "metadata": {},
   "outputs": [],
   "source": [
    "%%script bash\n",
    "cc getchar_putchar.c\n",
    "# ./a.out"
   ]
  },
  {
   "cell_type": "code",
   "execution_count": 3,
   "metadata": {},
   "outputs": [],
   "source": [
    "%%script bash\n",
    "rm -rf getchar_putchar.c ./a.out"
   ]
  },
  {
   "cell_type": "markdown",
   "metadata": {},
   "source": [
    "- any assignment is an expression and has a value which is the value of the LHS after the assignment - an assignment can appear as part of a larger expression [2]"
   ]
  },
  {
   "cell_type": "markdown",
   "metadata": {},
   "source": [
    "- the assignment of a character to variable ``c`` can be put inside the test part of a ``while`` - the ``while`` gets a character and assigns it to ``c`` then tests whether the character was the ``EOF`` [2]"
   ]
  },
  {
   "cell_type": "code",
   "execution_count": 1,
   "metadata": {},
   "outputs": [
    {
     "name": "stdout",
     "output_type": "stream",
     "text": [
      "Writing getchar_putchar.c\n"
     ]
    }
   ],
   "source": [
    "%%writefile getchar_putchar.c\n",
    "    /* Version 2: A program that copies its input to its output one character at a time.\n",
    "Input: \n",
    "Process: centralising the input with only one reference to getchar \n",
    "    (getchar; putchar)\n",
    "Output: shrinks the program (more compact) and once the idiom is mastered is easier to read\n",
    "*/\n",
    "#include <stdio.h>\n",
    "int main()\n",
    "{\n",
    "    int c;\n",
    "    while ((c=getchar())!=EOF) // != higher precedence\n",
    "    {\n",
    "        putchar(c);\n",
    "    }\n",
    "}"
   ]
  },
  {
   "cell_type": "code",
   "execution_count": 2,
   "metadata": {},
   "outputs": [],
   "source": [
    "%%script bash\n",
    "cc getchar_putchar.c\n",
    "# ./a.out"
   ]
  },
  {
   "cell_type": "code",
   "execution_count": 3,
   "metadata": {},
   "outputs": [],
   "source": [
    "%%script bash\n",
    "rm -rf getchar_putchar.c ./a.out"
   ]
  },
  {
   "cell_type": "markdown",
   "metadata": {},
   "source": [
    "< [Table of Contents](#top) | [References](#references) >\n",
    "<a id=\"abstract16\"></a>\n",
    "***\n",
    "###### 1-6\n",
    "***"
   ]
  },
  {
   "cell_type": "code",
   "execution_count": 1,
   "metadata": {},
   "outputs": [
    {
     "name": "stdout",
     "output_type": "stream",
     "text": [
      "Writing getcharEOF.c\n"
     ]
    }
   ],
   "source": [
    "%%writefile getcharEOF.c\n",
    "    /* Exercise 1-6: Verify that the expression getchar() != EOF is 0 or 1.\n",
    "Input: \n",
    "Process: format specifier %d is a signed decimal integer (%i specifies integer) \n",
    "    (printf; getchar)\n",
    "Output: 1 (true) if character and 0 (false) if EOF\n",
    "*/\n",
    "#include <stdio.h>\n",
    "int main()\n",
    "{\n",
    "    printf(\"%i\\n\",getchar()!=EOF);\n",
    "}"
   ]
  },
  {
   "cell_type": "code",
   "execution_count": 2,
   "metadata": {},
   "outputs": [],
   "source": [
    "%%script bash\n",
    "cc getcharEOF.c\n",
    "# ./a.out"
   ]
  },
  {
   "cell_type": "code",
   "execution_count": 3,
   "metadata": {},
   "outputs": [],
   "source": [
    "%%script bash\n",
    "rm -rf getcharEOF.c a.out"
   ]
  },
  {
   "cell_type": "code",
   "execution_count": 4,
   "metadata": {},
   "outputs": [
    {
     "name": "stdout",
     "output_type": "stream",
     "text": [
      "Welcome to JupyROOT 6.24/00\n"
     ]
    }
   ],
   "source": [
    "import ROOT"
   ]
  },
  {
   "cell_type": "code",
   "execution_count": 5,
   "metadata": {},
   "outputs": [
    {
     "name": "stdout",
     "output_type": "stream",
     "text": [
      "(bool) false\n"
     ]
    }
   ],
   "source": [
    "%%cpp\n",
    "getchar()!=EOF // 0 specifies false"
   ]
  },
  {
   "cell_type": "markdown",
   "metadata": {},
   "source": [
    "< [Table of Contents](#top) | [References](#references) >\n",
    "<a id=\"abstract17\"></a>\n",
    "***\n",
    "###### 1-7\n",
    "***"
   ]
  },
  {
   "cell_type": "code",
   "execution_count": 1,
   "metadata": {},
   "outputs": [
    {
     "name": "stdout",
     "output_type": "stream",
     "text": [
      "Writing EOF.c\n"
     ]
    }
   ],
   "source": [
    "%%writefile EOF.c\n",
    "    /* Exercise 1-7: Program to print the value of EOF.\n",
    "Input: \n",
    "Process: (printf)\n",
    "Output: \n",
    "*/\n",
    "#include <stdio.h>\n",
    "int main()\n",
    "{\n",
    "    printf(\"%i\\n\",EOF);\n",
    "}"
   ]
  },
  {
   "cell_type": "code",
   "execution_count": 2,
   "metadata": {},
   "outputs": [],
   "source": [
    "%%script bash\n",
    "cc EOF.c\n",
    "# ./a.out"
   ]
  },
  {
   "cell_type": "code",
   "execution_count": 3,
   "metadata": {},
   "outputs": [],
   "source": [
    "%%script bash\n",
    "rm -rf EOF.c a.out"
   ]
  },
  {
   "cell_type": "code",
   "execution_count": 4,
   "metadata": {},
   "outputs": [
    {
     "name": "stdout",
     "output_type": "stream",
     "text": [
      "Welcome to JupyROOT 6.24/00\n"
     ]
    }
   ],
   "source": [
    "import ROOT"
   ]
  },
  {
   "cell_type": "code",
   "execution_count": 5,
   "metadata": {},
   "outputs": [
    {
     "name": "stdout",
     "output_type": "stream",
     "text": [
      "(int) -1\n"
     ]
    }
   ],
   "source": [
    "%%cpp\n",
    "EOF"
   ]
  },
  {
   "cell_type": "markdown",
   "metadata": {},
   "source": [
    "< [Table of Contents](#top) | [References](#references) >\n",
    "<a id=\"abstract17a\"></a>\n",
    "***\n",
    "###### 1-7.a\n",
    "***"
   ]
  },
  {
   "cell_type": "markdown",
   "metadata": {},
   "source": [
    "- accumulating count in variable ``n`` of type ``long`` instead of ``int`` (conversion specification ``%ld`` tells ``printf`` that the corresponding argument is a ``long`` integer [2]"
   ]
  },
  {
   "cell_type": "markdown",
   "metadata": {},
   "source": [
    "- note if the input contains no characters then the ``while`` test fails on the very first call to ``getchar`` and the program produces $0$ (the correct answer) [2]"
   ]
  },
  {
   "cell_type": "code",
   "execution_count": 1,
   "metadata": {},
   "outputs": [
    {
     "name": "stdout",
     "output_type": "stream",
     "text": [
      "Writing countCharacters.c\n"
     ]
    }
   ],
   "source": [
    "%%writefile countCharacters.c\n",
    "    /* Version 1: Program to count characters in input.\n",
    "Input: \n",
    "Process: (getchar; printf)\n",
    "Output: counts characters (including enter key)\n",
    "*/\n",
    "#include <stdio.h>\n",
    "int main()\n",
    "{\n",
    "    long n=0;\n",
    "    while (getchar()!=EOF)\n",
    "        ++n;\n",
    "    printf(\"%ld\\n\",n);\n",
    "}"
   ]
  },
  {
   "cell_type": "code",
   "execution_count": 2,
   "metadata": {},
   "outputs": [],
   "source": [
    "%%script bash\n",
    "cc countCharacters.c\n",
    "# ./a.out"
   ]
  },
  {
   "cell_type": "code",
   "execution_count": 3,
   "metadata": {},
   "outputs": [],
   "source": [
    "%%script bash\n",
    "rm -rf countCharacters.c"
   ]
  },
  {
   "cell_type": "markdown",
   "metadata": {},
   "source": [
    "- to cope with bigger numbers using a ``double`` precision ``float`` and using a ``for`` statement instead of a ``while`` [2]"
   ]
  },
  {
   "cell_type": "markdown",
   "metadata": {},
   "source": [
    "- conversion specification ``%f`` tells ``printf`` that the corresponding argument is a ``float`` and ``double`` - using ``%.0f`` suppresses printing of the decimal point and the fraction part (zero) [2]"
   ]
  },
  {
   "cell_type": "markdown",
   "metadata": {},
   "source": [
    "- the body of the ``for`` loop is empty because all the work is done in the test and increment part - the grammatical rules of ``C`` require that a ``for`` statement has a body (the isolated semicolon is called a ``null statement`` to satisfy this requirement) [2] "
   ]
  },
  {
   "cell_type": "markdown",
   "metadata": {},
   "source": [
    "- note if the input contains no characters then the ``for`` test fails on the very first call to ``getchar`` and the program produces $0$ (the correct answer) [2]"
   ]
  },
  {
   "cell_type": "code",
   "execution_count": 1,
   "metadata": {},
   "outputs": [
    {
     "name": "stdout",
     "output_type": "stream",
     "text": [
      "Writing bigCount.c\n"
     ]
    }
   ],
   "source": [
    "%%writefile bigCount.c\n",
    "    /* Version 2: Program to count characters in input.\n",
    "Input: \n",
    "Process: (getchar; printf)\n",
    "Output:\n",
    "*/\n",
    "#include <stdio.h>\n",
    "int main()\n",
    "{\n",
    "    double n;\n",
    "    for (n=0;getchar()!=EOF;++n)\n",
    "        ; // null statement\n",
    "    printf(\"%.0f\\n\",n);\n",
    "}"
   ]
  },
  {
   "cell_type": "code",
   "execution_count": 2,
   "metadata": {},
   "outputs": [],
   "source": [
    "%%script bash\n",
    "cc bigCount.c\n",
    "# ./a.out"
   ]
  },
  {
   "cell_type": "code",
   "execution_count": 3,
   "metadata": {},
   "outputs": [],
   "source": [
    "%%script bash\n",
    "rm -rf bigCount.c a.out"
   ]
  },
  {
   "cell_type": "markdown",
   "metadata": {},
   "source": [
    "< [Table of Contents](#top) | [References](#references) >\n",
    "<a id=\"abstract17b\"></a>\n",
    "***\n",
    "###### 1-7.b\n",
    "***"
   ]
  },
  {
   "cell_type": "markdown",
   "metadata": {},
   "source": [
    "- ``'\\n'`` (single quotes) is the value of the newline character which is $10$ in ASCII and is a single character (in expressions is just an integer) [2]"
   ]
  },
  {
   "cell_type": "markdown",
   "metadata": {},
   "source": [
    "- ``\"\\n\"`` is a string constant that happens to contain only one character [2]"
   ]
  },
  {
   "cell_type": "code",
   "execution_count": 1,
   "metadata": {},
   "outputs": [
    {
     "name": "stdout",
     "output_type": "stream",
     "text": [
      "Writing countingLines.c\n"
     ]
    }
   ],
   "source": [
    "%%writefile countingLines.c\n",
    "    /* Program to count input lines.\n",
    "Input: \n",
    "Process: (getchar; printf)\n",
    "Output:\n",
    "*/\n",
    "#include <stdio.h>\n",
    "int main()\n",
    "{\n",
    "    int c,nL=0;\n",
    "    while ((c=getchar())!=EOF)\n",
    "        if (c=='\\n') // \"\\n\" string constant\n",
    "            ++nL;\n",
    "    printf(\"%d\\n\",nL);\n",
    "}"
   ]
  },
  {
   "cell_type": "code",
   "execution_count": 2,
   "metadata": {},
   "outputs": [],
   "source": [
    "%%script bash\n",
    "cc countingLines.c\n",
    "# ./a.out"
   ]
  },
  {
   "cell_type": "code",
   "execution_count": 3,
   "metadata": {},
   "outputs": [],
   "source": [
    "%%script bash\n",
    "rm -rf countingLines.c a.out"
   ]
  },
  {
   "cell_type": "markdown",
   "metadata": {},
   "source": [
    "< [Table of Contents](#top) | [References](#references) >\n",
    "<a id=\"abstract18\"></a>\n",
    "***\n",
    "###### 1-8\n",
    "***"
   ]
  },
  {
   "cell_type": "code",
   "execution_count": 1,
   "metadata": {},
   "outputs": [
    {
     "name": "stdout",
     "output_type": "stream",
     "text": [
      "Writing countBlankTabNewline.c\n"
     ]
    }
   ],
   "source": [
    "%%writefile countBlankTabNewline.c\n",
    "    /* Exercise 1-8: Write a program to count blanks, tabs, and newlines.\n",
    "Input: \n",
    "Process: (getchar; printf)\n",
    "Output:\n",
    "*/\n",
    "#include <stdio.h>\n",
    "int main()\n",
    "{\n",
    "    int c,nB=0,nT=0,nL=0;\n",
    "    while ((c=getchar())!=EOF)\n",
    "    {\n",
    "        if (c==' ')\n",
    "            ++nB;\n",
    "        else if (c=='\\t')\n",
    "            ++nT;\n",
    "        else if (c=='\\n')\n",
    "            ++nL;\n",
    "    }\n",
    "    printf(\"Blanks = %d\\nTab = %d\\nNewline = %d\\n\",nB,nT,nL);    \n",
    "}"
   ]
  },
  {
   "cell_type": "code",
   "execution_count": 2,
   "metadata": {},
   "outputs": [],
   "source": [
    "%%script bash\n",
    "cc countBlankTabNewline.c\n",
    "# ./a.out"
   ]
  },
  {
   "cell_type": "code",
   "execution_count": 3,
   "metadata": {},
   "outputs": [],
   "source": [
    "%%script bash\n",
    "rm -rf countBlankTabNewline.c a.out"
   ]
  },
  {
   "cell_type": "markdown",
   "metadata": {},
   "source": [
    "***\n",
    "## END"
   ]
  },
  {
   "cell_type": "markdown",
   "metadata": {},
   "source": [
    "< [Table of Contents](#top) | [Abstract](#abstract) | [Solution](#solution) | [Conclusion](#conclusion) | [References](#references) >\n",
    "<a id=\"introduction\"></a>\n",
    "***\n",
    "## Introduction\n",
    "***"
   ]
  },
  {
   "cell_type": "markdown",
   "metadata": {},
   "source": [
    "&#x1F6A7;"
   ]
  },
  {
   "cell_type": "markdown",
   "metadata": {},
   "source": [
    "< [Table of Contents](#top) | [References](#references) >\n",
    "<a id=\"statement\"></a>\n",
    "***\n",
    "### Statement\n",
    "***"
   ]
  },
  {
   "cell_type": "markdown",
   "metadata": {},
   "source": [
    "- statements can contains one or more expressions - an expression being a function call or other operator(s) (mathematical/bitwise etc) - can be combined in a single statement although its important to use good judgement and not make things too complex (hard to read) [1]"
   ]
  },
  {
   "cell_type": "markdown",
   "metadata": {},
   "source": [
    "- its important from a readability point of view to put statements on a single line although sometimes that does not work (sometimes statements are to long and span multiple lines) - ``C`` does not care where statements are put [1]"
   ]
  },
  {
   "cell_type": "markdown",
   "metadata": {},
   "source": [
    "- the fact that statements on are a line by themselves so that they could be readable means nothing to the compiler - can write a whole program on one line albeit dumb thing to do - the point is that ``C`` is a free format syntax language whereby a line means nothing - Fortran on the otherhand is a little different whereby a line is very important and even column numbers are important [1]"
   ]
  },
  {
   "cell_type": "markdown",
   "metadata": {},
   "source": [
    "< [Table of Contents](#top) | [References](#references) >\n",
    "<a id=\"statementsCompound\"></a>\n",
    "***\n",
    "###### Compound\n",
    "***"
   ]
  },
  {
   "cell_type": "markdown",
   "metadata": {},
   "source": [
    "- every statement must end in a semicolon - this differs from some languages like Pascal where a semicolon is a statement separator meaning there is no need to have the last statement followed by a semicolon [1]"
   ]
  },
  {
   "cell_type": "markdown",
   "metadata": {},
   "source": [
    "- an exception is when a group of statements act almost as if it were a single statement - the ``if`` statement to make some decisions based on a condition being ``true`` then executing some statements - basically groups a number of statements together as a single unit called a compound statement - need to make a block out of it - a block being something that is surrounded with curly braces [1]"
   ]
  },
  {
   "cell_type": "markdown",
   "metadata": {},
   "source": [
    "- compound statements group single statements (end with semicolons) - the block of statements are surrounded by curly braces [1]"
   ]
  },
  {
   "cell_type": "markdown",
   "metadata": {},
   "source": [
    "***\n",
    "### END"
   ]
  },
  {
   "cell_type": "markdown",
   "metadata": {},
   "source": [
    "< [Table of Contents](#top) | [References](#references) >\n",
    "<a id=\"dataType\"></a>\n",
    "***\n",
    "### Data Type\n",
    "***"
   ]
  },
  {
   "cell_type": "markdown",
   "metadata": {},
   "source": [
    "- basic data types in ``C`` include ``char`` / ``int`` / ``float`` / ``double`` [2]"
   ]
  },
  {
   "cell_type": "markdown",
   "metadata": {},
   "source": [
    "< [Table of Contents](#top) | [References](#references) >\n",
    "<a id=\"dataTypesCharacter\"></a>\n",
    "***\n",
    "###### Character\n",
    "***"
   ]
  },
  {
   "cell_type": "markdown",
   "metadata": {},
   "source": [
    "- a single byte capable of holding one character in the local character set [2]"
   ]
  },
  {
   "cell_type": "markdown",
   "metadata": {},
   "source": [
    "< [Table of Contents](#top) | [References](#references) >\n",
    "<a id=\"intTypeschar\"></a>\n",
    "***\n",
    "###### ``char``\n",
    "***"
   ]
  },
  {
   "cell_type": "markdown",
   "metadata": {},
   "source": [
    "- special form of integer dealing with characters in a program - an underlying character set allows the encoding of each character to some number (the most commonly used is ASCII) [1]"
   ]
  },
  {
   "cell_type": "markdown",
   "metadata": {},
   "source": [
    "- lowercase $a$ encoded decimal $97$ - characters are really just numbers albeit treated differently in programs - how they are stored depends on the encoding used - ASCII being the most common (other types of encoding exist) [1]"
   ]
  },
  {
   "cell_type": "markdown",
   "metadata": {},
   "source": [
    "- a character written between single quotes represents an integer value equal to the numerical value of the character in the machines character set (called a character constant) [2]"
   ]
  },
  {
   "cell_type": "markdown",
   "metadata": {},
   "source": [
    "- ``'A'`` is a character constant and in the ASCII character set is $65$ (internal presentation of the character ``A``) [2]"
   ]
  },
  {
   "cell_type": "code",
   "execution_count": 1,
   "metadata": {},
   "outputs": [
    {
     "name": "stdout",
     "output_type": "stream",
     "text": [
      "Welcome to JupyROOT 6.24/00\n"
     ]
    }
   ],
   "source": [
    "import ROOT"
   ]
  },
  {
   "cell_type": "code",
   "execution_count": 2,
   "metadata": {},
   "outputs": [
    {
     "name": "stdout",
     "output_type": "stream",
     "text": [
      "(int) 65\n"
     ]
    }
   ],
   "source": [
    "%%cpp\n",
    "int c='A';\n",
    "c"
   ]
  },
  {
   "cell_type": "code",
   "execution_count": 3,
   "metadata": {},
   "outputs": [
    {
     "name": "stdout",
     "output_type": "stream",
     "text": [
      "A = 65\n"
     ]
    }
   ],
   "source": [
    "%%cpp\n",
    "printf(\"%c = %d\\n\",c,c);"
   ]
  },
  {
   "cell_type": "markdown",
   "metadata": {},
   "source": [
    "- EBCDIC (Extended Binary Coded Decimal Interchange Code) is considerably different than ASCII [1]"
   ]
  },
  {
   "cell_type": "markdown",
   "metadata": {},
   "source": [
    "- a standard which is a superset of ASCII called ISO 8859 includes some characters that are needed in other countries besides the United States [1]"
   ]
  },
  {
   "cell_type": "markdown",
   "metadata": {},
   "source": [
    "- Unicode (universal encoding) is a 16-bit encoding as opposed to 8-bit (ASCII / EBCDIC / ISO 8859) - purpose of Unicode is to allow a single encoding for languages throughout the modern business world - cannot just use ASCII and go to Japan (entirely different alphabet) - the same is true throughout the world (many different encodings) - to write programs that can adapt themselves to different encodings is extremely difficult and has been one of the biggest impediments to programs being made for the international market - Unicode is an attempt to solve the problem and it turns out that Unicode is the encoding used in ``Java`` [1]"
   ]
  },
  {
   "cell_type": "code",
   "execution_count": 4,
   "metadata": {},
   "outputs": [
    {
     "name": "stdout",
     "output_type": "stream",
     "text": [
      "(int) -128\n"
     ]
    }
   ],
   "source": [
    "%%cpp\n",
    "CHAR_MIN"
   ]
  },
  {
   "cell_type": "code",
   "execution_count": 5,
   "metadata": {},
   "outputs": [
    {
     "name": "stdout",
     "output_type": "stream",
     "text": [
      "(int) 127\n"
     ]
    }
   ],
   "source": [
    "%%cpp\n",
    "CHAR_MAX"
   ]
  },
  {
   "cell_type": "markdown",
   "metadata": {},
   "source": [
    "< [Table of Contents](#top) | [References](#references) >\n",
    "<a id=\"intTypeswchar_t\"></a>\n",
    "***\n",
    "###### ``wchar_t``\n",
    "***"
   ]
  },
  {
   "cell_type": "markdown",
   "metadata": {},
   "source": [
    "- no encoding is specified for ``C`` or ``C++`` (left open) [1]"
   ]
  },
  {
   "cell_type": "markdown",
   "metadata": {},
   "source": [
    "- for ``C`` and ``C++`` the basic character data type is ``char`` (byte) - thats pretty much all there is to it - think of a byte and thats what a ``char`` (narrow character) is - the basic ``C`` character does not allow the use of Unicode and for this reason have defined a new type which is available in both ``C`` and ``C++`` called ``wchar_t`` (wide character) [1]"
   ]
  },
  {
   "cell_type": "markdown",
   "metadata": {},
   "source": [
    "- some functions in the library deal with white characters - in most systems a white character is 16-bits and so it allows the use of Unicode but all of this needs to be supported by the compiler and by the platform [1]"
   ]
  },
  {
   "cell_type": "markdown",
   "metadata": {},
   "source": [
    "< [Table of Contents](#top) | [References](#references) >\n",
    "<a id=\"dataTypesCharacterStream\"></a>\n",
    "***\n",
    "###### Stream\n",
    "***"
   ]
  },
  {
   "cell_type": "markdown",
   "metadata": {},
   "source": [
    "- the model of input and output supported by the standard library is very simple - text input or output regardless of where it originates or where it goes to is dealt with as a streams of characters [2]"
   ]
  },
  {
   "cell_type": "markdown",
   "metadata": {},
   "source": [
    "- a ``text stream`` is a sequence of characters divided into lines - each line consists of zero or more characters followed by a newline character [2]"
   ]
  },
  {
   "cell_type": "markdown",
   "metadata": {},
   "source": [
    "- it is the responsibility of the library to make each input or output stream conform to this model - using the library there is no need to worry about how lines are represented outside the program [2]"
   ]
  },
  {
   "cell_type": "markdown",
   "metadata": {},
   "source": [
    "- the standard library provides several functions for reading or writing one character at a time of which ``getchar`` and ``putchar`` are the simplest [2]"
   ]
  },
  {
   "cell_type": "markdown",
   "metadata": {},
   "source": [
    "< [Table of Contents](#top) | [References](#references) >\n",
    "<a id=\"dataTypesCharacterStreamgetchar\"></a>\n",
    "***\n",
    "###### ``getchar``\n",
    "***"
   ]
  },
  {
   "cell_type": "markdown",
   "metadata": {},
   "source": [
    "- reads the next input character from a text stream and returns that as its value [2]"
   ]
  },
  {
   "cell_type": "markdown",
   "metadata": {},
   "source": [
    "- variable ``c`` contains the next character of input [2]\n",
    "\n",
    "```c\n",
    "c=getchar();\n",
    "```"
   ]
  },
  {
   "cell_type": "markdown",
   "metadata": {},
   "source": [
    "< [Table of Contents](#top) | [References](#references) >\n",
    "<a id=\"dataTypesCharacterStreamputchar\"></a>\n",
    "***\n",
    "###### ``putchar``\n",
    "***"
   ]
  },
  {
   "cell_type": "markdown",
   "metadata": {},
   "source": [
    "- prints a character each time it is called - prints the contents of the integer variable ``c`` as a character usually on the screen [2]\n",
    "\n",
    "```c\n",
    "putchar(c);\n",
    "```"
   ]
  },
  {
   "cell_type": "markdown",
   "metadata": {},
   "source": [
    "- calls to ``putchar`` and ``printf`` may be interleaved (the output appear in the order in which the calls are made) [2]"
   ]
  },
  {
   "cell_type": "markdown",
   "metadata": {},
   "source": [
    "< [Table of Contents](#top) | [References](#references) >\n",
    "<a id=\"dataTypesIntegers\"></a>\n",
    "***\n",
    "###### Integer\n",
    "***"
   ]
  },
  {
   "cell_type": "markdown",
   "metadata": {},
   "source": [
    "- fundamental data type and basic building blocks of all entities in a program [1]"
   ]
  },
  {
   "cell_type": "markdown",
   "metadata": {},
   "source": [
    "- integers come in different sizes in ``C`` which should not be surprising since its a systems programming language - the different sizes are for different purposes [1]"
   ]
  },
  {
   "cell_type": "markdown",
   "metadata": {},
   "source": [
    "- matches the word size of the machine - word refers to the number of bits processed by a computers CPU in one go (typically 64-bits) [1]"
   ]
  },
  {
   "cell_type": "markdown",
   "metadata": {},
   "source": [
    "< [Table of Contents](#top) | [References](#references) >\n",
    "<a id=\"intTypesint\"></a>\n",
    "***\n",
    "###### ``int``\n",
    "***"
   ]
  },
  {
   "cell_type": "markdown",
   "metadata": {},
   "source": [
    "- typically reflects the natural size of integers on the host machine [2]"
   ]
  },
  {
   "cell_type": "code",
   "execution_count": 1,
   "metadata": {},
   "outputs": [
    {
     "name": "stdout",
     "output_type": "stream",
     "text": [
      "Welcome to JupyROOT 6.24/00\n"
     ]
    }
   ],
   "source": [
    "import ROOT"
   ]
  },
  {
   "cell_type": "code",
   "execution_count": 2,
   "metadata": {},
   "outputs": [
    {
     "name": "stdout",
     "output_type": "stream",
     "text": [
      "(int) -2147483648\n"
     ]
    }
   ],
   "source": [
    "%%cpp\n",
    "INT_MIN"
   ]
  },
  {
   "cell_type": "code",
   "execution_count": 3,
   "metadata": {},
   "outputs": [
    {
     "name": "stdout",
     "output_type": "stream",
     "text": [
      "(int) 2147483647\n"
     ]
    }
   ],
   "source": [
    "%%cpp\n",
    "INT_MAX"
   ]
  },
  {
   "cell_type": "markdown",
   "metadata": {},
   "source": [
    "< [Table of Contents](#top) | [References](#references) >\n",
    "<a id=\"intTypesQualifier\"></a>\n",
    "***\n",
    "###### Qualifier\n",
    "***"
   ]
  },
  {
   "cell_type": "markdown",
   "metadata": {},
   "source": [
    "- there are a number of qualifiers that can be applied to the basic data types - the integer qualifiers are ``short`` and ``long`` with the word ``int`` typically omitted in such declarations [2]"
   ]
  },
  {
   "cell_type": "markdown",
   "metadata": {},
   "source": [
    "- on most platforms ``short`` and ``int`` and ``long`` are really not all distinct - will never see a platform where all three are distinct although possible [1]"
   ]
  },
  {
   "cell_type": "markdown",
   "metadata": {},
   "source": [
    "- the intent is that ``short`` and ``long`` should provide different lengths of integers where practical - ``int`` will normally be the natural size for a particular machine - ``short`` is often 16-bits long and ``int`` either 16 or 32-bits - each compiler is free to choose appropriate sizes for its own hardware subject only to the restriction that ``short`` and ``int`` are at least 16-bits and ``long`` is at least 32-bits and ``short`` is no longer than ``int`` which is no longer than ``long`` [2]"
   ]
  },
  {
   "cell_type": "markdown",
   "metadata": {},
   "source": [
    "< [Table of Contents](#top) | [References](#references) >\n",
    "<a id=\"intTypesshort\"></a>\n",
    "***\n",
    "###### ``short``\n",
    "***"
   ]
  },
  {
   "cell_type": "code",
   "execution_count": 1,
   "metadata": {},
   "outputs": [
    {
     "name": "stdout",
     "output_type": "stream",
     "text": [
      "Welcome to JupyROOT 6.24/00\n"
     ]
    }
   ],
   "source": [
    "import ROOT"
   ]
  },
  {
   "cell_type": "code",
   "execution_count": 2,
   "metadata": {},
   "outputs": [
    {
     "name": "stdout",
     "output_type": "stream",
     "text": [
      "(int) -32768\n"
     ]
    }
   ],
   "source": [
    "%%cpp\n",
    "SHRT_MIN"
   ]
  },
  {
   "cell_type": "code",
   "execution_count": 3,
   "metadata": {},
   "outputs": [
    {
     "name": "stdout",
     "output_type": "stream",
     "text": [
      "(int) 32767\n"
     ]
    }
   ],
   "source": [
    "%%cpp\n",
    "SHRT_MAX"
   ]
  },
  {
   "cell_type": "markdown",
   "metadata": {},
   "source": [
    "< [Table of Contents](#top) | [References](#references) >\n",
    "<a id=\"intTypeslong\"></a>\n",
    "***\n",
    "###### ``long``\n",
    "***"
   ]
  },
  {
   "cell_type": "markdown",
   "metadata": {},
   "source": [
    "- ``long`` integers are at least 32 bits although on some machines ``int`` and ``long`` are the same size [2]"
   ]
  },
  {
   "cell_type": "code",
   "execution_count": 1,
   "metadata": {},
   "outputs": [
    {
     "name": "stdout",
     "output_type": "stream",
     "text": [
      "Welcome to JupyROOT 6.24/00\n"
     ]
    }
   ],
   "source": [
    "import ROOT"
   ]
  },
  {
   "cell_type": "code",
   "execution_count": 2,
   "metadata": {},
   "outputs": [
    {
     "name": "stdout",
     "output_type": "stream",
     "text": [
      "(long) -9223372036854775808\n"
     ]
    }
   ],
   "source": [
    "%%cpp\n",
    "LONG_MIN"
   ]
  },
  {
   "cell_type": "code",
   "execution_count": 3,
   "metadata": {},
   "outputs": [
    {
     "name": "stdout",
     "output_type": "stream",
     "text": [
      "(long) 9223372036854775807\n"
     ]
    }
   ],
   "source": [
    "%%cpp\n",
    "LONG_MAX"
   ]
  },
  {
   "cell_type": "markdown",
   "metadata": {},
   "source": [
    "< [Table of Contents](#top) | [References](#references) >\n",
    "<a id=\"intSignedversusUnsigned\"></a>\n",
    "***\n",
    "###### Signed/Unsigned\n",
    "***"
   ]
  },
  {
   "cell_type": "markdown",
   "metadata": {},
   "source": [
    "- assuming most machines are 32-bit or bigger then this is the size that an integer would be [1]"
   ]
  },
  {
   "cell_type": "markdown",
   "metadata": {},
   "source": [
    "- the ``C`` standard guarantees that an integer will be at least 16-bits - compilers under ``DOS`` are 16-bits which means it can store a number up to $32767$ - reasonable to think that 16-bits would be $2^{16-1}$ which happens to be $65535$ but it turns out that integers can be ``signed`` and ``unsigned`` (by default ``signed``) [1]"
   ]
  },
  {
   "cell_type": "markdown",
   "metadata": {},
   "source": [
    "- ``Java`` only has ``signed`` integers [1]"
   ]
  },
  {
   "cell_type": "code",
   "execution_count": 1,
   "metadata": {},
   "outputs": [
    {
     "data": {
      "text/plain": [
       "65535"
      ]
     },
     "execution_count": 1,
     "metadata": {},
     "output_type": "execute_result"
    }
   ],
   "source": [
    "2**16-1"
   ]
  },
  {
   "cell_type": "markdown",
   "metadata": {},
   "source": [
    "- qualifiers may be applied to ``char`` or any integer - unsigned numbers are always positive or zero and obey the laws of arithmetic modulo $2^n$ (where n is the number of data type bits) - if ``char`` is 8-bits then an ``unsigned char`` has values between $0$ and $255$ while ``signed char`` has values between $-128$ and $127$ (in a twos complement machine) - whether plain ``chars`` are ``signed`` or ``unsigned`` is machine-dependent but printable characters are always positive [2]"
   ]
  },
  {
   "cell_type": "code",
   "execution_count": 2,
   "metadata": {},
   "outputs": [
    {
     "data": {
      "text/plain": [
       "256"
      ]
     },
     "execution_count": 2,
     "metadata": {},
     "output_type": "execute_result"
    }
   ],
   "source": [
    "2**8 # include zero"
   ]
  },
  {
   "cell_type": "markdown",
   "metadata": {},
   "source": [
    "< [Table of Contents](#top) | [References](#references) >\n",
    "<a id=\"dataTypesSingle-PrecisionFloatingPoint\"></a>\n",
    "***\n",
    "###### Single-Precision Floating Point\n",
    "***"
   ]
  },
  {
   "cell_type": "markdown",
   "metadata": {},
   "source": [
    "- as with integers the size of floating-point objects are implementation-defined - ``float`` and ``double`` and ``long double`` could represent one or two or three distinct sizes [2]"
   ]
  },
  {
   "cell_type": "markdown",
   "metadata": {},
   "source": [
    "< [Table of Contents](#top) | [References](#references) >\n",
    "<a id=\"dataTypesDoublePrecisionFloatingPointfloat\"></a>\n",
    "***\n",
    "###### ``float``\n",
    "***"
   ]
  },
  {
   "cell_type": "markdown",
   "metadata": {},
   "source": [
    "- a ``float`` is typically a 32-bit quantity with at least six significant digits and has a magnitude generally between about $10^{-38}$ and $10^{+38}$ [2]"
   ]
  },
  {
   "cell_type": "markdown",
   "metadata": {},
   "source": [
    "< [Table of Contents](#top) | [References](#references) >\n",
    "<a id=\"dataTypesDoublePrecisionFloatingPoint\"></a>\n",
    "***\n",
    "###### Double-Precision Floating Point\n",
    "***"
   ]
  },
  {
   "cell_type": "markdown",
   "metadata": {},
   "source": [
    "- as with integers the size of floating-point objects are implementation-defined - ``float`` and ``double`` and ``long double`` could represent one or two or three distinct sizes [2]"
   ]
  },
  {
   "cell_type": "markdown",
   "metadata": {},
   "source": [
    "< [Table of Contents](#top) | [References](#references) >\n",
    "<a id=\"dataTypesDoublePrecisionFloatingPointdouble\"></a>\n",
    "***\n",
    "###### ``double``\n",
    "***"
   ]
  },
  {
   "cell_type": "markdown",
   "metadata": {},
   "source": [
    "&#x1F6A7;"
   ]
  },
  {
   "cell_type": "markdown",
   "metadata": {},
   "source": [
    "< [Table of Contents](#top) | [References](#references) >\n",
    "<a id=\"dataTypesDoubleQualifier\"></a>\n",
    "***\n",
    "###### Qualifier\n",
    "***"
   ]
  },
  {
   "cell_type": "markdown",
   "metadata": {},
   "source": [
    "&#x1F6A7;"
   ]
  },
  {
   "cell_type": "markdown",
   "metadata": {},
   "source": [
    "< [Table of Contents](#top) | [References](#references) >\n",
    "<a id=\"dataTypesDoubleQualifierslong\"></a>\n",
    "***\n",
    "###### ``long``\n",
    "***"
   ]
  },
  {
   "cell_type": "markdown",
   "metadata": {},
   "source": [
    "- as with integers the size of floating-point objects are implementation-defined - ``float`` and ``double`` and ``long double`` could represent one or two or three distinct sizes - type ``long double`` specifies extended-precision floating point [2]"
   ]
  },
  {
   "cell_type": "markdown",
   "metadata": {},
   "source": [
    "< [Table of Contents](#top) | [References](#references) >\n",
    "<a id=\"dataTypeSymbolicConstant\"></a>\n",
    "***\n",
    "###### Symbolic Constant\n",
    "***"
   ]
  },
  {
   "cell_type": "markdown",
   "metadata": {},
   "source": [
    "- its bad practice to bury ``magic numbers`` in a program - these numbers convey little information to someone who might have to read the program later and are hard to change in a systematic way [2]"
   ]
  },
  {
   "cell_type": "markdown",
   "metadata": {},
   "source": [
    "- one way to deal with ``magic numbers`` is to give them meaningful names [2]"
   ]
  },
  {
   "cell_type": "markdown",
   "metadata": {},
   "source": [
    "< [Table of Contents](#top) | [References](#references) >\n",
    "<a id=\"dataTypeSymbolicConstantshashdefine\"></a>\n",
    "***\n",
    "###### ``#define``\n",
    "***"
   ]
  },
  {
   "cell_type": "markdown",
   "metadata": {},
   "source": [
    "- defines a symbolic name or symbolic constant to be a particular string of characters [2]"
   ]
  },
  {
   "cell_type": "markdown",
   "metadata": {},
   "source": [
    "- any occurence of ``name`` (not in quotes and not part of another name) will be replaced by the corresponding ``replacement text`` [2]"
   ]
  },
  {
   "cell_type": "markdown",
   "metadata": {},
   "source": [
    "- the ``name`` has the same form as a variable name (a sequence of letters and digits that begins with a letter) - the ``replacement text`` can be any sequence of characters (not limited to numbers) [2]\n",
    "\n",
    "```c\n",
    "#define name replacement text\n",
    "```"
   ]
  },
  {
   "cell_type": "markdown",
   "metadata": {},
   "source": [
    "***\n",
    "### END"
   ]
  },
  {
   "cell_type": "markdown",
   "metadata": {},
   "source": [
    "< [Table of Contents](#top) | [References](#references) >\n",
    "<a id=\"declaration\"></a>\n",
    "***\n",
    "### Declaration\n",
    "***"
   ]
  },
  {
   "cell_type": "markdown",
   "metadata": {},
   "source": [
    "- all variables must be declared before use and usually at the beginning of a function before any executable statements - a declaration announces the properties of variables consisting of a type name and a list of variables [2]"
   ]
  },
  {
   "cell_type": "markdown",
   "metadata": {},
   "source": [
    "***\n",
    "### END"
   ]
  },
  {
   "cell_type": "markdown",
   "metadata": {},
   "source": [
    "< [Table of Contents](#top) | [References](#references) >\n",
    "<a id=\"operators\"></a>\n",
    "***\n",
    "### Operators\n",
    "***"
   ]
  },
  {
   "cell_type": "markdown",
   "metadata": {},
   "source": [
    "&#x1F6A7;"
   ]
  },
  {
   "cell_type": "markdown",
   "metadata": {},
   "source": [
    "< [Table of Contents](#top) | [References](#references) >\n",
    "<a id=\"operatorsIncrementDecrement\"></a>\n",
    "***\n",
    "###### Increment&nbsp;&nbsp;|&nbsp;&nbsp;Decrement\n",
    "***"
   ]
  },
  {
   "cell_type": "markdown",
   "metadata": {},
   "source": [
    "- operator ``++`` increments by one - could write ``n=n+1`` but ``++n`` is more concise and often more efficient (corresponding operator ``--`` to decrement by one) [2]"
   ]
  },
  {
   "cell_type": "markdown",
   "metadata": {},
   "source": [
    "- can be prefix or postfix operators - the two forms have different values in expressions albeit both ``++n`` and ``n++`` both increment ``n`` [2]"
   ]
  },
  {
   "cell_type": "markdown",
   "metadata": {},
   "source": [
    "***\n",
    "### END"
   ]
  },
  {
   "cell_type": "markdown",
   "metadata": {},
   "source": [
    "< [Table of Contents](#top) | [References](#references) >\n",
    "<a id=\"controlFlow\"></a>\n",
    "***\n",
    "### Control Flow\n",
    "***"
   ]
  },
  {
   "cell_type": "markdown",
   "metadata": {},
   "source": [
    "- the choice between the ``while`` and ``for`` is arbitrary and based on which seems clearer [2]"
   ]
  },
  {
   "cell_type": "markdown",
   "metadata": {},
   "source": [
    "- the ``for`` is usually appropriate for loops in which the initialisation and increment are single statements and logically related since it is more compact than ``while`` and it keeps the loop control statements together in one place [2]"
   ]
  },
  {
   "cell_type": "markdown",
   "metadata": {},
   "source": [
    "< [Table of Contents](#top) | [References](#references) >\n",
    "<a id=\"controlFlowwhile\"></a>\n",
    "***\n",
    "###### ``while``\n",
    "***"
   ]
  },
  {
   "cell_type": "markdown",
   "metadata": {},
   "source": [
    "- the condition in parentheses is tested - if ``true`` the body of the loop is executed - the condition is re-tested - if ``true`` the body is executed again - when the test becomes ``false`` then the loop ends and execution continues at the statement that follows the loop [2]"
   ]
  },
  {
   "cell_type": "markdown",
   "metadata": {},
   "source": [
    "- the body of a ``while`` can be one or more statements enclosed in braces or a single statement without braces [2]"
   ]
  },
  {
   "cell_type": "code",
   "execution_count": 1,
   "metadata": {},
   "outputs": [
    {
     "name": "stdout",
     "output_type": "stream",
     "text": [
      "Welcome to JupyROOT 6.24/00\n"
     ]
    }
   ],
   "source": [
    "import ROOT"
   ]
  },
  {
   "cell_type": "code",
   "execution_count": 2,
   "metadata": {},
   "outputs": [],
   "source": [
    "%%cpp\n",
    "int i=1,j=5;\n",
    "while (i<j)\n",
    "    i=2*i;"
   ]
  },
  {
   "cell_type": "code",
   "execution_count": 3,
   "metadata": {},
   "outputs": [
    {
     "name": "stdout",
     "output_type": "stream",
     "text": [
      "(int) 8\n"
     ]
    }
   ],
   "source": [
    "%%cpp\n",
    "i"
   ]
  },
  {
   "cell_type": "markdown",
   "metadata": {},
   "source": [
    "< [Table of Contents](#top) | [References](#references) >\n",
    "<a id=\"controlFlowfor\"></a>\n",
    "***\n",
    "###### ``for``\n",
    "***"
   ]
  },
  {
   "cell_type": "markdown",
   "metadata": {},
   "source": [
    "- a generalisation of the ``while`` [2]"
   ]
  },
  {
   "cell_type": "markdown",
   "metadata": {},
   "source": [
    "- the first part is the initialisation and done once before the loop proper is entered [2]"
   ]
  },
  {
   "cell_type": "markdown",
   "metadata": {},
   "source": [
    "- the second part is the test or condition that controls the loop [2]"
   ]
  },
  {
   "cell_type": "markdown",
   "metadata": {},
   "source": [
    "- the third part is the increment step with the second part (condition) re-evaluated [2]"
   ]
  },
  {
   "cell_type": "markdown",
   "metadata": {},
   "source": [
    "***\n",
    "### END"
   ]
  },
  {
   "cell_type": "markdown",
   "metadata": {},
   "source": [
    "< [Table of Contents](#top) | [References](#references) >\n",
    "<a id=\"function\"></a>\n",
    "***\n",
    "### Function\n",
    "***"
   ]
  },
  {
   "cell_type": "markdown",
   "metadata": {},
   "source": [
    "- functions contain statements that specify the computing operations to be done [2]"
   ]
  },
  {
   "cell_type": "markdown",
   "metadata": {},
   "source": [
    "< [Table of Contents](#top) | [References](#references) >\n",
    "<a id=\"functionsmain\"></a>\n",
    "***\n",
    "###### ``main``\n",
    "***"
   ]
  },
  {
   "cell_type": "markdown",
   "metadata": {},
   "source": [
    "- the ``C`` program begins executing at the beginning of ``main`` which means every program must have a ``main`` somewhere [2]"
   ]
  },
  {
   "cell_type": "markdown",
   "metadata": {},
   "source": [
    "***\n",
    "### END"
   ]
  },
  {
   "cell_type": "markdown",
   "metadata": {},
   "source": [
    "< [Table of Contents](#top) | [References](#references) >\n",
    "<a id=\"preprocessor\"></a>\n",
    "***\n",
    "### Preprocessor\n",
    "***"
   ]
  },
  {
   "cell_type": "markdown",
   "metadata": {},
   "source": [
    "- a ``C`` program is a collection of functions (being the equivalent of a procedure or subroutine - itself a collection of statements enclosed by braces) in addition to some optional global variables/constants [1]"
   ]
  },
  {
   "cell_type": "markdown",
   "metadata": {},
   "source": [
    "- having all of the functions of a very large ``C`` program in a single source file could be awkward - can modularise a program so as to having many files which after compilation and linking comprise the program [1]"
   ]
  },
  {
   "cell_type": "markdown",
   "metadata": {},
   "source": [
    "- two source files (``s1.c`` and ``s2.c``) at the second level from the top [1]"
   ]
  },
  {
   "cell_type": "markdown",
   "metadata": {},
   "source": [
    "- each source file includes a couple of header files (other files that have some code) - the source file ``s1.c`` includes ``f1.h`` and ``f2.h`` - the source file ``s2.c`` includes ``f2.h`` and ``f3.h`` [1]"
   ]
  },
  {
   "cell_type": "markdown",
   "metadata": {},
   "source": [
    "- imagining the depiction of this executable ``C`` program is a project - it has a couple of main modules and is divided up into a couple of files - each of these files is including things that are defined elsewhere - in particular ``f2.h`` is included in both places so do not want to have to type that separately in the two source files so its put into its own file [1]"
   ]
  },
  {
   "cell_type": "markdown",
   "metadata": {},
   "source": [
    "- the types of things that go into header files are mainly just function declarations which are functions without a body - a function declaration identifies the function (name / return type / any other information that is necessary) - type once and reuse as necessary [1]"
   ]
  },
  {
   "cell_type": "markdown",
   "metadata": {},
   "source": [
    "- the fundamental compilation unit (the thing that gets compiled from source code into machine code) is the combination of the source file and its included text from any files that it chooses to include [1]"
   ]
  },
  {
   "cell_type": "markdown",
   "metadata": {},
   "source": [
    "- compiling ``s1.c`` and ``s2.c`` the compiler will automatically open and read the information in the header files included - the entire result gets put out in an object file (``s1.obj`` and ``s2.obj`` respectively) - is platform dependent (using Windows ``.obj`` - using Unix ``.o``) [1]"
   ]
  },
  {
   "cell_type": "markdown",
   "metadata": {},
   "source": [
    "- once everything is compiled then its linked together and made ready to execute with the final result being an executable file ``prog.exe`` [1]"
   ]
  },
  {
   "cell_type": "markdown",
   "metadata": {},
   "source": [
    "![Preprocessor-Executable](https://github.com/SeanOhAileasa/SeanOhAileasa/blob/master/rc/fubar-c/executable.png?raw=true)\n",
    "\n",
    "***(Image) C. Allison, \"Thinking in C,\" [MindView LLC](https://web.archive.org/web/20210617100433/http://ix.cs.uoregon.edu/~norris/cis330books/ThinkingInC/Index.html), (n.d.).***"
   ]
  },
  {
   "cell_type": "markdown",
   "metadata": {},
   "source": [
    "- idea of including files into a compilation stream shows an important step in the ``C`` compilation process (before the program is translated from ``C`` source code into machine code) - the preprocessing phase of the compiler will first process all of the preprocessing operations [1]"
   ]
  },
  {
   "cell_type": "markdown",
   "metadata": {},
   "source": [
    "< [Table of Contents](#top) | [References](#references) >\n",
    "<a id=\"preprocessorDirective\"></a>\n",
    "***\n",
    "###### Directive\n",
    "***"
   ]
  },
  {
   "cell_type": "markdown",
   "metadata": {},
   "source": [
    "&#x1F6A7;"
   ]
  },
  {
   "cell_type": "markdown",
   "metadata": {},
   "source": [
    "< [Table of Contents](#top) | [References](#references) >\n",
    "<a id=\"preprocessorDirectivehashinclude\"></a>\n",
    "***\n",
    "###### ``include``\n",
    "***"
   ]
  },
  {
   "cell_type": "markdown",
   "metadata": {},
   "source": [
    "- includes another file into the compilation stream - the pound sign ``#`` plus ``include`` is a special directive in C [1]"
   ]
  },
  {
   "cell_type": "markdown",
   "metadata": {},
   "source": [
    "- it invokes a preprocessor allowing the inclusion of other text into the program without retyping - these including declarations of special functions that are in the standard ``C`` library and in particular the header ``stdio.h`` (usually call ``standard IO.h``) [1]"
   ]
  },
  {
   "cell_type": "markdown",
   "metadata": {},
   "source": [
    "- the include directive occurs before the actual translation process - putting function declarations and maybe some constant declarations into a header file - its different in ``C++`` given there is other things you might want to put in there but for ``C`` that is pretty much it [1]"
   ]
  },
  {
   "cell_type": "markdown",
   "metadata": {},
   "source": [
    "< [Table of Contents](#top) | [References](#references) >\n",
    "<a id=\"preprocessorDirectivehashincludeHeaderFile\"></a>\n",
    "***\n",
    "###### Header File\n",
    "***"
   ]
  },
  {
   "cell_type": "markdown",
   "metadata": {},
   "source": [
    "- the standard ``C`` library makes use of the preprocessor - in other words each ``C`` compiler will make available header files such as ``stdio.h`` [1]"
   ]
  },
  {
   "cell_type": "markdown",
   "metadata": {},
   "source": [
    "- there is quite a number of header files in the standard ``C`` library and its possible to distinguish between standard header files from any other header files - other header files might be created by someone else in an organisation [1]"
   ]
  },
  {
   "cell_type": "markdown",
   "metadata": {},
   "source": [
    "- the standard header file uses angle brackets (``<`` ``>``) to delimit the standard header name - to the compiler any header which is delimited by angle brackets will occur in a particular place in the file system (in some directory) - there exists a standard system directory where those headers go and during compilation that is where the compiler will look [1]"
   ]
  },
  {
   "cell_type": "markdown",
   "metadata": {},
   "source": [
    "- to create user-defined headers use double quotes (``\"`` ``\"``) instead of the angle brackets (``<`` ``>``) - the compiler will look in the current directory for the file - there are some rules for finding them in other places but those are platform dependent - Unix and Windows can have environment variables - some compilers will look at a particular environment variable which has a set of path names (different directories to search) in case it does not find what its looking for in the current directory [1]"
   ]
  },
  {
   "cell_type": "markdown",
   "metadata": {},
   "source": [
    "< [Table of Contents](#top) | [References](#references) >\n",
    "<a id=\"preprocessorDirectivehashincludeHeaderFilesstdioh\"></a>\n",
    "***\n",
    "###### ``stdio.h``\n",
    "***"
   ]
  },
  {
   "cell_type": "markdown",
   "metadata": {},
   "source": [
    "- there are certain channels of input and output that are assumed (streams) [1]"
   ]
  },
  {
   "cell_type": "markdown",
   "metadata": {},
   "source": [
    "- the functions available in the standard ``C`` library (in particular ``stdio.h``) provide I/O services for using what is called the console (basically the screen) and the keyboard or for explicitly doing file input and output [1]"
   ]
  },
  {
   "cell_type": "markdown",
   "metadata": {},
   "source": [
    "- three basic categories of types of I/O: i) console I/O (goes to standard input and output); ii) file I/O (explicit file input and output - naming a file for reading from or writing to); iii) in-core or in-memory formatting [1]"
   ]
  },
  {
   "cell_type": "markdown",
   "metadata": {},
   "source": [
    "- there is three streams that are predefined in C:\n",
    "\n",
    "1. standard in standard input (``stdin``): the console functions in the standard ``C`` library will always read from standard input - standard input is by default the keyboard - there are ways to change this called redirection - just keep in mind that standard input is where a number of functions in the standard ``C`` library get their input [1]\n",
    "\n",
    "\n",
    "2. standard out (``stdout``): analogous situation for output (hooked to the screen) - functions like ``puts`` send output to standard output [1]\n",
    "\n",
    "\n",
    "3. standard error (``stderr``): channel or stream for output which is also connected to the screen by default - it is logically different than standard output - can send things separately to standard output and standard error - if not redirecting them to files or other devices then will see all on the screen together but it does allow for a logically separate place to put them and if its chosen to have standard output not go to the screen then can do that [1]"
   ]
  },
  {
   "cell_type": "markdown",
   "metadata": {},
   "source": [
    "< [Table of Contents](#top) | [References](#references) >\n",
    "<a id=\"preprocessorDirectivehashincludeHeaderFilesstdiohsymbolicconstantEOF\"></a>\n",
    "***\n",
    "###### ``EOF``\n",
    "***"
   ]
  },
  {
   "cell_type": "markdown",
   "metadata": {},
   "source": [
    "- end of file symbolic constant [2] "
   ]
  },
  {
   "cell_type": "code",
   "execution_count": 1,
   "metadata": {},
   "outputs": [
    {
     "name": "stdout",
     "output_type": "stream",
     "text": [
      "Welcome to JupyROOT 6.24/00\n"
     ]
    }
   ],
   "source": [
    "import ROOT"
   ]
  },
  {
   "cell_type": "code",
   "execution_count": 2,
   "metadata": {},
   "outputs": [
    {
     "name": "stdout",
     "output_type": "stream",
     "text": [
      "(int) -1\n"
     ]
    }
   ],
   "source": [
    "%%cpp\n",
    "EOF"
   ]
  },
  {
   "cell_type": "markdown",
   "metadata": {},
   "source": [
    "< [Table of Contents](#top) | [References](#references) >\n",
    "<a id=\"preprocessorDirectivehashincludeHeaderFilesstdiohprintf\"></a>\n",
    "***\n",
    "###### ``printf``\n",
    "***"
   ]
  },
  {
   "cell_type": "markdown",
   "metadata": {},
   "source": [
    "- general-purpose output formatting function [2] ``printf`` works similar to function ``scanf`` [1]"
   ]
  },
  {
   "cell_type": "markdown",
   "metadata": {},
   "source": [
    "- the function is not part of the ``C`` language as there is no input or output defined in ``C`` itself - it is a useful function from the standard library of functions that are normally accessible to ``C`` programs - the behaviour of ``printf`` is defined in the ANSI standard however its properties should be the same with any compiler and library that conforms to the standard [2] "
   ]
  },
  {
   "cell_type": "markdown",
   "metadata": {},
   "source": [
    "- the first argument is a format specification and any literal text will just be echoed to standard out - any conversion specification ``%`` included within the string of characters to be printed indicates arguments to be substituted and in what form it is to be printed (``%d`` specifies an integer argument) [2] "
   ]
  },
  {
   "cell_type": "code",
   "execution_count": 1,
   "metadata": {},
   "outputs": [
    {
     "name": "stdout",
     "output_type": "stream",
     "text": [
      "Welcome to JupyROOT 6.24/00\n"
     ]
    }
   ],
   "source": [
    "import ROOT"
   ]
  },
  {
   "cell_type": "markdown",
   "metadata": {},
   "source": [
    "- the conversion specification ``%3.0f`` indicates a floating-point number to be printed with at least three characters wide with no decimal point and no fraction digits [2]"
   ]
  },
  {
   "cell_type": "code",
   "execution_count": 2,
   "metadata": {},
   "outputs": [
    {
     "name": "stdout",
     "output_type": "stream",
     "text": [
      "  1\n"
     ]
    }
   ],
   "source": [
    "%%cpp\n",
    "float n=2.0/3;\n",
    "printf(\"%3.0f\\n\",n);"
   ]
  },
  {
   "cell_type": "markdown",
   "metadata": {},
   "source": [
    "- the conversion specification ``%6.1f`` prints at least size characters wide with 1 digit after the decimal point [2]"
   ]
  },
  {
   "cell_type": "code",
   "execution_count": 3,
   "metadata": {},
   "outputs": [
    {
     "name": "stdout",
     "output_type": "stream",
     "text": [
      "   0.7\n"
     ]
    }
   ],
   "source": [
    "%%cpp\n",
    "printf(\"%6.1f\\n\",n);"
   ]
  },
  {
   "cell_type": "markdown",
   "metadata": {},
   "source": [
    "- width and precision may be omitted from a specification [2]"
   ]
  },
  {
   "cell_type": "code",
   "execution_count": 4,
   "metadata": {},
   "outputs": [
    {
     "name": "stdout",
     "output_type": "stream",
     "text": [
      "     0\n",
      "...print as decimal number - at least 6 characters wide\n"
     ]
    }
   ],
   "source": [
    "%%cpp\n",
    "printf(\"%6d\\n...print as decimal number - at least 6 characters wide\\n\",int(n));"
   ]
  },
  {
   "cell_type": "code",
   "execution_count": 5,
   "metadata": {},
   "outputs": [
    {
     "name": "stdout",
     "output_type": "stream",
     "text": [
      "0.666667\n",
      "...print as floating point\n"
     ]
    }
   ],
   "source": [
    "%%cpp\n",
    "printf(\"%f\\n...print as floating point\\n\",n);"
   ]
  },
  {
   "cell_type": "code",
   "execution_count": 6,
   "metadata": {},
   "outputs": [
    {
     "name": "stdout",
     "output_type": "stream",
     "text": [
      " 0.666667\n",
      "...print as floating point - at least 9 characters wide\n"
     ]
    }
   ],
   "source": [
    "%%cpp\n",
    "printf(\"%9f\\n...print as floating point - at least 9 characters wide\\n\",n);"
   ]
  },
  {
   "cell_type": "code",
   "execution_count": 7,
   "metadata": {},
   "outputs": [
    {
     "name": "stdout",
     "output_type": "stream",
     "text": [
      "0.67\n",
      "...print as floating point - 2 characters after decimal point\n"
     ]
    }
   ],
   "source": [
    "%%cpp\n",
    "printf(\"%.2f\\n...print as floating point - 2 characters after decimal point\\n\",n);"
   ]
  },
  {
   "cell_type": "markdown",
   "metadata": {},
   "source": [
    "- among other the function ``printf`` also recognises ``%o`` for octal and ``%x`` for hexadecimal and ``%c`` for character and ``%s`` for character string and ``%%`` for $\\%$ itself [2]"
   ]
  },
  {
   "cell_type": "markdown",
   "metadata": {},
   "source": [
    "< [Table of Contents](#top) | [References](#references) >\n",
    "<a id=\"preprocessorDirectivehashincludeHeaderFilesstdiohscanf\"></a>\n",
    "***\n",
    "###### ``scanf``\n",
    "***"
   ]
  },
  {
   "cell_type": "markdown",
   "metadata": {},
   "source": [
    "- ``scanf`` is like ``printf`` except that it reads input instead of writing output [2]"
   ]
  },
  {
   "cell_type": "markdown",
   "metadata": {},
   "source": [
    "- scans standard input for the input to read - the first argument is the format string (integer ``%d``) - the special character specifies that the character that follows is a code which describes the type of input - reading a decimal integer (base-10) by calling function ``scanf`` then standard input will be scanned for numbers - when it runs out (perhaps the user hits enter or space or something else) then the number that results from those numerals typed in will be stored [1]"
   ]
  },
  {
   "cell_type": "markdown",
   "metadata": {},
   "source": [
    "- take it as fact an ampersand ``&`` is required in front of whatever variable is read with ``scanf`` (relates to pointers) [1]"
   ]
  },
  {
   "cell_type": "code",
   "execution_count": 1,
   "metadata": {},
   "outputs": [
    {
     "name": "stdout",
     "output_type": "stream",
     "text": [
      "Welcome to JupyROOT 6.24/00\n"
     ]
    }
   ],
   "source": [
    "import ROOT"
   ]
  },
  {
   "cell_type": "code",
   "execution_count": 2,
   "metadata": {},
   "outputs": [
    {
     "name": "stdout",
     "output_type": "stream",
     "text": [
      "Writing sf.c\n"
     ]
    }
   ],
   "source": [
    "%%writefile sf.c\n",
    "#include <stdio.h>\n",
    "int main()\n",
    "{\n",
    "    int n;\n",
    "    scanf(\"%d\",&n);\n",
    "    printf(\"%d\",n);\n",
    "}"
   ]
  },
  {
   "cell_type": "code",
   "execution_count": 3,
   "metadata": {},
   "outputs": [],
   "source": [
    "%%script bash\n",
    "cc sf.c"
   ]
  },
  {
   "cell_type": "code",
   "execution_count": 4,
   "metadata": {},
   "outputs": [
    {
     "name": "stdout",
     "output_type": "stream",
     "text": [
      "0"
     ]
    }
   ],
   "source": [
    "%%script bash\n",
    "./a.out # terminal input integer"
   ]
  },
  {
   "cell_type": "code",
   "execution_count": 5,
   "metadata": {},
   "outputs": [],
   "source": [
    "%%script bash\n",
    "rm -rf sf.c a.out"
   ]
  },
  {
   "cell_type": "markdown",
   "metadata": {},
   "source": [
    "< [Table of Contents](#top) | [References](#references) >\n",
    "<a id=\"preprocessorDirectivehashincludeHeaderFileslimitsh\"></a>\n",
    "***\n",
    "###### ``limits.h``\n",
    "***"
   ]
  },
  {
   "cell_type": "markdown",
   "metadata": {},
   "source": [
    "- its a little disconcerting (frustrating) that its not possible to specify what the range of the numeric types are (different for different systems) [1]"
   ]
  },
  {
   "cell_type": "markdown",
   "metadata": {},
   "source": [
    "- can be troublesome to write programs that will be run on different systems (want portability) - ``C`` is supposed to be a portable language and to some degree it is but the fact is it is a systems programming language (more system friendly than it is programmer friendly) - while its not true to a large degree it certainly is true with the underlying numeric types - cannot specify a universal value for the largest ``int`` or the smallest ``int`` as it differs from platform to platform [1]"
   ]
  },
  {
   "cell_type": "markdown",
   "metadata": {},
   "source": [
    "- its impossible to find out by querying it in a program by examining the symbolic constants for all of these sizes along with other properties of the machine and compiler [1][2]"
   ]
  },
  {
   "cell_type": "markdown",
   "metadata": {},
   "source": [
    "- integer limits are defined in ``limits.h`` - including this header file or looking up the documentation and examining the names of those constants then its possible can find out what is the largest ``int`` or the largest ``short`` or the largest ``long`` or the smallest as well etc - this does give some programmatic control over the numeric properties of the system - the same thing applies to the floating point numbers as well and this information can be found in the header ``float.h`` [1]"
   ]
  },
  {
   "cell_type": "code",
   "execution_count": 1,
   "metadata": {
    "scrolled": false
   },
   "outputs": [],
   "source": [
    "%%script bash\n",
    "pwd\n",
    "# cat ../../../usr/include/limits.h"
   ]
  },
  {
   "cell_type": "markdown",
   "metadata": {},
   "source": [
    "- for integral limits can access constants (typically written with capital letters - convention thats been around for a long time) [13]"
   ]
  },
  {
   "cell_type": "markdown",
   "metadata": {},
   "source": [
    "< [Table of Contents](#top) | [References](#references) >\n",
    "<a id=\"preprocessorDirectivehashincludeHeaderFilesfloath\"></a>\n",
    "***\n",
    "###### ``float.h``\n",
    "***"
   ]
  },
  {
   "cell_type": "markdown",
   "metadata": {},
   "source": [
    "- contain symbolic constants for all floating-point sizes along with other properties of the machine and compiler [2]"
   ]
  },
  {
   "cell_type": "markdown",
   "metadata": {},
   "source": [
    "***\n",
    "### END"
   ]
  },
  {
   "cell_type": "markdown",
   "metadata": {},
   "source": [
    "***\n",
    "## END"
   ]
  },
  {
   "cell_type": "markdown",
   "metadata": {},
   "source": [
    "< [Table of Contents](#top) | [Abstract](#abstract) | [Introduction](#introduction) | [Conclusion](#conclusion) | [References](#references) >\n",
    "<a id=\"solution\"></a>\n",
    "***\n",
    "## Solution\n",
    "***"
   ]
  },
  {
   "cell_type": "markdown",
   "metadata": {},
   "source": [
    "&#x1F6A7;"
   ]
  },
  {
   "cell_type": "markdown",
   "metadata": {},
   "source": [
    "<!-- - refer [Appendix](#appendix-df) to view the full dataset <a id=\"go-back-df\"></a> -->\n",
    "<!-- print(fGetModuleType(___x___),fDocumentation(___x___)) -->\n",
    "***\n",
    "## END"
   ]
  },
  {
   "cell_type": "markdown",
   "metadata": {},
   "source": [
    "< [Table of Contents](#top) | [Abstract](#abstract) | [Introduction](#introduction) | [Solution](#solution) | [References](#references) >\n",
    "<a id=\"conclusion\"></a>\n",
    "***\n",
    "## Conclusion\n",
    "***"
   ]
  },
  {
   "cell_type": "markdown",
   "metadata": {},
   "source": [
    "&#x1F6A7;"
   ]
  },
  {
   "cell_type": "markdown",
   "metadata": {},
   "source": [
    "***\n",
    "## END"
   ]
  },
  {
   "cell_type": "markdown",
   "metadata": {},
   "source": [
    "< [Table of Contents](#top) | [Abstract](#abstract) | [Introduction](#introduction) | [Solution](#solution) | [Conclusion](#conclusion) | [References](#references) >\n",
    "<a id=\"references\"></a>\n",
    "***\n",
    "## References\n",
    "***\n",
    "\n",
    "&nbsp;&nbsp;&nbsp;&nbsp;&nbsp;&nbsp;&nbsp;&nbsp;&nbsp;[1] C. Allison, \"Thinking in C,\" [MindView LLC](https://web.archive.org/web/20210617100433/http://ix.cs.uoregon.edu/~norris/cis330books/ThinkingInC/Index.html), (n.d.).\n",
    "\n",
    "&nbsp;&nbsp;&nbsp;&nbsp;&nbsp;&nbsp;&nbsp;&nbsp;&nbsp;[2] B. W. Kernighan, D. M. Ritchie, \"The C Programming Language (2nd Edition),\" Prentice Hall, 1988."
   ]
  },
  {
   "cell_type": "markdown",
   "metadata": {},
   "source": [
    "***\n",
    "## END"
   ]
  },
  {
   "cell_type": "markdown",
   "metadata": {},
   "source": [
    "< [Table of Contents](#top) | [Abstract](#abstract) | [Introduction](#introduction) | [Solution](#solution) | [Conclusion](#conclusion) | [References](#references) >\n",
    "<a id=\"appendix\"></a>\n",
    "***\n",
    "## Appendix\n",
    "***"
   ]
  },
  {
   "cell_type": "markdown",
   "metadata": {},
   "source": [
    "###### Images\n",
    "***"
   ]
  },
  {
   "cell_type": "markdown",
   "metadata": {},
   "source": [
    "![gumball](https://github.com/SeanOhAileasa/SeanOhAileasa/blob/master/rc/cta/analysing/gumball.png?raw=true)\n",
    "\n",
    "***(Image) P. Mannion, \"03 Analysing Algorithms Part 1,\" GMIT, October 2017.***"
   ]
  },
  {
   "cell_type": "markdown",
   "metadata": {},
   "source": [
    "###### Tables\n",
    "***"
   ]
  },
  {
   "cell_type": "markdown",
   "metadata": {},
   "source": [
    "|aaa|bbbbbb|ccccccccc|\n",
    "|:------------------------- | :------------------------- | :------------------------- |\n",
    "|aaa|bbbbbb|ccccccccc|"
   ]
  },
  {
   "cell_type": "markdown",
   "metadata": {},
   "source": [
    "###### References\n",
    "***"
   ]
  },
  {
   "cell_type": "markdown",
   "metadata": {},
   "source": [
    "&nbsp;&nbsp;&nbsp;&nbsp;&nbsp;&nbsp;&nbsp;&nbsp;&nbsp;[1] x. xxx, \"xxx,\" xxx, JanXXXry 2XX1.\n",
    "\n",
    "\n",
    "&nbsp;&nbsp;&nbsp;&nbsp;&nbsp;&nbsp;&nbsp;&nbsp;&nbsp;[0] Anaconda (built-in), \"range,\" Docstring, Conda:4.9.2 (Python:3.8.5).\n",
    "\n",
    "&nbsp;&nbsp;&nbsp;&nbsp;&nbsp;&nbsp;&nbsp;&nbsp;&nbsp;[0] Anaconda (plot), \"matplotlib.pyplot,\" Docstring, Conda:4.9.2 (Python:3.8.5).\n",
    "\n",
    "&nbsp;&nbsp;&nbsp;&nbsp;&nbsp;&nbsp;&nbsp;&nbsp;&nbsp;[0] D. Carr, \"CTA - Lecture 1 Part 1,\" GMIT, January 2021.\n",
    "\n",
    "&nbsp;&nbsp;&nbsp;&nbsp;&nbsp;&nbsp;&nbsp;&nbsp;&nbsp;[0] A. Beatty, \"xxx,\" GMIT, January 202x.\n",
    "\n",
    "&nbsp;&nbsp;&nbsp;&nbsp;&nbsp;&nbsp;&nbsp;&nbsp;&nbsp;[0] M. R. Fellows, I. Parberry, \"SIGACT Trying to Get Children Excited About CS,\" [ianparberry](https://web.archive.org/web/20210220071000/http://ianparberry.com/research/cseducation), January 1993.\n",
    "\n",
    "###### fubar-000\n",
    "\n",
    "&nbsp;&nbsp;&nbsp;&nbsp;&nbsp;&nbsp;&nbsp;&nbsp;&nbsp;[0] A. Beatty, \"prog 0.0 introduction (Module: Programming for Cybersecurity),\" GMIT (Programme: Certificate in Cybersecurity Operations), January 2021."
   ]
  },
  {
   "cell_type": "markdown",
   "metadata": {},
   "source": [
    "***\n",
    "## END"
   ]
  },
  {
   "cell_type": "markdown",
   "metadata": {},
   "source": [
    "# END JUPYTER NOTEBOOK"
   ]
  }
 ],
 "metadata": {
  "kernelspec": {
   "display_name": "Python 3",
   "language": "python",
   "name": "python3"
  },
  "language_info": {
   "codemirror_mode": {
    "name": "ipython",
    "version": 3
   },
   "file_extension": ".py",
   "mimetype": "text/x-python",
   "name": "python",
   "nbconvert_exporter": "python",
   "pygments_lexer": "ipython3",
   "version": "3.8.10"
  }
 },
 "nbformat": 4,
 "nbformat_minor": 5
}
