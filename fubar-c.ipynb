{
 "cells": [
  {
   "cell_type": "markdown",
   "metadata": {},
   "source": [
    "###### Kernel > Change kernel > Python 3"
   ]
  },
  {
   "cell_type": "code",
   "execution_count": null,
   "metadata": {},
   "outputs": [
    {
     "data": {
      "text/html": [
       "<script>Jupyter.notebook.kernel.restart()</script>"
      ]
     },
     "metadata": {},
     "output_type": "display_data"
    }
   ],
   "source": [
    "from IPython.core.display import display_html\n",
    "display_html(\"<script>Jupyter.notebook.kernel.restart()</script>\",raw=True)"
   ]
  },
  {
   "cell_type": "code",
   "execution_count": 1,
   "metadata": {},
   "outputs": [
    {
     "data": {
      "text/html": [
       "<style>.container { width:100% !important; }</style>"
      ],
      "text/plain": [
       "<IPython.core.display.HTML object>"
      ]
     },
     "metadata": {},
     "output_type": "display_data"
    },
    {
     "data": {
      "text/html": [
       "<style>.container { width:100% !important; }</style>"
      ],
      "text/plain": [
       "<IPython.core.display.HTML object>"
      ]
     },
     "metadata": {},
     "output_type": "display_data"
    }
   ],
   "source": [
    "from sys import path; path.insert(1,\"../src\");\n",
    "import fubar; from importlib import reload; reload(fubar);"
   ]
  },
  {
   "cell_type": "markdown",
   "metadata": {},
   "source": [
    "###### Kernel > Change kernel > ROOT C++"
   ]
  },
  {
   "cell_type": "markdown",
   "metadata": {},
   "source": [
    "***\n",
    "< [GMIT Data Analytics](https://web.archive.org/web/20201029063153/https://www.gmit.ie/computer-science-and-applied-physics/higher-diploma-science-computing-data-analytics-ict) | [Home](https://github.com/SeanOhAileasa) | [README](https://github.com/SeanOhAileasa/fubar-c/blob/main/README.md) >\n",
    "\n",
    "[![GMIT](https://github.com/SeanOhAileasa/SeanOhAileasa/blob/master/rc/gmit.png?raw=true)](https://web.archive.org/web/20201029063153/https://www.gmit.ie/computer-science-and-applied-physics/higher-diploma-science-computing-data-analytics-ict)\n",
    "\n",
    "## GMIT - Supplemental Course Material\n",
    "### Topic: [C](https://nbviewer.jupyter.org/github/SeanOhAileasa/fubar-c/blob/main/fubar-c.ipynb)\n",
    "***"
   ]
  },
  {
   "cell_type": "markdown",
   "metadata": {},
   "source": [
    "Supplemental course material for the ``Higher Diploma in Science in Computing (Data Analytics) (H.Dip)`` programme (75 Credits) at **Galway-Mayo Institute of Technology (GMIT)**. \n",
    "\n",
    "This repository is for self-study/self-examination for future modules of the H.Dip programme and preparation for future workplace opportunities."
   ]
  },
  {
   "cell_type": "markdown",
   "metadata": {},
   "source": [
    "<a id=\"top\"></a>\n",
    "***\n",
    "## Table of Contents\n",
    "***"
   ]
  },
  {
   "cell_type": "markdown",
   "metadata": {},
   "source": [
    "## [Abstract](#abstract)\n",
    "\n",
    "* [1.1 Getting Started](#introduction11GettingStarted) <br/><br/>       \n",
    "    * [ASCII](#introductionASCII) <br/><br/>\n",
    "* [1.2 Variables and Arithmetic Expressions](#introduction12VariablesandArithmeticExpressions) <br/><br/>\n",
    "    * &#8594; ``#include <stdio.h>`` &#8594; ``printf`` <br/><br/>\n",
    "    &#x1F4CC; [Exercise 1-3. Modify the temperature conversion program to print a heading above the table.](#abstract13) <br/><br/>\n",
    "    &#x1F4CC; [Exercise 1-4. Write a program to print the corresponding Celsius to Fahrenheit table.](#abstract14) <br/><br/>\n",
    "* [1.3 The For Statement](#introduction13TheForStatement) <br/><br/>\n",
    "    &#x1F4CC; [Exercise 1-5. Modify the temperature conversion program to print the table in reverse order, that is, from 300 degrees to 0.](#abstract15) <br/><br/>\n",
    "* [1.4 Symbolic Constants](#introduction14SymbolicConstants) <br/><br/>\n",
    "* [1.5 Character Input and Output](#introduction15CharacterInputandOutput) <br/><br/>\n",
    "    * &#8594; ``#include <stdio.h>`` &#8594; ``getchar`` &#8594; ``putchar`` &#8594; ``EOF`` <br/><br/>\n",
    "    &#x1F4CC; [Exercise 1-6. Verify that the expression getchar()!=EOF is 0 or 1.](#abstract16) <br/><br/>\n",
    "    &#x1F4CC; [Exercise 1-7. Write a program to print the value of EOF.](#abstract17) <br/><br/>  \n",
    "    * [Character Counting](#CharacterInputOutputCharacterCounting) <br/><br/>\n",
    "    * [Line Counting](#CharacterInputOutputLineCounting) <br/><br/>\n",
    "    &#x1F4CC; [Exercise 1-8. Write a program to count blanks, tabs, and newlines.](#abstract18) <br/><br/>\n",
    "    &#x1F4CC; [Exercise 1-9. Write a program to copy its input to its output, replacing each string of one or more blanks by a single blank.](#abstract19) <br/><br/>\n",
    "    &#x1F4CC; [Exercise 1-10. Write a program to copy its input to its output, replacing each tab by \\t, each backspace by \\b, and each backslash by \\\\\\\\. This makes tabs and backspaces visible in an unambiguous way.](#abstract110) <br/><br/>\n",
    "    * [Word Counting](#CharacterInputOutputWordCounting) <br/><br/>\n",
    "    &#x1F4CC; [Exercise 1-11. How would you test the word count program? What kinds of input are most likely to uncover bugs if there are any?](#abstract111) <br/><br/>\n",
    "    &#x1F4CC; [Exercise 1-12. Write a program that prints its input one word per line.](#abstract112)"
   ]
  },
  {
   "cell_type": "markdown",
   "metadata": {},
   "source": [
    "<hr width=50%;>"
   ]
  },
  {
   "cell_type": "markdown",
   "metadata": {},
   "source": [
    "## [Introduction](#introduction)"
   ]
  },
  {
   "cell_type": "markdown",
   "metadata": {},
   "source": [
    "* [Data Type](#dataType) &#x1F6A7; <br/><br/>\n",
    "    * [``sizeof``](#introductionDataTypessizeof) &#x1F6A7; <br/><br/>\n",
    "    * [``enum``](#introductionDataTypesenum) &#x1F6A7; <br/><br/>    "
   ]
  },
  {
   "cell_type": "markdown",
   "metadata": {},
   "source": [
    "<hr width=50%;>"
   ]
  },
  {
   "cell_type": "markdown",
   "metadata": {},
   "source": [
    "## [Solution](#solution)"
   ]
  },
  {
   "cell_type": "markdown",
   "metadata": {},
   "source": [
    "- &#x1F6A7;"
   ]
  },
  {
   "cell_type": "markdown",
   "metadata": {},
   "source": [
    "<hr width=50%;>"
   ]
  },
  {
   "cell_type": "markdown",
   "metadata": {},
   "source": [
    "## [Conclusion](#conclusion)"
   ]
  },
  {
   "cell_type": "markdown",
   "metadata": {},
   "source": [
    "- &#x1F6A7;"
   ]
  },
  {
   "cell_type": "markdown",
   "metadata": {},
   "source": [
    "<hr width=50%;>"
   ]
  },
  {
   "cell_type": "markdown",
   "metadata": {},
   "source": [
    "## [Appendix](#appendix) "
   ]
  },
  {
   "cell_type": "markdown",
   "metadata": {},
   "source": [
    "* [Statement](#statement) <br/><br/>\n",
    "    * [Compound](#statementsCompound)"
   ]
  },
  {
   "cell_type": "markdown",
   "metadata": {},
   "source": [
    "* [Declaration](#declaration)"
   ]
  },
  {
   "cell_type": "markdown",
   "metadata": {},
   "source": [
    "* [Data Type](#dataType) <br/><br/>\n",
    "    * [Character](#dataTypesCharacter) <br/><br/>\n",
    "        * [``char``](#intTypeschar)&nbsp;&nbsp;|&nbsp;&nbsp;[``wchar_t``](#intTypeswchar_t) <br/><br/>\n",
    "            * [Stream](#dataTypesCharacterStream) <br/><br/>\n",
    "                * [``getchar``](#dataTypesCharacterStreamgetchar) <br/><br/>\n",
    "                * [``putchar``](#dataTypesCharacterStreamputchar) <br/><br/>\n",
    "    * [Integer](#dataTypesIntegers) <br/><br/>     \n",
    "        * [``int``](#intTypesint) <br/><br/>          \n",
    "        * [Qualifier](#intTypesQualifier) <br/><br/>\n",
    "            * [``short``](#intTypesshort) <br/><br/>\n",
    "            * [``long``](#intTypeslong) <br/><br/>\n",
    "            * [Signed/Unsigned](#intSignedversusUnsigned) <br/><br/>\n",
    "    * [Single-Precision Floating Point](#dataTypesSingle-PrecisionFloatingPoint) <br/><br/>\n",
    "        * [``float``](#dataTypesDoublePrecisionFloatingPointfloat) <br/><br/>\n",
    "    * [Double-Precision Floating Point](#dataTypesDoublePrecisionFloatingPoint) <br/><br/>\n",
    "        * [``double``](#dataTypesDoublePrecisionFloatingPointdouble) &#x1F6A7; <br/><br/>\n",
    "        * [Qualifier](#dataTypesDoubleQualifier) &#x1F6A7; <br/><br/>\n",
    "            * [``long``](#dataTypesDoubleQualifierslong) <br/><br/>\n",
    "    * [Symbolic Constant](#dataTypeSymbolicConstant) <br/><br/>\n",
    "        * [``#define``](#dataTypeSymbolicConstantshashdefine)"
   ]
  },
  {
   "cell_type": "markdown",
   "metadata": {},
   "source": [
    "* [Arrays](#arrays)"
   ]
  },
  {
   "cell_type": "markdown",
   "metadata": {},
   "source": [
    "* [Operators and Expressions](#operatorsexpressions) &#x1F6A7; <br/><br/>\n",
    "    * [Increment](#operatorsIncrementDecrement)&nbsp;&nbsp;|&nbsp;&nbsp;[Decrement](#operatorsIncrementDecrement) <br/><br/>\n",
    "    * [Assignment](#operatorsIncrementDecrementAssignment)"
   ]
  },
  {
   "cell_type": "markdown",
   "metadata": {},
   "source": [
    "* [Control Flow](#controlFlow) <br/><br/>\n",
    "    * [``switch``](#controlFlowswitch) <br/><br/>\n",
    "    * [``while``](#controlFlowwhile) <br/><br/>\n",
    "    * [``for``](#controlFlowfor) "
   ]
  },
  {
   "cell_type": "markdown",
   "metadata": {},
   "source": [
    "* [Function](#function)&nbsp;&nbsp;|&nbsp;&nbsp;[``main``](#functionsmain)&nbsp;&nbsp;|&nbsp;&nbsp;[``return``](#functionreturnstatement) <br/><br/>\n",
    "    * [Prototype](#functionsPrototype) <br/><br/>\n",
    "    * [Definition](#functionsDefinition) "
   ]
  },
  {
   "cell_type": "markdown",
   "metadata": {},
   "source": [
    "* [Preprocessor](#preprocessor) <br/><br/>\n",
    "    * [Directive](#preprocessorDirective) <br/><br/>\n",
    "        * [``include``](#preprocessorDirectivehashinclude) <br/><br/>\n",
    "            * [Header File](#preprocessorDirectivehashincludeHeaderFile) <br/><br/>\n",
    "                * [``stdio.h``](#preprocessorDirectivehashincludeHeaderFilesstdioh) <br/><br/>\n",
    "                    * [``EOF``](#preprocessorDirectivehashincludeHeaderFilesstdiohsymbolicconstantEOF) <br/><br/>\n",
    "                    * [``printf``](#preprocessorDirectivehashincludeHeaderFilesstdiohprintf) <br/><br/>\n",
    "                    * [``scanf``](#preprocessorDirectivehashincludeHeaderFilesstdiohscanf) <br/><br/>\n",
    "                * [``limits.h``](#preprocessorDirectivehashincludeHeaderFileslimitsh) <br/><br/>\n",
    "                * [``float.h``](#preprocessorDirectivehashincludeHeaderFilesfloath)"
   ]
  },
  {
   "cell_type": "markdown",
   "metadata": {},
   "source": [
    "***\n",
    "## END"
   ]
  },
  {
   "cell_type": "markdown",
   "metadata": {},
   "source": [
    "< [Table of Contents](#top) | [Introduction](#introduction) | [Solution](#solution) | [Conclusion](#conclusion) | [References](#references) >\n",
    "<a id=\"abstract\"></a>\n",
    "***\n",
    "## Abstract\n",
    "***"
   ]
  },
  {
   "cell_type": "markdown",
   "metadata": {},
   "source": [
    "< [Table of Contents](#top) | [References](#references) >\n",
    "<a id=\"introduction11GettingStarted\"></a>\n",
    "***\n",
    "### 1.1 Getting Started\n",
    "***"
   ]
  },
  {
   "cell_type": "markdown",
   "metadata": {},
   "source": [
    "- create a program in a file whose name ends in ``.c`` [2]"
   ]
  },
  {
   "cell_type": "markdown",
   "metadata": {},
   "source": [
    "- compile via command-line [2]"
   ]
  },
  {
   "cell_type": "markdown",
   "metadata": {},
   "source": [
    "```C\n",
    "cc ___.c\n",
    "```"
   ]
  },
  {
   "cell_type": "markdown",
   "metadata": {},
   "source": [
    "- result is an executable file called ``a.out`` [2]"
   ]
  },
  {
   "cell_type": "markdown",
   "metadata": {},
   "source": [
    "< [Table of Contents](#top) | [References](#references) >\n",
    "<a id=\"introductionASCII\"></a>\n",
    "***\n",
    "###### ASCII\n",
    "***"
   ]
  },
  {
   "cell_type": "markdown",
   "metadata": {},
   "source": [
    "![ascii](https://github.com/SeanOhAileasa/SeanOhAileasa/blob/master/rc/fubar-c/asciiTable.png?raw=true)\n",
    "\n",
    "***(Image) ohio-state.edu, \"Structured representation,\" [asc.ohio-state.edu](https://www.asc.ohio-state.edu/demarneffe.1/LING5050/material/characters.html), July 2014.***"
   ]
  },
  {
   "cell_type": "markdown",
   "metadata": {},
   "source": [
    "< [Table of Contents](#top) | [References](#references) >\n",
    "<a id=\"introduction12VariablesandArithmeticExpressions\"></a>\n",
    "***\n",
    "### 1.2 Variables and Arithmetic Expressions\n",
    "***"
   ]
  },
  {
   "cell_type": "markdown",
   "metadata": {},
   "source": [
    "- computation begins with assignment statements - setting the variables to initial values [2]"
   ]
  },
  {
   "cell_type": "code",
   "execution_count": 1,
   "metadata": {},
   "outputs": [],
   "source": [
    "int nCelsius,nLower;"
   ]
  },
  {
   "cell_type": "code",
   "execution_count": 2,
   "metadata": {},
   "outputs": [
    {
     "name": "stdout",
     "output_type": "stream",
     "text": [
      "(int) 0\n"
     ]
    }
   ],
   "source": [
    "nCelsius // decimal 0 [NULL]"
   ]
  },
  {
   "cell_type": "code",
   "execution_count": 3,
   "metadata": {},
   "outputs": [
    {
     "name": "stdout",
     "output_type": "stream",
     "text": [
      "(int) 0\n"
     ]
    }
   ],
   "source": [
    "nLower"
   ]
  },
  {
   "cell_type": "code",
   "execution_count": 4,
   "metadata": {},
   "outputs": [],
   "source": [
    "int nUpper=300,nStep=20,nFahr=nLower;"
   ]
  },
  {
   "cell_type": "markdown",
   "metadata": {},
   "source": [
    "- using the formula $C=(5{\\div}9)(F-32)$ to create the table of fahrenheit to celsius [2]"
   ]
  },
  {
   "cell_type": "markdown",
   "metadata": {},
   "source": [
    "- first dividing $5{\\div}9$ would result in integer division truncation (fractional part is discarded) [2]"
   ]
  },
  {
   "cell_type": "markdown",
   "metadata": {},
   "source": [
    "- since $5$ and $9$ are integers then $5{\\div}9$ would be truncated to zero and so all the celsius temperatures would be reported as zero [2] "
   ]
  },
  {
   "cell_type": "markdown",
   "metadata": {},
   "source": [
    "- if an arithmetic operator has integer operands then an integer operation is performed [2]"
   ]
  },
  {
   "cell_type": "code",
   "execution_count": 5,
   "metadata": {},
   "outputs": [
    {
     "name": "stdout",
     "output_type": "stream",
     "text": [
      "(int) 0\n"
     ]
    }
   ],
   "source": [
    "5/9"
   ]
  },
  {
   "cell_type": "markdown",
   "metadata": {},
   "source": [
    "- using integer arithmetic results in the celsius temperatures not being very accurate ($0^{\\circ}F$ is actually about $-17.8^{\\circ}C$) [2]"
   ]
  },
  {
   "cell_type": "code",
   "execution_count": 6,
   "metadata": {},
   "outputs": [
    {
     "name": "stdout",
     "output_type": "stream",
     "text": [
      "  0   -17\n"
     ]
    }
   ],
   "source": [
    "printf(\"%3d%6d\\n\",nFahr,5*(nFahr-32)/9); // Dec 10 [LINE FEED]"
   ]
  },
  {
   "cell_type": "markdown",
   "metadata": {},
   "source": [
    "- a decimal point in a constant indicates that it is floating point so $5.0{\\div}9.0$ is not truncated because it is the ratio of two floating-point values [2]"
   ]
  },
  {
   "cell_type": "code",
   "execution_count": 7,
   "metadata": {},
   "outputs": [
    {
     "name": "stdout",
     "output_type": "stream",
     "text": [
      "(double) 0.55555556\n"
     ]
    }
   ],
   "source": [
    "5.0/9.0"
   ]
  },
  {
   "cell_type": "markdown",
   "metadata": {},
   "source": [
    "- if an arithmetic operator has one floating-point operand and one integer operand then the integer will be converted to floating point before the operation is done [2]"
   ]
  },
  {
   "cell_type": "code",
   "execution_count": 8,
   "metadata": {},
   "outputs": [
    {
     "name": "stdout",
     "output_type": "stream",
     "text": [
      "(double) 0.55555556\n"
     ]
    }
   ],
   "source": [
    "5.0/9"
   ]
  },
  {
   "cell_type": "code",
   "execution_count": 9,
   "metadata": {},
   "outputs": [
    {
     "name": "stdout",
     "output_type": "stream",
     "text": [
      "(double) 0.55555556\n"
     ]
    }
   ],
   "source": [
    "5/9.0"
   ]
  },
  {
   "cell_type": "markdown",
   "metadata": {},
   "source": [
    "- declaring ``nFahr`` and ``nCelsius`` to be ``float`` allows the formula for conversion to be written in a more natural way (unable to use $5{\\div}9$ given integer division would truncate it to zero) [2]"
   ]
  },
  {
   "cell_type": "code",
   "execution_count": 10,
   "metadata": {},
   "outputs": [],
   "source": [
    "float nFahr=nLower,nCelsius;"
   ]
  },
  {
   "cell_type": "code",
   "execution_count": 11,
   "metadata": {},
   "outputs": [
    {
     "name": "stdout",
     "output_type": "stream",
     "text": [
      "(int) 0\n"
     ]
    }
   ],
   "source": [
    "nLower"
   ]
  },
  {
   "cell_type": "code",
   "execution_count": 12,
   "metadata": {},
   "outputs": [
    {
     "name": "stdout",
     "output_type": "stream",
     "text": [
      "(float) 0.00000f\n"
     ]
    }
   ],
   "source": [
    "nFahr"
   ]
  },
  {
   "cell_type": "code",
   "execution_count": 13,
   "metadata": {},
   "outputs": [
    {
     "name": "stdout",
     "output_type": "stream",
     "text": [
      "(float) 0.00000f\n"
     ]
    }
   ],
   "source": [
    "nCelsius"
   ]
  },
  {
   "cell_type": "markdown",
   "metadata": {},
   "source": [
    "- writing ``nFahr-32`` then the ``32`` would be automatically converted to floating point - writing floating-point constants with explicit decimal points even when they are integral values emphasises their floating-point nature for human readers [2]"
   ]
  },
  {
   "cell_type": "code",
   "execution_count": 14,
   "metadata": {},
   "outputs": [
    {
     "name": "stdout",
     "output_type": "stream",
     "text": [
      "(float) -32.0000f\n"
     ]
    }
   ],
   "source": [
    "nFahr-32"
   ]
  },
  {
   "cell_type": "markdown",
   "metadata": {},
   "source": [
    "- like the assignment ``nFahr=nLower`` the test ``while (nFahr<=nUpper)`` also works in the natural way (the ``int`` is converted to ``float`` before the operation is done) [2]"
   ]
  },
  {
   "cell_type": "code",
   "execution_count": 15,
   "metadata": {},
   "outputs": [
    {
     "name": "stdout",
     "output_type": "stream",
     "text": [
      "(int) 300\n"
     ]
    }
   ],
   "source": [
    "nUpper"
   ]
  },
  {
   "cell_type": "markdown",
   "metadata": {},
   "source": [
    "- each line of the table is computed the same way using a loop that repeats once per output line [2]"
   ]
  },
  {
   "cell_type": "code",
   "execution_count": 16,
   "metadata": {},
   "outputs": [
    {
     "name": "stdout",
     "output_type": "stream",
     "text": [
      "  0 -17.8\n",
      " 20  -6.7\n",
      " 40   4.4\n",
      " 60  15.6\n",
      " 80  26.7\n",
      "100  37.8\n",
      "120  48.9\n",
      "140  60.0\n",
      "160  71.1\n",
      "180  82.2\n",
      "200  93.3\n",
      "220 104.4\n",
      "240 115.6\n",
      "260 126.7\n",
      "280 137.8\n",
      "300 148.9\n"
     ]
    }
   ],
   "source": [
    "while (nFahr<=nUpper)\n",
    "{ \n",
    "    nCelsius=(5.0/9.0)*(nFahr-32);\n",
    "    printf(\"%3.0f%6.1f\\n\",nFahr,nCelsius);\n",
    "    nFahr=nFahr+nStep;\n",
    "}"
   ]
  },
  {
   "cell_type": "markdown",
   "metadata": {},
   "source": [
    "< [Table of Contents](#top) | [References](#references) >\n",
    "<a id=\"abstract13\"></a>\n",
    "***\n",
    "###### Exercise 1-3. Modify the temperature conversion program to print a heading above the table.\n",
    "***"
   ]
  },
  {
   "cell_type": "code",
   "execution_count": 17,
   "metadata": {},
   "outputs": [
    {
     "name": "stdout",
     "output_type": "stream",
     "text": [
      "Fahrenheit - Celsius\n",
      "     0        -17.8\n",
      "    20         -6.7\n",
      "    40          4.4\n",
      "    60         15.6\n",
      "    80         26.7\n",
      "   100         37.8\n",
      "   120         48.9\n",
      "   140         60.0\n",
      "   160         71.1\n",
      "   180         82.2\n",
      "   200         93.3\n",
      "   220        104.4\n",
      "   240        115.6\n",
      "   260        126.7\n",
      "   280        137.8\n",
      "   300        148.9\n"
     ]
    }
   ],
   "source": [
    "int nLower=0,nUpper=300,nStep=20;\n",
    "float nFahr=nLower,nCelsius;\n",
    "printf(\"Fahrenheit - Celsius\\n\");\n",
    "while (nFahr<=nUpper)\n",
    "{\n",
    "    nCelsius=(5.0/9.0)*(nFahr-32);\n",
    "    printf(\"%6.0f%13.1f\\n\",nFahr,nCelsius);\n",
    "    nFahr=nFahr+nStep;\n",
    "}"
   ]
  },
  {
   "cell_type": "markdown",
   "metadata": {},
   "source": [
    "< [Table of Contents](#top) | [References](#references) >\n",
    "<a id=\"abstract14\"></a>\n",
    "***\n",
    "###### Exercise 1-4. Write a program to print the corresponding Celsius to Fahrenheit table.\n",
    "***"
   ]
  },
  {
   "cell_type": "code",
   "execution_count": 18,
   "metadata": {},
   "outputs": [
    {
     "name": "stdout",
     "output_type": "stream",
     "text": [
      "Celsius - Fahrenheit\n",
      "   0         32.0\n",
      "  20         68.0\n",
      "  40        104.0\n",
      "  60        140.0\n",
      "  80        176.0\n",
      " 100        212.0\n",
      " 120        248.0\n",
      " 140        284.0\n",
      " 160        320.0\n",
      " 180        356.0\n",
      " 200        392.0\n",
      " 220        428.0\n",
      " 240        464.0\n",
      " 260        500.0\n",
      " 280        536.0\n",
      " 300        572.0\n"
     ]
    }
   ],
   "source": [
    "int nLower=0,nUpper=300,nStep=20;\n",
    "float nFahr,nCelsius=nLower;\n",
    "printf(\"Celsius - Fahrenheit\\n\");\n",
    "while (nCelsius<=nUpper)\n",
    "{\n",
    "    nFahr=nCelsius/(5.0/9.0)+32;\n",
    "    printf(\"%4.0f%13.1f\\n\",nCelsius,nFahr);\n",
    "    nCelsius=nCelsius+nStep;\n",
    "}"
   ]
  },
  {
   "cell_type": "markdown",
   "metadata": {},
   "source": [
    "< [Table of Contents](#top) | [References](#references) >\n",
    "<a id=\"introduction13TheForStatement\"></a>\n",
    "***\n",
    "### 1.3 The For Statement\n",
    "***"
   ]
  },
  {
   "cell_type": "markdown",
   "metadata": {},
   "source": [
    "- variation on the temperature converter [2]"
   ]
  },
  {
   "cell_type": "markdown",
   "metadata": {},
   "source": [
    "- eliminate most of the variables with ``nFahr`` remaining (make it an ``int``) [2]"
   ]
  },
  {
   "cell_type": "code",
   "execution_count": 19,
   "metadata": {},
   "outputs": [],
   "source": [
    "int nFahr;"
   ]
  },
  {
   "cell_type": "code",
   "execution_count": 20,
   "metadata": {},
   "outputs": [
    {
     "name": "stdout",
     "output_type": "stream",
     "text": [
      "(int) 0\n"
     ]
    }
   ],
   "source": [
    "nFahr"
   ]
  },
  {
   "cell_type": "markdown",
   "metadata": {},
   "source": [
    "- variables ``nLower`` and ``nUpper`` and ``nStep`` appear only as constants in the ``for`` statement [2]"
   ]
  },
  {
   "cell_type": "markdown",
   "metadata": {},
   "source": [
    "- the expression that computes the ``nCelsius`` now appears as the third argument of the ``printf`` instead of as a separate assignment statement [2]"
   ]
  },
  {
   "cell_type": "code",
   "execution_count": 21,
   "metadata": {},
   "outputs": [
    {
     "name": "stdout",
     "output_type": "stream",
     "text": [
      "Fahrenheit - Celsius\n",
      "     0        -17.8\n",
      "    20         -6.7\n",
      "    40          4.4\n",
      "    60         15.6\n",
      "    80         26.7\n",
      "   100         37.8\n",
      "   120         48.9\n",
      "   140         60.0\n",
      "   160         71.1\n",
      "   180         82.2\n",
      "   200         93.3\n",
      "   220        104.4\n",
      "   240        115.6\n",
      "   260        126.7\n",
      "   280        137.8\n",
      "   300        148.9\n"
     ]
    }
   ],
   "source": [
    "printf(\"Fahrenheit - Celsius\\n\");\n",
    "for (nFahr; nFahr<=300; nFahr=nFahr+20)\n",
    "    printf(\"%6d%13.1f\\n\",nFahr,(5.0/9.0)*(nFahr-32));"
   ]
  },
  {
   "cell_type": "markdown",
   "metadata": {},
   "source": [
    "< [Table of Contents](#top) | [References](#references) >\n",
    "<a id=\"abstract15\"></a>\n",
    "***\n",
    "###### Exercise 1-5. Modify the temperature conversion program to print the table in reverse order, that is, from 300 degrees to 0.\n",
    "***"
   ]
  },
  {
   "cell_type": "code",
   "execution_count": 22,
   "metadata": {},
   "outputs": [
    {
     "name": "stdout",
     "output_type": "stream",
     "text": [
      "Fahrenheit - Celsius\n",
      "   300        148.9\n",
      "   280        137.8\n",
      "   260        126.7\n",
      "   240        115.6\n",
      "   220        104.4\n",
      "   200         93.3\n",
      "   180         82.2\n",
      "   160         71.1\n",
      "   140         60.0\n",
      "   120         48.9\n",
      "   100         37.8\n",
      "    80         26.7\n",
      "    60         15.6\n",
      "    40          4.4\n",
      "    20         -6.7\n",
      "     0        -17.8\n"
     ]
    }
   ],
   "source": [
    "printf(\"Fahrenheit - Celsius\\n\");\n",
    "for (nFahr=300; nFahr>=0; nFahr-=20)\n",
    "    printf(\"%6d%13.1f\\n\",nFahr,(5.0/9.0)*(nFahr-32));"
   ]
  },
  {
   "cell_type": "markdown",
   "metadata": {},
   "source": [
    "< [Table of Contents](#top) | [References](#references) >\n",
    "<a id=\"introduction14SymbolicConstants\"></a>\n",
    "***\n",
    "### 1.4 Symbolic Constants\n",
    "***"
   ]
  },
  {
   "cell_type": "markdown",
   "metadata": {},
   "source": [
    "- the quantities ``LOWER`` and ``UPPER`` and ``STEP`` are symbolic constants [2]"
   ]
  },
  {
   "cell_type": "markdown",
   "metadata": {},
   "source": [
    "- these are not variables so do not appear in declarations and are conventionally written in upper case so can be readily distinguished from lower case variable names - note there is no ``;`` at the end [2]"
   ]
  },
  {
   "cell_type": "code",
   "execution_count": 23,
   "metadata": {},
   "outputs": [],
   "source": [
    "#define LOWER 0 // table lower limit\n",
    "#define UPPER 300 //  table upper limit\n",
    "#define STEP 20 // table step size"
   ]
  },
  {
   "cell_type": "code",
   "execution_count": 24,
   "metadata": {},
   "outputs": [
    {
     "name": "stdout",
     "output_type": "stream",
     "text": [
      "Fahrenheit - Celsius\n",
      "   300        148.9\n",
      "   280        137.8\n",
      "   260        126.7\n",
      "   240        115.6\n",
      "   220        104.4\n",
      "   200         93.3\n",
      "   180         82.2\n",
      "   160         71.1\n",
      "   140         60.0\n",
      "   120         48.9\n",
      "   100         37.8\n",
      "    80         26.7\n",
      "    60         15.6\n",
      "    40          4.4\n",
      "    20         -6.7\n",
      "     0        -17.8\n"
     ]
    }
   ],
   "source": [
    "printf(\"Fahrenheit - Celsius\\n\");\n",
    "for (nFahr=UPPER; nFahr>=LOWER; nFahr-=STEP)\n",
    "    printf(\"%6d%13.1f\\n\",nFahr,(5.0/9.0)*(nFahr-32));"
   ]
  },
  {
   "cell_type": "markdown",
   "metadata": {},
   "source": [
    "< [Table of Contents](#top) | [References](#references) >\n",
    "<a id=\"introduction15CharacterInputandOutput\"></a>\n",
    "***\n",
    "### 1.5 Character Input and Output\n",
    "***"
   ]
  },
  {
   "cell_type": "markdown",
   "metadata": {},
   "source": [
    "- can write a surprising amount of useful code without knowing anything more about input and output using ``getchar`` and ``putchar`` [2]"
   ]
  },
  {
   "cell_type": "markdown",
   "metadata": {},
   "source": [
    "- a character on the keyboard or screen like everything else is stored internally just as a bit pattern - type ``char`` is specifically meant for storing such character data but any type ``int`` can be used (``int`` is used for a subtle but important reason) [2]"
   ]
  },
  {
   "cell_type": "markdown",
   "metadata": {},
   "source": [
    "- the problem is distinguishing the end of the input from valid data - ``getchar`` returns a distinctive value when there is no more input (a value that cannot be confused with any real character - ``EOF``) [2]"
   ]
  },
  {
   "cell_type": "markdown",
   "metadata": {},
   "source": [
    "- creating a program that copies its input to its output one character at a time [2]"
   ]
  },
  {
   "cell_type": "markdown",
   "metadata": {},
   "source": [
    "- variable ``c`` must be declared a type big enough to hold any value that ``getchar`` returns and big enough to hold ``EOF`` therefore using ``int`` [2]"
   ]
  },
  {
   "cell_type": "markdown",
   "metadata": {},
   "source": [
    "- on linux and OS X the character to input to cause an ``EOF`` is ``Ctrl-D`` and for windows its ``Ctrl-Z`` [[stackoverflow.com](https://stackoverflow.com/questions/1782080/what-is-eof-in-the-c-programming-language)]"
   ]
  },
  {
   "cell_type": "code",
   "execution_count": 25,
   "metadata": {},
   "outputs": [
    {
     "name": "stdout",
     "output_type": "stream",
     "text": [
      "#include <stdio.h>\r\n",
      "int main()\r\n",
      "{\r\n",
      "    int c;\r\n",
      "    c=getchar();\r\n",
      "    while (c!=EOF)\r\n",
      "    {\r\n",
      "        putchar(c);\r\n",
      "        c=getchar();\r\n",
      "    }\r\n",
      "}\r\n",
      "\n"
     ]
    }
   ],
   "source": [
    "%%shell\n",
    "cat ./rc/cpl/15CharacterInputOutput0.c"
   ]
  },
  {
   "cell_type": "markdown",
   "metadata": {},
   "source": [
    "- any assignment is an expression and has a value which is the value of the LHS after the assignment - an assignment can appear as part of a larger expression [2]"
   ]
  },
  {
   "cell_type": "markdown",
   "metadata": {},
   "source": [
    "- the assignment of a character to variable ``c`` can be put inside the test part of a ``while`` [2]"
   ]
  },
  {
   "cell_type": "markdown",
   "metadata": {},
   "source": [
    "- the ``while`` gets a character and assigns it to ``c`` then tests whether the character was the ``EOF`` [2]"
   ]
  },
  {
   "cell_type": "markdown",
   "metadata": {},
   "source": [
    "- centralising the input with only one reference to getchar - shrinks the program (more compact) and once the idiom is mastered is easier to read [2]"
   ]
  },
  {
   "cell_type": "code",
   "execution_count": 26,
   "metadata": {},
   "outputs": [
    {
     "name": "stdout",
     "output_type": "stream",
     "text": [
      "#include <stdio.h>\r\n",
      "int main()\r\n",
      "{\r\n",
      "    int c;\r\n",
      "    while ((c=getchar())!=EOF) // != higher precedence\r\n",
      "    {\r\n",
      "        putchar(c);\r\n",
      "    }\r\n",
      "}\r\n",
      "\n"
     ]
    }
   ],
   "source": [
    "%%shell\n",
    "cat ./rc/cpl/15CharacterInputOutput1.c"
   ]
  },
  {
   "cell_type": "markdown",
   "metadata": {},
   "source": [
    "< [Table of Contents](#top) | [References](#references) >\n",
    "<a id=\"abstract16\"></a>\n",
    "***\n",
    "###### Exercise 1-6. Verify that the expression getchar() != EOF is 0 or 1.\n",
    "***"
   ]
  },
  {
   "cell_type": "markdown",
   "metadata": {},
   "source": [
    "- format specifier ``%d`` is a signed decimal integer whereas ``%i`` specifies integer - returns $1$ if character or $0$ if ``EOF`` [2]"
   ]
  },
  {
   "cell_type": "code",
   "execution_count": 27,
   "metadata": {},
   "outputs": [
    {
     "name": "stdout",
     "output_type": "stream",
     "text": [
      "(int) -1\n"
     ]
    }
   ],
   "source": [
    "getchar()"
   ]
  },
  {
   "cell_type": "code",
   "execution_count": 28,
   "metadata": {},
   "outputs": [
    {
     "name": "stdout",
     "output_type": "stream",
     "text": [
      "(bool) false\n"
     ]
    }
   ],
   "source": [
    "getchar()!=EOF"
   ]
  },
  {
   "cell_type": "code",
   "execution_count": 29,
   "metadata": {},
   "outputs": [
    {
     "name": "stdout",
     "output_type": "stream",
     "text": [
      "0\n"
     ]
    }
   ],
   "source": [
    "printf(\"%i\\n\",getchar()!=EOF);"
   ]
  },
  {
   "cell_type": "markdown",
   "metadata": {},
   "source": [
    "< [Table of Contents](#top) | [References](#references) >\n",
    "<a id=\"abstract17\"></a>\n",
    "***\n",
    "###### Exercise 1-7. Write a program to print the value of EOF.\n",
    "***"
   ]
  },
  {
   "cell_type": "code",
   "execution_count": 30,
   "metadata": {},
   "outputs": [
    {
     "name": "stdout",
     "output_type": "stream",
     "text": [
      "(int) -1\n"
     ]
    }
   ],
   "source": [
    "EOF"
   ]
  },
  {
   "cell_type": "code",
   "execution_count": 31,
   "metadata": {},
   "outputs": [
    {
     "name": "stdout",
     "output_type": "stream",
     "text": [
      "-1\n"
     ]
    }
   ],
   "source": [
    "printf(\"%i\\n\",EOF);"
   ]
  },
  {
   "cell_type": "markdown",
   "metadata": {},
   "source": [
    "< [Table of Contents](#top) | [References](#references) >\n",
    "<a id=\"CharacterInputOutputCharacterCounting\"></a>\n",
    "***\n",
    "###### Character Counting\n",
    "***"
   ]
  },
  {
   "cell_type": "markdown",
   "metadata": {},
   "source": [
    "- count characters in input (note count for ``[LINE FEED]``) [2]"
   ]
  },
  {
   "cell_type": "markdown",
   "metadata": {},
   "source": [
    "- accumulating count in variable ``n`` of type ``long`` instead of ``int`` (conversion specification ``%ld`` tells ``printf`` that the corresponding argument is a ``long`` integer [2]"
   ]
  },
  {
   "cell_type": "markdown",
   "metadata": {},
   "source": [
    "- note if the input contains no characters then the ``while`` test fails on the very first call to ``getchar`` and the program produces $0$ (the correct answer) [2]"
   ]
  },
  {
   "cell_type": "code",
   "execution_count": 32,
   "metadata": {},
   "outputs": [
    {
     "name": "stdout",
     "output_type": "stream",
     "text": [
      "#include <stdio.h>\r\n",
      "int main()\r\n",
      "{\r\n",
      "    long n=0;\r\n",
      "    while (getchar()!=EOF)\r\n",
      "        ++n;\r\n",
      "    printf(\"%ld\\n\",n);    \r\n",
      "}\r\n",
      "\n"
     ]
    }
   ],
   "source": [
    "%%shell\n",
    "cat ./rc/cpl/15CharacterInputOutput2.c"
   ]
  },
  {
   "cell_type": "markdown",
   "metadata": {},
   "source": [
    "- to cope with bigger numbers using a ``double`` precision ``float`` and using a ``for`` statement instead of a ``while`` [2]"
   ]
  },
  {
   "cell_type": "markdown",
   "metadata": {},
   "source": [
    "- conversion specification ``%f`` tells ``printf`` that the corresponding argument is a ``float`` and ``double`` - using ``%.0f`` suppresses printing of the decimal point and the fraction part (zero) [2]"
   ]
  },
  {
   "cell_type": "markdown",
   "metadata": {},
   "source": [
    "- the body of the ``for`` loop is empty because all the work is done in the test and increment part - the grammatical rules of ``C`` require that a ``for`` statement has a body (the isolated semicolon is called a ``null statement`` to satisfy this requirement) [2] "
   ]
  },
  {
   "cell_type": "markdown",
   "metadata": {},
   "source": [
    "- note if the input contains no characters then the ``for`` test fails on the very first call to ``getchar`` and the program produces $0$ (the correct answer) [2]"
   ]
  },
  {
   "cell_type": "code",
   "execution_count": 33,
   "metadata": {},
   "outputs": [
    {
     "name": "stdout",
     "output_type": "stream",
     "text": [
      "#include <stdio.h>\r\n",
      "int main()\r\n",
      "{\r\n",
      "    double n;\r\n",
      "    for (n=0;getchar()!=EOF;++n)\r\n",
      "        ;\r\n",
      "    printf(\"%.0f\\n\",n);\r\n",
      "}\r\n",
      "\n"
     ]
    }
   ],
   "source": [
    "%%shell\n",
    "cat ./rc/cpl/15CharacterInputOutput3.c"
   ]
  },
  {
   "cell_type": "markdown",
   "metadata": {},
   "source": [
    "< [Table of Contents](#top) | [References](#references) >\n",
    "<a id=\"CharacterInputOutputLineCounting\"></a>\n",
    "***\n",
    "###### Line Counting\n",
    "***"
   ]
  },
  {
   "cell_type": "markdown",
   "metadata": {},
   "source": [
    "- ``'\\n'`` (single quotes) is the value of the newline character (``[LINE FEED]``) which is $10$ in ASCII and is a single character (in expressions is just an integer) [2]"
   ]
  },
  {
   "cell_type": "markdown",
   "metadata": {},
   "source": [
    "- ``\"\\n\"`` is a string constant that happens to contain only one character [2]"
   ]
  },
  {
   "cell_type": "markdown",
   "metadata": {},
   "source": [
    "- program to count input lines [2]"
   ]
  },
  {
   "cell_type": "code",
   "execution_count": 34,
   "metadata": {
    "scrolled": true
   },
   "outputs": [
    {
     "name": "stdout",
     "output_type": "stream",
     "text": [
      "#include <stdio.h>\r\n",
      "int main()\r\n",
      "{\r\n",
      "    int c,l;\r\n",
      "    l=0;\r\n",
      "    while ((c=getchar())!=EOF)\r\n",
      "        if (c=='\\n') // \"\\n\" string constant\r\n",
      "            ++l;\r\n",
      "    printf(\"%d\\n\",l);\r\n",
      "}\r\n",
      "\n"
     ]
    }
   ],
   "source": [
    "%%shell\n",
    "cat ./rc/cpl/15CharacterInputOutput4.c"
   ]
  },
  {
   "cell_type": "markdown",
   "metadata": {},
   "source": [
    "< [Table of Contents](#top) | [References](#references) >\n",
    "<a id=\"abstract18\"></a>\n",
    "***\n",
    "###### Exercise 1-8. Write a program to count blanks, tabs, and newlines.\n",
    "***"
   ]
  },
  {
   "cell_type": "code",
   "execution_count": 35,
   "metadata": {},
   "outputs": [
    {
     "name": "stdout",
     "output_type": "stream",
     "text": [
      "#include <stdio.h>\r\n",
      "int main()\r\n",
      "{\r\n",
      "    int c,b=0,t=0,l=0;\r\n",
      "    while ((c=getchar())!=EOF)\r\n",
      "    {\r\n",
      "        if (c==' ')\r\n",
      "            ++b;\r\n",
      "        else if (c=='\\t')\r\n",
      "            ++t;\r\n",
      "        else if (c=='\\n')\r\n",
      "            ++l;\r\n",
      "    }\r\n",
      "    printf(\"Blanks: %d\\nTabs: %d\\nNewline: %d\\n\",b,t,l);\r\n",
      "}\r\n",
      "\n"
     ]
    }
   ],
   "source": [
    "%%shell\n",
    "cat ./rc/cpl/ex/108.c"
   ]
  },
  {
   "cell_type": "markdown",
   "metadata": {},
   "source": [
    "< [Table of Contents](#top) | [References](#references) >\n",
    "<a id=\"abstract19\"></a>\n",
    "***\n",
    "###### Exercise 1-9.  Write a program to copy its input to its output, replacing each string of one or more blanks by a single blank.\n",
    "***"
   ]
  },
  {
   "cell_type": "markdown",
   "metadata": {},
   "source": [
    "- ``while`` the current character not end-of-file (``getchar``) [2]"
   ]
  },
  {
   "cell_type": "markdown",
   "metadata": {},
   "source": [
    "- if current or previous not blank (character constant or decimal $32$) then display current character (``putchar``) [2]"
   ]
  },
  {
   "cell_type": "markdown",
   "metadata": {},
   "source": [
    "- capture the current character in the previous character [2]"
   ]
  },
  {
   "cell_type": "code",
   "execution_count": 36,
   "metadata": {},
   "outputs": [
    {
     "name": "stdout",
     "output_type": "stream",
     "text": [
      "(int) 32\n"
     ]
    }
   ],
   "source": [
    "int current=' '"
   ]
  },
  {
   "cell_type": "code",
   "execution_count": 37,
   "metadata": {},
   "outputs": [
    {
     "name": "stdout",
     "output_type": "stream",
     "text": [
      "(char) ' '\n"
     ]
    }
   ],
   "source": [
    "char previous=32"
   ]
  },
  {
   "cell_type": "code",
   "execution_count": 38,
   "metadata": {},
   "outputs": [
    {
     "name": "stdout",
     "output_type": "stream",
     "text": [
      "#include <stdio.h>\r\n",
      "int main()\r\n",
      "{\r\n",
      "    int current; // character constant [SPACE]\r\n",
      "    int previous; // decimal 32 [SPACE]\r\n",
      "    while((current=getchar())!=EOF)\r\n",
      "    {\r\n",
      "        if (current!=' '||previous!=32)\r\n",
      "            putchar(current);\r\n",
      "        previous=current;\r\n",
      "    }\r\n",
      "}\r\n",
      "\n"
     ]
    }
   ],
   "source": [
    "%%shell\n",
    "cat ./rc/cpl/ex/109.c"
   ]
  },
  {
   "cell_type": "markdown",
   "metadata": {},
   "source": [
    "< [Table of Contents](#top) | [References](#references) >\n",
    "<a id=\"abstract110\"></a>\n",
    "***\n",
    "###### Exercise 1-10. Write a program to copy its input to its output, replacing each tab by \\t, each backspace by \\b, and each backslash by \\\\\\\\. This makes tabs and backspaces visible in an unambiguous way.\n",
    "***"
   ]
  },
  {
   "cell_type": "code",
   "execution_count": 39,
   "metadata": {},
   "outputs": [
    {
     "name": "stdout",
     "output_type": "stream",
     "text": [
      "(int) 9\n"
     ]
    }
   ],
   "source": [
    "int c='\\t'"
   ]
  },
  {
   "cell_type": "code",
   "execution_count": 40,
   "metadata": {},
   "outputs": [
    {
     "name": "stdout",
     "output_type": "stream",
     "text": [
      "(char) '\\t'\n"
     ]
    }
   ],
   "source": [
    "char c=9"
   ]
  },
  {
   "cell_type": "code",
   "execution_count": 41,
   "metadata": {},
   "outputs": [
    {
     "name": "stdout",
     "output_type": "stream",
     "text": [
      "(int) 92\n"
     ]
    }
   ],
   "source": [
    "int c='\\\\'"
   ]
  },
  {
   "cell_type": "code",
   "execution_count": 42,
   "metadata": {},
   "outputs": [
    {
     "name": "stdout",
     "output_type": "stream",
     "text": [
      "(char) '\\'\n"
     ]
    }
   ],
   "source": [
    "char c=92"
   ]
  },
  {
   "cell_type": "code",
   "execution_count": 43,
   "metadata": {},
   "outputs": [
    {
     "name": "stdout",
     "output_type": "stream",
     "text": [
      "(int) 8\n"
     ]
    }
   ],
   "source": [
    "int c='\\b'"
   ]
  },
  {
   "cell_type": "code",
   "execution_count": 44,
   "metadata": {},
   "outputs": [
    {
     "name": "stdout",
     "output_type": "stream",
     "text": [
      "(char) '0x08'\n"
     ]
    }
   ],
   "source": [
    "char c=8"
   ]
  },
  {
   "cell_type": "code",
   "execution_count": 45,
   "metadata": {},
   "outputs": [
    {
     "name": "stdout",
     "output_type": "stream",
     "text": [
      "#include <stdio.h>\r\n",
      "int main()\r\n",
      "{\r\n",
      "    int c; // decimal 0 [NULL]\r\n",
      "    while((c=getchar())!=EOF) // decimal -1 EOF\r\n",
      "    {\r\n",
      "        if (c==9) // decimal 9 [HORIZONTAL TAB]\r\n",
      "        {\r\n",
      "            putchar(92); // decimal 92 '\\'\r\n",
      "            c='t';\r\n",
      "        }\r\n",
      "        else if (c=='\\b') // decimal 8 [BACKSPACE]\r\n",
      "        {\r\n",
      "            putchar(92);\r\n",
      "            c='b';\r\n",
      "        }\r\n",
      "        else if (c=='\\\\')\r\n",
      "        {\r\n",
      "            putchar(92);\r\n",
      "            c='\\\\';\r\n",
      "        }\r\n",
      "        putchar(c);\r\n",
      "    }\r\n",
      "}\r\n",
      "\n"
     ]
    }
   ],
   "source": [
    "%%shell\n",
    "cat ./rc/cpl/ex/110.c"
   ]
  },
  {
   "cell_type": "markdown",
   "metadata": {},
   "source": [
    "< [Table of Contents](#top) | [References](#references) >\n",
    "<a id=\"CharacterInputOutputWordCounting\"></a>\n",
    "***\n",
    "###### Word Counting\n",
    "***"
   ]
  },
  {
   "cell_type": "markdown",
   "metadata": {},
   "source": [
    "- program that counts lines and words and characters with the loose definition that a word is any sequence of characters that does not contain a blank or tab or newline [2]"
   ]
  },
  {
   "cell_type": "markdown",
   "metadata": {},
   "source": [
    "- every time the program encounters the first character of a word it counts one more word [2]"
   ]
  },
  {
   "cell_type": "markdown",
   "metadata": {},
   "source": [
    "- using the symbolic constants ``IN`` and ``OUT`` instead of the literal values $1$ and $0$ (makes the program more readable) - this makes it easier to make extensive changes in programs where magic numbers appear only as symbolic constants [2] "
   ]
  },
  {
   "cell_type": "code",
   "execution_count": 46,
   "metadata": {},
   "outputs": [],
   "source": [
    "#define IN 1 // inside a word\n",
    "#define OUT 0 // outside a word"
   ]
  },
  {
   "cell_type": "code",
   "execution_count": 47,
   "metadata": {},
   "outputs": [
    {
     "name": "stdout",
     "output_type": "stream",
     "text": [
      "(int) 1\n"
     ]
    }
   ],
   "source": [
    "IN"
   ]
  },
  {
   "cell_type": "code",
   "execution_count": 48,
   "metadata": {},
   "outputs": [
    {
     "name": "stdout",
     "output_type": "stream",
     "text": [
      "(int) 0\n"
     ]
    }
   ],
   "source": [
    "OUT"
   ]
  },
  {
   "cell_type": "markdown",
   "metadata": {},
   "source": [
    "- variable ``state`` records whether the program is currently in a word or not [2]"
   ]
  },
  {
   "cell_type": "code",
   "execution_count": 49,
   "metadata": {},
   "outputs": [],
   "source": [
    "int state=OUT; // initially not word"
   ]
  },
  {
   "cell_type": "code",
   "execution_count": 50,
   "metadata": {},
   "outputs": [
    {
     "name": "stdout",
     "output_type": "stream",
     "text": [
      "(int) 0\n"
     ]
    }
   ],
   "source": [
    "state"
   ]
  },
  {
   "cell_type": "markdown",
   "metadata": {},
   "source": [
    "- ``while`` gets a character and assigns it to ``c`` then tests whether the character is ``EOF`` [2]"
   ]
  },
  {
   "cell_type": "markdown",
   "metadata": {},
   "source": [
    "- ``if`` the variable ``c`` is blank ``' '`` there is no need to test whether it is a ``'\\n'`` or ``'\\t'`` so these tests are not made (not particularly important but is significant in more complicated situations) [2]"
   ]
  },
  {
   "cell_type": "code",
   "execution_count": 51,
   "metadata": {},
   "outputs": [
    {
     "name": "stdout",
     "output_type": "stream",
     "text": [
      "cat: ./rc/cpl/15CharacterInputOutput5.c: No such file or directory\r\n",
      "\n"
     ]
    }
   ],
   "source": [
    "%%shell\n",
    "cat ./rc/cpl/15CharacterInputOutput5.c"
   ]
  },
  {
   "cell_type": "markdown",
   "metadata": {},
   "source": [
    "< [Table of Contents](#top) | [References](#references) >\n",
    "<a id=\"abstract111\"></a>\n",
    "***\n",
    "###### Exercise 1-11. How would you test the word count program? What kinds of input are most likely to uncover bugs if there are any?\n",
    "***"
   ]
  },
  {
   "cell_type": "markdown",
   "metadata": {},
   "source": [
    "- input most likely to uncover bugs include inputs such as hyphenated words or words with apostrophise etc (counted as one word) given the definition of a word as characters grouped together [2]"
   ]
  },
  {
   "cell_type": "markdown",
   "metadata": {},
   "source": [
    "< [Table of Contents](#top) | [References](#references) >\n",
    "<a id=\"abstract112\"></a>\n",
    "***\n",
    "###### Exercise 1-12. Write a program that prints its input one word per line.\n",
    "***"
   ]
  },
  {
   "cell_type": "code",
   "execution_count": 52,
   "metadata": {},
   "outputs": [
    {
     "name": "stdout",
     "output_type": "stream",
     "text": [
      "#include <stdio.h>\r\n",
      "#define IN 1 // inside a word\r\n",
      "#define OUT 0 // outside a word\r\n",
      "int main()\r\n",
      "{\r\n",
      "    int state=OUT;\r\n",
      "    int c,nc,nl,nWord;\r\n",
      "    nc=nl=nWord=0;\r\n",
      "    while ((c=getchar())!=EOF)\r\n",
      "    {\r\n",
      "        ++nc; // add character count\r\n",
      "        if (c=='\\n')\r\n",
      "            ++nl; // add line count\r\n",
      "        if (c==' ' || c =='\\n' || c=='\\t')\r\n",
      "            state=OUT; // not a word\r\n",
      "        else if (state==OUT)\r\n",
      "        {\r\n",
      "            state=IN; // is a word\r\n",
      "            ++nWord; // add word count\r\n",
      "        }\r\n",
      "    }\r\n",
      "    printf(\"Characters: %d\\nLines: %1d\\nWords:%d\\n\",nc,nl,nWord);\r\n",
      "}\r\n",
      "\n"
     ]
    }
   ],
   "source": [
    "%%shell\n",
    "cat ./rc/cpl/ex/112.c"
   ]
  },
  {
   "cell_type": "markdown",
   "metadata": {},
   "source": [
    "***\n",
    "## END"
   ]
  },
  {
   "cell_type": "markdown",
   "metadata": {},
   "source": [
    "< [Table of Contents](#top) | [Abstract](#abstract) | [Solution](#solution) | [Conclusion](#conclusion) | [References](#references) >\n",
    "<a id=\"introduction\"></a>\n",
    "***\n",
    "## Introduction\n",
    "***"
   ]
  },
  {
   "cell_type": "markdown",
   "metadata": {},
   "source": [
    "< [Table of Contents](#top) | [References](#references) >\n",
    "<a id=\"#\"></a>\n",
    "***\n",
    "### Data Type\n",
    "***"
   ]
  },
  {
   "cell_type": "markdown",
   "metadata": {},
   "source": [
    "&#x1F6A7;"
   ]
  },
  {
   "cell_type": "markdown",
   "metadata": {},
   "source": [
    "< [Table of Contents](#top) | [References](#references) >\n",
    "<a id=\"introductionDataTypessizeof\"></a>\n",
    "***\n",
    "###### ``sizeof``\n",
    "***"
   ]
  },
  {
   "cell_type": "markdown",
   "metadata": {},
   "source": [
    "&#x1F6A7;"
   ]
  },
  {
   "cell_type": "markdown",
   "metadata": {},
   "source": [
    "< [Table of Contents](#top) | [References](#references) >\n",
    "<a id=\"introductionDataTypesenum\"></a>\n",
    "***\n",
    "###### ``enum``\n",
    "***"
   ]
  },
  {
   "cell_type": "markdown",
   "metadata": {},
   "source": [
    "- an enumerated data type is used to describe a set of integer values [1]"
   ]
  },
  {
   "cell_type": "markdown",
   "metadata": {},
   "source": [
    "- the data type ``dtResponse`` is called the enumeration tag (optional like a structure tag) [1]"
   ]
  },
  {
   "cell_type": "markdown",
   "metadata": {},
   "source": [
    "- names enclosed in braces are the integer constants ``0`` and ``1`` and ``2`` and ``3`` respectively [2]"
   ]
  },
  {
   "cell_type": "markdown",
   "metadata": {},
   "source": [
    "- data type ``dtResponse`` declared to have one of four possible values [1]"
   ]
  },
  {
   "cell_type": "code",
   "execution_count": 53,
   "metadata": {},
   "outputs": [],
   "source": [
    "enum dtResponse\n",
    "{\n",
    "    no,yes,none,unsure\n",
    "}"
   ]
  },
  {
   "cell_type": "markdown",
   "metadata": {},
   "source": [
    "- enumerated variable ``vAnswer`` is of the data type ``dtResponse`` [1]"
   ]
  },
  {
   "cell_type": "code",
   "execution_count": 54,
   "metadata": {},
   "outputs": [],
   "source": [
    "enum dtResponse vAnswer;"
   ]
  },
  {
   "cell_type": "code",
   "execution_count": 55,
   "metadata": {},
   "outputs": [
    {
     "name": "stdout",
     "output_type": "stream",
     "text": [
      "(enum dtResponse) (no) : (unsigned int) 0\n"
     ]
    }
   ],
   "source": [
    "vAnswer"
   ]
  },
  {
   "cell_type": "code",
   "execution_count": 56,
   "metadata": {},
   "outputs": [
    {
     "name": "stdout",
     "output_type": "stream",
     "text": [
      "(enum dtResponse) (yes) : (unsigned int) 1\n"
     ]
    }
   ],
   "source": [
    "vAnswer=yes"
   ]
  },
  {
   "cell_type": "markdown",
   "metadata": {},
   "source": [
    "- alternative [1]"
   ]
  },
  {
   "cell_type": "code",
   "execution_count": 57,
   "metadata": {},
   "outputs": [],
   "source": [
    "enum {no,yes,none,unsure} altAnswer;"
   ]
  },
  {
   "cell_type": "code",
   "execution_count": 58,
   "metadata": {},
   "outputs": [
    {
     "name": "stdout",
     "output_type": "stream",
     "text": [
      "(enum (anonymous)) (no) : (unsigned int) 0\n"
     ]
    }
   ],
   "source": [
    "altAnswer"
   ]
  },
  {
   "cell_type": "code",
   "execution_count": 59,
   "metadata": {},
   "outputs": [
    {
     "name": "stdout",
     "output_type": "stream",
     "text": [
      "#include <stdio.h>\r\n",
      "int main()\r\n",
      "{\r\n",
      "    enum res{no,yes,none,unsure}; // data type res\r\n",
      "    enum res ans; // variable of res\r\n",
      "    puts(\"Enter - 0 (no) - 1 (yes) - 2 (none) - 3 (unsure)\");\r\n",
      "    scanf(\"%d\",&ans);\r\n",
      "    printf(\"You entered: %d\\n\",ans);\r\n",
      "    switch(ans)\r\n",
      "    {\r\n",
      "        case 0:\r\n",
      "            puts(\"NO!\");\r\n",
      "            break;\r\n",
      "        case 1:\r\n",
      "            puts(\"YES!\");\r\n",
      "            break;\r\n",
      "        case 2:\r\n",
      "            puts(\"NONE!\");\r\n",
      "            break;\r\n",
      "        case 3:\r\n",
      "            puts(\"UNSURE!\");\r\n",
      "            break;\r\n",
      "    } \r\n",
      "    return 0;\r\n",
      "}\r\n",
      "\n"
     ]
    }
   ],
   "source": [
    "%%shell\n",
    "cat ./rc/tic/A01_Data-Types_Enum_Syn/e.c"
   ]
  },
  {
   "cell_type": "markdown",
   "metadata": {},
   "source": [
    "- the purpose of the ``enum`` data type is to improve readability of the program - can specify any value by including required value within brace [1]"
   ]
  },
  {
   "cell_type": "code",
   "execution_count": 60,
   "metadata": {},
   "outputs": [],
   "source": [
    "enum {no=-1,yes=0,none=1,unsure=2} vAnswer;"
   ]
  },
  {
   "cell_type": "code",
   "execution_count": 61,
   "metadata": {},
   "outputs": [
    {
     "name": "stdout",
     "output_type": "stream",
     "text": [
      "(enum (anonymous)) (yes) : (int) 0\n"
     ]
    }
   ],
   "source": [
    "vAnswer"
   ]
  },
  {
   "cell_type": "markdown",
   "metadata": {},
   "source": [
    "***\n",
    "## END"
   ]
  },
  {
   "cell_type": "markdown",
   "metadata": {},
   "source": [
    "< [Table of Contents](#top) | [Abstract](#abstract) | [Introduction](#introduction) | [Conclusion](#conclusion) | [References](#references) >\n",
    "<a id=\"solution\"></a>\n",
    "***\n",
    "## Solution\n",
    "***"
   ]
  },
  {
   "cell_type": "markdown",
   "metadata": {},
   "source": [
    "&#x1F6A7;"
   ]
  },
  {
   "cell_type": "markdown",
   "metadata": {},
   "source": [
    "***\n",
    "## END"
   ]
  },
  {
   "cell_type": "markdown",
   "metadata": {},
   "source": [
    "< [Table of Contents](#top) | [Abstract](#abstract) | [Introduction](#introduction) | [Solution](#solution) | [References](#references) >\n",
    "<a id=\"conclusion\"></a>\n",
    "***\n",
    "## Conclusion\n",
    "***"
   ]
  },
  {
   "cell_type": "markdown",
   "metadata": {},
   "source": [
    "&#x1F6A7;"
   ]
  },
  {
   "cell_type": "markdown",
   "metadata": {},
   "source": [
    "***\n",
    "## END"
   ]
  },
  {
   "cell_type": "markdown",
   "metadata": {},
   "source": [
    "< [Table of Contents](#top) | [Abstract](#abstract) | [Introduction](#introduction) | [Solution](#solution) | [Conclusion](#conclusion) | [References](#references) >\n",
    "<a id=\"appendix\"></a>\n",
    "***\n",
    "## Appendix\n",
    "***"
   ]
  },
  {
   "cell_type": "markdown",
   "metadata": {},
   "source": [
    "< [Table of Contents](#top) | [References](#references) >\n",
    "<a id=\"statement\"></a>\n",
    "***\n",
    "### Statement\n",
    "***"
   ]
  },
  {
   "cell_type": "markdown",
   "metadata": {},
   "source": [
    "- statements can contains one or more expressions - an expression being a function call or other operator(s) (mathematical/bitwise etc) - can be combined in a single statement although its important to use good judgement and not make things too complex (hard to read) [1]"
   ]
  },
  {
   "cell_type": "markdown",
   "metadata": {},
   "source": [
    "- its important from a readability point of view to put statements on a single line although sometimes that does not work (sometimes statements are to long and span multiple lines) - ``C`` does not care where statements are put [1]"
   ]
  },
  {
   "cell_type": "markdown",
   "metadata": {},
   "source": [
    "- the fact that statements on are a line by themselves so that they could be readable means nothing to the compiler - can write a whole program on one line albeit dumb thing to do - the point is that ``C`` is a free format syntax language whereby a line means nothing - Fortran on the otherhand is a little different whereby a line is very important and even column numbers are important [1]"
   ]
  },
  {
   "cell_type": "markdown",
   "metadata": {},
   "source": [
    "< [Table of Contents](#top) | [References](#references) >\n",
    "<a id=\"statementsCompound\"></a>\n",
    "***\n",
    "###### Compound\n",
    "***"
   ]
  },
  {
   "cell_type": "markdown",
   "metadata": {},
   "source": [
    "- every statement must end in a semicolon - this differs from some languages like Pascal where a semicolon is a statement separator meaning there is no need to have the last statement followed by a semicolon [1]"
   ]
  },
  {
   "cell_type": "markdown",
   "metadata": {},
   "source": [
    "- an exception is when a group of statements act almost as if it were a single statement - the ``if`` statement to make some decisions based on a condition being ``true`` then executing some statements - basically groups a number of statements together as a single unit called a compound statement - need to make a block out of it - a block being something that is surrounded with curly braces [1]"
   ]
  },
  {
   "cell_type": "markdown",
   "metadata": {},
   "source": [
    "- compound statements group single statements (end with semicolons) - the block of statements are surrounded by curly braces [1]"
   ]
  },
  {
   "cell_type": "markdown",
   "metadata": {},
   "source": [
    "***\n",
    "### END"
   ]
  },
  {
   "cell_type": "markdown",
   "metadata": {},
   "source": [
    "< [Table of Contents](#top) | [References](#references) >\n",
    "<a id=\"declaration\"></a>\n",
    "***\n",
    "### Declaration\n",
    "***"
   ]
  },
  {
   "cell_type": "markdown",
   "metadata": {},
   "source": [
    "- all variables must be declared before use and usually at the beginning of a function before any executable statements - a declaration announces the properties of variables consisting of a type name and a list of variables [2]"
   ]
  },
  {
   "cell_type": "markdown",
   "metadata": {},
   "source": [
    "***\n",
    "### END"
   ]
  },
  {
   "cell_type": "markdown",
   "metadata": {},
   "source": [
    "< [Table of Contents](#top) | [References](#references) >\n",
    "<a id=\"dataType\"></a>\n",
    "***\n",
    "### Data Type\n",
    "***"
   ]
  },
  {
   "cell_type": "markdown",
   "metadata": {},
   "source": [
    "- basic data types in ``C`` include ``char`` / ``int`` / ``float`` / ``double`` [2]"
   ]
  },
  {
   "cell_type": "markdown",
   "metadata": {},
   "source": [
    "< [Table of Contents](#top) | [References](#references) >\n",
    "<a id=\"dataTypesCharacter\"></a>\n",
    "***\n",
    "###### Character\n",
    "***"
   ]
  },
  {
   "cell_type": "markdown",
   "metadata": {},
   "source": [
    "- a single byte capable of holding one character in the local character set [2]"
   ]
  },
  {
   "cell_type": "markdown",
   "metadata": {},
   "source": [
    "< [Table of Contents](#top) | [References](#references) >\n",
    "<a id=\"intTypeschar\"></a>\n",
    "***\n",
    "###### ``char``\n",
    "***"
   ]
  },
  {
   "cell_type": "markdown",
   "metadata": {},
   "source": [
    "- special form of integer dealing with characters in a program - an underlying character set allows the encoding of each character to some number (the most commonly used is ASCII) [1]"
   ]
  },
  {
   "cell_type": "markdown",
   "metadata": {},
   "source": [
    "- lowercase $a$ encoded decimal $97$ - characters are really just numbers albeit treated differently in programs - how they are stored depends on the encoding used - ASCII being the most common (other types of encoding exist) [1]"
   ]
  },
  {
   "cell_type": "markdown",
   "metadata": {},
   "source": [
    "- a character written between single quotes represents an integer value equal to the numerical value of the character in the machines character set (called a character constant) [2]"
   ]
  },
  {
   "cell_type": "markdown",
   "metadata": {},
   "source": [
    "- ``'A'`` is a character constant and in the ASCII character set is $65$ (internal presentation of the character ``A``) [2]"
   ]
  },
  {
   "cell_type": "code",
   "execution_count": 62,
   "metadata": {},
   "outputs": [
    {
     "name": "stdout",
     "output_type": "stream",
     "text": [
      "(int) 65\n"
     ]
    }
   ],
   "source": [
    "int c='A';\n",
    "c"
   ]
  },
  {
   "cell_type": "code",
   "execution_count": 63,
   "metadata": {},
   "outputs": [
    {
     "name": "stdout",
     "output_type": "stream",
     "text": [
      "A = 65\n"
     ]
    }
   ],
   "source": [
    "printf(\"%c = %d\\n\",c,c);"
   ]
  },
  {
   "cell_type": "markdown",
   "metadata": {},
   "source": [
    "- EBCDIC (Extended Binary Coded Decimal Interchange Code) is considerably different than ASCII [1]"
   ]
  },
  {
   "cell_type": "markdown",
   "metadata": {},
   "source": [
    "- a standard which is a superset of ASCII called ISO 8859 includes some characters that are needed in other countries besides the United States [1]"
   ]
  },
  {
   "cell_type": "markdown",
   "metadata": {},
   "source": [
    "- Unicode (universal encoding) is a 16-bit encoding as opposed to 8-bit (ASCII / EBCDIC / ISO 8859) - purpose of Unicode is to allow a single encoding for languages throughout the modern business world - cannot just use ASCII and go to Japan (entirely different alphabet) - the same is true throughout the world (many different encodings) - to write programs that can adapt themselves to different encodings is extremely difficult and has been one of the biggest impediments to programs being made for the international market - Unicode is an attempt to solve the problem and it turns out that Unicode is the encoding used in ``Java`` [1]"
   ]
  },
  {
   "cell_type": "code",
   "execution_count": 64,
   "metadata": {},
   "outputs": [
    {
     "name": "stdout",
     "output_type": "stream",
     "text": [
      "(int) -128\n"
     ]
    }
   ],
   "source": [
    "CHAR_MIN"
   ]
  },
  {
   "cell_type": "code",
   "execution_count": 65,
   "metadata": {},
   "outputs": [
    {
     "name": "stdout",
     "output_type": "stream",
     "text": [
      "(int) 127\n"
     ]
    }
   ],
   "source": [
    "CHAR_MAX"
   ]
  },
  {
   "cell_type": "markdown",
   "metadata": {},
   "source": [
    "< [Table of Contents](#top) | [References](#references) >\n",
    "<a id=\"intTypeswchar_t\"></a>\n",
    "***\n",
    "###### ``wchar_t``\n",
    "***"
   ]
  },
  {
   "cell_type": "markdown",
   "metadata": {},
   "source": [
    "- no encoding is specified for ``C`` or ``C++`` (left open) [1]"
   ]
  },
  {
   "cell_type": "markdown",
   "metadata": {},
   "source": [
    "- for ``C`` and ``C++`` the basic character data type is ``char`` (byte) - thats pretty much all there is to it - think of a byte and thats what a ``char`` (narrow character) is - the basic ``C`` character does not allow the use of Unicode and for this reason have defined a new type which is available in both ``C`` and ``C++`` called ``wchar_t`` (wide character) [1]"
   ]
  },
  {
   "cell_type": "markdown",
   "metadata": {},
   "source": [
    "- some functions in the library deal with white characters - in most systems a white character is 16-bits and so it allows the use of Unicode but all of this needs to be supported by the compiler and by the platform [1]"
   ]
  },
  {
   "cell_type": "markdown",
   "metadata": {},
   "source": [
    "< [Table of Contents](#top) | [References](#references) >\n",
    "<a id=\"dataTypesCharacterStream\"></a>\n",
    "***\n",
    "###### Stream\n",
    "***"
   ]
  },
  {
   "cell_type": "markdown",
   "metadata": {},
   "source": [
    "- the model of input and output supported by the standard library is very simple - text input or output regardless of where it originates or where it goes to is dealt with as a streams of characters [2]"
   ]
  },
  {
   "cell_type": "markdown",
   "metadata": {},
   "source": [
    "- a ``text stream`` is a sequence of characters divided into lines - each line consists of zero or more characters followed by a newline character [2]"
   ]
  },
  {
   "cell_type": "markdown",
   "metadata": {},
   "source": [
    "- it is the responsibility of the library to make each input or output stream conform to this model - using the library there is no need to worry about how lines are represented outside the program [2]"
   ]
  },
  {
   "cell_type": "markdown",
   "metadata": {},
   "source": [
    "- the standard library provides several functions for reading or writing one character at a time of which ``getchar`` and ``putchar`` are the simplest [2]"
   ]
  },
  {
   "cell_type": "markdown",
   "metadata": {},
   "source": [
    "< [Table of Contents](#top) | [References](#references) >\n",
    "<a id=\"dataTypesCharacterStreamgetchar\"></a>\n",
    "***\n",
    "###### ``getchar``\n",
    "***"
   ]
  },
  {
   "cell_type": "markdown",
   "metadata": {},
   "source": [
    "- reads the next input character from a text stream and returns that as its value [2]"
   ]
  },
  {
   "cell_type": "markdown",
   "metadata": {},
   "source": [
    "- variable ``c`` contains the next character of input [2]\n",
    "\n",
    "```c\n",
    "c=getchar();\n",
    "```"
   ]
  },
  {
   "cell_type": "markdown",
   "metadata": {},
   "source": [
    "< [Table of Contents](#top) | [References](#references) >\n",
    "<a id=\"dataTypesCharacterStreamputchar\"></a>\n",
    "***\n",
    "###### ``putchar``\n",
    "***"
   ]
  },
  {
   "cell_type": "markdown",
   "metadata": {},
   "source": [
    "- prints a character each time it is called - prints the contents of the integer variable ``c`` as a character usually on the screen [2]\n",
    "\n",
    "```c\n",
    "putchar(c);\n",
    "```"
   ]
  },
  {
   "cell_type": "markdown",
   "metadata": {},
   "source": [
    "- calls to ``putchar`` and ``printf`` may be interleaved (the output appear in the order in which the calls are made) [2]"
   ]
  },
  {
   "cell_type": "markdown",
   "metadata": {},
   "source": [
    "< [Table of Contents](#top) | [References](#references) >\n",
    "<a id=\"dataTypesIntegers\"></a>\n",
    "***\n",
    "###### Integer\n",
    "***"
   ]
  },
  {
   "cell_type": "markdown",
   "metadata": {},
   "source": [
    "- fundamental data type and basic building blocks of all entities in a program [1]"
   ]
  },
  {
   "cell_type": "markdown",
   "metadata": {},
   "source": [
    "- integers come in different sizes in ``C`` which should not be surprising since its a systems programming language - the different sizes are for different purposes [1]"
   ]
  },
  {
   "cell_type": "markdown",
   "metadata": {},
   "source": [
    "- matches the word size of the machine - word refers to the number of bits processed by a computers CPU in one go (typically 64-bits) [1]"
   ]
  },
  {
   "cell_type": "markdown",
   "metadata": {},
   "source": [
    "< [Table of Contents](#top) | [References](#references) >\n",
    "<a id=\"intTypesint\"></a>\n",
    "***\n",
    "###### ``int``\n",
    "***"
   ]
  },
  {
   "cell_type": "markdown",
   "metadata": {},
   "source": [
    "- typically reflects the natural size of integers on the host machine [2]"
   ]
  },
  {
   "cell_type": "code",
   "execution_count": 66,
   "metadata": {},
   "outputs": [
    {
     "name": "stdout",
     "output_type": "stream",
     "text": [
      "(int) -2147483648\n"
     ]
    }
   ],
   "source": [
    "INT_MIN"
   ]
  },
  {
   "cell_type": "code",
   "execution_count": 67,
   "metadata": {},
   "outputs": [
    {
     "name": "stdout",
     "output_type": "stream",
     "text": [
      "(int) 2147483647\n"
     ]
    }
   ],
   "source": [
    "INT_MAX"
   ]
  },
  {
   "cell_type": "markdown",
   "metadata": {},
   "source": [
    "< [Table of Contents](#top) | [References](#references) >\n",
    "<a id=\"intTypesQualifier\"></a>\n",
    "***\n",
    "###### Qualifier\n",
    "***"
   ]
  },
  {
   "cell_type": "markdown",
   "metadata": {},
   "source": [
    "- there are a number of qualifiers that can be applied to the basic data types - the integer qualifiers are ``short`` and ``long`` with the word ``int`` typically omitted in such declarations [2]"
   ]
  },
  {
   "cell_type": "markdown",
   "metadata": {},
   "source": [
    "- on most platforms ``short`` and ``int`` and ``long`` are really not all distinct - will never see a platform where all three are distinct although possible [1]"
   ]
  },
  {
   "cell_type": "markdown",
   "metadata": {},
   "source": [
    "- the intent is that ``short`` and ``long`` should provide different lengths of integers where practical - ``int`` will normally be the natural size for a particular machine - ``short`` is often 16-bits long and ``int`` either 16 or 32-bits - each compiler is free to choose appropriate sizes for its own hardware subject only to the restriction that ``short`` and ``int`` are at least 16-bits and ``long`` is at least 32-bits and ``short`` is no longer than ``int`` which is no longer than ``long`` [2]"
   ]
  },
  {
   "cell_type": "markdown",
   "metadata": {},
   "source": [
    "< [Table of Contents](#top) | [References](#references) >\n",
    "<a id=\"intTypesshort\"></a>\n",
    "***\n",
    "###### ``short``\n",
    "***"
   ]
  },
  {
   "cell_type": "code",
   "execution_count": 68,
   "metadata": {},
   "outputs": [
    {
     "name": "stdout",
     "output_type": "stream",
     "text": [
      "(int) -32768\n"
     ]
    }
   ],
   "source": [
    "SHRT_MIN"
   ]
  },
  {
   "cell_type": "code",
   "execution_count": 69,
   "metadata": {},
   "outputs": [
    {
     "name": "stdout",
     "output_type": "stream",
     "text": [
      "(int) 32767\n"
     ]
    }
   ],
   "source": [
    "SHRT_MAX"
   ]
  },
  {
   "cell_type": "markdown",
   "metadata": {},
   "source": [
    "< [Table of Contents](#top) | [References](#references) >\n",
    "<a id=\"intTypeslong\"></a>\n",
    "***\n",
    "###### ``long``\n",
    "***"
   ]
  },
  {
   "cell_type": "markdown",
   "metadata": {},
   "source": [
    "- ``long`` integers are at least 32 bits although on some machines ``int`` and ``long`` are the same size [2]"
   ]
  },
  {
   "cell_type": "code",
   "execution_count": 70,
   "metadata": {},
   "outputs": [
    {
     "name": "stdout",
     "output_type": "stream",
     "text": [
      "(long) -9223372036854775808\n"
     ]
    }
   ],
   "source": [
    "LONG_MIN"
   ]
  },
  {
   "cell_type": "code",
   "execution_count": 71,
   "metadata": {},
   "outputs": [
    {
     "name": "stdout",
     "output_type": "stream",
     "text": [
      "(long) 9223372036854775807\n"
     ]
    }
   ],
   "source": [
    "LONG_MAX"
   ]
  },
  {
   "cell_type": "markdown",
   "metadata": {},
   "source": [
    "< [Table of Contents](#top) | [References](#references) >\n",
    "<a id=\"intSignedversusUnsigned\"></a>\n",
    "***\n",
    "###### Signed/Unsigned\n",
    "***"
   ]
  },
  {
   "cell_type": "markdown",
   "metadata": {},
   "source": [
    "- assuming most machines are 32-bit or bigger then this is the size that an integer would be [1]"
   ]
  },
  {
   "cell_type": "markdown",
   "metadata": {},
   "source": [
    "- the ``C`` standard guarantees that an integer will be at least 16-bits - compilers under ``DOS`` are 16-bits which means it can store a number up to $32767$ - reasonable to think that 16-bits would be $2^{16-1}$ which happens to be $65535$ but it turns out that integers can be ``signed`` and ``unsigned`` (by default ``signed``) [1]"
   ]
  },
  {
   "cell_type": "markdown",
   "metadata": {},
   "source": [
    "- ``Java`` only has ``signed`` integers [1]"
   ]
  },
  {
   "cell_type": "code",
   "execution_count": 72,
   "metadata": {},
   "outputs": [],
   "source": [
    "// 2**16-1 // python"
   ]
  },
  {
   "cell_type": "markdown",
   "metadata": {},
   "source": [
    "```\n",
    "65535\n",
    "```"
   ]
  },
  {
   "cell_type": "markdown",
   "metadata": {},
   "source": [
    "- qualifiers may be applied to ``char`` or any integer - unsigned numbers are always positive or zero and obey the laws of arithmetic modulo $2^n$ (where n is the number of data type bits) - if ``char`` is 8-bits then an ``unsigned char`` has values between $0$ and $255$ while ``signed char`` has values between $-128$ and $127$ (in a twos complement machine) - whether plain ``chars`` are ``signed`` or ``unsigned`` is machine-dependent but printable characters are always positive [2]"
   ]
  },
  {
   "cell_type": "code",
   "execution_count": 73,
   "metadata": {},
   "outputs": [],
   "source": [
    "// 2**8 // python include zero"
   ]
  },
  {
   "cell_type": "markdown",
   "metadata": {},
   "source": [
    "```\n",
    "256\n",
    "```"
   ]
  },
  {
   "cell_type": "markdown",
   "metadata": {},
   "source": [
    "< [Table of Contents](#top) | [References](#references) >\n",
    "<a id=\"dataTypesSingle-PrecisionFloatingPoint\"></a>\n",
    "***\n",
    "###### Single-Precision Floating Point\n",
    "***"
   ]
  },
  {
   "cell_type": "markdown",
   "metadata": {},
   "source": [
    "- as with integers the size of floating-point objects are implementation-defined - ``float`` and ``double`` and ``long double`` could represent one or two or three distinct sizes [2]"
   ]
  },
  {
   "cell_type": "markdown",
   "metadata": {},
   "source": [
    "< [Table of Contents](#top) | [References](#references) >\n",
    "<a id=\"dataTypesDoublePrecisionFloatingPointfloat\"></a>\n",
    "***\n",
    "###### ``float``\n",
    "***"
   ]
  },
  {
   "cell_type": "markdown",
   "metadata": {},
   "source": [
    "- a ``float`` is typically a 32-bit quantity with at least six significant digits and has a magnitude generally between about $10^{-38}$ and $10^{+38}$ [2]"
   ]
  },
  {
   "cell_type": "markdown",
   "metadata": {},
   "source": [
    "< [Table of Contents](#top) | [References](#references) >\n",
    "<a id=\"dataTypesDoublePrecisionFloatingPoint\"></a>\n",
    "***\n",
    "###### Double-Precision Floating Point\n",
    "***"
   ]
  },
  {
   "cell_type": "markdown",
   "metadata": {},
   "source": [
    "- as with integers the size of floating-point objects are implementation-defined - ``float`` and ``double`` and ``long double`` could represent one or two or three distinct sizes [2]"
   ]
  },
  {
   "cell_type": "markdown",
   "metadata": {},
   "source": [
    "< [Table of Contents](#top) | [References](#references) >\n",
    "<a id=\"dataTypesDoublePrecisionFloatingPointdouble\"></a>\n",
    "***\n",
    "###### ``double``\n",
    "***"
   ]
  },
  {
   "cell_type": "markdown",
   "metadata": {},
   "source": [
    "&#x1F6A7;"
   ]
  },
  {
   "cell_type": "markdown",
   "metadata": {},
   "source": [
    "< [Table of Contents](#top) | [References](#references) >\n",
    "<a id=\"dataTypesDoubleQualifier\"></a>\n",
    "***\n",
    "###### Qualifier\n",
    "***"
   ]
  },
  {
   "cell_type": "markdown",
   "metadata": {},
   "source": [
    "&#x1F6A7;"
   ]
  },
  {
   "cell_type": "markdown",
   "metadata": {},
   "source": [
    "< [Table of Contents](#top) | [References](#references) >\n",
    "<a id=\"dataTypesDoubleQualifierslong\"></a>\n",
    "***\n",
    "###### ``long``\n",
    "***"
   ]
  },
  {
   "cell_type": "markdown",
   "metadata": {},
   "source": [
    "- as with integers the size of floating-point objects are implementation-defined - ``float`` and ``double`` and ``long double`` could represent one or two or three distinct sizes - type ``long double`` specifies extended-precision floating point [2]"
   ]
  },
  {
   "cell_type": "markdown",
   "metadata": {},
   "source": [
    "< [Table of Contents](#top) | [References](#references) >\n",
    "<a id=\"dataTypeSymbolicConstant\"></a>\n",
    "***\n",
    "###### Symbolic Constant\n",
    "***"
   ]
  },
  {
   "cell_type": "markdown",
   "metadata": {},
   "source": [
    "- its bad practice to bury ``magic numbers`` in a program - these numbers convey little information to someone who might have to read the program later and are hard to change in a systematic way [2]"
   ]
  },
  {
   "cell_type": "markdown",
   "metadata": {},
   "source": [
    "- one way to deal with ``magic numbers`` is to give them meaningful names [2]"
   ]
  },
  {
   "cell_type": "markdown",
   "metadata": {},
   "source": [
    "< [Table of Contents](#top) | [References](#references) >\n",
    "<a id=\"dataTypeSymbolicConstantshashdefine\"></a>\n",
    "***\n",
    "###### ``#define``\n",
    "***"
   ]
  },
  {
   "cell_type": "markdown",
   "metadata": {},
   "source": [
    "- defines a symbolic name or symbolic constant to be a particular string of characters [2]"
   ]
  },
  {
   "cell_type": "markdown",
   "metadata": {},
   "source": [
    "- any occurence of ``name`` (not in quotes and not part of another name) will be replaced by the corresponding ``replacement text`` [2]"
   ]
  },
  {
   "cell_type": "markdown",
   "metadata": {},
   "source": [
    "- the ``name`` has the same form as a variable name (a sequence of letters and digits that begins with a letter) - the ``replacement text`` can be any sequence of characters (not limited to numbers) [2]\n",
    "\n",
    "```c\n",
    "#define name replacement text\n",
    "```"
   ]
  },
  {
   "cell_type": "markdown",
   "metadata": {},
   "source": [
    "***\n",
    "### END"
   ]
  },
  {
   "cell_type": "markdown",
   "metadata": {},
   "source": [
    "< [Table of Contents](#top) | [References](#references) >\n",
    "<a id=\"arrays\"></a>\n",
    "***\n",
    "### Arrays\n",
    "***"
   ]
  },
  {
   "cell_type": "markdown",
   "metadata": {},
   "source": [
    "- declares ``nDigits`` to be an array of 10 ``int`` [2]"
   ]
  },
  {
   "cell_type": "code",
   "execution_count": 74,
   "metadata": {},
   "outputs": [],
   "source": [
    "int nDigits[10];"
   ]
  },
  {
   "cell_type": "markdown",
   "metadata": {},
   "source": [
    "- array subscripts always start at zero in ``C`` so the elements are ``nDigits[0]`` to ``nDigits[9]`` - this is reflected in the ``for`` loop that initialise and prints the array [2]"
   ]
  },
  {
   "cell_type": "markdown",
   "metadata": {},
   "source": [
    "- a subscript can be any integer expression which includes integer variables like ``i`` and integer constants [2]"
   ]
  },
  {
   "cell_type": "code",
   "execution_count": 75,
   "metadata": {},
   "outputs": [],
   "source": [
    "for (int i=0;i<10;++i)\n",
    "    nDigits[i]=i;"
   ]
  },
  {
   "cell_type": "code",
   "execution_count": 76,
   "metadata": {},
   "outputs": [
    {
     "name": "stdout",
     "output_type": "stream",
     "text": [
      "(int [10]) { 0, 1, 2, 3, 4, 5, 6, 7, 8, 9 }\n"
     ]
    }
   ],
   "source": [
    "nDigits"
   ]
  },
  {
   "cell_type": "code",
   "execution_count": 77,
   "metadata": {},
   "outputs": [],
   "source": [
    "for (int i=0;i<10;++i)\n",
    "    nDigits[i]=0; // array populate zero"
   ]
  },
  {
   "cell_type": "code",
   "execution_count": 78,
   "metadata": {},
   "outputs": [
    {
     "name": "stdout",
     "output_type": "stream",
     "text": [
      "(int [10]) { 0, 0, 0, 0, 0, 0, 0, 0, 0, 0 }\n"
     ]
    }
   ],
   "source": [
    "nDigits"
   ]
  },
  {
   "cell_type": "markdown",
   "metadata": {},
   "source": [
    "***\n",
    "### END"
   ]
  },
  {
   "cell_type": "markdown",
   "metadata": {},
   "source": [
    "< [Table of Contents](#top) | [References](#references) >\n",
    "<a id=\"operatorsexpressions\"></a>\n",
    "***\n",
    "### Operators and Expressions\n",
    "***"
   ]
  },
  {
   "cell_type": "markdown",
   "metadata": {},
   "source": [
    "&#x1F6A7;"
   ]
  },
  {
   "cell_type": "markdown",
   "metadata": {},
   "source": [
    "< [Table of Contents](#top) | [References](#references) >\n",
    "<a id=\"operatorsIncrementDecrement\"></a>\n",
    "***\n",
    "###### Increment&nbsp;&nbsp;|&nbsp;&nbsp;Decrement\n",
    "***"
   ]
  },
  {
   "cell_type": "markdown",
   "metadata": {},
   "source": [
    "- operator ``++`` increments by one - could write ``n=n+1`` but ``++n`` is more concise and often more efficient (corresponding operator ``--`` to decrement by one) [2]"
   ]
  },
  {
   "cell_type": "markdown",
   "metadata": {},
   "source": [
    "- can be prefix or postfix operators - the two forms have different values in expressions albeit both ``++n`` and ``n++`` both increment ``n`` [2]"
   ]
  },
  {
   "cell_type": "markdown",
   "metadata": {},
   "source": [
    "< [Table of Contents](#top) | [References](#references) >\n",
    "<a id=\"operatorsIncrementDecrementAssignment\"></a>\n",
    "***\n",
    "###### Assignment\n",
    "***"
   ]
  },
  {
   "cell_type": "markdown",
   "metadata": {},
   "source": [
    "- an assignment is an expression with a value [2]"
   ]
  },
  {
   "cell_type": "markdown",
   "metadata": {},
   "source": [
    "- assignments associate from right to left [2]"
   ]
  },
  {
   "cell_type": "code",
   "execution_count": 79,
   "metadata": {},
   "outputs": [],
   "source": [
    "int x,y,z;\n",
    "x=(y=(z=1));"
   ]
  },
  {
   "cell_type": "code",
   "execution_count": 80,
   "metadata": {},
   "outputs": [
    {
     "name": "stdout",
     "output_type": "stream",
     "text": [
      "1 - 1 - 1\n"
     ]
    }
   ],
   "source": [
    "printf(\"%d - %d - %d\\n\",x,y,z);"
   ]
  },
  {
   "cell_type": "code",
   "execution_count": 81,
   "metadata": {},
   "outputs": [],
   "source": [
    "x=y=z=0;"
   ]
  },
  {
   "cell_type": "code",
   "execution_count": 82,
   "metadata": {},
   "outputs": [
    {
     "name": "stdout",
     "output_type": "stream",
     "text": [
      "(int) 0\n"
     ]
    }
   ],
   "source": [
    "x"
   ]
  },
  {
   "cell_type": "code",
   "execution_count": 83,
   "metadata": {},
   "outputs": [
    {
     "name": "stdout",
     "output_type": "stream",
     "text": [
      "(int) 0\n"
     ]
    }
   ],
   "source": [
    "y"
   ]
  },
  {
   "cell_type": "code",
   "execution_count": 84,
   "metadata": {},
   "outputs": [
    {
     "name": "stdout",
     "output_type": "stream",
     "text": [
      "(int) 0\n"
     ]
    }
   ],
   "source": [
    "z"
   ]
  },
  {
   "cell_type": "markdown",
   "metadata": {},
   "source": [
    "***\n",
    "### END"
   ]
  },
  {
   "cell_type": "markdown",
   "metadata": {},
   "source": [
    "< [Table of Contents](#top) | [References](#references) >\n",
    "<a id=\"controlFlow\"></a>\n",
    "***\n",
    "### Control Flow\n",
    "***"
   ]
  },
  {
   "cell_type": "markdown",
   "metadata": {},
   "source": [
    "- the choice between the ``while`` and ``for`` is arbitrary and based on which seems clearer [2]"
   ]
  },
  {
   "cell_type": "markdown",
   "metadata": {},
   "source": [
    "- the ``for`` is usually appropriate for loops in which the initialisation and increment are single statements and logically related since it is more compact than ``while`` and it keeps the loop control statements together in one place [2]"
   ]
  },
  {
   "cell_type": "markdown",
   "metadata": {},
   "source": [
    "< [Table of Contents](#top) | [References](#references) >\n",
    "<a id=\"controlFlowswitch\"></a>\n",
    "***\n",
    "###### ``switch``\n",
    "***"
   ]
  },
  {
   "cell_type": "markdown",
   "metadata": {},
   "source": [
    "- the ``else if`` statement expresses a multi-way decision [2]"
   ]
  },
  {
   "cell_type": "markdown",
   "metadata": {},
   "source": [
    "- the ``switch`` provides another way to write a multi-way branch that is particularly suitable when the condition is whether some integer or character expression matches one of a set of constants [2]"
   ]
  },
  {
   "cell_type": "markdown",
   "metadata": {},
   "source": [
    "< [Table of Contents](#top) | [References](#references) >\n",
    "<a id=\"controlFlowwhile\"></a>\n",
    "***\n",
    "###### ``while``\n",
    "***"
   ]
  },
  {
   "cell_type": "markdown",
   "metadata": {},
   "source": [
    "- the condition in parentheses is tested - if ``true`` the body of the loop is executed - the condition is re-tested - if ``true`` the body is executed again - when the test becomes ``false`` then the loop ends and execution continues at the statement that follows the loop [2]"
   ]
  },
  {
   "cell_type": "markdown",
   "metadata": {},
   "source": [
    "- the body of a ``while`` can be one or more statements enclosed in braces or a single statement without braces [2]"
   ]
  },
  {
   "cell_type": "code",
   "execution_count": 85,
   "metadata": {},
   "outputs": [],
   "source": [
    "int i=1,j=5;\n",
    "while (i<j)\n",
    "    i=2*i;"
   ]
  },
  {
   "cell_type": "code",
   "execution_count": 86,
   "metadata": {},
   "outputs": [
    {
     "name": "stdout",
     "output_type": "stream",
     "text": [
      "(int) 8\n"
     ]
    }
   ],
   "source": [
    "i"
   ]
  },
  {
   "cell_type": "markdown",
   "metadata": {},
   "source": [
    "< [Table of Contents](#top) | [References](#references) >\n",
    "<a id=\"controlFlowfor\"></a>\n",
    "***\n",
    "###### ``for``\n",
    "***"
   ]
  },
  {
   "cell_type": "markdown",
   "metadata": {},
   "source": [
    "- a generalisation of the ``while`` [2]"
   ]
  },
  {
   "cell_type": "markdown",
   "metadata": {},
   "source": [
    "- the first part is the initialisation and done once before the loop proper is entered [2]"
   ]
  },
  {
   "cell_type": "markdown",
   "metadata": {},
   "source": [
    "- the second part is the test or condition that controls the loop [2]"
   ]
  },
  {
   "cell_type": "markdown",
   "metadata": {},
   "source": [
    "- the third part is the increment step with the second part (condition) re-evaluated [2]"
   ]
  },
  {
   "cell_type": "markdown",
   "metadata": {},
   "source": [
    "***\n",
    "### END"
   ]
  },
  {
   "cell_type": "markdown",
   "metadata": {},
   "source": [
    "< [Table of Contents](#top) | [References](#references) >\n",
    "<a id=\"function\"></a>\n",
    "***\n",
    "### Function\n",
    "***"
   ]
  },
  {
   "cell_type": "markdown",
   "metadata": {},
   "source": [
    "- functions contain statements that specify the computing operations to be done - provides a convenient way to encapsulate some computation which can then be used without worrying about its implementation [2]"
   ]
  },
  {
   "cell_type": "markdown",
   "metadata": {},
   "source": [
    "- with properly designed functions it is possible to ignore how a job is done (knowing what is done is sufficient) [2]"
   ]
  },
  {
   "cell_type": "markdown",
   "metadata": {},
   "source": [
    "- ``C`` makes the use of functions easy and convenient and efficient (will often see a short function defined and called only once just because it clarifies some piece of code) [2]"
   ]
  },
  {
   "cell_type": "markdown",
   "metadata": {},
   "source": [
    "< [Table of Contents](#top) | [References](#references) >\n",
    "<a id=\"functionsmain\"></a>\n",
    "***\n",
    "###### ``main``\n",
    "***"
   ]
  },
  {
   "cell_type": "markdown",
   "metadata": {},
   "source": [
    "- the ``C`` program begins executing at the beginning of ``main`` which means every program must have a ``main`` somewhere [2]"
   ]
  },
  {
   "cell_type": "markdown",
   "metadata": {},
   "source": [
    "< [Table of Contents](#top) | [References](#references) >\n",
    "<a id=\"functionreturnstatement\"></a>\n",
    "***\n",
    "###### ``return``\n",
    "***"
   ]
  },
  {
   "cell_type": "markdown",
   "metadata": {},
   "source": [
    "- a function need not ``return`` a value - a ``return`` statement with no expression causes control but no useful value to be returned to the caller (as does falling off the end of a function by reaching the terminating right brace) [2]"
   ]
  },
  {
   "cell_type": "markdown",
   "metadata": {},
   "source": [
    "- the calling function can ignore a value returned by a function [2]"
   ]
  },
  {
   "cell_type": "markdown",
   "metadata": {},
   "source": [
    "- since ``main`` is a function like any other it may return a value to its caller which is in effect the environment in which the program was executed [2]"
   ]
  },
  {
   "cell_type": "markdown",
   "metadata": {},
   "source": [
    "- typically a ``return`` value of $0$ implies normal termination and non-zero values signal unusual or erroneous termination conditions (should ``return`` status to the environment) [2]"
   ]
  },
  {
   "cell_type": "markdown",
   "metadata": {},
   "source": [
    "< [Table of Contents](#top) | [References](#references) >\n",
    "<a id=\"functionsPrototype\"></a>\n",
    "***\n",
    "###### Prototype ``fPower``\n",
    "***"
   ]
  },
  {
   "cell_type": "markdown",
   "metadata": {},
   "source": [
    "- the standard library contains a function ``pow(x,y)`` that computes $x^{y}$ - ``C`` has no exponentiation operator like the ``**`` of ``Python`` [2]"
   ]
  },
  {
   "cell_type": "code",
   "execution_count": 87,
   "metadata": {},
   "outputs": [],
   "source": [
    "// 2**2 // python result 4"
   ]
  },
  {
   "cell_type": "markdown",
   "metadata": {},
   "source": [
    "- illustrating the mechanics of a function definition by writing a function ``fPower`` to raise an integer ``m`` to a positive integer power ``n`` (not a practical exponentiation routine as it handles only positive powers of small integers) [2]"
   ]
  },
  {
   "cell_type": "markdown",
   "metadata": {},
   "source": [
    "- function definitions can appear in any order and in one source file or several although no function can be split between files [2]"
   ]
  },
  {
   "cell_type": "markdown",
   "metadata": {},
   "source": [
    "- if the source program appears in several files may have to say more to compile and load it than if it all appears in one but that is an operating system matter and not a language attribute [2]"
   ]
  },
  {
   "cell_type": "markdown",
   "metadata": {},
   "source": [
    "- the declaration before ``main`` says that ``fPower`` is a function that expects two ``int`` arguments and returns an ``int`` [2]"
   ]
  },
  {
   "cell_type": "markdown",
   "metadata": {},
   "source": [
    "- this declaration (function prototype) has to agree with the definition and uses of ``fPower`` - it is an error if the definition of a function or any uses of it do not agree with its prototype [2]"
   ]
  },
  {
   "cell_type": "markdown",
   "metadata": {},
   "source": [
    "- parameter names need not agree (are optional in a function prototype) [2]\n",
    "\n",
    "```c\n",
    "int fPower(int m, int n); // prototype parameters optional\n",
    "```"
   ]
  },
  {
   "cell_type": "code",
   "execution_count": 88,
   "metadata": {},
   "outputs": [],
   "source": [
    "int fPower(int, int); // function prototype - fPower"
   ]
  },
  {
   "cell_type": "markdown",
   "metadata": {},
   "source": [
    "- the function ``fPower`` is called twice by ``main`` - each call passes two arguments to ``fPower`` which each time returns an integer to be formatted and printed - the expression ``fPower(2,i)`` is an integer just as $2$ and $i$ are [[Skip to Definition](#functionsDefinition)] [2] <a id=\"fPowermain\"></a>"
   ]
  },
  {
   "cell_type": "code",
   "execution_count": 89,
   "metadata": {},
   "outputs": [],
   "source": [
    "int fPower(int base, int n) // function definition - fPower\n",
    "{\n",
    "    /* Raise base to n-th power; n >= 0.\n",
    "Input: base; n\n",
    "Process:\n",
    "Output:\n",
    "*/\n",
    "    int p=1;\n",
    "    for (int i=0;i<n;++i)\n",
    "        p*=base;\n",
    "    return p; // return to caller\n",
    "}"
   ]
  },
  {
   "cell_type": "code",
   "execution_count": 90,
   "metadata": {},
   "outputs": [
    {
     "name": "stdout",
     "output_type": "stream",
     "text": [
      " 0    1       1\n",
      " 1    2      -3\n",
      " 2    4       9\n",
      " 3    8     -27\n",
      " 4   16      81\n",
      " 5   32    -243\n",
      " 6   64     729\n",
      " 7  128   -2187\n",
      " 8  256    6561\n",
      " 9  512  -19683\n"
     ]
    }
   ],
   "source": [
    "for (int i=0;i<10;++i)\n",
    "    printf(\"%2d %4d %7d\\n\",i,fPower(2,i),fPower(-3,i)); // function call - fPower"
   ]
  },
  {
   "cell_type": "markdown",
   "metadata": {},
   "source": [
    "< [Table of Contents](#top) | [References](#references) >\n",
    "<a id=\"functionsDefinition\"></a>\n",
    "***\n",
    "###### Definition ``fPower``\n",
    "***"
   ]
  },
  {
   "cell_type": "markdown",
   "metadata": {},
   "source": [
    "- declaring the: i) type (``int``) of the result that the function returns and; ii) parameter types (``int`` and ``int``) and names (``base`` and ``n``) [2]"
   ]
  },
  {
   "cell_type": "markdown",
   "metadata": {},
   "source": [
    "- the names used by ``fPower`` for its parameters are local to ``fPower`` and are not visible to any other function (other routines can use the same names without conflict) - also true of variables defined within the function body [2]"
   ]
  },
  {
   "cell_type": "markdown",
   "metadata": {},
   "source": [
    "- generally use the term ``parameter`` for a variable named in the parenthesized list in a function definition and ``argument`` for the value used in a call of the function (terms formal argument and actual argument are sometimes used for the same distinction) [2]"
   ]
  },
  {
   "cell_type": "code",
   "execution_count": 91,
   "metadata": {},
   "outputs": [],
   "source": [
    "/*\n",
    "int fPower(int base, int n) // function definition - fPower\n",
    "{\n",
    "    // Raise base to n-th power; n >= 0.\n",
    "// Input: base; n\n",
    "// Process:\n",
    "// Output:\n",
    "    int p=1;\n",
    "    for (int i=0;i<n;++i)\n",
    "        p*=base;\n",
    "    return p; // return to caller\n",
    "}\n",
    "*/"
   ]
  },
  {
   "cell_type": "markdown",
   "metadata": {},
   "source": [
    "[[``main``](#fPowermain)]"
   ]
  },
  {
   "cell_type": "markdown",
   "metadata": {},
   "source": [
    "***\n",
    "### END"
   ]
  },
  {
   "cell_type": "markdown",
   "metadata": {},
   "source": [
    "< [Table of Contents](#top) | [References](#references) >\n",
    "<a id=\"preprocessor\"></a>\n",
    "***\n",
    "### Preprocessor\n",
    "***"
   ]
  },
  {
   "cell_type": "markdown",
   "metadata": {},
   "source": [
    "- a ``C`` program is a collection of functions (being the equivalent of a procedure or subroutine - itself a collection of statements enclosed by braces) in addition to some optional global variables/constants [1]"
   ]
  },
  {
   "cell_type": "markdown",
   "metadata": {},
   "source": [
    "- having all of the functions of a very large ``C`` program in a single source file could be awkward - can modularise a program so as to having many files which after compilation and linking comprise the program [1]"
   ]
  },
  {
   "cell_type": "markdown",
   "metadata": {},
   "source": [
    "- two source files (``s1.c`` and ``s2.c``) at the second level from the top [1]"
   ]
  },
  {
   "cell_type": "markdown",
   "metadata": {},
   "source": [
    "- each source file includes a couple of header files (other files that have some code) - the source file ``s1.c`` includes ``f1.h`` and ``f2.h`` - the source file ``s2.c`` includes ``f2.h`` and ``f3.h`` [1]"
   ]
  },
  {
   "cell_type": "markdown",
   "metadata": {},
   "source": [
    "- imagining the depiction of this executable ``C`` program is a project - it has a couple of main modules and is divided up into a couple of files - each of these files is including things that are defined elsewhere - in particular ``f2.h`` is included in both places so do not want to have to type that separately in the two source files so its put into its own file [1]"
   ]
  },
  {
   "cell_type": "markdown",
   "metadata": {},
   "source": [
    "- the types of things that go into header files are mainly just function declarations which are functions without a body - a function declaration identifies the function (name / return type / any other information that is necessary) - type once and reuse as necessary [1]"
   ]
  },
  {
   "cell_type": "markdown",
   "metadata": {},
   "source": [
    "- the fundamental compilation unit (the thing that gets compiled from source code into machine code) is the combination of the source file and its included text from any files that it chooses to include [1]"
   ]
  },
  {
   "cell_type": "markdown",
   "metadata": {},
   "source": [
    "- compiling ``s1.c`` and ``s2.c`` the compiler will automatically open and read the information in the header files included - the entire result gets put out in an object file (``s1.obj`` and ``s2.obj`` respectively) - is platform dependent (using Windows ``.obj`` - using Unix ``.o``) [1]"
   ]
  },
  {
   "cell_type": "markdown",
   "metadata": {},
   "source": [
    "- once everything is compiled then its linked together and made ready to execute with the final result being an executable file ``prog.exe`` [1]"
   ]
  },
  {
   "cell_type": "markdown",
   "metadata": {},
   "source": [
    "![Preprocessor-Executable](https://github.com/SeanOhAileasa/SeanOhAileasa/blob/master/rc/fubar-c/executable.png?raw=true)\n",
    "\n",
    "***(Image) C. Allison, \"Thinking in C,\" [MindView LLC](https://web.archive.org/web/20210617100433/http://ix.cs.uoregon.edu/~norris/cis330books/ThinkingInC/Index.html), (n.d.).***"
   ]
  },
  {
   "cell_type": "markdown",
   "metadata": {},
   "source": [
    "- idea of including files into a compilation stream shows an important step in the ``C`` compilation process (before the program is translated from ``C`` source code into machine code) - the preprocessing phase of the compiler will first process all of the preprocessing operations [1]"
   ]
  },
  {
   "cell_type": "markdown",
   "metadata": {},
   "source": [
    "< [Table of Contents](#top) | [References](#references) >\n",
    "<a id=\"preprocessorDirective\"></a>\n",
    "***\n",
    "###### Directive\n",
    "***"
   ]
  },
  {
   "cell_type": "markdown",
   "metadata": {},
   "source": [
    "&#x1F6A7;"
   ]
  },
  {
   "cell_type": "markdown",
   "metadata": {},
   "source": [
    "< [Table of Contents](#top) | [References](#references) >\n",
    "<a id=\"preprocessorDirectivehashinclude\"></a>\n",
    "***\n",
    "###### ``include``\n",
    "***"
   ]
  },
  {
   "cell_type": "markdown",
   "metadata": {},
   "source": [
    "- includes another file into the compilation stream - the pound sign ``#`` plus ``include`` is a special directive in C [1]"
   ]
  },
  {
   "cell_type": "markdown",
   "metadata": {},
   "source": [
    "- it invokes a preprocessor allowing the inclusion of other text into the program without retyping - these including declarations of special functions that are in the standard ``C`` library and in particular the header ``stdio.h`` (usually call ``standard IO.h``) [1]"
   ]
  },
  {
   "cell_type": "markdown",
   "metadata": {},
   "source": [
    "- the include directive occurs before the actual translation process - putting function declarations and maybe some constant declarations into a header file - its different in ``C++`` given there is other things you might want to put in there but for ``C`` that is pretty much it [1]"
   ]
  },
  {
   "cell_type": "markdown",
   "metadata": {},
   "source": [
    "< [Table of Contents](#top) | [References](#references) >\n",
    "<a id=\"preprocessorDirectivehashincludeHeaderFile\"></a>\n",
    "***\n",
    "###### Header File\n",
    "***"
   ]
  },
  {
   "cell_type": "markdown",
   "metadata": {},
   "source": [
    "- the standard ``C`` library makes use of the preprocessor - in other words each ``C`` compiler will make available header files such as ``stdio.h`` [1]"
   ]
  },
  {
   "cell_type": "markdown",
   "metadata": {},
   "source": [
    "- there is quite a number of header files in the standard ``C`` library and its possible to distinguish between standard header files from any other header files - other header files might be created by someone else in an organisation [1]"
   ]
  },
  {
   "cell_type": "markdown",
   "metadata": {},
   "source": [
    "- the standard header file uses angle brackets (``<`` ``>``) to delimit the standard header name - to the compiler any header which is delimited by angle brackets will occur in a particular place in the file system (in some directory) - there exists a standard system directory where those headers go and during compilation that is where the compiler will look [1]"
   ]
  },
  {
   "cell_type": "markdown",
   "metadata": {},
   "source": [
    "- to create user-defined headers use double quotes (``\"`` ``\"``) instead of the angle brackets (``<`` ``>``) - the compiler will look in the current directory for the file - there are some rules for finding them in other places but those are platform dependent - Unix and Windows can have environment variables - some compilers will look at a particular environment variable which has a set of path names (different directories to search) in case it does not find what its looking for in the current directory [1]"
   ]
  },
  {
   "cell_type": "markdown",
   "metadata": {},
   "source": [
    "< [Table of Contents](#top) | [References](#references) >\n",
    "<a id=\"preprocessorDirectivehashincludeHeaderFilesstdioh\"></a>\n",
    "***\n",
    "###### ``stdio.h``\n",
    "***"
   ]
  },
  {
   "cell_type": "markdown",
   "metadata": {},
   "source": [
    "- there are certain channels of input and output that are assumed (streams) [1]"
   ]
  },
  {
   "cell_type": "markdown",
   "metadata": {},
   "source": [
    "- the functions available in the standard ``C`` library (in particular ``stdio.h``) provide I/O services for using what is called the console (basically the screen) and the keyboard or for explicitly doing file input and output [1]"
   ]
  },
  {
   "cell_type": "markdown",
   "metadata": {},
   "source": [
    "- three basic categories of types of I/O: i) console I/O (goes to standard input and output); ii) file I/O (explicit file input and output - naming a file for reading from or writing to); iii) in-core or in-memory formatting [1]"
   ]
  },
  {
   "cell_type": "markdown",
   "metadata": {},
   "source": [
    "- there is three streams that are predefined in C:\n",
    "\n",
    "1. standard in standard input (``stdin``): the console functions in the standard ``C`` library will always read from standard input - standard input is by default the keyboard - there are ways to change this called redirection - just keep in mind that standard input is where a number of functions in the standard ``C`` library get their input [1]\n",
    "\n",
    "\n",
    "2. standard out (``stdout``): analogous situation for output (hooked to the screen) - functions like ``puts`` send output to standard output [1]\n",
    "\n",
    "\n",
    "3. standard error (``stderr``): channel or stream for output which is also connected to the screen by default - it is logically different than standard output - can send things separately to standard output and standard error - if not redirecting them to files or other devices then will see all on the screen together but it does allow for a logically separate place to put them and if its chosen to have standard output not go to the screen then can do that [1]"
   ]
  },
  {
   "cell_type": "markdown",
   "metadata": {},
   "source": [
    "< [Table of Contents](#top) | [References](#references) >\n",
    "<a id=\"preprocessorDirectivehashincludeHeaderFilesstdiohsymbolicconstantEOF\"></a>\n",
    "***\n",
    "###### ``EOF``\n",
    "***"
   ]
  },
  {
   "cell_type": "markdown",
   "metadata": {},
   "source": [
    "- end of file symbolic constant [2] "
   ]
  },
  {
   "cell_type": "code",
   "execution_count": 92,
   "metadata": {},
   "outputs": [
    {
     "name": "stdout",
     "output_type": "stream",
     "text": [
      "(int) -1\n"
     ]
    }
   ],
   "source": [
    "EOF"
   ]
  },
  {
   "cell_type": "markdown",
   "metadata": {},
   "source": [
    "< [Table of Contents](#top) | [References](#references) >\n",
    "<a id=\"preprocessorDirectivehashincludeHeaderFilesstdiohprintf\"></a>\n",
    "***\n",
    "###### ``printf``\n",
    "***"
   ]
  },
  {
   "cell_type": "markdown",
   "metadata": {},
   "source": [
    "- general-purpose output formatting function [2] ``printf`` works similar to function ``scanf`` [1]"
   ]
  },
  {
   "cell_type": "markdown",
   "metadata": {},
   "source": [
    "- the function is not part of the ``C`` language as there is no input or output defined in ``C`` itself - it is a useful function from the standard library of functions that are normally accessible to ``C`` programs - the behaviour of ``printf`` is defined in the ANSI standard however its properties should be the same with any compiler and library that conforms to the standard [2] "
   ]
  },
  {
   "cell_type": "markdown",
   "metadata": {},
   "source": [
    "- the first argument is a format specification and any literal text will just be echoed to standard out - any conversion specification ``%`` included within the string of characters to be printed indicates arguments to be substituted and in what form it is to be printed (``%d`` specifies an integer argument) [2] "
   ]
  },
  {
   "cell_type": "markdown",
   "metadata": {},
   "source": [
    "- the conversion specification ``%3.0f`` indicates a floating-point number to be printed with at least three characters wide with no decimal point and no fraction digits [2]"
   ]
  },
  {
   "cell_type": "code",
   "execution_count": 93,
   "metadata": {},
   "outputs": [
    {
     "name": "stdout",
     "output_type": "stream",
     "text": [
      "  1\n"
     ]
    }
   ],
   "source": [
    "float n=2.0/3;\n",
    "printf(\"%3.0f\\n\",n);"
   ]
  },
  {
   "cell_type": "markdown",
   "metadata": {},
   "source": [
    "- the conversion specification ``%6.1f`` prints at least size characters wide with 1 digit after the decimal point [2]"
   ]
  },
  {
   "cell_type": "code",
   "execution_count": 94,
   "metadata": {},
   "outputs": [
    {
     "name": "stdout",
     "output_type": "stream",
     "text": [
      "   0.7\n"
     ]
    }
   ],
   "source": [
    "printf(\"%6.1f\\n\",n);"
   ]
  },
  {
   "cell_type": "markdown",
   "metadata": {},
   "source": [
    "- width and precision may be omitted from a specification [2]"
   ]
  },
  {
   "cell_type": "code",
   "execution_count": 95,
   "metadata": {},
   "outputs": [
    {
     "name": "stdout",
     "output_type": "stream",
     "text": [
      "     0\n",
      "...print as decimal number - at least 6 characters wide\n"
     ]
    }
   ],
   "source": [
    "printf(\"%6d\\n...print as decimal number - at least 6 characters wide\\n\",int(n));"
   ]
  },
  {
   "cell_type": "code",
   "execution_count": 96,
   "metadata": {},
   "outputs": [
    {
     "name": "stdout",
     "output_type": "stream",
     "text": [
      "0.666667\n",
      "...print as floating point\n"
     ]
    }
   ],
   "source": [
    "printf(\"%f\\n...print as floating point\\n\",n);"
   ]
  },
  {
   "cell_type": "code",
   "execution_count": 97,
   "metadata": {},
   "outputs": [
    {
     "name": "stdout",
     "output_type": "stream",
     "text": [
      " 0.666667\n",
      "...print as floating point - at least 9 characters wide\n"
     ]
    }
   ],
   "source": [
    "printf(\"%9f\\n...print as floating point - at least 9 characters wide\\n\",n);"
   ]
  },
  {
   "cell_type": "code",
   "execution_count": 98,
   "metadata": {},
   "outputs": [
    {
     "name": "stdout",
     "output_type": "stream",
     "text": [
      "0.67\n",
      "...print as floating point - 2 characters after decimal point\n"
     ]
    }
   ],
   "source": [
    "printf(\"%.2f\\n...print as floating point - 2 characters after decimal point\\n\",n);"
   ]
  },
  {
   "cell_type": "markdown",
   "metadata": {},
   "source": [
    "- among other the function ``printf`` also recognises ``%o`` for octal and ``%x`` for hexadecimal and ``%c`` for character and ``%s`` for character string and ``%%`` for $\\%$ itself [2]"
   ]
  },
  {
   "cell_type": "markdown",
   "metadata": {},
   "source": [
    "< [Table of Contents](#top) | [References](#references) >\n",
    "<a id=\"preprocessorDirectivehashincludeHeaderFilesstdiohscanf\"></a>\n",
    "***\n",
    "###### ``scanf``\n",
    "***"
   ]
  },
  {
   "cell_type": "markdown",
   "metadata": {},
   "source": [
    "- ``scanf`` is like ``printf`` except that it reads input instead of writing output [2]"
   ]
  },
  {
   "cell_type": "markdown",
   "metadata": {},
   "source": [
    "- scans standard input for the input to read - the first argument is the format string (integer ``%d``) - the special character specifies that the character that follows is a code which describes the type of input - reading a decimal integer (base-10) by calling function ``scanf`` then standard input will be scanned for numbers - when it runs out (perhaps the user hits enter or space or something else) then the number that results from those numerals typed in will be stored [1]"
   ]
  },
  {
   "cell_type": "markdown",
   "metadata": {},
   "source": [
    "- take it as fact an ampersand ``&`` is required in front of whatever variable is read with ``scanf`` (relates to pointers) [1]"
   ]
  },
  {
   "cell_type": "markdown",
   "metadata": {},
   "source": [
    "< [Table of Contents](#top) | [References](#references) >\n",
    "<a id=\"preprocessorDirectivehashincludeHeaderFileslimitsh\"></a>\n",
    "***\n",
    "###### ``limits.h``\n",
    "***"
   ]
  },
  {
   "cell_type": "markdown",
   "metadata": {},
   "source": [
    "- its a little disconcerting (frustrating) that its not possible to specify what the range of the numeric types are (different for different systems) [1]"
   ]
  },
  {
   "cell_type": "markdown",
   "metadata": {},
   "source": [
    "- can be troublesome to write programs that will be run on different systems (want portability) - ``C`` is supposed to be a portable language and to some degree it is but the fact is it is a systems programming language (more system friendly than it is programmer friendly) - while its not true to a large degree it certainly is true with the underlying numeric types - cannot specify a universal value for the largest ``int`` or the smallest ``int`` as it differs from platform to platform [1]"
   ]
  },
  {
   "cell_type": "markdown",
   "metadata": {},
   "source": [
    "- its impossible to find out by querying it in a program by examining the symbolic constants for all of these sizes along with other properties of the machine and compiler [1][2]"
   ]
  },
  {
   "cell_type": "markdown",
   "metadata": {},
   "source": [
    "- integer limits are defined in ``limits.h`` - including this header file or looking up the documentation and examining the names of those constants then its possible can find out what is the largest ``int`` or the largest ``short`` or the largest ``long`` or the smallest as well etc - this does give some programmatic control over the numeric properties of the system - the same thing applies to the floating point numbers as well and this information can be found in the header ``float.h`` [1]"
   ]
  },
  {
   "cell_type": "code",
   "execution_count": 99,
   "metadata": {
    "scrolled": false
   },
   "outputs": [
    {
     "name": "stdout",
     "output_type": "stream",
     "text": [
      "/home/seanohaileasa/fubar-c\r\n",
      "\n"
     ]
    }
   ],
   "source": [
    "%%shell\n",
    "pwd\n",
    "# cat ../../../usr/include/limits.h"
   ]
  },
  {
   "cell_type": "markdown",
   "metadata": {},
   "source": [
    "- for integral limits can access constants (typically written with capital letters - convention thats been around for a long time) [13]"
   ]
  },
  {
   "cell_type": "markdown",
   "metadata": {},
   "source": [
    "< [Table of Contents](#top) | [References](#references) >\n",
    "<a id=\"preprocessorDirectivehashincludeHeaderFilesfloath\"></a>\n",
    "***\n",
    "###### ``float.h``\n",
    "***"
   ]
  },
  {
   "cell_type": "markdown",
   "metadata": {},
   "source": [
    "- contain symbolic constants for all floating-point sizes along with other properties of the machine and compiler [2]"
   ]
  },
  {
   "cell_type": "markdown",
   "metadata": {},
   "source": [
    "***\n",
    "### END"
   ]
  },
  {
   "cell_type": "markdown",
   "metadata": {},
   "source": [
    "***\n",
    "## END"
   ]
  },
  {
   "cell_type": "markdown",
   "metadata": {},
   "source": [
    "< [Table of Contents](#top) | [Abstract](#abstract) | [Introduction](#introduction) | [Solution](#solution) | [Conclusion](#conclusion) | [References](#references) >\n",
    "<a id=\"references\"></a>\n",
    "***\n",
    "## References\n",
    "***\n",
    "\n",
    "&nbsp;&nbsp;&nbsp;&nbsp;&nbsp;&nbsp;&nbsp;&nbsp;&nbsp;[1] C. Allison, \"Thinking in C,\" [MindView LLC](https://web.archive.org/web/20210617100433/http://ix.cs.uoregon.edu/~norris/cis330books/ThinkingInC/Index.html), (n.d.).\n",
    "\n",
    "&nbsp;&nbsp;&nbsp;&nbsp;&nbsp;&nbsp;&nbsp;&nbsp;&nbsp;[2] B. W. Kernighan, D. M. Ritchie, \"The C Programming Language (2nd Edition),\" Prentice Hall, 1988."
   ]
  },
  {
   "cell_type": "markdown",
   "metadata": {},
   "source": [
    "***\n",
    "## END"
   ]
  },
  {
   "cell_type": "markdown",
   "metadata": {},
   "source": [
    "# END JUPYTER NOTEBOOK"
   ]
  }
 ],
 "metadata": {
  "kernelspec": {
   "display_name": "ROOT C++",
   "language": "c++",
   "name": "root"
  },
  "language_info": {
   "codemirror_mode": "text/x-c++src",
   "file_extension": ".C",
   "mimetype": " text/x-c++src",
   "name": "c++"
  }
 },
 "nbformat": 4,
 "nbformat_minor": 5
}
