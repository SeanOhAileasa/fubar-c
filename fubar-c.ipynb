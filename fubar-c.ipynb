{
 "cells": [
  {
   "cell_type": "code",
   "execution_count": null,
   "id": "939d67de",
   "metadata": {},
   "outputs": [
    {
     "data": {
      "text/html": [
       "<script>Jupyter.notebook.kernel.restart()</script>"
      ]
     },
     "metadata": {},
     "output_type": "display_data"
    }
   ],
   "source": [
    "from IPython.core.display import display_html\n",
    "display_html(\"<script>Jupyter.notebook.kernel.restart()</script>\",raw=True)"
   ]
  },
  {
   "cell_type": "code",
   "execution_count": 1,
   "id": "7f45c677",
   "metadata": {},
   "outputs": [
    {
     "data": {
      "text/html": [
       "<style>.container { width:100% !important; }</style>"
      ],
      "text/plain": [
       "<IPython.core.display.HTML object>"
      ]
     },
     "metadata": {},
     "output_type": "display_data"
    },
    {
     "data": {
      "text/html": [
       "<style>.container { width:100% !important; }</style>"
      ],
      "text/plain": [
       "<IPython.core.display.HTML object>"
      ]
     },
     "metadata": {},
     "output_type": "display_data"
    }
   ],
   "source": [
    "from sys import path; path.insert(1,\"../src\");\n",
    "import fubar; from importlib import reload; reload(fubar);"
   ]
  },
  {
   "cell_type": "markdown",
   "id": "b25d6c3c",
   "metadata": {},
   "source": [
    "***\n",
    "< [GMIT Data Analytics](https://web.archive.org/web/20201029063153/https://www.gmit.ie/computer-science-and-applied-physics/higher-diploma-science-computing-data-analytics-ict) | [Home](https://github.com/SeanOhAileasa) | [README](https://github.com/SeanOhAileasa/fubar-c/blob/main/README.md) >\n",
    "\n",
    "[![GMIT](https://github.com/SeanOhAileasa/SeanOhAileasa/blob/master/rc/gmit.png?raw=true)](https://web.archive.org/web/20201029063153/https://www.gmit.ie/computer-science-and-applied-physics/higher-diploma-science-computing-data-analytics-ict)\n",
    "\n",
    "## GMIT - Supplemental Course Material\n",
    "### Topic: [C](https://nbviewer.jupyter.org/github/SeanOhAileasa/fubar-c/blob/main/fubar-c.ipynb)\n",
    "***"
   ]
  },
  {
   "cell_type": "markdown",
   "id": "430f385b",
   "metadata": {},
   "source": [
    "Supplemental course material for the ``Higher Diploma in Science in Computing (Data Analytics) (H.Dip)`` programme (75 Credits) at **Galway-Mayo Institute of Technology (GMIT)**. This repository is for self-study/self-examination for future modules of the H.Dip programme and preparation for future workplace opportunities."
   ]
  },
  {
   "cell_type": "markdown",
   "id": "e93e45e6",
   "metadata": {},
   "source": [
    "<a id=\"top\"></a>\n",
    "***\n",
    "## Table of Contents\n",
    "*** \n",
    "\n",
    "## [Abstract](#abstract)\n",
    "\n",
    "< [1-1](#abstract11)&nbsp;&nbsp;|&nbsp;&nbsp;[1-2](#abstract12)&nbsp;&nbsp;|&nbsp;&nbsp;[1-2.a](#abstract12a)&nbsp;&nbsp;|&nbsp;&nbsp;[1-3](#abstract13)&nbsp;&nbsp;|&nbsp;&nbsp;[1-4](#abstract14)&nbsp;&nbsp;|&nbsp;&nbsp;[1-4.a](#abstract14a)&nbsp;&nbsp;|&nbsp;&nbsp;[1-5](#abstract15)&nbsp;&nbsp;|&nbsp;&nbsp;[1-5.a](#abstract15a)&nbsp;&nbsp;>\n",
    "\n",
    "## [Introduction](#introduction)\n",
    "\n",
    "* [Statement](#statement)\n",
    "    * [Compound](#statementsCompound)\n",
    "\n",
    "\n",
    "* [Data Type](#dataType)\n",
    "    * [Character](#dataTypesCharacter)\n",
    "        * [``char``](#intTypeschar)            \n",
    "            * [``wchar_t``](#intTypeswchar_t) \n",
    "    * [Integer](#dataTypesIntegers)      \n",
    "        * [``int``](#intTypesint)           \n",
    "        * [Qualifier](#intTypesQualifier)       \n",
    "            * [``short``](#intTypesshort)\n",
    "            * [``long``](#intTypeslong)\n",
    "            * [Signed/Unsigned](#intSignedversusUnsigned)\n",
    "    * [Single-Precision Floating Point](#dataTypesSingle-PrecisionFloatingPoint)\n",
    "        * [``float``](#dataTypesDoublePrecisionFloatingPointfloat)\n",
    "    * [Double-Precision Floating Point](#dataTypesDoublePrecisionFloatingPoint)\n",
    "        * [``double``](#dataTypesDoublePrecisionFloatingPointdouble) &#x1F6A7;\n",
    "        * [Qualifier](#dataTypesDoubleQualifier) &#x1F6A7;      \n",
    "            * [``long``](#dataTypesDoubleQualifierslong)\n",
    "    * [Symbolic Constant](#dataTypeSymbolicConstant) (&#8594; ``1.5``)\n",
    "        * [``#define``](#dataTypeSymbolicConstantshashdefine) (&#8594; ``1.5.a``)\n",
    "\n",
    "\n",
    "* [Declaration](#declaration)\n",
    "\n",
    "\n",
    "* [Control Flow](#controlFlow)\n",
    "    * [``while``](#controlFlowwhile)\n",
    "    * [``for``](#controlFlowfor)\n",
    "\n",
    "\n",
    "* [Function](#function)\n",
    "    * [``main``](#functionsmain)\n",
    "\n",
    "\n",
    "* [Preprocessor](#preprocessor)\n",
    "    * [Directive](#preprocessorDirective)\n",
    "        * [``include``](#preprocessorDirectivehashinclude)\n",
    "            * [Header File](#preprocessorDirectivehashincludeHeaderFile)\n",
    "                * [``stdio.h``](#preprocessorDirectivehashincludeHeaderFilesstdioh)\n",
    "                    * [``printf``](#preprocessorDirectivehashincludeHeaderFilesstdiohprintf)\n",
    "                    * [``scanf``](#preprocessorDirectivehashincludeHeaderFilesstdiohscanf)\n",
    "                * [``limits.h``](#preprocessorDirectivehashincludeHeaderFileslimitsh)\n",
    "                * [``float.h``](#preprocessorDirectivehashincludeHeaderFilesfloath)\n",
    "                \n",
    "## [Solution](#solution)\n",
    "\n",
    "- &#x1F6A7;\n",
    "\n",
    "## [Conclusion](#conclusion)\n",
    "\n",
    "- &#x1F6A7;"
   ]
  },
  {
   "cell_type": "markdown",
   "id": "89a7f6e5",
   "metadata": {},
   "source": [
    "***\n",
    "## END"
   ]
  },
  {
   "cell_type": "markdown",
   "id": "143f183f",
   "metadata": {},
   "source": [
    "< [Table of Contents](#top) | [Introduction](#introduction) | [Solution](#solution) | [Conclusion](#conclusion) | [References](#references) >\n",
    "<a id=\"abstract\"></a>\n",
    "***\n",
    "## Abstract\n",
    "***"
   ]
  },
  {
   "cell_type": "markdown",
   "id": "434953c8",
   "metadata": {},
   "source": [
    "< [Table of Contents](#top) | [References](#references) >\n",
    "<a id=\"abstract11\"></a>\n",
    "***\n",
    "###### 1-1\n",
    "***"
   ]
  },
  {
   "cell_type": "code",
   "execution_count": 1,
   "id": "fe162536",
   "metadata": {},
   "outputs": [
    {
     "name": "stdout",
     "output_type": "stream",
     "text": [
      "Writing hw.c\n"
     ]
    }
   ],
   "source": [
    "%%writefile hw.c\n",
    "    /* Exercise 1-1\n",
    "Input:\n",
    "Process: (printf)\n",
    "Output:\n",
    "*/\n",
    "#include <stdio.h>\n",
    "int main()\n",
    "{\n",
    "    printf(\"hw\\n\");\n",
    "}"
   ]
  },
  {
   "cell_type": "code",
   "execution_count": 2,
   "id": "fbdbed03",
   "metadata": {},
   "outputs": [],
   "source": [
    "%%script bash\n",
    "cc hw.c"
   ]
  },
  {
   "cell_type": "code",
   "execution_count": 3,
   "id": "28e13d85",
   "metadata": {},
   "outputs": [
    {
     "name": "stdout",
     "output_type": "stream",
     "text": [
      "hw\n"
     ]
    }
   ],
   "source": [
    "%%script bash\n",
    "./a.out"
   ]
  },
  {
   "cell_type": "code",
   "execution_count": 4,
   "id": "4ac761a0",
   "metadata": {},
   "outputs": [],
   "source": [
    "%%script bash\n",
    "rm -rf hw.c a.out"
   ]
  },
  {
   "cell_type": "code",
   "execution_count": 5,
   "id": "8eed8a21",
   "metadata": {},
   "outputs": [],
   "source": [
    "exit()"
   ]
  },
  {
   "cell_type": "markdown",
   "id": "32be6960",
   "metadata": {},
   "source": [
    "< [Table of Contents](#top) | [References](#references) >\n",
    "<a id=\"abstract12\"></a>\n",
    "***\n",
    "###### 1-2\n",
    "***"
   ]
  },
  {
   "cell_type": "code",
   "execution_count": 1,
   "id": "01f0f514",
   "metadata": {},
   "outputs": [
    {
     "name": "stdout",
     "output_type": "stream",
     "text": [
      "Writing hw.c\n"
     ]
    }
   ],
   "source": [
    "%%writefile hw.c\n",
    "    /* Exercise 1-2: What happens when printf argument string contains \\c.\n",
    "Input:\n",
    "Process: (printf)\n",
    "Output:\n",
    "*/\n",
    "#include <stdio.h>\n",
    "int main()\n",
    "{\n",
    "    printf(\"hw\\c\");\n",
    "}"
   ]
  },
  {
   "cell_type": "code",
   "execution_count": 2,
   "id": "3e343724",
   "metadata": {},
   "outputs": [
    {
     "name": "stderr",
     "output_type": "stream",
     "text": [
      "hw.c: In function 'main':\n",
      "hw.c:9:12: warning: unknown escape sequence: '\\c'\n",
      "    9 |     printf(\"hw\\c\");\n",
      "      |            ^~~~~~\n"
     ]
    }
   ],
   "source": [
    "%%script bash\n",
    "cc hw.c"
   ]
  },
  {
   "cell_type": "code",
   "execution_count": 3,
   "id": "739c0176",
   "metadata": {},
   "outputs": [],
   "source": [
    "%%script bash\n",
    "rm -rf hw.c a.out"
   ]
  },
  {
   "cell_type": "code",
   "execution_count": 4,
   "id": "27799647",
   "metadata": {},
   "outputs": [],
   "source": [
    "exit()"
   ]
  },
  {
   "cell_type": "markdown",
   "id": "5a985363",
   "metadata": {},
   "source": [
    "< [Table of Contents](#top) | [References](#references) >\n",
    "<a id=\"abstract12a\"></a>\n",
    "***\n",
    "###### 1-2.a\n",
    "***"
   ]
  },
  {
   "cell_type": "code",
   "execution_count": 1,
   "id": "de83b7ef",
   "metadata": {},
   "outputs": [
    {
     "name": "stdout",
     "output_type": "stream",
     "text": [
      "Welcome to JupyROOT 6.24/00\n"
     ]
    }
   ],
   "source": [
    "import ROOT"
   ]
  },
  {
   "cell_type": "markdown",
   "id": "73fde8eb",
   "metadata": {},
   "source": [
    "- computation begins with assignment statements - setting the variables to initial values [2]"
   ]
  },
  {
   "cell_type": "code",
   "execution_count": 2,
   "id": "a7be1b61",
   "metadata": {},
   "outputs": [],
   "source": [
    "%%cpp\n",
    "int nCelsius,nLower=0,nUpper=300,nStep=20,nFahr=nLower;"
   ]
  },
  {
   "cell_type": "markdown",
   "id": "a18bbe4a",
   "metadata": {},
   "source": [
    "- using the formula $C=(5{\\div}9)(F-32)$ to create the table of fahrenheit to celsius by first dividing $5{\\div}9$ would result in integer division truncation (fractional part is discarded) - since $5$ and $9$ are integers then $5{\\div}9$ would be truncated to zero and so all the celsius temperatures would be reported as zero [2] "
   ]
  },
  {
   "cell_type": "code",
   "execution_count": 3,
   "id": "cea842f1",
   "metadata": {},
   "outputs": [
    {
     "name": "stdout",
     "output_type": "stream",
     "text": [
      "(int) 0\n"
     ]
    }
   ],
   "source": [
    "%%cpp\n",
    "5/9"
   ]
  },
  {
   "cell_type": "code",
   "execution_count": 4,
   "id": "d2f283eb",
   "metadata": {},
   "outputs": [
    {
     "name": "stdout",
     "output_type": "stream",
     "text": [
      "(int) -17\n"
     ]
    }
   ],
   "source": [
    "%%cpp\n",
    "5*(nFahr-32)/9"
   ]
  },
  {
   "cell_type": "markdown",
   "id": "091c6b8e",
   "metadata": {},
   "source": [
    "- using integer arithmetic results in the celsius temperatures not being very accurate ($0^{\\circ}F$ is actually about $-17.8^{\\circ}C$) - declaring ``nFahr`` and ``nCelsius`` to be ``float`` allows the formula for conversion to be written in a more natural way (unable to use $5{\\div}9$ given integer division would truncate it to zero) - a decimal point in a constant indicates that it is floating point so $5.0{\\div}9.0$ is not truncated because it is the ratio of two floating-point values [2]"
   ]
  },
  {
   "cell_type": "code",
   "execution_count": 5,
   "id": "171aa7db",
   "metadata": {},
   "outputs": [
    {
     "name": "stdout",
     "output_type": "stream",
     "text": [
      "(double) 0.55555556\n"
     ]
    }
   ],
   "source": [
    "%%cpp\n",
    "5.0/9.0"
   ]
  },
  {
   "cell_type": "markdown",
   "id": "fbb4f1e2",
   "metadata": {},
   "source": [
    "- if an arithmetic operator has integer operands then an integer operation is performed - if an arithmetic operator has one floating-point operand and one integer operand then the integer will be converted to floating point before the operation is done [2]"
   ]
  },
  {
   "cell_type": "code",
   "execution_count": 6,
   "id": "09390382",
   "metadata": {},
   "outputs": [
    {
     "name": "stdout",
     "output_type": "stream",
     "text": [
      "(double) 0.55555556\n"
     ]
    }
   ],
   "source": [
    "%%cpp\n",
    "5.0/9"
   ]
  },
  {
   "cell_type": "code",
   "execution_count": 7,
   "id": "aaf53034",
   "metadata": {},
   "outputs": [
    {
     "name": "stdout",
     "output_type": "stream",
     "text": [
      "(double) 0.55555556\n"
     ]
    }
   ],
   "source": [
    "%%cpp\n",
    "5/9.0"
   ]
  },
  {
   "cell_type": "code",
   "execution_count": 8,
   "id": "4e11a0b0",
   "metadata": {},
   "outputs": [],
   "source": [
    "%%cpp\n",
    "float nFahr,nCelsius;"
   ]
  },
  {
   "cell_type": "markdown",
   "id": "12b51217",
   "metadata": {},
   "source": [
    "- writing ``nFahr-32`` then the ``32`` would be automatically converted to floating point - writing floating-point constants with explicit decimal points even when they are integral values emphasises their floating-point nature for human readers [2]"
   ]
  },
  {
   "cell_type": "code",
   "execution_count": 9,
   "id": "4d1f6e12",
   "metadata": {},
   "outputs": [
    {
     "name": "stdout",
     "output_type": "stream",
     "text": [
      "(float) -32.0000f\n"
     ]
    }
   ],
   "source": [
    "%%cpp\n",
    "nFahr-32"
   ]
  },
  {
   "cell_type": "markdown",
   "id": "de774c2b",
   "metadata": {},
   "source": [
    "- the assignment ``nFahr=nLower`` and the test ``while (nFahr<=nUpper)`` also works in the natural way (the ``int`` is converted to ``float`` before the operation is done) [2]"
   ]
  },
  {
   "cell_type": "code",
   "execution_count": 10,
   "id": "34f90b81",
   "metadata": {},
   "outputs": [
    {
     "name": "stdout",
     "output_type": "stream",
     "text": [
      "(float) 0.00000f\n"
     ]
    }
   ],
   "source": [
    "%%cpp\n",
    "nFahr"
   ]
  },
  {
   "cell_type": "code",
   "execution_count": 11,
   "id": "0a792c0f",
   "metadata": {},
   "outputs": [
    {
     "name": "stdout",
     "output_type": "stream",
     "text": [
      "(int) 0\n"
     ]
    }
   ],
   "source": [
    "%%cpp\n",
    "nLower"
   ]
  },
  {
   "cell_type": "code",
   "execution_count": 12,
   "id": "2bbfd354",
   "metadata": {},
   "outputs": [
    {
     "name": "stdout",
     "output_type": "stream",
     "text": [
      "(int) 300\n"
     ]
    }
   ],
   "source": [
    "%%cpp\n",
    "nUpper"
   ]
  },
  {
   "cell_type": "markdown",
   "id": "e0f088c1",
   "metadata": {},
   "source": [
    "- each line of the table is computed the same way using a loop that repeats once per output line [2]"
   ]
  },
  {
   "cell_type": "code",
   "execution_count": 13,
   "id": "1e081b77",
   "metadata": {},
   "outputs": [
    {
     "name": "stdout",
     "output_type": "stream",
     "text": [
      "  0 -17.8\n",
      " 20  -6.7\n",
      " 40   4.4\n",
      " 60  15.6\n",
      " 80  26.7\n",
      "100  37.8\n",
      "120  48.9\n",
      "140  60.0\n",
      "160  71.1\n",
      "180  82.2\n",
      "200  93.3\n",
      "220 104.4\n",
      "240 115.6\n",
      "260 126.7\n",
      "280 137.8\n",
      "300 148.9\n"
     ]
    }
   ],
   "source": [
    "%%cpp\n",
    "while (nFahr<=nUpper)\n",
    "{ \n",
    "    nCelsius=(5.0/9)*(nFahr-32);\n",
    "    printf(\"%3.0f%6.1f\\n\",nFahr,nCelsius);\n",
    "    nFahr=nFahr+nStep;\n",
    "}"
   ]
  },
  {
   "cell_type": "code",
   "execution_count": 14,
   "id": "dd41c14e",
   "metadata": {},
   "outputs": [],
   "source": [
    "exit()"
   ]
  },
  {
   "cell_type": "markdown",
   "id": "ba3ef626",
   "metadata": {},
   "source": [
    "< [Table of Contents](#top) | [References](#references) >\n",
    "<a id=\"abstract13\"></a>\n",
    "***\n",
    "###### 1-3\n",
    "***"
   ]
  },
  {
   "cell_type": "code",
   "execution_count": 1,
   "id": "5ad77d7c",
   "metadata": {},
   "outputs": [
    {
     "name": "stdout",
     "output_type": "stream",
     "text": [
      "Writing fc.c\n"
     ]
    }
   ],
   "source": [
    "%%writefile fc.c\n",
    "    /* Exercise 1-3: Using formula C=(5/9)(F-32) to create table of fahrenheit to celsius.\n",
    "Input:\n",
    "Process: (printf)\n",
    "Output:\n",
    "*/\n",
    "#include <stdio.h>\n",
    "int main()\n",
    "{\n",
    "    int nLower=0,nUpper=300,nStep=20;\n",
    "    float nFahr=nLower,nCelsius;\n",
    "    printf(\"Fahrenheit - Celsius\\n\");\n",
    "    while (nFahr<=nUpper)\n",
    "    {\n",
    "        nCelsius=(5.0/9)*(nFahr-32);\n",
    "        printf(\"%6.0f%13.1f\\n\",nFahr,nCelsius);\n",
    "        nFahr=nFahr+nStep;\n",
    "    }\n",
    "}"
   ]
  },
  {
   "cell_type": "code",
   "execution_count": 2,
   "id": "73d08ac0",
   "metadata": {},
   "outputs": [],
   "source": [
    "%%script bash\n",
    "cc fc.c"
   ]
  },
  {
   "cell_type": "code",
   "execution_count": 3,
   "id": "a04453a9",
   "metadata": {},
   "outputs": [
    {
     "name": "stdout",
     "output_type": "stream",
     "text": [
      "Fahrenheit - Celsius\n",
      "     0        -17.8\n",
      "    20         -6.7\n",
      "    40          4.4\n",
      "    60         15.6\n",
      "    80         26.7\n",
      "   100         37.8\n",
      "   120         48.9\n",
      "   140         60.0\n",
      "   160         71.1\n",
      "   180         82.2\n",
      "   200         93.3\n",
      "   220        104.4\n",
      "   240        115.6\n",
      "   260        126.7\n",
      "   280        137.8\n",
      "   300        148.9\n"
     ]
    }
   ],
   "source": [
    "%%script bash\n",
    "./a.out"
   ]
  },
  {
   "cell_type": "code",
   "execution_count": 4,
   "id": "d7dbe62a",
   "metadata": {},
   "outputs": [],
   "source": [
    "%%script bash\n",
    "rm -rf fc.c a.out"
   ]
  },
  {
   "cell_type": "code",
   "execution_count": 5,
   "id": "127aa907",
   "metadata": {},
   "outputs": [],
   "source": [
    "exit()"
   ]
  },
  {
   "cell_type": "markdown",
   "id": "cbcb0016",
   "metadata": {},
   "source": [
    "< [Table of Contents](#top) | [References](#references) >\n",
    "<a id=\"abstract14\"></a>\n",
    "***\n",
    "###### 1-4\n",
    "***"
   ]
  },
  {
   "cell_type": "code",
   "execution_count": 1,
   "id": "1f682685",
   "metadata": {},
   "outputs": [
    {
     "name": "stdout",
     "output_type": "stream",
     "text": [
      "Writing cf.c\n"
     ]
    }
   ],
   "source": [
    "%%writefile cf.c\n",
    "    /* Exercise 1-4: Repurpose formula C=(5/9)(F-32) to create table of celsius to fahrenheit.\n",
    "Input:\n",
    "Process: (printf)\n",
    "Output:\n",
    "*/\n",
    "#include <stdio.h>\n",
    "int main()\n",
    "{\n",
    "    int nLower=0,nUpper=300,nStep=20;\n",
    "    float nFahr,nCelsius=nLower;\n",
    "    printf(\"Celsius - Fahrenheit\\n\");\n",
    "    while (nCelsius<=nUpper)\n",
    "    {\n",
    "        nFahr=nCelsius/(5.0/9)+32;\n",
    "        printf(\"%4.0f%13.1f\\n\",nCelsius,nFahr);\n",
    "        nCelsius=nCelsius+nStep;\n",
    "    }\n",
    "}"
   ]
  },
  {
   "cell_type": "code",
   "execution_count": 2,
   "id": "39ef6eb8",
   "metadata": {},
   "outputs": [],
   "source": [
    "%%script bash\n",
    "cc cf.c"
   ]
  },
  {
   "cell_type": "code",
   "execution_count": 3,
   "id": "89868f07",
   "metadata": {},
   "outputs": [
    {
     "name": "stdout",
     "output_type": "stream",
     "text": [
      "Celsius - Fahrenheit\n",
      "   0         32.0\n",
      "  20         68.0\n",
      "  40        104.0\n",
      "  60        140.0\n",
      "  80        176.0\n",
      " 100        212.0\n",
      " 120        248.0\n",
      " 140        284.0\n",
      " 160        320.0\n",
      " 180        356.0\n",
      " 200        392.0\n",
      " 220        428.0\n",
      " 240        464.0\n",
      " 260        500.0\n",
      " 280        536.0\n",
      " 300        572.0\n"
     ]
    }
   ],
   "source": [
    "%%script bash\n",
    "./a.out"
   ]
  },
  {
   "cell_type": "code",
   "execution_count": 4,
   "id": "297b91ef",
   "metadata": {},
   "outputs": [],
   "source": [
    "%%script bash\n",
    "rm -rf cf.c a.out"
   ]
  },
  {
   "cell_type": "code",
   "execution_count": 5,
   "id": "dad9ffd0",
   "metadata": {},
   "outputs": [],
   "source": [
    "exit()"
   ]
  },
  {
   "cell_type": "markdown",
   "id": "f6e7f02d",
   "metadata": {},
   "source": [
    "< [Table of Contents](#top) | [References](#references) >\n",
    "<a id=\"abstract14a\"></a>\n",
    "***\n",
    "###### 1-4.a\n",
    "***"
   ]
  },
  {
   "cell_type": "markdown",
   "id": "ef1e1283",
   "metadata": {},
   "source": [
    "- variation on the temperature converter (refer ``1-2.a``) [2]"
   ]
  },
  {
   "cell_type": "code",
   "execution_count": 1,
   "id": "cc8abf02",
   "metadata": {},
   "outputs": [
    {
     "name": "stdout",
     "output_type": "stream",
     "text": [
      "Welcome to JupyROOT 6.24/00\n"
     ]
    }
   ],
   "source": [
    "import ROOT"
   ]
  },
  {
   "cell_type": "markdown",
   "id": "90f8fb7b",
   "metadata": {},
   "source": [
    "- eliminate most of the variables with ``nFahr`` remaining (make it an ``int``) [2]"
   ]
  },
  {
   "cell_type": "code",
   "execution_count": 2,
   "id": "a7b3a6a1",
   "metadata": {},
   "outputs": [],
   "source": [
    "%%cpp\n",
    "int nFahr;"
   ]
  },
  {
   "cell_type": "markdown",
   "id": "46166fb1",
   "metadata": {},
   "source": [
    "- variables ``nLower`` and ``nUpper`` and ``nStep`` appear only as constants in the ``for`` statement [2]"
   ]
  },
  {
   "cell_type": "markdown",
   "id": "2de84b33",
   "metadata": {},
   "source": [
    "- the expression that computes the ``nCelsius`` now appears as the third argument of the ``printf`` instead of as a separate assignment statement [2]"
   ]
  },
  {
   "cell_type": "code",
   "execution_count": 3,
   "id": "fd5b77c5",
   "metadata": {},
   "outputs": [
    {
     "name": "stdout",
     "output_type": "stream",
     "text": [
      "  0  -17.8\n",
      " 20   -6.7\n",
      " 40    4.4\n",
      " 60   15.6\n",
      " 80   26.7\n",
      "100   37.8\n",
      "120   48.9\n",
      "140   60.0\n",
      "160   71.1\n",
      "180   82.2\n",
      "200   93.3\n",
      "220  104.4\n",
      "240  115.6\n",
      "260  126.7\n",
      "280  137.8\n",
      "300  148.9\n"
     ]
    }
   ],
   "source": [
    "%%cpp\n",
    "for (nFahr=0; nFahr<=300; nFahr=nFahr+20)\n",
    "    printf(\"%3d %6.1f\\n\",nFahr,(5.0/9)*(nFahr-32));"
   ]
  },
  {
   "cell_type": "code",
   "execution_count": 4,
   "id": "879bd206",
   "metadata": {},
   "outputs": [],
   "source": [
    "exit()"
   ]
  },
  {
   "cell_type": "markdown",
   "id": "85b37fda",
   "metadata": {},
   "source": [
    "< [Table of Contents](#top) | [References](#references) >\n",
    "<a id=\"abstract15\"></a>\n",
    "***\n",
    "###### 1-5\n",
    "***"
   ]
  },
  {
   "cell_type": "code",
   "execution_count": 1,
   "id": "89bc3ae7",
   "metadata": {},
   "outputs": [
    {
     "name": "stdout",
     "output_type": "stream",
     "text": [
      "Writing cf.c\n"
     ]
    }
   ],
   "source": [
    "%%writefile cf.c\n",
    "    /* Exercise 1-5: Using the formula C=(5/9)(F-32) create table of celsius to fahrenheit in reverse order.\n",
    "Input:\n",
    "Process: (printf)\n",
    "Output:\n",
    "*/\n",
    "#include <stdio.h>\n",
    "int main()\n",
    "{\n",
    "    int nFahr;\n",
    "    for (nFahr=300; nFahr>=0; nFahr-=20)\n",
    "        printf(\"%3d %6.1f\\n\",nFahr,(5.0/9)*(nFahr-32));\n",
    "}"
   ]
  },
  {
   "cell_type": "code",
   "execution_count": 2,
   "id": "6a1b4bce",
   "metadata": {},
   "outputs": [],
   "source": [
    "%%script bash\n",
    "cc cf.c"
   ]
  },
  {
   "cell_type": "code",
   "execution_count": 3,
   "id": "e55cc6e4",
   "metadata": {},
   "outputs": [
    {
     "name": "stdout",
     "output_type": "stream",
     "text": [
      "300  148.9\n",
      "280  137.8\n",
      "260  126.7\n",
      "240  115.6\n",
      "220  104.4\n",
      "200   93.3\n",
      "180   82.2\n",
      "160   71.1\n",
      "140   60.0\n",
      "120   48.9\n",
      "100   37.8\n",
      " 80   26.7\n",
      " 60   15.6\n",
      " 40    4.4\n",
      " 20   -6.7\n",
      "  0  -17.8\n"
     ]
    }
   ],
   "source": [
    "%%script bash\n",
    "./a.out"
   ]
  },
  {
   "cell_type": "code",
   "execution_count": 4,
   "id": "8a077c8a",
   "metadata": {},
   "outputs": [],
   "source": [
    "%%script bash\n",
    "rm -rf cf.c a.out"
   ]
  },
  {
   "cell_type": "code",
   "execution_count": 5,
   "id": "9a06b210",
   "metadata": {},
   "outputs": [],
   "source": [
    "exit()"
   ]
  },
  {
   "cell_type": "markdown",
   "id": "3c8d918a",
   "metadata": {},
   "source": [
    "< [Table of Contents](#top) | [References](#references) >\n",
    "<a id=\"abstract15a\"></a>\n",
    "***\n",
    "###### 1-5.a\n",
    "***"
   ]
  },
  {
   "cell_type": "code",
   "execution_count": 1,
   "id": "369e0097",
   "metadata": {},
   "outputs": [
    {
     "name": "stdout",
     "output_type": "stream",
     "text": [
      "Welcome to JupyROOT 6.24/00\n"
     ]
    }
   ],
   "source": [
    "import ROOT"
   ]
  },
  {
   "cell_type": "markdown",
   "id": "de7a582d",
   "metadata": {},
   "source": [
    "- the quantities ``LOWER`` and ``UPPER`` and ``STEP`` are symbolic constants [2]"
   ]
  },
  {
   "cell_type": "markdown",
   "id": "80242ae2",
   "metadata": {},
   "source": [
    "- these are not variables so do not appear in declarations and are conventionally written in upper case so can be readily distinguished from lower case variable names [2]"
   ]
  },
  {
   "cell_type": "markdown",
   "id": "0b257630",
   "metadata": {},
   "source": [
    "- note there is no ``;`` at the end [2]"
   ]
  },
  {
   "cell_type": "code",
   "execution_count": 2,
   "id": "ecdd5b22",
   "metadata": {},
   "outputs": [],
   "source": [
    "%%cpp\n",
    "#define LOWER 0 // table lower limit\n",
    "#define UPPER 300 //  table upper limit\n",
    "#define STEP 20 // table step size"
   ]
  },
  {
   "cell_type": "code",
   "execution_count": 3,
   "id": "d2818ad1",
   "metadata": {},
   "outputs": [],
   "source": [
    "%%cpp\n",
    "int nFahr;"
   ]
  },
  {
   "cell_type": "code",
   "execution_count": 4,
   "id": "c17e8c8f",
   "metadata": {},
   "outputs": [
    {
     "name": "stdout",
     "output_type": "stream",
     "text": [
      "300 148.9\n",
      "280 137.8\n",
      "260 126.7\n",
      "240 115.6\n",
      "220 104.4\n",
      "200  93.3\n",
      "180  82.2\n",
      "160  71.1\n",
      "140  60.0\n",
      "120  48.9\n",
      "100  37.8\n",
      " 80  26.7\n",
      " 60  15.6\n",
      " 40   4.4\n",
      " 20  -6.7\n",
      "  0 -17.8\n"
     ]
    }
   ],
   "source": [
    "%%cpp\n",
    "for (nFahr=UPPER; nFahr>=LOWER; nFahr-=STEP)\n",
    "    printf(\"%3d%6.1f\\n\",nFahr,(5.0/9)*(nFahr-32));"
   ]
  },
  {
   "cell_type": "code",
   "execution_count": 5,
   "id": "385b03c3",
   "metadata": {},
   "outputs": [],
   "source": [
    "exit()"
   ]
  },
  {
   "cell_type": "markdown",
   "id": "7257f4dc",
   "metadata": {},
   "source": [
    "***\n",
    "## END"
   ]
  },
  {
   "cell_type": "markdown",
   "id": "1634304e",
   "metadata": {},
   "source": [
    "< [Table of Contents](#top) | [Abstract](#abstract) | [Solution](#solution) | [Conclusion](#conclusion) | [References](#references) >\n",
    "<a id=\"introduction\"></a>\n",
    "***\n",
    "## Introduction\n",
    "***"
   ]
  },
  {
   "cell_type": "markdown",
   "id": "17fdf96d",
   "metadata": {},
   "source": [
    "< [Table of Contents](#top) | [References](#references) >\n",
    "<a id=\"statement\"></a>\n",
    "***\n",
    "### Statement\n",
    "***"
   ]
  },
  {
   "cell_type": "markdown",
   "id": "6daabc0f",
   "metadata": {},
   "source": [
    "- statements can contains one or more expressions - an expression being a function call or other operator(s) (mathematical/bitwise etc) - can be combined in a single statement although its important to use good judgement and not make things too complex (hard to read) [1]"
   ]
  },
  {
   "cell_type": "markdown",
   "id": "e6c9d33c",
   "metadata": {},
   "source": [
    "- its important from a readability point of view to put statements on a single line although sometimes that does not work (sometimes statements are to long and span multiple lines) - ``C`` does not care where statements are put [1]"
   ]
  },
  {
   "cell_type": "markdown",
   "id": "506ad07a",
   "metadata": {},
   "source": [
    "- the fact that statements on are a line by themselves so that they could be readable means nothing to the compiler - can write a whole program on one line albeit dumb thing to do - the point is that ``C`` is a free format syntax language whereby a line means nothing - Fortran on the otherhand is a little different whereby a line is very important and even column numbers are important [1]"
   ]
  },
  {
   "cell_type": "markdown",
   "id": "3eeae8dc",
   "metadata": {},
   "source": [
    "< [Table of Contents](#top) | [References](#references) >\n",
    "<a id=\"statementsCompound\"></a>\n",
    "***\n",
    "###### Compound\n",
    "***"
   ]
  },
  {
   "cell_type": "markdown",
   "id": "856c9acd",
   "metadata": {},
   "source": [
    "- every statement must end in a semicolon - this differs from some languages like Pascal where a semicolon is a statement separator meaning there is no need to have the last statement followed by a semicolon [1]"
   ]
  },
  {
   "cell_type": "markdown",
   "id": "85e58b74",
   "metadata": {},
   "source": [
    "- an exception is when a group of statements act almost as if it were a single statement - the ``if`` statement to make some decisions based on a condition being ``true`` then executing some statements - basically groups a number of statements together as a single unit called a compound statement - need to make a block out of it - a block being something that is surrounded with curly braces [1]"
   ]
  },
  {
   "cell_type": "markdown",
   "id": "4385a05c",
   "metadata": {},
   "source": [
    "- compound statements group single statements (end with semicolons) - the block of statements are surrounded by curly braces [1]"
   ]
  },
  {
   "cell_type": "markdown",
   "id": "20891850",
   "metadata": {},
   "source": [
    "***\n",
    "### END"
   ]
  },
  {
   "cell_type": "markdown",
   "id": "b2162743",
   "metadata": {},
   "source": [
    "< [Table of Contents](#top) | [References](#references) >\n",
    "<a id=\"dataType\"></a>\n",
    "***\n",
    "### Data Type\n",
    "***"
   ]
  },
  {
   "cell_type": "markdown",
   "id": "48abcd16",
   "metadata": {},
   "source": [
    "- basic data types in ``C`` include ``char`` / ``int`` / ``float`` / ``double`` [2]"
   ]
  },
  {
   "cell_type": "markdown",
   "id": "1944020f",
   "metadata": {},
   "source": [
    "< [Table of Contents](#top) | [References](#references) >\n",
    "<a id=\"dataTypesCharacter\"></a>\n",
    "***\n",
    "###### Character\n",
    "***"
   ]
  },
  {
   "cell_type": "markdown",
   "id": "cb152472",
   "metadata": {},
   "source": [
    "- a single byte capable of holding one character in the local character set [2]"
   ]
  },
  {
   "cell_type": "markdown",
   "id": "aaa74967",
   "metadata": {},
   "source": [
    "< [Table of Contents](#top) | [References](#references) >\n",
    "<a id=\"intTypeschar\"></a>\n",
    "***\n",
    "###### ``char``\n",
    "***"
   ]
  },
  {
   "cell_type": "markdown",
   "id": "73043cec",
   "metadata": {},
   "source": [
    "- the ``char`` is a special form of integer dealing with characters in a program - an underlying character set allows the encoding of each character to some number (the most commonly used is ASCII) [1]"
   ]
  },
  {
   "cell_type": "markdown",
   "id": "e252df3b",
   "metadata": {},
   "source": [
    "- lowercase $a$ encoded decimal $97$ - characters are really just numbers albeit treated differently in programs - how they are stored depends on the encoding used - ASCII being the most common (other types of encoding exist) [1]"
   ]
  },
  {
   "cell_type": "markdown",
   "id": "1acd9a76",
   "metadata": {},
   "source": [
    "- EBCDIC (Extended Binary Coded Decimal Interchange Code) is considerably different than ASCII [1]"
   ]
  },
  {
   "cell_type": "markdown",
   "id": "9a91046c",
   "metadata": {},
   "source": [
    "- a standard which is a superset of ASCII called ISO 8859 includes some characters that are needed in other countries besides the United States [1]"
   ]
  },
  {
   "cell_type": "markdown",
   "id": "4aa4f4d9",
   "metadata": {},
   "source": [
    "- Unicode (universal encoding) is a 16-bit encoding as opposed to 8-bit (ASCII / EBCDIC / ISO 8859) - purpose of Unicode is to allow a single encoding for languages throughout the modern business world - cannot just use ASCII and go to Japan (entirely different alphabet) - the same is true throughout the world (many different encodings) - to write programs that can adapt themselves to different encodings is extremely difficult and has been one of the biggest impediments to programs being made for the international market - Unicode is an attempt to solve the problem and it turns out that Unicode is the encoding used in ``Java`` [1]"
   ]
  },
  {
   "cell_type": "code",
   "execution_count": 1,
   "id": "3d95fb6b",
   "metadata": {},
   "outputs": [
    {
     "name": "stdout",
     "output_type": "stream",
     "text": [
      "Welcome to JupyROOT 6.24/00\n"
     ]
    }
   ],
   "source": [
    "import ROOT"
   ]
  },
  {
   "cell_type": "code",
   "execution_count": 2,
   "id": "d2f02919",
   "metadata": {},
   "outputs": [
    {
     "name": "stdout",
     "output_type": "stream",
     "text": [
      "(int) -128\n"
     ]
    }
   ],
   "source": [
    "%%cpp\n",
    "CHAR_MIN"
   ]
  },
  {
   "cell_type": "code",
   "execution_count": 3,
   "id": "c8846bfd",
   "metadata": {},
   "outputs": [
    {
     "name": "stdout",
     "output_type": "stream",
     "text": [
      "(int) 127\n"
     ]
    }
   ],
   "source": [
    "%%cpp\n",
    "CHAR_MAX"
   ]
  },
  {
   "cell_type": "code",
   "execution_count": 4,
   "id": "b3d38496",
   "metadata": {},
   "outputs": [],
   "source": [
    "exit()"
   ]
  },
  {
   "cell_type": "markdown",
   "id": "977d2512",
   "metadata": {},
   "source": [
    "< [Table of Contents](#top) | [References](#references) >\n",
    "<a id=\"intTypeswchar_t\"></a>\n",
    "***\n",
    "###### ``wchar_t``\n",
    "***"
   ]
  },
  {
   "cell_type": "markdown",
   "id": "1b736efc",
   "metadata": {},
   "source": [
    "- no encoding is specified for ``C`` or ``C++`` (left open) [1]"
   ]
  },
  {
   "cell_type": "markdown",
   "id": "99388500",
   "metadata": {},
   "source": [
    "- for ``C`` and ``C++`` the basic character data type is ``char`` (byte) - thats pretty much all there is to it - think of a byte and thats what a ``char`` (narrow character) is - the basic ``C`` character does not allow the use of Unicode and for this reason have defined a new type which is available in both ``C`` and ``C++`` called ``wchar_t`` (wide character) [1]"
   ]
  },
  {
   "cell_type": "markdown",
   "id": "0f80f5d2",
   "metadata": {},
   "source": [
    "- some functions in the library deal with white characters - in most systems a white character is 16-bits and so it allows the use of Unicode but all of this needs to be supported by the compiler and by the platform [1]"
   ]
  },
  {
   "cell_type": "markdown",
   "id": "cce16262",
   "metadata": {},
   "source": [
    "< [Table of Contents](#top) | [References](#references) >\n",
    "<a id=\"dataTypesIntegers\"></a>\n",
    "***\n",
    "###### Integer\n",
    "***"
   ]
  },
  {
   "cell_type": "markdown",
   "id": "32b96f65",
   "metadata": {},
   "source": [
    "- fundamental data type and basic building blocks of all entities in a program [1]"
   ]
  },
  {
   "cell_type": "markdown",
   "id": "1fde8465",
   "metadata": {},
   "source": [
    "- integers come in different sizes in ``C`` which should not be surprising since its a systems programming language - the different sizes are for different purposes [1]"
   ]
  },
  {
   "cell_type": "markdown",
   "id": "2bb1edd7",
   "metadata": {},
   "source": [
    "- matches the word size of the machine - word refers to the number of bits processed by a computers CPU in one go (typically 64-bits) [1]"
   ]
  },
  {
   "cell_type": "markdown",
   "id": "fd566598",
   "metadata": {},
   "source": [
    "< [Table of Contents](#top) | [References](#references) >\n",
    "<a id=\"intTypesint\"></a>\n",
    "***\n",
    "###### ``int``\n",
    "***"
   ]
  },
  {
   "cell_type": "markdown",
   "id": "c37dbbc1",
   "metadata": {},
   "source": [
    "- typically reflects the natural size of integers on the host machine [2]"
   ]
  },
  {
   "cell_type": "code",
   "execution_count": 1,
   "id": "787fa99d",
   "metadata": {},
   "outputs": [
    {
     "name": "stdout",
     "output_type": "stream",
     "text": [
      "Welcome to JupyROOT 6.24/00\n"
     ]
    }
   ],
   "source": [
    "import ROOT"
   ]
  },
  {
   "cell_type": "code",
   "execution_count": 2,
   "id": "7a683862",
   "metadata": {},
   "outputs": [
    {
     "name": "stdout",
     "output_type": "stream",
     "text": [
      "(int) -2147483648\n"
     ]
    }
   ],
   "source": [
    "%%cpp\n",
    "INT_MIN"
   ]
  },
  {
   "cell_type": "code",
   "execution_count": 3,
   "id": "b9a9b5aa",
   "metadata": {},
   "outputs": [
    {
     "name": "stdout",
     "output_type": "stream",
     "text": [
      "(int) 2147483647\n"
     ]
    }
   ],
   "source": [
    "%%cpp\n",
    "INT_MAX"
   ]
  },
  {
   "cell_type": "code",
   "execution_count": 4,
   "id": "d1528922",
   "metadata": {},
   "outputs": [],
   "source": [
    "exit()"
   ]
  },
  {
   "cell_type": "markdown",
   "id": "2ef56a7e",
   "metadata": {},
   "source": [
    "< [Table of Contents](#top) | [References](#references) >\n",
    "<a id=\"intTypesQualifier\"></a>\n",
    "***\n",
    "###### Qualifier\n",
    "***"
   ]
  },
  {
   "cell_type": "markdown",
   "id": "9a7146ef",
   "metadata": {},
   "source": [
    "- there are a number of qualifiers that can be applied to the basic data types - the integer qualifiers are ``short`` and ``long`` with the word ``int`` typically omitted in such declarations [2]"
   ]
  },
  {
   "cell_type": "markdown",
   "id": "03f5c36f",
   "metadata": {},
   "source": [
    "- on most platforms ``short`` and ``int`` and ``long`` are really not all distinct - will never see a platform where all three are distinct although possible [1]"
   ]
  },
  {
   "cell_type": "markdown",
   "id": "5038edce",
   "metadata": {},
   "source": [
    "- the intent is that ``short`` and ``long`` should provide different lengths of integers where practical - ``int`` will normally be the natural size for a particular machine - ``short`` is often 16-bits long and ``int`` either 16 or 32-bits - each compiler is free to choose appropriate sizes for its own hardware subject only to the restriction that ``short`` and ``int`` are at least 16-bits and ``long`` is at least 32-bits and ``short`` is no longer than ``int`` which is no longer than ``long`` [2]"
   ]
  },
  {
   "cell_type": "markdown",
   "id": "cc766b75",
   "metadata": {},
   "source": [
    "< [Table of Contents](#top) | [References](#references) >\n",
    "<a id=\"intTypesshort\"></a>\n",
    "***\n",
    "###### ``short``\n",
    "***"
   ]
  },
  {
   "cell_type": "code",
   "execution_count": 1,
   "id": "47550f3c",
   "metadata": {},
   "outputs": [
    {
     "name": "stdout",
     "output_type": "stream",
     "text": [
      "Welcome to JupyROOT 6.24/00\n"
     ]
    }
   ],
   "source": [
    "import ROOT"
   ]
  },
  {
   "cell_type": "code",
   "execution_count": 2,
   "id": "c117fdbf",
   "metadata": {},
   "outputs": [
    {
     "name": "stdout",
     "output_type": "stream",
     "text": [
      "(int) -32768\n"
     ]
    }
   ],
   "source": [
    "%%cpp\n",
    "SHRT_MIN"
   ]
  },
  {
   "cell_type": "code",
   "execution_count": 3,
   "id": "dc0dc061",
   "metadata": {},
   "outputs": [
    {
     "name": "stdout",
     "output_type": "stream",
     "text": [
      "(int) 32767\n"
     ]
    }
   ],
   "source": [
    "%%cpp\n",
    "SHRT_MAX"
   ]
  },
  {
   "cell_type": "code",
   "execution_count": 4,
   "id": "084d6226",
   "metadata": {},
   "outputs": [],
   "source": [
    "exit()"
   ]
  },
  {
   "cell_type": "markdown",
   "id": "47589025",
   "metadata": {},
   "source": [
    "< [Table of Contents](#top) | [References](#references) >\n",
    "<a id=\"intTypeslong\"></a>\n",
    "***\n",
    "###### ``long``\n",
    "***"
   ]
  },
  {
   "cell_type": "code",
   "execution_count": 1,
   "id": "b368cd16",
   "metadata": {},
   "outputs": [
    {
     "name": "stdout",
     "output_type": "stream",
     "text": [
      "Welcome to JupyROOT 6.24/00\n"
     ]
    }
   ],
   "source": [
    "import ROOT"
   ]
  },
  {
   "cell_type": "code",
   "execution_count": 2,
   "id": "abeb0d24",
   "metadata": {},
   "outputs": [
    {
     "name": "stdout",
     "output_type": "stream",
     "text": [
      "(long) -9223372036854775808\n"
     ]
    }
   ],
   "source": [
    "%%cpp\n",
    "LONG_MIN"
   ]
  },
  {
   "cell_type": "code",
   "execution_count": 3,
   "id": "816b8173",
   "metadata": {},
   "outputs": [
    {
     "name": "stdout",
     "output_type": "stream",
     "text": [
      "(long) 9223372036854775807\n"
     ]
    }
   ],
   "source": [
    "%%cpp\n",
    "LONG_MAX"
   ]
  },
  {
   "cell_type": "code",
   "execution_count": 4,
   "id": "b249c454",
   "metadata": {},
   "outputs": [],
   "source": [
    "exit()"
   ]
  },
  {
   "cell_type": "markdown",
   "id": "8d9b2bc9",
   "metadata": {},
   "source": [
    "< [Table of Contents](#top) | [References](#references) >\n",
    "<a id=\"intSignedversusUnsigned\"></a>\n",
    "***\n",
    "###### Signed/Unsigned\n",
    "***"
   ]
  },
  {
   "cell_type": "markdown",
   "id": "e3104937",
   "metadata": {},
   "source": [
    "- assuming most machines are 32-bit or bigger then this is the size that an integer would be [1]"
   ]
  },
  {
   "cell_type": "markdown",
   "id": "09298849",
   "metadata": {},
   "source": [
    "- the ``C`` standard guarantees that an integer will be at least 16-bits - compilers under ``DOS`` are 16-bits which means it can store a number up to $32767$ - reasonable to think that 16-bits would be $2^{16-1}$ which happens to be $65535$ but it turns out that integers can be ``signed`` and ``unsigned`` (by default ``signed``) [1]"
   ]
  },
  {
   "cell_type": "markdown",
   "id": "e549de8d",
   "metadata": {},
   "source": [
    "- ``Java`` only has ``signed`` integers [1]"
   ]
  },
  {
   "cell_type": "code",
   "execution_count": 1,
   "id": "a23da3ed",
   "metadata": {},
   "outputs": [
    {
     "data": {
      "text/plain": [
       "65535"
      ]
     },
     "execution_count": 1,
     "metadata": {},
     "output_type": "execute_result"
    }
   ],
   "source": [
    "2**16-1"
   ]
  },
  {
   "cell_type": "markdown",
   "id": "51f0e87f",
   "metadata": {},
   "source": [
    "- qualifiers may be applied to ``char`` or any integer - unsigned numbers are always positive or zero and obey the laws of arithmetic modulo $2^n$ (where n is the number of data type bits) - if ``char`` is 8-bits then an ``unsigned char`` has values between $0$ and $255$ while ``signed char`` has values between $-128$ and $127$ (in a twos complement machine) - whether plain ``chars`` are ``signed`` or ``unsigned`` is machine-dependent but printable characters are always positive [2]"
   ]
  },
  {
   "cell_type": "code",
   "execution_count": 2,
   "id": "ee90d1a5",
   "metadata": {},
   "outputs": [
    {
     "data": {
      "text/plain": [
       "256"
      ]
     },
     "execution_count": 2,
     "metadata": {},
     "output_type": "execute_result"
    }
   ],
   "source": [
    "2**8 # include zero"
   ]
  },
  {
   "cell_type": "code",
   "execution_count": 3,
   "id": "03fdb7b5",
   "metadata": {},
   "outputs": [],
   "source": [
    "exit()"
   ]
  },
  {
   "cell_type": "markdown",
   "id": "81ccc9a7",
   "metadata": {},
   "source": [
    "< [Table of Contents](#top) | [References](#references) >\n",
    "<a id=\"dataTypesSingle-PrecisionFloatingPoint\"></a>\n",
    "***\n",
    "###### Single-Precision Floating Point\n",
    "***"
   ]
  },
  {
   "cell_type": "markdown",
   "id": "1b20afae",
   "metadata": {},
   "source": [
    "- as with integers the size of floating-point objects are implementation-defined - ``float`` and ``double`` and ``long double`` could represent one or two or three distinct sizes [2]"
   ]
  },
  {
   "cell_type": "markdown",
   "id": "6e7245a6",
   "metadata": {},
   "source": [
    "< [Table of Contents](#top) | [References](#references) >\n",
    "<a id=\"dataTypesDoublePrecisionFloatingPointfloat\"></a>\n",
    "***\n",
    "###### ``float``\n",
    "***"
   ]
  },
  {
   "cell_type": "markdown",
   "id": "81fb8fa9",
   "metadata": {},
   "source": [
    "- a ``float`` is typically a 32-bit quantity with at least six significant digits and has a magnitude generally between about $10^{-38}$ and $10^{+38}$ [2]"
   ]
  },
  {
   "cell_type": "markdown",
   "id": "393b656b",
   "metadata": {},
   "source": [
    "< [Table of Contents](#top) | [References](#references) >\n",
    "<a id=\"dataTypesDoublePrecisionFloatingPoint\"></a>\n",
    "***\n",
    "###### Double-Precision Floating Point\n",
    "***"
   ]
  },
  {
   "cell_type": "markdown",
   "id": "c5af8571",
   "metadata": {},
   "source": [
    "- as with integers the size of floating-point objects are implementation-defined - ``float`` and ``double`` and ``long double`` could represent one or two or three distinct sizes [2]"
   ]
  },
  {
   "cell_type": "markdown",
   "id": "a761dae2",
   "metadata": {},
   "source": [
    "< [Table of Contents](#top) | [References](#references) >\n",
    "<a id=\"dataTypesDoublePrecisionFloatingPointdouble\"></a>\n",
    "***\n",
    "###### ``double``\n",
    "***"
   ]
  },
  {
   "cell_type": "markdown",
   "id": "19ef0050",
   "metadata": {},
   "source": [
    "&#x1F6A7;"
   ]
  },
  {
   "cell_type": "markdown",
   "id": "31da4652",
   "metadata": {},
   "source": [
    "< [Table of Contents](#top) | [References](#references) >\n",
    "<a id=\"dataTypesDoubleQualifier\"></a>\n",
    "***\n",
    "###### Qualifier\n",
    "***"
   ]
  },
  {
   "cell_type": "markdown",
   "id": "3b634875",
   "metadata": {},
   "source": [
    "&#x1F6A7;"
   ]
  },
  {
   "cell_type": "markdown",
   "id": "25c6b2c0",
   "metadata": {},
   "source": [
    "< [Table of Contents](#top) | [References](#references) >\n",
    "<a id=\"dataTypesDoubleQualifierslong\"></a>\n",
    "***\n",
    "###### ``long``\n",
    "***"
   ]
  },
  {
   "cell_type": "markdown",
   "id": "2ef06650",
   "metadata": {},
   "source": [
    "- as with integers the size of floating-point objects are implementation-defined - ``float`` and ``double`` and ``long double`` could represent one or two or three distinct sizes - type ``long double`` specifies extended-precision floating point [2]"
   ]
  },
  {
   "cell_type": "markdown",
   "id": "476a3c1c",
   "metadata": {},
   "source": [
    "< [Table of Contents](#top) | [References](#references) >\n",
    "<a id=\"dataTypeSymbolicConstant\"></a>\n",
    "***\n",
    "###### Symbolic Constant\n",
    "***"
   ]
  },
  {
   "cell_type": "markdown",
   "id": "a2c7c512",
   "metadata": {},
   "source": [
    "- its bad practice to bury ``magic numbers`` in a program - these numbers convey little information to someone who might have to read the program later and are hard to change in a systematic way [2]"
   ]
  },
  {
   "cell_type": "markdown",
   "id": "b4d92f29",
   "metadata": {},
   "source": [
    "- one way to deal with ``magic numbers`` is to give them meaningful names [2]"
   ]
  },
  {
   "cell_type": "markdown",
   "id": "7cc8223e",
   "metadata": {},
   "source": [
    "< [Table of Contents](#top) | [References](#references) >\n",
    "<a id=\"dataTypeSymbolicConstantshashdefine\"></a>\n",
    "***\n",
    "###### ``#define``\n",
    "***"
   ]
  },
  {
   "cell_type": "markdown",
   "id": "dbe56d6b",
   "metadata": {},
   "source": [
    "- a ``#define`` line defines a symbolic name or symbolic constant to be a particular string of characters [2]"
   ]
  },
  {
   "cell_type": "markdown",
   "id": "142e4357",
   "metadata": {},
   "source": [
    "- any occurence of ``name`` (not in quotes and not part of another name) will be replaced by the corresponding ``replacement text`` [2]"
   ]
  },
  {
   "cell_type": "markdown",
   "id": "7f9f2087",
   "metadata": {},
   "source": [
    "- the ``name`` has the same form as a variable name (a sequence of letters and digits that begins with a letter) - the ``replacement text`` can be any sequence of characters (not limited to numbers) [2]\n",
    "\n",
    "```c\n",
    "#define name replacement text\n",
    "```"
   ]
  },
  {
   "cell_type": "markdown",
   "id": "2e3f42e7",
   "metadata": {},
   "source": [
    "***\n",
    "### END"
   ]
  },
  {
   "cell_type": "markdown",
   "id": "c54f883f",
   "metadata": {},
   "source": [
    "< [Table of Contents](#top) | [References](#references) >\n",
    "<a id=\"declaration\"></a>\n",
    "***\n",
    "### Declaration\n",
    "***"
   ]
  },
  {
   "cell_type": "markdown",
   "id": "622fab90",
   "metadata": {},
   "source": [
    "- all variables must be declared before use and usually at the beginning of a function before any executable statements - a declaration announces the properties of variables consisting of a type name and a list of variables [2]"
   ]
  },
  {
   "cell_type": "markdown",
   "id": "c1855c77",
   "metadata": {},
   "source": [
    "***\n",
    "### END"
   ]
  },
  {
   "cell_type": "markdown",
   "id": "394b6880",
   "metadata": {},
   "source": [
    "< [Table of Contents](#top) | [References](#references) >\n",
    "<a id=\"controlFlow\"></a>\n",
    "***\n",
    "### Control Flow\n",
    "***"
   ]
  },
  {
   "cell_type": "markdown",
   "id": "8ba950ff",
   "metadata": {},
   "source": [
    "- the choice between the ``while`` and ``for`` is arbitrary and based on which seems clearer [2]"
   ]
  },
  {
   "cell_type": "markdown",
   "id": "db854f49",
   "metadata": {},
   "source": [
    "- the ``for`` is usually appropriate for loops in which the initialisation and increment are single statements and logically related since it is more compact than ``while`` and it keeps the loop control statements together in one place [2]"
   ]
  },
  {
   "cell_type": "markdown",
   "id": "eff11f6d",
   "metadata": {},
   "source": [
    "< [Table of Contents](#top) | [References](#references) >\n",
    "<a id=\"controlFlowwhile\"></a>\n",
    "***\n",
    "###### ``while``\n",
    "***"
   ]
  },
  {
   "cell_type": "markdown",
   "id": "eb1784e2",
   "metadata": {},
   "source": [
    "- the condition in parentheses is tested - if ``true`` the body of the loop is executed - the condition is re-tested - if ``true`` the body is executed again - when the test becomes ``false`` then the loop ends and execution continues at the statement that follows the loop [2]"
   ]
  },
  {
   "cell_type": "markdown",
   "id": "2c4eac48",
   "metadata": {},
   "source": [
    "- the body of a ``while`` can be one or more statements enclosed in braces or a single statement without braces [2]"
   ]
  },
  {
   "cell_type": "code",
   "execution_count": 1,
   "id": "014b0b8e",
   "metadata": {},
   "outputs": [
    {
     "name": "stdout",
     "output_type": "stream",
     "text": [
      "Welcome to JupyROOT 6.24/00\n"
     ]
    }
   ],
   "source": [
    "import ROOT"
   ]
  },
  {
   "cell_type": "code",
   "execution_count": 2,
   "id": "193bb601",
   "metadata": {},
   "outputs": [],
   "source": [
    "%%cpp\n",
    "int i=1,j=5;\n",
    "while (i<j)\n",
    "    i=2*i;"
   ]
  },
  {
   "cell_type": "code",
   "execution_count": 3,
   "id": "54dbb568",
   "metadata": {},
   "outputs": [
    {
     "name": "stdout",
     "output_type": "stream",
     "text": [
      "(int) 8\n"
     ]
    }
   ],
   "source": [
    "%%cpp\n",
    "i"
   ]
  },
  {
   "cell_type": "code",
   "execution_count": 4,
   "id": "a4815385",
   "metadata": {},
   "outputs": [],
   "source": [
    "exit()"
   ]
  },
  {
   "cell_type": "markdown",
   "id": "f7cff697",
   "metadata": {},
   "source": [
    "< [Table of Contents](#top) | [References](#references) >\n",
    "<a id=\"controlFlowfor\"></a>\n",
    "***\n",
    "###### ``for``\n",
    "***"
   ]
  },
  {
   "cell_type": "markdown",
   "id": "71b493a4",
   "metadata": {},
   "source": [
    "- a generalisation of the ``while`` [2]"
   ]
  },
  {
   "cell_type": "markdown",
   "id": "6bd8119e",
   "metadata": {},
   "source": [
    "- the first part is the initialisation and done once before the loop proper is entered [2]"
   ]
  },
  {
   "cell_type": "markdown",
   "id": "748def14",
   "metadata": {},
   "source": [
    "- the second part is the test or condition that controls the loop [2]"
   ]
  },
  {
   "cell_type": "markdown",
   "id": "37eb67af",
   "metadata": {},
   "source": [
    "- the third part is the increment step with the second part (condition) re-evaluated [2]"
   ]
  },
  {
   "cell_type": "markdown",
   "id": "41fb9282",
   "metadata": {},
   "source": [
    "***\n",
    "### END"
   ]
  },
  {
   "cell_type": "markdown",
   "id": "f454e1f3",
   "metadata": {},
   "source": [
    "< [Table of Contents](#top) | [References](#references) >\n",
    "<a id=\"function\"></a>\n",
    "***\n",
    "### Function\n",
    "***"
   ]
  },
  {
   "cell_type": "markdown",
   "id": "dde94ecf",
   "metadata": {},
   "source": [
    "- functions contain statements that specify the computing operations to be done [2]"
   ]
  },
  {
   "cell_type": "markdown",
   "id": "59266c78",
   "metadata": {},
   "source": [
    "< [Table of Contents](#top) | [References](#references) >\n",
    "<a id=\"functionsmain\"></a>\n",
    "***\n",
    "###### ``main``\n",
    "***"
   ]
  },
  {
   "cell_type": "markdown",
   "id": "c2f4daee",
   "metadata": {},
   "source": [
    "- the ``C`` program begins executing at the beginning of ``main`` which means every program must have a ``main`` somewhere [2]"
   ]
  },
  {
   "cell_type": "markdown",
   "id": "fd57c723",
   "metadata": {},
   "source": [
    "***\n",
    "### END"
   ]
  },
  {
   "cell_type": "markdown",
   "id": "a7388d18",
   "metadata": {},
   "source": [
    "< [Table of Contents](#top) | [References](#references) >\n",
    "<a id=\"preprocessor\"></a>\n",
    "***\n",
    "### Preprocessor\n",
    "***"
   ]
  },
  {
   "cell_type": "markdown",
   "id": "916c1ada",
   "metadata": {},
   "source": [
    "- a ``C`` program is a collection of functions (being the equivalent of a procedure or subroutine - itself a collection of statements enclosed by braces) in addition to some optional global variables/constants [1]"
   ]
  },
  {
   "cell_type": "markdown",
   "id": "e0e72ae8",
   "metadata": {},
   "source": [
    "- having all of the functions of a very large ``C`` program in a single source file could be awkward - can modularise a program so as to having many files which after compilation and linking comprise the program [1]"
   ]
  },
  {
   "cell_type": "markdown",
   "id": "636285ba",
   "metadata": {},
   "source": [
    "- two source files (``s1.c`` and ``s2.c``) at the second level from the top [1]"
   ]
  },
  {
   "cell_type": "markdown",
   "id": "8154f6bd",
   "metadata": {},
   "source": [
    "- each source file includes a couple of header files (other files that have some code) - the source file ``s1.c`` includes ``f1.h`` and ``f2.h`` - the source file ``s2.c`` includes ``f2.h`` and ``f3.h`` [1]"
   ]
  },
  {
   "cell_type": "markdown",
   "id": "222cfcea",
   "metadata": {},
   "source": [
    "- imagining the depiction of this executable ``C`` program is a project - it has a couple of main modules and is divided up into a couple of files - each of these files is including things that are defined elsewhere - in particular ``f2.h`` is included in both places so do not want to have to type that separately in the two source files so its put into its own file [1]"
   ]
  },
  {
   "cell_type": "markdown",
   "id": "958cdca6",
   "metadata": {},
   "source": [
    "- the types of things that go into header files are mainly just function declarations which are functions without a body - a function declaration identifies the function (name / return type / any other information that is necessary) - type once and reuse as necessary [1]"
   ]
  },
  {
   "cell_type": "markdown",
   "id": "f13ccad3",
   "metadata": {},
   "source": [
    "- the fundamental compilation unit (the thing that gets compiled from source code into machine code) is the combination of the source file and its included text from any files that it chooses to include [1]"
   ]
  },
  {
   "cell_type": "markdown",
   "id": "99c0410d",
   "metadata": {},
   "source": [
    "- compiling ``s1.c`` and ``s2.c`` the compiler will automatically open and read the information in the header files included - the entire result gets put out in an object file (``s1.obj`` and ``s2.obj`` respectively) - is platform dependent (using Windows ``.obj`` - using Unix ``.o``) [1]"
   ]
  },
  {
   "cell_type": "markdown",
   "id": "a39c85ee",
   "metadata": {},
   "source": [
    "- once everything is compiled then its linked together and made ready to execute with the final result being an executable file ``prog.exe`` [1]"
   ]
  },
  {
   "cell_type": "markdown",
   "id": "f195ff7b",
   "metadata": {},
   "source": [
    "![Preprocessor-Executable](https://github.com/SeanOhAileasa/SeanOhAileasa/blob/master/rc/fubar-c/executable.png?raw=true)\n",
    "\n",
    "***(Image) C. Allison, \"Thinking in C,\" [MindView LLC](https://web.archive.org/web/20210617100433/http://ix.cs.uoregon.edu/~norris/cis330books/ThinkingInC/Index.html), (n.d.).***"
   ]
  },
  {
   "cell_type": "markdown",
   "id": "cb643cfd",
   "metadata": {},
   "source": [
    "- idea of including files into a compilation stream shows an important step in the ``C`` compilation process (before the program is translated from ``C`` source code into machine code) - the preprocessing phase of the compiler will first process all of the preprocessing operations [1]"
   ]
  },
  {
   "cell_type": "markdown",
   "id": "6e26c140",
   "metadata": {},
   "source": [
    "< [Table of Contents](#top) | [References](#references) >\n",
    "<a id=\"preprocessorDirective\"></a>\n",
    "***\n",
    "###### Directive\n",
    "***"
   ]
  },
  {
   "cell_type": "markdown",
   "id": "879fe373",
   "metadata": {},
   "source": [
    "&#x1F6A7;"
   ]
  },
  {
   "cell_type": "markdown",
   "id": "3e018ffc",
   "metadata": {},
   "source": [
    "< [Table of Contents](#top) | [References](#references) >\n",
    "<a id=\"preprocessorDirectivehashinclude\"></a>\n",
    "***\n",
    "###### ``include``\n",
    "***"
   ]
  },
  {
   "cell_type": "markdown",
   "id": "25b26ce7",
   "metadata": {},
   "source": [
    "- includes another file into the compilation stream - the pound sign ``#`` plus ``include`` is a special directive in C [1]"
   ]
  },
  {
   "cell_type": "markdown",
   "id": "85260849",
   "metadata": {},
   "source": [
    "- it invokes a preprocessor allowing the inclusion of other text into the program without retyping - these including declarations of special functions that are in the standard ``C`` library and in particular the header ``stdio.h`` (usually call ``standard IO.h``) [1]"
   ]
  },
  {
   "cell_type": "markdown",
   "id": "0a84d996",
   "metadata": {},
   "source": [
    "- the include directive occurs before the actual translation process - putting function declarations and maybe some constant declarations into a header file - its different in ``C++`` given there is other things you might want to put in there but for ``C`` that is pretty much it [1]"
   ]
  },
  {
   "cell_type": "markdown",
   "id": "06e565d8",
   "metadata": {},
   "source": [
    "< [Table of Contents](#top) | [References](#references) >\n",
    "<a id=\"preprocessorDirectivehashincludeHeaderFile\"></a>\n",
    "***\n",
    "###### Header File\n",
    "***"
   ]
  },
  {
   "cell_type": "markdown",
   "id": "9e290881",
   "metadata": {},
   "source": [
    "- the standard ``C`` library makes use of the preprocessor - in other words each ``C`` compiler will make available header files such as ``stdio.h`` [1]"
   ]
  },
  {
   "cell_type": "markdown",
   "id": "4d20ea57",
   "metadata": {},
   "source": [
    "- there is quite a number of header files in the standard ``C`` library and its possible to distinguish between standard header files from any other header files - other header files might be created by someone else in an organisation [1]"
   ]
  },
  {
   "cell_type": "markdown",
   "id": "fa0ab8f7",
   "metadata": {},
   "source": [
    "- the standard header file uses angle brackets (``<`` ``>``) to delimit the standard header name - to the compiler any header which is delimited by angle brackets will occur in a particular place in the file system (in some directory) - there exists a standard system directory where those headers go and during compilation that is where the compiler will look [1]"
   ]
  },
  {
   "cell_type": "markdown",
   "id": "d2e3365e",
   "metadata": {},
   "source": [
    "- to create user-defined headers use double quotes (``\"`` ``\"``) instead of the angle brackets (``<`` ``>``) - the compiler will look in the current directory for the file - there are some rules for finding them in other places but those are platform dependent - Unix and Windows can have environment variables - some compilers will look at a particular environment variable which has a set of path names (different directories to search) in case it does not find what its looking for in the current directory [1]"
   ]
  },
  {
   "cell_type": "markdown",
   "id": "35d5deea",
   "metadata": {},
   "source": [
    "< [Table of Contents](#top) | [References](#references) >\n",
    "<a id=\"preprocessorDirectivehashincludeHeaderFilesstdioh\"></a>\n",
    "***\n",
    "###### ``stdio.h``\n",
    "***"
   ]
  },
  {
   "cell_type": "markdown",
   "id": "c390e703",
   "metadata": {},
   "source": [
    "- there are certain channels of input and output that are assumed (streams) [1]"
   ]
  },
  {
   "cell_type": "markdown",
   "id": "75ece9b4",
   "metadata": {},
   "source": [
    "- the functions available in the standard ``C`` library (in particular ``stdio.h``) provide I/O services for using what is called the console (basically the screen) and the keyboard or for explicitly doing file input and output [1]"
   ]
  },
  {
   "cell_type": "markdown",
   "id": "b4b335b4",
   "metadata": {},
   "source": [
    "- three basic categories of types of I/O: i) console I/O (goes to standard input and output); ii) file I/O (explicit file input and output - naming a file for reading from or writing to); iii) in-core or in-memory formatting [1]"
   ]
  },
  {
   "cell_type": "markdown",
   "id": "39e0c8c9",
   "metadata": {},
   "source": [
    "- there is three streams that are predefined in C:\n",
    "\n",
    "1. standard in standard input (``stdin``): the console functions in the standard ``C`` library will always read from standard input - standard input is by default the keyboard - there are ways to change this called redirection - just keep in mind that standard input is where a number of functions in the standard ``C`` library get their input [1]\n",
    "\n",
    "\n",
    "2. standard out (``stdout``): analogous situation for output (hooked to the screen) - functions like ``puts`` send output to standard output [1]\n",
    "\n",
    "\n",
    "3. standard error (``stderr``): channel or stream for output which is also connected to the screen by default - it is logically different than standard output - can send things separately to standard output and standard error - if not redirecting them to files or other devices then will see all on the screen together but it does allow for a logically separate place to put them and if its chosen to have standard output not go to the screen then can do that [1]"
   ]
  },
  {
   "cell_type": "markdown",
   "id": "31a93cdc",
   "metadata": {},
   "source": [
    "< [Table of Contents](#top) | [References](#references) >\n",
    "<a id=\"preprocessorDirectivehashincludeHeaderFilesstdiohprintf\"></a>\n",
    "***\n",
    "###### ``printf``\n",
    "***"
   ]
  },
  {
   "cell_type": "markdown",
   "id": "7acff423",
   "metadata": {},
   "source": [
    "- general-purpose output formatting function [2] ``printf`` works similar to function ``scanf`` [1]"
   ]
  },
  {
   "cell_type": "markdown",
   "id": "64a66bef",
   "metadata": {},
   "source": [
    "- the function is not part of the ``C`` language as there is no input or output defined in ``C`` itself - it is a useful function from the standard library of functions that are normally accessible to ``C`` programs - the behaviour of ``printf`` is defined in the ANSI standard however its properties should be the same with any compiler and library that conforms to the standard [2] "
   ]
  },
  {
   "cell_type": "markdown",
   "id": "94122476",
   "metadata": {},
   "source": [
    "- the first argument is a format specification and any literal text will just be echoed to standard out - any conversion specification ``%`` included within the string of characters to be printed indicates arguments to be substituted and in what form it is to be printed (``%d`` specifies an integer argument) [2] "
   ]
  },
  {
   "cell_type": "code",
   "execution_count": 1,
   "id": "13eebf08",
   "metadata": {},
   "outputs": [
    {
     "name": "stdout",
     "output_type": "stream",
     "text": [
      "Welcome to JupyROOT 6.24/00\n"
     ]
    }
   ],
   "source": [
    "import ROOT"
   ]
  },
  {
   "cell_type": "markdown",
   "id": "f67548b2",
   "metadata": {},
   "source": [
    "- the conversion specification ``%3.0f`` indicates a floating-point number to be printed with at least three characters wide with no decimal point and no fraction digits [2]"
   ]
  },
  {
   "cell_type": "code",
   "execution_count": 2,
   "id": "07978de4",
   "metadata": {},
   "outputs": [
    {
     "name": "stdout",
     "output_type": "stream",
     "text": [
      "  1\n"
     ]
    }
   ],
   "source": [
    "%%cpp\n",
    "float n=2.0/3;\n",
    "printf(\"%3.0f\\n\",n);"
   ]
  },
  {
   "cell_type": "markdown",
   "id": "7beb7807",
   "metadata": {},
   "source": [
    "- the conversion specification ``%6.1f`` prints at least size characters wide with 1 digit after the decimal point [2]"
   ]
  },
  {
   "cell_type": "code",
   "execution_count": 3,
   "id": "a50e91df",
   "metadata": {},
   "outputs": [
    {
     "name": "stdout",
     "output_type": "stream",
     "text": [
      "   0.7\n"
     ]
    }
   ],
   "source": [
    "%%cpp\n",
    "printf(\"%6.1f\\n\",n);"
   ]
  },
  {
   "cell_type": "markdown",
   "id": "0e247691",
   "metadata": {},
   "source": [
    "- width and precision may be omitted from a specification [2]"
   ]
  },
  {
   "cell_type": "code",
   "execution_count": 4,
   "id": "e00536c8",
   "metadata": {},
   "outputs": [
    {
     "name": "stdout",
     "output_type": "stream",
     "text": [
      "     0\n",
      "...print as decimal number - at least 6 characters wide\n"
     ]
    }
   ],
   "source": [
    "%%cpp\n",
    "printf(\"%6d\\n...print as decimal number - at least 6 characters wide\\n\",int(n));"
   ]
  },
  {
   "cell_type": "code",
   "execution_count": 5,
   "id": "65468c12",
   "metadata": {},
   "outputs": [
    {
     "name": "stdout",
     "output_type": "stream",
     "text": [
      "0.666667\n",
      "...print as floating point\n"
     ]
    }
   ],
   "source": [
    "%%cpp\n",
    "printf(\"%f\\n...print as floating point\\n\",n);"
   ]
  },
  {
   "cell_type": "code",
   "execution_count": 6,
   "id": "103b4ae9",
   "metadata": {},
   "outputs": [
    {
     "name": "stdout",
     "output_type": "stream",
     "text": [
      " 0.666667\n",
      "...print as floating point - at least 9 characters wide\n"
     ]
    }
   ],
   "source": [
    "%%cpp\n",
    "printf(\"%9f\\n...print as floating point - at least 9 characters wide\\n\",n);"
   ]
  },
  {
   "cell_type": "code",
   "execution_count": 7,
   "id": "d00801f8",
   "metadata": {},
   "outputs": [
    {
     "name": "stdout",
     "output_type": "stream",
     "text": [
      "0.67\n",
      "...print as floating point - 2 characters after decimal point\n"
     ]
    }
   ],
   "source": [
    "%%cpp\n",
    "printf(\"%.2f\\n...print as floating point - 2 characters after decimal point\\n\",n);"
   ]
  },
  {
   "cell_type": "markdown",
   "id": "7705f7c4",
   "metadata": {},
   "source": [
    "- among other the function ``printf`` also recognises ``%o`` for octal and ``%x`` for hexadecimal and ``%c`` for character and ``%s`` for character string and ``%%`` for $\\%$ itself [2]"
   ]
  },
  {
   "cell_type": "markdown",
   "id": "97f13c6e",
   "metadata": {},
   "source": [
    "< [Table of Contents](#top) | [References](#references) >\n",
    "<a id=\"preprocessorDirectivehashincludeHeaderFilesstdiohscanf\"></a>\n",
    "***\n",
    "###### ``scanf``\n",
    "***"
   ]
  },
  {
   "cell_type": "markdown",
   "id": "dc5c851f",
   "metadata": {},
   "source": [
    "- ``scanf`` is like ``printf`` except that it reads input instead of writing output [2]"
   ]
  },
  {
   "cell_type": "markdown",
   "id": "55106153",
   "metadata": {},
   "source": [
    "- scans standard input for the input to read - the first argument is the format string (integer ``%d``) - the special character specifies that the character that follows is a code which describes the type of input - reading a decimal integer (base-10) by calling function ``scanf`` then standard input will be scanned for numbers - when it runs out (perhaps the user hits enter or space or something else) then the number that results from those numerals typed in will be stored [1]"
   ]
  },
  {
   "cell_type": "markdown",
   "id": "1674aba1",
   "metadata": {},
   "source": [
    "- take it as fact an ampersand ``&`` is required in front of whatever variable is read with ``scanf`` (relates to pointers) [1]"
   ]
  },
  {
   "cell_type": "code",
   "execution_count": 1,
   "id": "14ac2f24",
   "metadata": {},
   "outputs": [
    {
     "name": "stdout",
     "output_type": "stream",
     "text": [
      "Welcome to JupyROOT 6.24/00\n"
     ]
    }
   ],
   "source": [
    "import ROOT"
   ]
  },
  {
   "cell_type": "code",
   "execution_count": 2,
   "id": "e6ff60e9",
   "metadata": {},
   "outputs": [
    {
     "name": "stdout",
     "output_type": "stream",
     "text": [
      "Writing sf.c\n"
     ]
    }
   ],
   "source": [
    "%%writefile sf.c\n",
    "#include <stdio.h>\n",
    "int main()\n",
    "{\n",
    "    int n;\n",
    "    scanf(\"%d\",&n);\n",
    "    printf(\"%d\",n);\n",
    "}"
   ]
  },
  {
   "cell_type": "code",
   "execution_count": 3,
   "id": "fc0d7722",
   "metadata": {},
   "outputs": [],
   "source": [
    "%%script bash\n",
    "cc sf.c"
   ]
  },
  {
   "cell_type": "code",
   "execution_count": 4,
   "id": "ac0b9f45",
   "metadata": {},
   "outputs": [
    {
     "name": "stdout",
     "output_type": "stream",
     "text": [
      "0"
     ]
    }
   ],
   "source": [
    "%%script bash\n",
    "./a.out # terminal input integer"
   ]
  },
  {
   "cell_type": "code",
   "execution_count": 5,
   "id": "f2083b19",
   "metadata": {},
   "outputs": [],
   "source": [
    "%%script bash\n",
    "rm -rf sf.c a.out"
   ]
  },
  {
   "cell_type": "code",
   "execution_count": 6,
   "id": "798d69c8",
   "metadata": {},
   "outputs": [],
   "source": [
    "exit()"
   ]
  },
  {
   "cell_type": "markdown",
   "id": "055fb738",
   "metadata": {},
   "source": [
    "< [Table of Contents](#top) | [References](#references) >\n",
    "<a id=\"preprocessorDirectivehashincludeHeaderFileslimitsh\"></a>\n",
    "***\n",
    "###### ``limits.h``\n",
    "***"
   ]
  },
  {
   "cell_type": "markdown",
   "id": "fda52ad9",
   "metadata": {},
   "source": [
    "- its a little disconcerting (frustrating) that its not possible to specify what the range of the numeric types are (different for different systems) [1]"
   ]
  },
  {
   "cell_type": "markdown",
   "id": "f2331dde",
   "metadata": {},
   "source": [
    "- can be troublesome to write programs that will be run on different systems (want portability) - ``C`` is supposed to be a portable language and to some degree it is but the fact is it is a systems programming language (more system friendly than it is programmer friendly) - while its not true to a large degree it certainly is true with the underlying numeric types - cannot specify a universal value for the largest ``int`` or the smallest ``int`` as it differs from platform to platform [1]"
   ]
  },
  {
   "cell_type": "markdown",
   "id": "a9b79aac",
   "metadata": {},
   "source": [
    "- its impossible to find out by querying it in a program by examining the symbolic constants for all of these sizes along with other properties of the machine and compiler [1][2]"
   ]
  },
  {
   "cell_type": "markdown",
   "id": "fdc30146",
   "metadata": {},
   "source": [
    "- integer limits are defined in ``limits.h`` - including this header file or looking up the documentation and examining the names of those constants then its possible can find out what is the largest ``int`` or the largest ``short`` or the largest ``long`` or the smallest as well etc - this does give some programmatic control over the numeric properties of the system - the same thing applies to the floating point numbers as well and this information can be found in the header ``float.h`` [1]"
   ]
  },
  {
   "cell_type": "code",
   "execution_count": 1,
   "id": "dba89a1a",
   "metadata": {
    "scrolled": false
   },
   "outputs": [],
   "source": [
    "%%script bash\n",
    "pwd\n",
    "# cat ../../../usr/include/limits.h"
   ]
  },
  {
   "cell_type": "markdown",
   "id": "4f52aa5d",
   "metadata": {},
   "source": [
    "- for integral limits can access constants (typically written with capital letters - convention thats been around for a long time) [13]"
   ]
  },
  {
   "cell_type": "code",
   "execution_count": 2,
   "id": "a20c4dbc",
   "metadata": {},
   "outputs": [],
   "source": [
    "exit()"
   ]
  },
  {
   "cell_type": "markdown",
   "id": "22a56c21",
   "metadata": {},
   "source": [
    "< [Table of Contents](#top) | [References](#references) >\n",
    "<a id=\"preprocessorDirectivehashincludeHeaderFilesfloath\"></a>\n",
    "***\n",
    "###### ``float.h``\n",
    "***"
   ]
  },
  {
   "cell_type": "markdown",
   "id": "dc074a77",
   "metadata": {},
   "source": [
    "- contain symbolic constants for all floating-point sizes along with other properties of the machine and compiler [2]"
   ]
  },
  {
   "cell_type": "markdown",
   "id": "ecc98a2a",
   "metadata": {},
   "source": [
    "***\n",
    "### END"
   ]
  },
  {
   "cell_type": "markdown",
   "id": "065fba13",
   "metadata": {},
   "source": [
    "***\n",
    "## END"
   ]
  },
  {
   "cell_type": "markdown",
   "id": "7e6b95a3",
   "metadata": {},
   "source": [
    "< [Table of Contents](#top) | [Abstract](#abstract) | [Introduction](#introduction) | [Conclusion](#conclusion) | [References](#references) >\n",
    "<a id=\"solution\"></a>\n",
    "***\n",
    "## Solution\n",
    "***"
   ]
  },
  {
   "cell_type": "markdown",
   "id": "07e0af9d",
   "metadata": {},
   "source": [
    "&#x1F6A7;"
   ]
  },
  {
   "cell_type": "markdown",
   "id": "ddb5c86c",
   "metadata": {},
   "source": [
    "<!-- - refer [Appendix](#appendix-df) to view the full dataset <a id=\"go-back-df\"></a> -->\n",
    "<!-- print(fGetModuleType(___x___),fDocumentation(___x___)) -->\n",
    "***\n",
    "## END"
   ]
  },
  {
   "cell_type": "markdown",
   "id": "6d9ce4aa",
   "metadata": {},
   "source": [
    "< [Table of Contents](#top) | [Abstract](#abstract) | [Introduction](#introduction) | [Solution](#solution) | [References](#references) >\n",
    "<a id=\"conclusion\"></a>\n",
    "***\n",
    "## Conclusion\n",
    "***"
   ]
  },
  {
   "cell_type": "markdown",
   "id": "f9c3b5cf",
   "metadata": {},
   "source": [
    "&#x1F6A7;"
   ]
  },
  {
   "cell_type": "markdown",
   "id": "778da6d1",
   "metadata": {},
   "source": [
    "***\n",
    "## END"
   ]
  },
  {
   "cell_type": "markdown",
   "id": "55438dd7",
   "metadata": {},
   "source": [
    "< [Table of Contents](#top) | [Abstract](#abstract) | [Introduction](#introduction) | [Solution](#solution) | [Conclusion](#conclusion) | [References](#references) >\n",
    "<a id=\"references\"></a>\n",
    "***\n",
    "## References\n",
    "***\n",
    "\n",
    "&nbsp;&nbsp;&nbsp;&nbsp;&nbsp;&nbsp;&nbsp;&nbsp;&nbsp;[1] C. Allison, \"Thinking in C,\" [MindView LLC](https://web.archive.org/web/20210617100433/http://ix.cs.uoregon.edu/~norris/cis330books/ThinkingInC/Index.html), (n.d.).\n",
    "\n",
    "&nbsp;&nbsp;&nbsp;&nbsp;&nbsp;&nbsp;&nbsp;&nbsp;&nbsp;[2] B. W. Kernighan, D. M. Ritchie, \"The C Programming Language (2nd Edition),\" Prentice Hall, 1988."
   ]
  },
  {
   "cell_type": "markdown",
   "id": "0381b2c7",
   "metadata": {},
   "source": [
    "***\n",
    "## END"
   ]
  },
  {
   "cell_type": "markdown",
   "id": "c9c38189",
   "metadata": {},
   "source": [
    "< [Table of Contents](#top) | [Abstract](#abstract) | [Introduction](#introduction) | [Solution](#solution) | [Conclusion](#conclusion) | [References](#references) >\n",
    "<a id=\"appendix\"></a>\n",
    "***\n",
    "## Appendix\n",
    "***"
   ]
  },
  {
   "cell_type": "markdown",
   "id": "8b9f6beb",
   "metadata": {},
   "source": [
    "&#x1F6A7;"
   ]
  },
  {
   "cell_type": "markdown",
   "id": "89262746",
   "metadata": {},
   "source": [
    "<a id=\"appendix-some-reference\"></a>\n",
    "< [Go Back](#top) >"
   ]
  },
  {
   "cell_type": "markdown",
   "id": "4b306fdc",
   "metadata": {},
   "source": [
    "```python\n",
    "from matplotlib.pyplot import box,yticks,xlabel,bar,text,title,show\n",
    "\n",
    "from sys import path; path.insert(1,\"../src\")\n",
    "from fubar import fDarkReader\n",
    "\n",
    "%%script bash\n",
    "grep -1 \"def fDarkReader\" ../src/fubar.py -A 9\n",
    "\n",
    "fDarkReader()\n",
    "```"
   ]
  },
  {
   "cell_type": "markdown",
   "id": "c6fc1810",
   "metadata": {},
   "source": [
    "⚡"
   ]
  },
  {
   "cell_type": "markdown",
   "id": "0d736631",
   "metadata": {},
   "source": [
    "```python\n",
    "from sys import path; path.insert(1,\"../src\")\n",
    "from fubar import fFile\n",
    "\n",
    "%%script bash\n",
    "grep -1 \"def fFile\" ../src/fubar.py -A 9\n",
    "\n",
    "fFile(nParPath=\"\")\n",
    "\n",
    "exit()\n",
    "```"
   ]
  },
  {
   "cell_type": "markdown",
   "id": "bb5d6531",
   "metadata": {},
   "source": [
    "###### Github\n",
    "***"
   ]
  },
  {
   "cell_type": "markdown",
   "id": "c054d7af",
   "metadata": {},
   "source": [
    "```\n",
    "git push -f origin HEAD^:master && git reset HEAD~\n",
    "```"
   ]
  },
  {
   "cell_type": "markdown",
   "id": "7ae91566",
   "metadata": {},
   "source": [
    "###### Functions\n",
    "***"
   ]
  },
  {
   "cell_type": "markdown",
   "id": "e6b6c0cb",
   "metadata": {},
   "source": [
    "```python\n",
    "# %%writefile -a ../src/fubar.py\n",
    "# repository ./fubar-python\n",
    "def f():\n",
    "    \"\"\"\n",
    "\n",
    "Input:\n",
    "Process:\n",
    "Output:\n",
    "\"\"\"\n",
    "    pass\n",
    "# -- END ---\n",
    "```"
   ]
  },
  {
   "cell_type": "markdown",
   "id": "7c7e38d7",
   "metadata": {},
   "source": [
    "###### Functions - ../src/fubar.py\n",
    "***"
   ]
  },
  {
   "cell_type": "markdown",
   "id": "5c6bacb4",
   "metadata": {},
   "source": [
    "```\n",
    "%%script bash\n",
    "cat ../src/fubar.py\n",
    "```"
   ]
  },
  {
   "cell_type": "code",
   "execution_count": null,
   "id": "c7f7fad2",
   "metadata": {},
   "outputs": [],
   "source": [
    "%%script bash\n",
    "grep -1 \"def fFullScreen\" ../src/fubar.py -A 9"
   ]
  },
  {
   "cell_type": "markdown",
   "id": "ab74acd8",
   "metadata": {},
   "source": [
    "```\n",
    "git commit -m \"update repository ./fubar-python - Everything in python is an object.\"\n",
    "```"
   ]
  },
  {
   "cell_type": "markdown",
   "id": "1044f305",
   "metadata": {},
   "source": [
    "###### Images\n",
    "***"
   ]
  },
  {
   "cell_type": "markdown",
   "id": "d3f1b137",
   "metadata": {},
   "source": [
    "![gumball](https://github.com/SeanOhAileasa/SeanOhAileasa/blob/master/rc/cta/analysing/gumball.png?raw=true)\n",
    "\n",
    "***(Image) P. Mannion, \"03 Analysing Algorithms Part 1,\" GMIT, October 2017.***"
   ]
  },
  {
   "cell_type": "markdown",
   "id": "3a46244b",
   "metadata": {},
   "source": [
    "###### Tables\n",
    "***"
   ]
  },
  {
   "cell_type": "markdown",
   "id": "4eafa7aa",
   "metadata": {},
   "source": [
    "|aaa|bbbbbb|ccccccccc|\n",
    "|:------------------------- | :------------------------- | :------------------------- |\n",
    "|aaa|bbbbbb|ccccccccc|"
   ]
  },
  {
   "cell_type": "markdown",
   "id": "0c4712a9",
   "metadata": {},
   "source": [
    "###### References\n",
    "***"
   ]
  },
  {
   "cell_type": "markdown",
   "id": "2dfbcc5d",
   "metadata": {},
   "source": [
    "&nbsp;&nbsp;&nbsp;&nbsp;&nbsp;&nbsp;&nbsp;&nbsp;&nbsp;[1] x. xxx, \"xxx,\" xxx, JanXXXry 2XX1.\n",
    "\n",
    "\n",
    "&nbsp;&nbsp;&nbsp;&nbsp;&nbsp;&nbsp;&nbsp;&nbsp;&nbsp;[0] Anaconda (built-in), \"range,\" Docstring, Conda:4.9.2 (Python:3.8.5).\n",
    "\n",
    "&nbsp;&nbsp;&nbsp;&nbsp;&nbsp;&nbsp;&nbsp;&nbsp;&nbsp;[0] Anaconda (plot), \"matplotlib.pyplot,\" Docstring, Conda:4.9.2 (Python:3.8.5).\n",
    "\n",
    "&nbsp;&nbsp;&nbsp;&nbsp;&nbsp;&nbsp;&nbsp;&nbsp;&nbsp;[0] D. Carr, \"CTA - Lecture 1 Part 1,\" GMIT, January 2021.\n",
    "\n",
    "&nbsp;&nbsp;&nbsp;&nbsp;&nbsp;&nbsp;&nbsp;&nbsp;&nbsp;[0] A. Beatty, \"xxx,\" GMIT, January 202x.\n",
    "\n",
    "&nbsp;&nbsp;&nbsp;&nbsp;&nbsp;&nbsp;&nbsp;&nbsp;&nbsp;[0] M. R. Fellows, I. Parberry, \"SIGACT Trying to Get Children Excited About CS,\" [ianparberry](https://web.archive.org/web/20210220071000/http://ianparberry.com/research/cseducation), January 1993.\n",
    "\n",
    "###### fubar-000\n",
    "\n",
    "&nbsp;&nbsp;&nbsp;&nbsp;&nbsp;&nbsp;&nbsp;&nbsp;&nbsp;[0] A. Beatty, \"prog 0.0 introduction (Module: Programming for Cybersecurity),\" GMIT (Programme: Certificate in Cybersecurity Operations), January 2021."
   ]
  },
  {
   "cell_type": "markdown",
   "id": "d5c2a5b1",
   "metadata": {},
   "source": [
    "***\n",
    "## END"
   ]
  },
  {
   "cell_type": "markdown",
   "id": "990868f8",
   "metadata": {},
   "source": [
    "# END JUPYTER NOTEBOOK"
   ]
  }
 ],
 "metadata": {
  "kernelspec": {
   "display_name": "Python 3",
   "language": "python",
   "name": "python3"
  },
  "language_info": {
   "codemirror_mode": {
    "name": "ipython",
    "version": 3
   },
   "file_extension": ".py",
   "mimetype": "text/x-python",
   "name": "python",
   "nbconvert_exporter": "python",
   "pygments_lexer": "ipython3",
   "version": "3.9.4"
  }
 },
 "nbformat": 4,
 "nbformat_minor": 5
}
