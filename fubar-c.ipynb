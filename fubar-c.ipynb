{
 "cells": [
  {
   "cell_type": "markdown",
   "metadata": {},
   "source": [
    "###### Kernel > Change kernel > Python 3"
   ]
  },
  {
   "cell_type": "code",
   "execution_count": null,
   "metadata": {},
   "outputs": [
    {
     "data": {
      "text/html": [
       "<script>Jupyter.notebook.kernel.restart()</script>"
      ]
     },
     "metadata": {},
     "output_type": "display_data"
    }
   ],
   "source": [
    "from IPython.core.display import display_html\n",
    "display_html(\"<script>Jupyter.notebook.kernel.restart()</script>\",raw=True)"
   ]
  },
  {
   "cell_type": "code",
   "execution_count": 1,
   "metadata": {},
   "outputs": [
    {
     "data": {
      "text/html": [
       "<style>.container { width:100% !important; }</style>"
      ],
      "text/plain": [
       "<IPython.core.display.HTML object>"
      ]
     },
     "metadata": {},
     "output_type": "display_data"
    },
    {
     "data": {
      "text/html": [
       "<style>.container { width:100% !important; }</style>"
      ],
      "text/plain": [
       "<IPython.core.display.HTML object>"
      ]
     },
     "metadata": {},
     "output_type": "display_data"
    }
   ],
   "source": [
    "from sys import path; path.insert(1,\"../src\");\n",
    "import fubar; from importlib import reload; reload(fubar);"
   ]
  },
  {
   "cell_type": "markdown",
   "metadata": {},
   "source": [
    "###### Kernel > Change kernel > ROOT C++"
   ]
  },
  {
   "cell_type": "markdown",
   "metadata": {},
   "source": [
    "***\n",
    "< [GMIT Data Analytics](https://web.archive.org/web/20201029063153/https://www.gmit.ie/computer-science-and-applied-physics/higher-diploma-science-computing-data-analytics-ict) | [Home](https://github.com/SeanOhAileasa) | [README](https://github.com/SeanOhAileasa/fubar-c/blob/main/README.md) >\n",
    "\n",
    "[![GMIT](https://github.com/SeanOhAileasa/SeanOhAileasa/blob/master/rc/gmit.png?raw=true)](https://web.archive.org/web/20201029063153/https://www.gmit.ie/computer-science-and-applied-physics/higher-diploma-science-computing-data-analytics-ict)\n",
    "\n",
    "## GMIT - Supplemental Course Material\n",
    "### Topic: [C](https://nbviewer.jupyter.org/github/SeanOhAileasa/fubar-c/blob/main/fubar-c.ipynb)\n",
    "***"
   ]
  },
  {
   "cell_type": "markdown",
   "metadata": {},
   "source": [
    "Supplemental course material for the ``Higher Diploma in Science in Computing (Data Analytics) (H.Dip)`` programme (75 Credits) at **Galway-Mayo Institute of Technology (GMIT)**. \n",
    "\n",
    "This repository is for self-study/self-examination for future modules of the H.Dip programme and preparation for future workplace opportunities."
   ]
  },
  {
   "cell_type": "markdown",
   "metadata": {},
   "source": [
    "<a id=\"top\"></a>\n",
    "***\n",
    "## Table of Contents\n",
    "***"
   ]
  },
  {
   "cell_type": "markdown",
   "metadata": {},
   "source": [
    "## [Abstract](#abstract)"
   ]
  },
  {
   "cell_type": "markdown",
   "metadata": {},
   "source": [
    "* [1.1 Getting Started](#introduction11GettingStarted) <br/><br/>       \n",
    "    * [ASCII](#introductionASCII) <br/><br/>\n",
    "* [1.2 Variables and Arithmetic Expressions](#introduction12VariablesandArithmeticExpressions) <br/><br/>\n",
    "    * &#8594; ``#include <stdio.h>`` &#8594; ``printf`` <br/><br/>\n",
    "    &#x1F4CC; [Exercise 1-3. Modify the temperature conversion program to print a heading above the table.](#abstract13) <br/><br/>\n",
    "    &#x1F4CC; [Exercise 1-4. Write a program to print the corresponding Celsius to Fahrenheit table.](#abstract14) <br/><br/>\n",
    "* [1.3 The For Statement](#introduction13TheForStatement) <br/><br/>\n",
    "    &#x1F4CC; [Exercise 1-5. Modify the temperature conversion program to print the table in reverse order, that is, from 300 degrees to 0.](#abstract15) <br/><br/>\n",
    "* [1.4 Symbolic Constants](#introduction14SymbolicConstants) <br/><br/>\n",
    "* [1.5 Character Input and Output](#introduction15CharacterInputandOutput) <br/><br/>\n",
    "    * &#8594; ``#include <stdio.h>`` &#8594; ``getchar`` &#8594; ``putchar`` &#8594; ``EOF`` <br/><br/>\n",
    "    &#x1F4CC; [Exercise 1-6. Verify that the expression getchar()!=EOF is 0 or 1.](#abstract16) <br/><br/>\n",
    "    &#x1F4CC; [Exercise 1-7. Write a program to print the value of EOF.](#abstract17) <br/><br/>  \n",
    "    * [Character Counting](#CharacterInputOutputCharacterCounting) <br/><br/>\n",
    "    * [Line Counting](#CharacterInputOutputLineCounting) <br/><br/>\n",
    "    &#x1F4CC; [Exercise 1-8. Write a program to count blanks, tabs, and newlines.](#abstract18) <br/><br/>\n",
    "    &#x1F4CC; [Exercise 1-9. Write a program to copy its input to its output, replacing each string of one or more blanks by a single blank.](#abstract19) <br/><br/>\n",
    "    &#x1F4CC; [Exercise 1-10. Write a program to copy its input to its output, replacing each tab by \\t, each backspace by \\b, and each backslash by \\\\\\\\. This makes tabs and backspaces visible in an unambiguous way.](#abstract110) <br/><br/>\n",
    "    * [Word Counting](#CharacterInputOutputWordCounting) <br/><br/>\n",
    "    &#x1F4CC; [Exercise 1-11. How would you test the word count program? What kinds of input are most likely to uncover bugs if there are any?](#abstract111) <br/><br/>\n",
    "    &#x1F4CC; [Exercise 1-12. Write a program that prints its input one word per line.](#abstract112)"
   ]
  },
  {
   "cell_type": "markdown",
   "metadata": {},
   "source": [
    "<hr width=50%;>"
   ]
  },
  {
   "cell_type": "markdown",
   "metadata": {},
   "source": [
    "## [Introduction](#introduction)<a id=\"intro\"></a>"
   ]
  },
  {
   "cell_type": "markdown",
   "metadata": {},
   "source": [
    "* [Data Type](#introductionDataTypes) <br/><br/>\n",
    "    * [Character](#dataTypesCharacter) <br/><br/>\n",
    "        * [``char``](#intTypeschar)&nbsp;&nbsp;|&nbsp;&nbsp;[``wchar_t``](#intTypeswchar_t) <br/><br/>\n",
    "            * [Stream](#dataTypesCharacterStream) <br/><br/>\n",
    "                * [Whitespace](#dataTypesCharacterStreamWhitespace) <br/><br/>\n",
    "                    * &#8594; ``#include <stdio.h>`` &#8594; ``fflush`` <br/><br/>\n",
    "                * [``getchar``](#dataTypesCharacterStreamgetchar) <br/><br/>\n",
    "                * [``putchar``](#dataTypesCharacterStreamputchar) <br/><br/>\n",
    "    * [Integer](#dataTypesIntegers) <br/><br/>     \n",
    "        * [``int``](#intTypesint) <br/><br/>          \n",
    "        * [Qualifier](#intTypesQualifier) <br/><br/>\n",
    "            * [``short``](#intTypesshort) <br/><br/>\n",
    "            * [``long``](#intTypeslong) <br/><br/>\n",
    "            * [``signed/unsigned``](#intSignedversusUnsigned) <br/><br/>\n",
    "                * &#8594; ``#include <math.h>`` &#8594; ``pow`` <br/><br/> \n",
    "                * &#8594; ``#include <stdlib.h>`` &#8594; ``abs`` <br/><br/>\n",
    "    * [Single-Precision Floating Point](#dataTypesSingle-PrecisionFloatingPoint) <br/><br/>\n",
    "        * [``float``](#dataTypesDoublePrecisionFloatingPointfloat) <br/><br/>\n",
    "    * [Double-Precision Floating Point](#dataTypesDoublePrecisionFloatingPoint) <br/><br/>\n",
    "    * [Symbolic Constant](#dataTypeSymbolicConstant) <br/><br/>\n",
    "        * [``#define``](#dataTypeSymbolicConstantshashdefine) <br/><br/>\n",
    "    * [``enum``](#introductionDataTypesenum) <br/><br/>    \n",
    "        * &#8594; ``#include <stdio.h>`` &#8594; ``scanf`` <br/><br/>\n",
    "    * [``typedef``](#introductionDataTypestypedef) <br/><br/>\n",
    "* [Operator](#operator) &#x1F6A7; <br/><br/>\n",
    "    * [``sizeof``](#introductionDataTypessizeof) <br/><br/>\n",
    "    * [Assignment](#operatorAssignment) <br/><br/>\n",
    "    * [Increment](#operatorPrePost) <br/><br/>\n",
    "    * [Type-Casting](#operatorCast) <br/><br/>\n",
    "        * &#8594; ``#include <math.h>`` &#8594; ``sqrt`` <br/><br/>    \n",
    "        * &#8594; ``#include <stdlib.h>`` &#8594; ``srand`` &#8594; ``rand`` &#8594; ``malloc`` <br/><br/>\n",
    "        * &#8594; ``#include <time.h>`` &#8594; ``time`` <br/><br/>\n",
    "    * [Relational](#operatorRelational)&nbsp;&nbsp;|&nbsp;&nbsp;[Logical](#operatorLogical) <br/><br/>\n",
    "    * [Bitwise](#operatorBitwise) <br/><br/>\n",
    "    * [Ternary](#operatorTernary) <br/><br/>    \n",
    "* [Qualifier](#qualifier) &#x1F6A7; <br/><br/>  \n",
    "    * [``const``](#qualifierconst) <br/><br/>\n",
    "* [Structure](#structure) <br/><br/>\n",
    "    * &#8594; ``#include <string.h>`` &#8594; ``stcpy`` <br/><br/>\n",
    "    * [``union``](#structureunion) <br/><br/>   "
   ]
  },
  {
   "cell_type": "markdown",
   "metadata": {},
   "source": [
    "<hr width=50%;>"
   ]
  },
  {
   "cell_type": "markdown",
   "metadata": {},
   "source": [
    "## [Solution](#solution)"
   ]
  },
  {
   "cell_type": "markdown",
   "metadata": {},
   "source": [
    "- &#x1F6A7;"
   ]
  },
  {
   "cell_type": "markdown",
   "metadata": {},
   "source": [
    "<hr width=50%;>"
   ]
  },
  {
   "cell_type": "markdown",
   "metadata": {},
   "source": [
    "## [Conclusion](#conclusion)"
   ]
  },
  {
   "cell_type": "markdown",
   "metadata": {},
   "source": [
    "- &#x1F6A7;"
   ]
  },
  {
   "cell_type": "markdown",
   "metadata": {},
   "source": [
    "<hr width=50%;>"
   ]
  },
  {
   "cell_type": "markdown",
   "metadata": {},
   "source": [
    "## [Appendix](#appendix) "
   ]
  },
  {
   "cell_type": "markdown",
   "metadata": {},
   "source": [
    "* [Statement](#statement) <br/><br/>\n",
    "    * [Compound](#statementsCompound)"
   ]
  },
  {
   "cell_type": "markdown",
   "metadata": {},
   "source": [
    "* [Declaration](#declaration)"
   ]
  },
  {
   "cell_type": "markdown",
   "metadata": {},
   "source": [
    "* [Arrays](#arrays)"
   ]
  },
  {
   "cell_type": "markdown",
   "metadata": {},
   "source": [
    "* [Control Flow](#controlFlow) <br/><br/>\n",
    "    * [``switch``](#controlFlowswitch) <br/><br/>\n",
    "    * [``while``](#controlFlowwhile) <br/><br/>\n",
    "    * [``for``](#controlFlowfor) "
   ]
  },
  {
   "cell_type": "markdown",
   "metadata": {},
   "source": [
    "* [Function](#function)&nbsp;&nbsp;|&nbsp;&nbsp;[``main``](#functionsmain)&nbsp;&nbsp;|&nbsp;&nbsp;[``return``](#functionreturnstatement) <br/><br/>\n",
    "    * [Prototype](#functionsPrototype) <br/><br/>\n",
    "    * [Definition](#functionsDefinition) "
   ]
  },
  {
   "cell_type": "markdown",
   "metadata": {},
   "source": [
    "* [Preprocessor](#preprocessor) <br/><br/>\n",
    "    * [Directive](#preprocessorDirective) <br/><br/>\n",
    "        * [``include``](#preprocessorDirectivehashinclude) <br/><br/>\n",
    "            * [Header File](#preprocessorDirectivehashincludeHeaderFile) <br/><br/>\n",
    "                * [``stdio.h``](#preprocessorDirectivehashincludeHeaderFilesstdioh) <br/><br/>\n",
    "                    * [``EOF``](#preprocessorDirectivehashincludeHeaderFilesstdiohsymbolicconstantEOF) <br/><br/>\n",
    "                    * [``printf``](#preprocessorDirectivehashincludeHeaderFilesstdiohprintf) <br/><br/>\n",
    "                    * [``scanf``](#preprocessorDirectivehashincludeHeaderFilesstdiohscanf) <br/><br/>\n",
    "                * [``limits.h``](#preprocessorDirectivehashincludeHeaderFileslimitsh) <br/><br/>\n",
    "                * [``float.h``](#preprocessorDirectivehashincludeHeaderFilesfloath)"
   ]
  },
  {
   "cell_type": "markdown",
   "metadata": {},
   "source": [
    "***\n",
    "## END"
   ]
  },
  {
   "cell_type": "markdown",
   "metadata": {},
   "source": [
    "< [Table of Contents](#top) | [Introduction](#introduction) | [Solution](#solution) | [Conclusion](#conclusion) | [References](#references) >\n",
    "<a id=\"abstract\"></a>\n",
    "***\n",
    "## Abstract\n",
    "***"
   ]
  },
  {
   "cell_type": "markdown",
   "metadata": {},
   "source": [
    "< [Table of Contents](#top) | [References](#references) >\n",
    "<a id=\"introduction11GettingStarted\"></a>\n",
    "***\n",
    "### 1.1 Getting Started\n",
    "***"
   ]
  },
  {
   "cell_type": "markdown",
   "metadata": {},
   "source": [
    "- create a program in a file whose name ends in ``.c`` [2]"
   ]
  },
  {
   "cell_type": "markdown",
   "metadata": {},
   "source": [
    "- compile via command-line [2]"
   ]
  },
  {
   "cell_type": "markdown",
   "metadata": {},
   "source": [
    "```C\n",
    "cc ___.c\n",
    "```"
   ]
  },
  {
   "cell_type": "markdown",
   "metadata": {},
   "source": [
    "- result is an executable file called ``a.out`` [2]"
   ]
  },
  {
   "cell_type": "markdown",
   "metadata": {},
   "source": [
    "< [Table of Contents](#top) | [References](#references) >\n",
    "<a id=\"introductionASCII\"></a>\n",
    "***\n",
    "###### ASCII\n",
    "***"
   ]
  },
  {
   "cell_type": "markdown",
   "metadata": {},
   "source": [
    "![ascii](https://github.com/SeanOhAileasa/SeanOhAileasa/blob/master/rc/fubar-c/asciiTable.png?raw=true)\n",
    "\n",
    "***(Image) ohio-state.edu, \"Structured representation,\" [asc.ohio-state.edu](https://www.asc.ohio-state.edu/demarneffe.1/LING5050/material/characters.html), July 2014.***"
   ]
  },
  {
   "cell_type": "markdown",
   "metadata": {},
   "source": [
    "< [Table of Contents](#top) | [References](#references) >\n",
    "<a id=\"introduction12VariablesandArithmeticExpressions\"></a>\n",
    "***\n",
    "### 1.2 Variables and Arithmetic Expressions\n",
    "***"
   ]
  },
  {
   "cell_type": "markdown",
   "metadata": {},
   "source": [
    "- computation begins with assignment statements - setting the variables to initial values [2]"
   ]
  },
  {
   "cell_type": "code",
   "execution_count": 1,
   "metadata": {},
   "outputs": [],
   "source": [
    "int nCelsius,nLower;"
   ]
  },
  {
   "cell_type": "code",
   "execution_count": 2,
   "metadata": {},
   "outputs": [
    {
     "name": "stdout",
     "output_type": "stream",
     "text": [
      "(int) 0\n"
     ]
    }
   ],
   "source": [
    "nCelsius // decimal 0 [NULL]"
   ]
  },
  {
   "cell_type": "code",
   "execution_count": 3,
   "metadata": {},
   "outputs": [
    {
     "name": "stdout",
     "output_type": "stream",
     "text": [
      "(int) 0\n"
     ]
    }
   ],
   "source": [
    "nLower"
   ]
  },
  {
   "cell_type": "code",
   "execution_count": 4,
   "metadata": {},
   "outputs": [],
   "source": [
    "int nUpper=300,nStep=20,nFahr=nLower;"
   ]
  },
  {
   "cell_type": "markdown",
   "metadata": {},
   "source": [
    "- using the formula $C=(5{\\div}9)(F-32)$ to create the table of fahrenheit to celsius [2]"
   ]
  },
  {
   "cell_type": "markdown",
   "metadata": {},
   "source": [
    "- first dividing $5{\\div}9$ would result in integer division truncation (fractional part is discarded) [2]"
   ]
  },
  {
   "cell_type": "markdown",
   "metadata": {},
   "source": [
    "- since $5$ and $9$ are integers then $5{\\div}9$ would be truncated to zero and so all the celsius temperatures would be reported as zero [2] "
   ]
  },
  {
   "cell_type": "markdown",
   "metadata": {},
   "source": [
    "- if an arithmetic operator has integer operands then an integer operation is performed [2]"
   ]
  },
  {
   "cell_type": "code",
   "execution_count": 5,
   "metadata": {},
   "outputs": [
    {
     "name": "stdout",
     "output_type": "stream",
     "text": [
      "(int) 0\n"
     ]
    }
   ],
   "source": [
    "5/9"
   ]
  },
  {
   "cell_type": "markdown",
   "metadata": {},
   "source": [
    "- using integer arithmetic results in the celsius temperatures not being very accurate ($0^{\\circ}F$ is actually about $-17.8^{\\circ}C$) [2]"
   ]
  },
  {
   "cell_type": "code",
   "execution_count": 6,
   "metadata": {},
   "outputs": [
    {
     "name": "stdout",
     "output_type": "stream",
     "text": [
      "  0   -17\n"
     ]
    }
   ],
   "source": [
    "printf(\"%3d%6d\\n\",nFahr,5*(nFahr-32)/9); // Dec 10 [LINE FEED]"
   ]
  },
  {
   "cell_type": "markdown",
   "metadata": {},
   "source": [
    "- a decimal point in a constant indicates that it is floating point so $5.0{\\div}9.0$ is not truncated because it is the ratio of two floating-point values [2]"
   ]
  },
  {
   "cell_type": "code",
   "execution_count": 7,
   "metadata": {},
   "outputs": [
    {
     "name": "stdout",
     "output_type": "stream",
     "text": [
      "(double) 0.55555556\n"
     ]
    }
   ],
   "source": [
    "5.0/9.0"
   ]
  },
  {
   "cell_type": "markdown",
   "metadata": {},
   "source": [
    "- if an arithmetic operator has one floating-point operand and one integer operand then the integer will be converted to floating point before the operation is done [2]"
   ]
  },
  {
   "cell_type": "code",
   "execution_count": 8,
   "metadata": {},
   "outputs": [
    {
     "name": "stdout",
     "output_type": "stream",
     "text": [
      "(double) 0.55555556\n"
     ]
    }
   ],
   "source": [
    "5.0/9"
   ]
  },
  {
   "cell_type": "code",
   "execution_count": 9,
   "metadata": {},
   "outputs": [
    {
     "name": "stdout",
     "output_type": "stream",
     "text": [
      "(double) 0.55555556\n"
     ]
    }
   ],
   "source": [
    "5/9.0"
   ]
  },
  {
   "cell_type": "markdown",
   "metadata": {},
   "source": [
    "- declaring ``nFahr`` and ``nCelsius`` to be ``float`` allows the formula for conversion to be written in a more natural way (unable to use $5{\\div}9$ given integer division would truncate it to zero) [2]"
   ]
  },
  {
   "cell_type": "code",
   "execution_count": 10,
   "metadata": {},
   "outputs": [],
   "source": [
    "float nFahr=nLower,nCelsius;"
   ]
  },
  {
   "cell_type": "code",
   "execution_count": 11,
   "metadata": {},
   "outputs": [
    {
     "name": "stdout",
     "output_type": "stream",
     "text": [
      "(int) 0\n"
     ]
    }
   ],
   "source": [
    "nLower"
   ]
  },
  {
   "cell_type": "code",
   "execution_count": 12,
   "metadata": {},
   "outputs": [
    {
     "name": "stdout",
     "output_type": "stream",
     "text": [
      "(float) 0.00000f\n"
     ]
    }
   ],
   "source": [
    "nFahr"
   ]
  },
  {
   "cell_type": "code",
   "execution_count": 13,
   "metadata": {},
   "outputs": [
    {
     "name": "stdout",
     "output_type": "stream",
     "text": [
      "(float) 0.00000f\n"
     ]
    }
   ],
   "source": [
    "nCelsius"
   ]
  },
  {
   "cell_type": "markdown",
   "metadata": {},
   "source": [
    "- writing ``nFahr-32`` then the ``32`` would be automatically converted to floating point - writing floating-point constants with explicit decimal points even when they are integral values emphasises their floating-point nature for human readers [2]"
   ]
  },
  {
   "cell_type": "code",
   "execution_count": 14,
   "metadata": {},
   "outputs": [
    {
     "name": "stdout",
     "output_type": "stream",
     "text": [
      "(float) -32.0000f\n"
     ]
    }
   ],
   "source": [
    "nFahr-32"
   ]
  },
  {
   "cell_type": "markdown",
   "metadata": {},
   "source": [
    "- like the assignment ``nFahr=nLower`` the test ``while (nFahr<=nUpper)`` also works in the natural way (the ``int`` is converted to ``float`` before the operation is done) [2]"
   ]
  },
  {
   "cell_type": "code",
   "execution_count": 15,
   "metadata": {},
   "outputs": [
    {
     "name": "stdout",
     "output_type": "stream",
     "text": [
      "(int) 300\n"
     ]
    }
   ],
   "source": [
    "nUpper"
   ]
  },
  {
   "cell_type": "markdown",
   "metadata": {},
   "source": [
    "- each line of the table is computed the same way using a loop that repeats once per output line [2]"
   ]
  },
  {
   "cell_type": "code",
   "execution_count": 16,
   "metadata": {},
   "outputs": [
    {
     "name": "stdout",
     "output_type": "stream",
     "text": [
      "  0 -17.8\n",
      " 20  -6.7\n",
      " 40   4.4\n",
      " 60  15.6\n",
      " 80  26.7\n",
      "100  37.8\n",
      "120  48.9\n",
      "140  60.0\n",
      "160  71.1\n",
      "180  82.2\n",
      "200  93.3\n",
      "220 104.4\n",
      "240 115.6\n",
      "260 126.7\n",
      "280 137.8\n",
      "300 148.9\n"
     ]
    }
   ],
   "source": [
    "while (nFahr<=nUpper)\n",
    "{ \n",
    "    nCelsius=(5.0/9.0)*(nFahr-32);\n",
    "    printf(\"%3.0f%6.1f\\n\",nFahr,nCelsius);\n",
    "    nFahr=nFahr+nStep;\n",
    "}"
   ]
  },
  {
   "cell_type": "markdown",
   "metadata": {},
   "source": [
    "< [Table of Contents](#top) | [References](#references) >\n",
    "<a id=\"abstract13\"></a>\n",
    "***\n",
    "###### Exercise 1-3. Modify the temperature conversion program to print a heading above the table.\n",
    "***"
   ]
  },
  {
   "cell_type": "code",
   "execution_count": 17,
   "metadata": {},
   "outputs": [
    {
     "name": "stdout",
     "output_type": "stream",
     "text": [
      "Fahrenheit - Celsius\n",
      "     0        -17.8\n",
      "    20         -6.7\n",
      "    40          4.4\n",
      "    60         15.6\n",
      "    80         26.7\n",
      "   100         37.8\n",
      "   120         48.9\n",
      "   140         60.0\n",
      "   160         71.1\n",
      "   180         82.2\n",
      "   200         93.3\n",
      "   220        104.4\n",
      "   240        115.6\n",
      "   260        126.7\n",
      "   280        137.8\n",
      "   300        148.9\n"
     ]
    }
   ],
   "source": [
    "int nLower=0,nUpper=300,nStep=20;\n",
    "float nFahr=nLower,nCelsius;\n",
    "printf(\"Fahrenheit - Celsius\\n\");\n",
    "while (nFahr<=nUpper)\n",
    "{\n",
    "    nCelsius=(5.0/9.0)*(nFahr-32);\n",
    "    printf(\"%6.0f%13.1f\\n\",nFahr,nCelsius);\n",
    "    nFahr=nFahr+nStep;\n",
    "}"
   ]
  },
  {
   "cell_type": "markdown",
   "metadata": {},
   "source": [
    "< [Table of Contents](#top) | [References](#references) >\n",
    "<a id=\"abstract14\"></a>\n",
    "***\n",
    "###### Exercise 1-4. Write a program to print the corresponding Celsius to Fahrenheit table.\n",
    "***"
   ]
  },
  {
   "cell_type": "code",
   "execution_count": 18,
   "metadata": {},
   "outputs": [
    {
     "name": "stdout",
     "output_type": "stream",
     "text": [
      "Celsius - Fahrenheit\n",
      "   0         32.0\n",
      "  20         68.0\n",
      "  40        104.0\n",
      "  60        140.0\n",
      "  80        176.0\n",
      " 100        212.0\n",
      " 120        248.0\n",
      " 140        284.0\n",
      " 160        320.0\n",
      " 180        356.0\n",
      " 200        392.0\n",
      " 220        428.0\n",
      " 240        464.0\n",
      " 260        500.0\n",
      " 280        536.0\n",
      " 300        572.0\n"
     ]
    }
   ],
   "source": [
    "int nLower=0,nUpper=300,nStep=20;\n",
    "float nFahr,nCelsius=nLower;\n",
    "printf(\"Celsius - Fahrenheit\\n\");\n",
    "while (nCelsius<=nUpper)\n",
    "{\n",
    "    nFahr=nCelsius/(5.0/9.0)+32;\n",
    "    printf(\"%4.0f%13.1f\\n\",nCelsius,nFahr);\n",
    "    nCelsius=nCelsius+nStep;\n",
    "}"
   ]
  },
  {
   "cell_type": "markdown",
   "metadata": {},
   "source": [
    "< [Table of Contents](#top) | [References](#references) >\n",
    "<a id=\"introduction13TheForStatement\"></a>\n",
    "***\n",
    "### 1.3 The For Statement\n",
    "***"
   ]
  },
  {
   "cell_type": "markdown",
   "metadata": {},
   "source": [
    "- variation on the temperature converter [2]"
   ]
  },
  {
   "cell_type": "markdown",
   "metadata": {},
   "source": [
    "- eliminate most of the variables with ``nFahr`` remaining (make it an ``int``) [2]"
   ]
  },
  {
   "cell_type": "code",
   "execution_count": 19,
   "metadata": {},
   "outputs": [],
   "source": [
    "int nFahr;"
   ]
  },
  {
   "cell_type": "code",
   "execution_count": 20,
   "metadata": {},
   "outputs": [
    {
     "name": "stdout",
     "output_type": "stream",
     "text": [
      "(int) 0\n"
     ]
    }
   ],
   "source": [
    "nFahr"
   ]
  },
  {
   "cell_type": "markdown",
   "metadata": {},
   "source": [
    "- variables ``nLower`` and ``nUpper`` and ``nStep`` appear only as constants in the ``for`` statement [2]"
   ]
  },
  {
   "cell_type": "markdown",
   "metadata": {},
   "source": [
    "- the expression that computes the ``nCelsius`` now appears as the third argument of the ``printf`` instead of as a separate assignment statement [2]"
   ]
  },
  {
   "cell_type": "code",
   "execution_count": 21,
   "metadata": {},
   "outputs": [
    {
     "name": "stdout",
     "output_type": "stream",
     "text": [
      "Fahrenheit - Celsius\n",
      "     0        -17.8\n",
      "    20         -6.7\n",
      "    40          4.4\n",
      "    60         15.6\n",
      "    80         26.7\n",
      "   100         37.8\n",
      "   120         48.9\n",
      "   140         60.0\n",
      "   160         71.1\n",
      "   180         82.2\n",
      "   200         93.3\n",
      "   220        104.4\n",
      "   240        115.6\n",
      "   260        126.7\n",
      "   280        137.8\n",
      "   300        148.9\n"
     ]
    }
   ],
   "source": [
    "printf(\"Fahrenheit - Celsius\\n\");\n",
    "for (nFahr; nFahr<=300; nFahr=nFahr+20)\n",
    "    printf(\"%6d%13.1f\\n\",nFahr,(5.0/9.0)*(nFahr-32));"
   ]
  },
  {
   "cell_type": "markdown",
   "metadata": {},
   "source": [
    "< [Table of Contents](#top) | [References](#references) >\n",
    "<a id=\"abstract15\"></a>\n",
    "***\n",
    "###### Exercise 1-5. Modify the temperature conversion program to print the table in reverse order, that is, from 300 degrees to 0.\n",
    "***"
   ]
  },
  {
   "cell_type": "code",
   "execution_count": 22,
   "metadata": {},
   "outputs": [
    {
     "name": "stdout",
     "output_type": "stream",
     "text": [
      "Fahrenheit - Celsius\n",
      "   300        148.9\n",
      "   280        137.8\n",
      "   260        126.7\n",
      "   240        115.6\n",
      "   220        104.4\n",
      "   200         93.3\n",
      "   180         82.2\n",
      "   160         71.1\n",
      "   140         60.0\n",
      "   120         48.9\n",
      "   100         37.8\n",
      "    80         26.7\n",
      "    60         15.6\n",
      "    40          4.4\n",
      "    20         -6.7\n",
      "     0        -17.8\n"
     ]
    }
   ],
   "source": [
    "printf(\"Fahrenheit - Celsius\\n\");\n",
    "for (nFahr=300; nFahr>=0; nFahr-=20)\n",
    "    printf(\"%6d%13.1f\\n\",nFahr,(5.0/9.0)*(nFahr-32));"
   ]
  },
  {
   "cell_type": "markdown",
   "metadata": {},
   "source": [
    "< [Table of Contents](#top) | [References](#references) >\n",
    "<a id=\"introduction14SymbolicConstants\"></a>\n",
    "***\n",
    "### 1.4 Symbolic Constants\n",
    "***"
   ]
  },
  {
   "cell_type": "markdown",
   "metadata": {},
   "source": [
    "- the quantities ``LOWER`` and ``UPPER`` and ``STEP`` are symbolic constants [2]"
   ]
  },
  {
   "cell_type": "markdown",
   "metadata": {},
   "source": [
    "- these are not variables so do not appear in declarations and are conventionally written in upper case so can be readily distinguished from lower case variable names - note there is no ``;`` at the end [2]"
   ]
  },
  {
   "cell_type": "code",
   "execution_count": 23,
   "metadata": {},
   "outputs": [],
   "source": [
    "#define LOWER 0 // table lower limit\n",
    "#define UPPER 300 //  table upper limit\n",
    "#define STEP 20 // table step size"
   ]
  },
  {
   "cell_type": "code",
   "execution_count": 24,
   "metadata": {},
   "outputs": [
    {
     "name": "stdout",
     "output_type": "stream",
     "text": [
      "Fahrenheit - Celsius\n",
      "   300        148.9\n",
      "   280        137.8\n",
      "   260        126.7\n",
      "   240        115.6\n",
      "   220        104.4\n",
      "   200         93.3\n",
      "   180         82.2\n",
      "   160         71.1\n",
      "   140         60.0\n",
      "   120         48.9\n",
      "   100         37.8\n",
      "    80         26.7\n",
      "    60         15.6\n",
      "    40          4.4\n",
      "    20         -6.7\n",
      "     0        -17.8\n"
     ]
    }
   ],
   "source": [
    "printf(\"Fahrenheit - Celsius\\n\");\n",
    "for (nFahr=UPPER; nFahr>=LOWER; nFahr-=STEP)\n",
    "    printf(\"%6d%13.1f\\n\",nFahr,(5.0/9.0)*(nFahr-32));"
   ]
  },
  {
   "cell_type": "markdown",
   "metadata": {},
   "source": [
    "< [Table of Contents](#top) | [References](#references) >\n",
    "<a id=\"introduction15CharacterInputandOutput\"></a>\n",
    "***\n",
    "### 1.5 Character Input and Output\n",
    "***"
   ]
  },
  {
   "cell_type": "markdown",
   "metadata": {},
   "source": [
    "- can write a surprising amount of useful code without knowing anything more about input and output using ``getchar`` and ``putchar`` [2]"
   ]
  },
  {
   "cell_type": "markdown",
   "metadata": {},
   "source": [
    "- a character on the keyboard or screen like everything else is stored internally just as a bit pattern - type ``char`` is specifically meant for storing such character data but any type ``int`` can be used (``int`` is used for a subtle but important reason) [2]"
   ]
  },
  {
   "cell_type": "markdown",
   "metadata": {},
   "source": [
    "- the problem is distinguishing the end of the input from valid data - ``getchar`` returns a distinctive value when there is no more input (a value that cannot be confused with any real character - ``EOF``) [2]"
   ]
  },
  {
   "cell_type": "markdown",
   "metadata": {},
   "source": [
    "- creating a program that copies its input to its output one character at a time [2]"
   ]
  },
  {
   "cell_type": "markdown",
   "metadata": {},
   "source": [
    "- variable ``c`` must be declared a type big enough to hold any value that ``getchar`` returns and big enough to hold ``EOF`` therefore using ``int`` [2]"
   ]
  },
  {
   "cell_type": "markdown",
   "metadata": {},
   "source": [
    "- on linux and OS X the character to input to cause an ``EOF`` is ``Ctrl-D`` and for windows its ``Ctrl-Z`` [[stackoverflow.com](https://stackoverflow.com/questions/1782080/what-is-eof-in-the-c-programming-language)]"
   ]
  },
  {
   "cell_type": "code",
   "execution_count": 25,
   "metadata": {},
   "outputs": [
    {
     "name": "stdout",
     "output_type": "stream",
     "text": [
      "#include <stdio.h>\r\n",
      "int main()\r\n",
      "{\r\n",
      "    int c;\r\n",
      "    c=getchar();\r\n",
      "    while (c!=EOF)\r\n",
      "    {\r\n",
      "        putchar(c);\r\n",
      "        c=getchar();\r\n",
      "    }\r\n",
      "}\r\n",
      "\n"
     ]
    }
   ],
   "source": [
    "%%shell\n",
    "cat ./rc/cpl/15CharacterInputOutput0.c"
   ]
  },
  {
   "cell_type": "markdown",
   "metadata": {},
   "source": [
    "- any assignment is an expression and has a value which is the value of the LHS after the assignment - an assignment can appear as part of a larger expression [2]"
   ]
  },
  {
   "cell_type": "markdown",
   "metadata": {},
   "source": [
    "- the assignment of a character to variable ``c`` can be put inside the test part of a ``while`` [2]"
   ]
  },
  {
   "cell_type": "markdown",
   "metadata": {},
   "source": [
    "- the ``while`` gets a character and assigns it to ``c`` then tests whether the character was the ``EOF`` [2]"
   ]
  },
  {
   "cell_type": "markdown",
   "metadata": {},
   "source": [
    "- centralising the input with only one reference to getchar - shrinks the program (more compact) and once the idiom is mastered is easier to read [2]"
   ]
  },
  {
   "cell_type": "code",
   "execution_count": 26,
   "metadata": {},
   "outputs": [
    {
     "name": "stdout",
     "output_type": "stream",
     "text": [
      "#include <stdio.h>\r\n",
      "int main()\r\n",
      "{\r\n",
      "    int c;\r\n",
      "    while ((c=getchar())!=EOF) // != higher precedence\r\n",
      "    {\r\n",
      "        putchar(c);\r\n",
      "    }\r\n",
      "}\r\n",
      "\n"
     ]
    }
   ],
   "source": [
    "%%shell\n",
    "cat ./rc/cpl/15CharacterInputOutput1.c"
   ]
  },
  {
   "cell_type": "markdown",
   "metadata": {},
   "source": [
    "< [Table of Contents](#top) | [References](#references) >\n",
    "<a id=\"abstract16\"></a>\n",
    "***\n",
    "###### Exercise 1-6. Verify that the expression getchar() != EOF is 0 or 1.\n",
    "***"
   ]
  },
  {
   "cell_type": "markdown",
   "metadata": {},
   "source": [
    "- format specifier ``%d`` is a signed decimal integer whereas ``%i`` specifies integer - returns $1$ if character or $0$ if ``EOF`` [2]"
   ]
  },
  {
   "cell_type": "code",
   "execution_count": 27,
   "metadata": {},
   "outputs": [
    {
     "name": "stdout",
     "output_type": "stream",
     "text": [
      "(int) -1\n"
     ]
    }
   ],
   "source": [
    "getchar()"
   ]
  },
  {
   "cell_type": "code",
   "execution_count": 28,
   "metadata": {},
   "outputs": [
    {
     "name": "stdout",
     "output_type": "stream",
     "text": [
      "(bool) false\n"
     ]
    }
   ],
   "source": [
    "getchar()!=EOF"
   ]
  },
  {
   "cell_type": "code",
   "execution_count": 29,
   "metadata": {},
   "outputs": [
    {
     "name": "stdout",
     "output_type": "stream",
     "text": [
      "0\n"
     ]
    }
   ],
   "source": [
    "printf(\"%i\\n\",getchar()!=EOF);"
   ]
  },
  {
   "cell_type": "markdown",
   "metadata": {},
   "source": [
    "< [Table of Contents](#top) | [References](#references) >\n",
    "<a id=\"abstract17\"></a>\n",
    "***\n",
    "###### Exercise 1-7. Write a program to print the value of EOF.\n",
    "***"
   ]
  },
  {
   "cell_type": "code",
   "execution_count": 30,
   "metadata": {},
   "outputs": [
    {
     "name": "stdout",
     "output_type": "stream",
     "text": [
      "(int) -1\n"
     ]
    }
   ],
   "source": [
    "EOF"
   ]
  },
  {
   "cell_type": "code",
   "execution_count": 31,
   "metadata": {},
   "outputs": [
    {
     "name": "stdout",
     "output_type": "stream",
     "text": [
      "-1\n"
     ]
    }
   ],
   "source": [
    "printf(\"%i\\n\",EOF);"
   ]
  },
  {
   "cell_type": "markdown",
   "metadata": {},
   "source": [
    "< [Table of Contents](#top) | [References](#references) >\n",
    "<a id=\"CharacterInputOutputCharacterCounting\"></a>\n",
    "***\n",
    "###### Character Counting\n",
    "***"
   ]
  },
  {
   "cell_type": "markdown",
   "metadata": {},
   "source": [
    "- count characters in input (note count for ``[LINE FEED]``) [2]"
   ]
  },
  {
   "cell_type": "markdown",
   "metadata": {},
   "source": [
    "- accumulating count in variable ``n`` of type ``long`` instead of ``int`` (conversion specification ``%ld`` tells ``printf`` that the corresponding argument is a ``long`` integer [2]"
   ]
  },
  {
   "cell_type": "markdown",
   "metadata": {},
   "source": [
    "- note if the input contains no characters then the ``while`` test fails on the very first call to ``getchar`` and the program produces $0$ (the correct answer) [2]"
   ]
  },
  {
   "cell_type": "code",
   "execution_count": 32,
   "metadata": {},
   "outputs": [
    {
     "name": "stdout",
     "output_type": "stream",
     "text": [
      "#include <stdio.h>\r\n",
      "int main()\r\n",
      "{\r\n",
      "    long n=0;\r\n",
      "    while (getchar()!=EOF)\r\n",
      "        ++n;\r\n",
      "    printf(\"%ld\\n\",n);    \r\n",
      "}\r\n",
      "\n"
     ]
    }
   ],
   "source": [
    "%%shell\n",
    "cat ./rc/cpl/15CharacterInputOutput2.c"
   ]
  },
  {
   "cell_type": "markdown",
   "metadata": {},
   "source": [
    "- to cope with bigger numbers using a ``double`` precision ``float`` and using a ``for`` statement instead of a ``while`` [2]"
   ]
  },
  {
   "cell_type": "markdown",
   "metadata": {},
   "source": [
    "- conversion specification ``%f`` tells ``printf`` that the corresponding argument is a ``float`` and ``double`` - using ``%.0f`` suppresses printing of the decimal point and the fraction part (zero) [2]"
   ]
  },
  {
   "cell_type": "markdown",
   "metadata": {},
   "source": [
    "- the body of the ``for`` loop is empty because all the work is done in the test and increment part - the grammatical rules of ``C`` require that a ``for`` statement has a body (the isolated semicolon is called a ``null statement`` to satisfy this requirement) [2] "
   ]
  },
  {
   "cell_type": "markdown",
   "metadata": {},
   "source": [
    "- note if the input contains no characters then the ``for`` test fails on the very first call to ``getchar`` and the program produces $0$ (the correct answer) [2]"
   ]
  },
  {
   "cell_type": "code",
   "execution_count": 33,
   "metadata": {},
   "outputs": [
    {
     "name": "stdout",
     "output_type": "stream",
     "text": [
      "#include <stdio.h>\r\n",
      "int main()\r\n",
      "{\r\n",
      "    double n;\r\n",
      "    for (n=0;getchar()!=EOF;++n)\r\n",
      "        ;\r\n",
      "    printf(\"%.0f\\n\",n);\r\n",
      "}\r\n",
      "\n"
     ]
    }
   ],
   "source": [
    "%%shell\n",
    "cat ./rc/cpl/15CharacterInputOutput3.c"
   ]
  },
  {
   "cell_type": "markdown",
   "metadata": {},
   "source": [
    "< [Table of Contents](#top) | [References](#references) >\n",
    "<a id=\"CharacterInputOutputLineCounting\"></a>\n",
    "***\n",
    "###### Line Counting\n",
    "***"
   ]
  },
  {
   "cell_type": "markdown",
   "metadata": {},
   "source": [
    "- ``'\\n'`` (single quotes) is the value of the newline character (``[LINE FEED]``) which is $10$ in ASCII and is a single character (in expressions is just an integer) [2]"
   ]
  },
  {
   "cell_type": "markdown",
   "metadata": {},
   "source": [
    "- ``\"\\n\"`` is a string constant that happens to contain only one character [2]"
   ]
  },
  {
   "cell_type": "markdown",
   "metadata": {},
   "source": [
    "- program to count input lines [2]"
   ]
  },
  {
   "cell_type": "code",
   "execution_count": 34,
   "metadata": {
    "scrolled": true
   },
   "outputs": [
    {
     "name": "stdout",
     "output_type": "stream",
     "text": [
      "#include <stdio.h>\r\n",
      "int main()\r\n",
      "{\r\n",
      "    int c,l;\r\n",
      "    l=0;\r\n",
      "    while ((c=getchar())!=EOF)\r\n",
      "        if (c=='\\n') // \"\\n\" string constant\r\n",
      "            ++l;\r\n",
      "    printf(\"%d\\n\",l);\r\n",
      "}\r\n",
      "\n"
     ]
    }
   ],
   "source": [
    "%%shell\n",
    "cat ./rc/cpl/15CharacterInputOutput4.c"
   ]
  },
  {
   "cell_type": "markdown",
   "metadata": {},
   "source": [
    "< [Table of Contents](#top) | [References](#references) >\n",
    "<a id=\"abstract18\"></a>\n",
    "***\n",
    "###### Exercise 1-8. Write a program to count blanks, tabs, and newlines.\n",
    "***"
   ]
  },
  {
   "cell_type": "code",
   "execution_count": 35,
   "metadata": {},
   "outputs": [
    {
     "name": "stdout",
     "output_type": "stream",
     "text": [
      "#include <stdio.h>\r\n",
      "int main()\r\n",
      "{\r\n",
      "    int c,b=0,t=0,l=0;\r\n",
      "    while ((c=getchar())!=EOF)\r\n",
      "    {\r\n",
      "        if (c==' ')\r\n",
      "            ++b;\r\n",
      "        else if (c=='\\t')\r\n",
      "            ++t;\r\n",
      "        else if (c=='\\n')\r\n",
      "            ++l;\r\n",
      "    }\r\n",
      "    printf(\"Blanks: %d\\nTabs: %d\\nNewline: %d\\n\",b,t,l);\r\n",
      "}\r\n",
      "\n"
     ]
    }
   ],
   "source": [
    "%%shell\n",
    "cat ./rc/cpl/ex/108.c"
   ]
  },
  {
   "cell_type": "markdown",
   "metadata": {},
   "source": [
    "< [Table of Contents](#top) | [References](#references) >\n",
    "<a id=\"abstract19\"></a>\n",
    "***\n",
    "###### Exercise 1-9.  Write a program to copy its input to its output, replacing each string of one or more blanks by a single blank.\n",
    "***"
   ]
  },
  {
   "cell_type": "markdown",
   "metadata": {},
   "source": [
    "- ``while`` the current character not end-of-file (``getchar``) [2]"
   ]
  },
  {
   "cell_type": "markdown",
   "metadata": {},
   "source": [
    "- if current or previous not blank (character constant or decimal $32$) then display current character (``putchar``) [2]"
   ]
  },
  {
   "cell_type": "markdown",
   "metadata": {},
   "source": [
    "- capture the current character in the previous character [2]"
   ]
  },
  {
   "cell_type": "code",
   "execution_count": 36,
   "metadata": {},
   "outputs": [
    {
     "name": "stdout",
     "output_type": "stream",
     "text": [
      "(int) 32\n"
     ]
    }
   ],
   "source": [
    "int current=' '"
   ]
  },
  {
   "cell_type": "code",
   "execution_count": 37,
   "metadata": {},
   "outputs": [
    {
     "name": "stdout",
     "output_type": "stream",
     "text": [
      "(char) ' '\n"
     ]
    }
   ],
   "source": [
    "char previous=32"
   ]
  },
  {
   "cell_type": "code",
   "execution_count": 38,
   "metadata": {},
   "outputs": [
    {
     "name": "stdout",
     "output_type": "stream",
     "text": [
      "#include <stdio.h>\r\n",
      "int main()\r\n",
      "{\r\n",
      "    int current; // character constant [SPACE]\r\n",
      "    int previous; // decimal 32 [SPACE]\r\n",
      "    while((current=getchar())!=EOF)\r\n",
      "    {\r\n",
      "        if (current!=' '||previous!=32)\r\n",
      "            putchar(current);\r\n",
      "        previous=current;\r\n",
      "    }\r\n",
      "}\r\n",
      "\n"
     ]
    }
   ],
   "source": [
    "%%shell\n",
    "cat ./rc/cpl/ex/109.c"
   ]
  },
  {
   "cell_type": "markdown",
   "metadata": {},
   "source": [
    "< [Table of Contents](#top) | [References](#references) >\n",
    "<a id=\"abstract110\"></a>\n",
    "***\n",
    "###### Exercise 1-10. Write a program to copy its input to its output, replacing each tab by \\t, each backspace by \\b, and each backslash by \\\\\\\\. This makes tabs and backspaces visible in an unambiguous way.\n",
    "***"
   ]
  },
  {
   "cell_type": "code",
   "execution_count": 39,
   "metadata": {},
   "outputs": [
    {
     "name": "stdout",
     "output_type": "stream",
     "text": [
      "(int) 9\n"
     ]
    }
   ],
   "source": [
    "int c='\\t'"
   ]
  },
  {
   "cell_type": "code",
   "execution_count": 40,
   "metadata": {},
   "outputs": [
    {
     "name": "stdout",
     "output_type": "stream",
     "text": [
      "(char) '\\t'\n"
     ]
    }
   ],
   "source": [
    "char c=9"
   ]
  },
  {
   "cell_type": "code",
   "execution_count": 41,
   "metadata": {},
   "outputs": [
    {
     "name": "stdout",
     "output_type": "stream",
     "text": [
      "(int) 92\n"
     ]
    }
   ],
   "source": [
    "int c='\\\\'"
   ]
  },
  {
   "cell_type": "code",
   "execution_count": 42,
   "metadata": {},
   "outputs": [
    {
     "name": "stdout",
     "output_type": "stream",
     "text": [
      "(char) '\\'\n"
     ]
    }
   ],
   "source": [
    "char c=92"
   ]
  },
  {
   "cell_type": "code",
   "execution_count": 43,
   "metadata": {},
   "outputs": [
    {
     "name": "stdout",
     "output_type": "stream",
     "text": [
      "(int) 8\n"
     ]
    }
   ],
   "source": [
    "int c='\\b'"
   ]
  },
  {
   "cell_type": "code",
   "execution_count": 44,
   "metadata": {},
   "outputs": [
    {
     "name": "stdout",
     "output_type": "stream",
     "text": [
      "(char) '0x08'\n"
     ]
    }
   ],
   "source": [
    "char c=8"
   ]
  },
  {
   "cell_type": "code",
   "execution_count": 45,
   "metadata": {},
   "outputs": [
    {
     "name": "stdout",
     "output_type": "stream",
     "text": [
      "#include <stdio.h>\r\n",
      "int main()\r\n",
      "{\r\n",
      "    int c; // decimal 0 [NULL]\r\n",
      "    while((c=getchar())!=EOF) // decimal -1 EOF\r\n",
      "    {\r\n",
      "        if (c==9) // decimal 9 [HORIZONTAL TAB]\r\n",
      "        {\r\n",
      "            putchar(92); // decimal 92 '\\'\r\n",
      "            c='t';\r\n",
      "        }\r\n",
      "        else if (c=='\\b') // decimal 8 [BACKSPACE]\r\n",
      "        {\r\n",
      "            putchar(92);\r\n",
      "            c='b';\r\n",
      "        }\r\n",
      "        else if (c=='\\\\')\r\n",
      "        {\r\n",
      "            putchar(92);\r\n",
      "            c='\\\\';\r\n",
      "        }\r\n",
      "        putchar(c);\r\n",
      "    }\r\n",
      "}\r\n",
      "\n"
     ]
    }
   ],
   "source": [
    "%%shell\n",
    "cat ./rc/cpl/ex/110.c"
   ]
  },
  {
   "cell_type": "markdown",
   "metadata": {},
   "source": [
    "< [Table of Contents](#top) | [References](#references) >\n",
    "<a id=\"CharacterInputOutputWordCounting\"></a>\n",
    "***\n",
    "###### Word Counting\n",
    "***"
   ]
  },
  {
   "cell_type": "markdown",
   "metadata": {},
   "source": [
    "- program that counts lines and words and characters with the loose definition that a word is any sequence of characters that does not contain a blank or tab or newline [2]"
   ]
  },
  {
   "cell_type": "markdown",
   "metadata": {},
   "source": [
    "- every time the program encounters the first character of a word it counts one more word [2]"
   ]
  },
  {
   "cell_type": "markdown",
   "metadata": {},
   "source": [
    "- using the symbolic constants ``IN`` and ``OUT`` instead of the literal values $1$ and $0$ (makes the program more readable) - this makes it easier to make extensive changes in programs where magic numbers appear only as symbolic constants [2] "
   ]
  },
  {
   "cell_type": "code",
   "execution_count": 46,
   "metadata": {},
   "outputs": [],
   "source": [
    "#define IN 1 // inside a word\n",
    "#define OUT 0 // outside a word"
   ]
  },
  {
   "cell_type": "code",
   "execution_count": 47,
   "metadata": {},
   "outputs": [
    {
     "name": "stdout",
     "output_type": "stream",
     "text": [
      "(int) 1\n"
     ]
    }
   ],
   "source": [
    "IN"
   ]
  },
  {
   "cell_type": "code",
   "execution_count": 48,
   "metadata": {},
   "outputs": [
    {
     "name": "stdout",
     "output_type": "stream",
     "text": [
      "(int) 0\n"
     ]
    }
   ],
   "source": [
    "OUT"
   ]
  },
  {
   "cell_type": "markdown",
   "metadata": {},
   "source": [
    "- variable ``state`` records whether the program is currently in a word or not [2]"
   ]
  },
  {
   "cell_type": "code",
   "execution_count": 49,
   "metadata": {},
   "outputs": [],
   "source": [
    "int state=OUT; // initially not word"
   ]
  },
  {
   "cell_type": "code",
   "execution_count": 50,
   "metadata": {},
   "outputs": [
    {
     "name": "stdout",
     "output_type": "stream",
     "text": [
      "(int) 0\n"
     ]
    }
   ],
   "source": [
    "state"
   ]
  },
  {
   "cell_type": "markdown",
   "metadata": {},
   "source": [
    "- ``while`` gets a character and assigns it to ``c`` then tests whether the character is ``EOF`` [2]"
   ]
  },
  {
   "cell_type": "markdown",
   "metadata": {},
   "source": [
    "- ``if`` the variable ``c`` is blank ``' '`` there is no need to test whether it is a ``'\\n'`` or ``'\\t'`` so these tests are not made (not particularly important but is significant in more complicated situations) [2]"
   ]
  },
  {
   "cell_type": "code",
   "execution_count": 51,
   "metadata": {},
   "outputs": [
    {
     "name": "stdout",
     "output_type": "stream",
     "text": [
      "#include <stdio.h>\r\n",
      "#define IN 1 // inside a word\r\n",
      "#define OUT 0 // outside a word\r\n",
      "int main()\r\n",
      "{\r\n",
      "    int state=OUT;\r\n",
      "    int c,nc,nl,nWord;\r\n",
      "    nc=nl=nWord=0;\r\n",
      "    while ((c=getchar())!=EOF)\r\n",
      "    {\r\n",
      "        ++nc; // add character count\r\n",
      "        if (c=='\\n')\r\n",
      "            ++nl; // add line count\r\n",
      "        if (c==' ' || c =='\\n' || c=='\\t')\r\n",
      "            state=OUT; // not a word\r\n",
      "        else if (state==OUT)\r\n",
      "        {\r\n",
      "            state=IN; // is a word\r\n",
      "            ++nWord; // add word count\r\n",
      "        }\r\n",
      "    }\r\n",
      "    printf(\"Characters: %d\\nLines: %1d\\nWords:%d\\n\",nc,nl,nWord);\r\n",
      "}\r\n",
      "\n"
     ]
    }
   ],
   "source": [
    "%%shell\n",
    "cat ./rc/cpl/15CharacterInputOutput5.c"
   ]
  },
  {
   "cell_type": "markdown",
   "metadata": {},
   "source": [
    "< [Table of Contents](#top) | [References](#references) >\n",
    "<a id=\"abstract111\"></a>\n",
    "***\n",
    "###### Exercise 1-11. How would you test the word count program? What kinds of input are most likely to uncover bugs if there are any?\n",
    "***"
   ]
  },
  {
   "cell_type": "markdown",
   "metadata": {},
   "source": [
    "- input most likely to uncover bugs include inputs such as hyphenated words or words with apostrophise etc (counted as one word) given the definition of a word as characters grouped together [2]"
   ]
  },
  {
   "cell_type": "markdown",
   "metadata": {},
   "source": [
    "< [Table of Contents](#top) | [References](#references) >\n",
    "<a id=\"abstract112\"></a>\n",
    "***\n",
    "###### Exercise 1-12. Write a program that prints its input one word per line.\n",
    "***"
   ]
  },
  {
   "cell_type": "code",
   "execution_count": 52,
   "metadata": {},
   "outputs": [
    {
     "name": "stdout",
     "output_type": "stream",
     "text": [
      "#include <stdio.h>\r\n",
      "#define IN 1 // inside a word\r\n",
      "#define OUT 0 // outside a word\r\n",
      "int main()\r\n",
      "{\r\n",
      "    int state=OUT;\r\n",
      "    int c,nc,nl,nWord;\r\n",
      "    nc=nl=nWord=0;\r\n",
      "    while ((c=getchar())!=EOF)\r\n",
      "    {\r\n",
      "        ++nc; // add character count\r\n",
      "        if (c=='\\n')\r\n",
      "            ++nl; // add line count\r\n",
      "        if (c==' ' || c =='\\n' || c=='\\t')\r\n",
      "            state=OUT; // not a word\r\n",
      "        else if (state==OUT)\r\n",
      "        {\r\n",
      "            state=IN; // is a word\r\n",
      "            ++nWord; // add word count\r\n",
      "        }\r\n",
      "    }\r\n",
      "    printf(\"Characters: %d\\nLines: %1d\\nWords:%d\\n\",nc,nl,nWord);\r\n",
      "}\r\n",
      "\n"
     ]
    }
   ],
   "source": [
    "%%shell\n",
    "cat ./rc/cpl/ex/112.c"
   ]
  },
  {
   "cell_type": "markdown",
   "metadata": {},
   "source": [
    "***\n",
    "## END"
   ]
  },
  {
   "cell_type": "markdown",
   "metadata": {},
   "source": [
    "< [Table of Contents](#top) | [Abstract](#abstract) | [Solution](#solution) | [Conclusion](#conclusion) | [References](#references) >\n",
    "<a id=\"introduction\"></a>\n",
    "***\n",
    "## Introduction\n",
    "***"
   ]
  },
  {
   "cell_type": "markdown",
   "metadata": {},
   "source": [
    "< [Table of Contents](#top) | [References](#references) >\n",
    "<a id=\"introductionDataTypes\"></a>\n",
    "***\n",
    "### Data Type\n",
    "***"
   ]
  },
  {
   "cell_type": "markdown",
   "metadata": {},
   "source": [
    "- basic data types in ``C`` include ``char`` / ``int`` / ``float`` / ``double`` [2]"
   ]
  },
  {
   "cell_type": "markdown",
   "metadata": {},
   "source": [
    "< [Table of Contents](#top) | [References](#references) >\n",
    "<a id=\"dataTypesCharacter\"></a>\n",
    "***\n",
    "###### Character\n",
    "***"
   ]
  },
  {
   "cell_type": "markdown",
   "metadata": {},
   "source": [
    "- a single byte capable of holding one character in the local character set [2]"
   ]
  },
  {
   "cell_type": "markdown",
   "metadata": {},
   "source": [
    "< [Table of Contents](#top) | [References](#references) >\n",
    "<a id=\"intTypeschar\"></a>\n",
    "***\n",
    "###### ``char``\n",
    "***"
   ]
  },
  {
   "cell_type": "markdown",
   "metadata": {},
   "source": [
    "- special form of integer dealing with characters in a program [1]"
   ]
  },
  {
   "cell_type": "markdown",
   "metadata": {},
   "source": [
    "- an underlying character set allows the encoding of each character to some number (the most commonly used is ASCII) [1]"
   ]
  },
  {
   "cell_type": "markdown",
   "metadata": {},
   "source": [
    "- lowercase $a$ encoded decimal $97$ [1]"
   ]
  },
  {
   "cell_type": "code",
   "execution_count": 1,
   "metadata": {},
   "outputs": [
    {
     "name": "stdout",
     "output_type": "stream",
     "text": [
      "(char) 'a'\n"
     ]
    }
   ],
   "source": [
    "char c=97"
   ]
  },
  {
   "cell_type": "markdown",
   "metadata": {},
   "source": [
    "- characters are really just numbers albeit treated differently in programs [1]"
   ]
  },
  {
   "cell_type": "markdown",
   "metadata": {},
   "source": [
    "- storage depends on the encoding used (ASCII being the most common - other types of encoding exist) [1]"
   ]
  },
  {
   "cell_type": "markdown",
   "metadata": {},
   "source": [
    "- a character written between single quotes represents an integer value equal to the numerical value of the character in the machines character set (called a character constant) [2]"
   ]
  },
  {
   "cell_type": "markdown",
   "metadata": {},
   "source": [
    "- ``'A'`` is a character constant and in the ASCII character set is $65$ (its internal presentation of the character) [2]"
   ]
  },
  {
   "cell_type": "code",
   "execution_count": 2,
   "metadata": {},
   "outputs": [
    {
     "name": "stdout",
     "output_type": "stream",
     "text": [
      "(int) 65\n"
     ]
    }
   ],
   "source": [
    "int c='A'"
   ]
  },
  {
   "cell_type": "markdown",
   "metadata": {},
   "source": [
    "- EBCDIC (Extended Binary Coded Decimal Interchange Code) is considerably different than ASCII [1]"
   ]
  },
  {
   "cell_type": "markdown",
   "metadata": {},
   "source": [
    "- a standard which is a superset of ASCII called ISO 8859 includes some characters that are needed in other countries besides the United States [1]"
   ]
  },
  {
   "cell_type": "markdown",
   "metadata": {},
   "source": [
    "- Unicode (universal encoding) is a 16-bit encoding as opposed to 8-bit (ASCII / EBCDIC / ISO 8859) [1]"
   ]
  },
  {
   "cell_type": "markdown",
   "metadata": {},
   "source": [
    "- purpose of Unicode is to allow a single encoding for languages throughout the modern business world - cannot just use ASCII and go to Japan (entirely different alphabet) - the same is true throughout the world (many different encodings) - to write programs that can adapt themselves to different encodings is extremely difficult and has been one of the biggest impediments to programs being made for the international market - Unicode is an attempt to solve the problem and it turns out that Unicode is the encoding used in ``Java`` [1]"
   ]
  },
  {
   "cell_type": "code",
   "execution_count": 3,
   "metadata": {},
   "outputs": [
    {
     "name": "stdout",
     "output_type": "stream",
     "text": [
      "(int) -128\n"
     ]
    }
   ],
   "source": [
    "CHAR_MIN"
   ]
  },
  {
   "cell_type": "code",
   "execution_count": 4,
   "metadata": {},
   "outputs": [
    {
     "name": "stdout",
     "output_type": "stream",
     "text": [
      "(int) 127\n"
     ]
    }
   ],
   "source": [
    "CHAR_MAX"
   ]
  },
  {
   "cell_type": "markdown",
   "metadata": {},
   "source": [
    "< [Table of Contents](#top) | [References](#references) >\n",
    "<a id=\"intTypeswchar_t\"></a>\n",
    "***\n",
    "###### ``wchar_t``\n",
    "***"
   ]
  },
  {
   "cell_type": "markdown",
   "metadata": {},
   "source": [
    "- no encoding is specified for ``C`` or ``C++`` (left open) [1]"
   ]
  },
  {
   "cell_type": "markdown",
   "metadata": {},
   "source": [
    "- for ``C`` and ``C++`` the basic character data type is ``char`` (byte) - thats pretty much all there is to it - think of a byte and thats what a ``char`` (narrow character) is [1]"
   ]
  },
  {
   "cell_type": "markdown",
   "metadata": {},
   "source": [
    "- the basic ``C`` character does not allow the use of Unicode and for this reason have defined a new type which is available in both ``C`` and ``C++`` called ``wchar_t`` (wide character) [1]"
   ]
  },
  {
   "cell_type": "markdown",
   "metadata": {},
   "source": [
    "- some functions in the library deal with white characters - in most systems a white character is 16-bits and so it allows the use of Unicode but all of this needs to be supported by the compiler and by the platform [1]"
   ]
  },
  {
   "cell_type": "markdown",
   "metadata": {},
   "source": [
    "< [Table of Contents](#top) | [References](#references) >\n",
    "<a id=\"dataTypesCharacterStream\"></a>\n",
    "***\n",
    "###### Stream\n",
    "***"
   ]
  },
  {
   "cell_type": "markdown",
   "metadata": {},
   "source": [
    "- the model of input and output supported by the standard library is very simple - text input or output regardless of where it originates or where it goes to is dealt with as a streams of characters [2]"
   ]
  },
  {
   "cell_type": "markdown",
   "metadata": {},
   "source": [
    "- a ``text stream`` is a sequence of characters divided into lines - each line consists of zero or more characters followed by a newline character [2]"
   ]
  },
  {
   "cell_type": "markdown",
   "metadata": {},
   "source": [
    "- it is the responsibility of the library to make each input or output stream conform to this model - using the library there is no need to worry about how lines are represented outside the program [2]"
   ]
  },
  {
   "cell_type": "markdown",
   "metadata": {},
   "source": [
    "- the standard library provides several functions for reading or writing one character at a time of which ``getchar`` and ``putchar`` are the simplest [2]"
   ]
  },
  {
   "cell_type": "markdown",
   "metadata": {},
   "source": [
    "< [Table of Contents](#top) | [References](#references) >\n",
    "<a id=\"dataTypesCharacterStreamWhitespace\"></a>\n",
    "***\n",
    "###### Whitespace\n",
    "***"
   ]
  },
  {
   "cell_type": "code",
   "execution_count": 1,
   "metadata": {},
   "outputs": [
    {
     "name": "stdout",
     "output_type": "stream",
     "text": [
      "(int) 32\n"
     ]
    }
   ],
   "source": [
    "int w=' '"
   ]
  },
  {
   "cell_type": "code",
   "execution_count": 2,
   "metadata": {},
   "outputs": [
    {
     "name": "stdout",
     "output_type": "stream",
     "text": [
      "(char) ' '\n"
     ]
    }
   ],
   "source": [
    "char w=32"
   ]
  },
  {
   "cell_type": "markdown",
   "metadata": {},
   "source": [
    "- function ``fflush`` needs to be added before call to function ``scanf``"
   ]
  },
  {
   "cell_type": "markdown",
   "metadata": {},
   "source": [
    "- ``%c`` in the format string (``scanf``) will accept any character including whitespace"
   ]
  },
  {
   "cell_type": "code",
   "execution_count": 3,
   "metadata": {},
   "outputs": [
    {
     "name": "stdout",
     "output_type": "stream",
     "text": [
      "#include <stdio.h>\r\n",
      "int main()\r\n",
      "{\r\n",
      "    char ch;\r\n",
      "    printf(\"press a key and then press enter: \");\r\n",
      "    fflush(stdout);\r\n",
      "    scanf(\"%c\",&ch); // capture whitespace character\r\n",
      "    printf(\"you pressed the %c key\\n\",ch);\r\n",
      "    return 0;\r\n",
      "}\r\n",
      "\n"
     ]
    }
   ],
   "source": [
    "%%shell\n",
    "cat ./rc/tic/a05_Character-IO/s.c"
   ]
  },
  {
   "cell_type": "markdown",
   "metadata": {},
   "source": [
    "- ``%1s`` in the format string (``scanf``) will ignore whitespace characters"
   ]
  },
  {
   "cell_type": "code",
   "execution_count": 4,
   "metadata": {},
   "outputs": [
    {
     "name": "stdout",
     "output_type": "stream",
     "text": [
      "#include <stdio.h>\r\n",
      "int main()\r\n",
      "{\r\n",
      "    char ch;\r\n",
      "    printf(\"press a key and then press enter: \");\r\n",
      "    scanf(\"%1s\",&ch);\r\n",
      "    printf(\"you pressed the %c key\\n\",ch);\r\n",
      "    return 0;\r\n",
      "}\r\n",
      "\n"
     ]
    }
   ],
   "source": [
    "%%shell\n",
    "cat ./rc/tic/a05_Character-IO/w.c"
   ]
  },
  {
   "cell_type": "markdown",
   "metadata": {},
   "source": [
    "< [Table of Contents](#top) | [1.5 Character Input and Output](#introduction15CharacterInputandOutput) | [References](#references) >\n",
    "<a id=\"dataTypesCharacterStreamgetchar\"></a>\n",
    "***\n",
    "###### ``getchar``\n",
    "***"
   ]
  },
  {
   "cell_type": "markdown",
   "metadata": {},
   "source": [
    "- reads the next input character from a ``text stream`` and returns that as its value [2]"
   ]
  },
  {
   "cell_type": "markdown",
   "metadata": {},
   "source": [
    "- variable ``c`` contains the next character of input [2]\n",
    "\n",
    "```c\n",
    "c=getchar();\n",
    "```"
   ]
  },
  {
   "cell_type": "markdown",
   "metadata": {},
   "source": [
    "< [Table of Contents](#top) | [1.5 Character Input and Output](#introduction15CharacterInputandOutput) | [References](#references) >\n",
    "<a id=\"dataTypesCharacterStreamputchar\"></a>\n",
    "***\n",
    "###### ``putchar``\n",
    "***"
   ]
  },
  {
   "cell_type": "markdown",
   "metadata": {},
   "source": [
    "- prints a character each time it is called - prints the contents of the integer variable ``c`` as a character usually on the screen [2]\n",
    "\n",
    "```c\n",
    "putchar(c);\n",
    "```"
   ]
  },
  {
   "cell_type": "markdown",
   "metadata": {},
   "source": [
    "- calls to ``putchar`` and ``printf`` may be interleaved (the output appear in the order in which the calls are made) [2]"
   ]
  },
  {
   "cell_type": "markdown",
   "metadata": {},
   "source": [
    "< [Table of Contents](#top) | [References](#references) >\n",
    "<a id=\"dataTypesIntegers\"></a>\n",
    "***\n",
    "###### Integer\n",
    "***"
   ]
  },
  {
   "cell_type": "markdown",
   "metadata": {},
   "source": [
    "- fundamental data type and basic building blocks of all entities in a program [1]"
   ]
  },
  {
   "cell_type": "markdown",
   "metadata": {},
   "source": [
    "- integers come in different sizes in ``C`` which should not be surprising since its a systems programming language - the different sizes are for different purposes [1]"
   ]
  },
  {
   "cell_type": "markdown",
   "metadata": {},
   "source": [
    "- matches the word size of the machine - word refers to the number of bits processed by a computers CPU in one go (typically 64-bits) [1]"
   ]
  },
  {
   "cell_type": "markdown",
   "metadata": {},
   "source": [
    "< [Table of Contents](#top) | [References](#references) >\n",
    "<a id=\"intTypesint\"></a>\n",
    "***\n",
    "###### ``int``\n",
    "***"
   ]
  },
  {
   "cell_type": "markdown",
   "metadata": {},
   "source": [
    "- typically reflects the natural size of integers on the host machine [2]"
   ]
  },
  {
   "cell_type": "code",
   "execution_count": 1,
   "metadata": {},
   "outputs": [
    {
     "name": "stdout",
     "output_type": "stream",
     "text": [
      "(int) -2147483648\n"
     ]
    }
   ],
   "source": [
    "INT_MIN"
   ]
  },
  {
   "cell_type": "code",
   "execution_count": 2,
   "metadata": {},
   "outputs": [
    {
     "name": "stdout",
     "output_type": "stream",
     "text": [
      "(int) 2147483647\n"
     ]
    }
   ],
   "source": [
    "INT_MAX"
   ]
  },
  {
   "cell_type": "markdown",
   "metadata": {},
   "source": [
    "< [Table of Contents](#top) | [References](#references) >\n",
    "<a id=\"intTypesQualifier\"></a>\n",
    "***\n",
    "###### Qualifier\n",
    "***"
   ]
  },
  {
   "cell_type": "markdown",
   "metadata": {},
   "source": [
    "- there are a number of qualifiers that can be applied to the basic data types - the integer qualifiers are ``short`` and ``long`` (the word ``int`` typically omitted in such declarations) [2]"
   ]
  },
  {
   "cell_type": "markdown",
   "metadata": {},
   "source": [
    "- on most platforms ``short`` and ``int`` and ``long`` are really not all distinct - will never see a platform where all three are distinct although possible [1]"
   ]
  },
  {
   "cell_type": "markdown",
   "metadata": {},
   "source": [
    "- the intent is that ``short`` and ``long`` should provide different lengths of integers where practical - ``int`` will normally be the natural size for a particular machine - ``short`` is often 16-bits long and ``int`` either 16 or 32-bits - each compiler is free to choose appropriate sizes for its own hardware subject only to the restriction that ``short`` and ``int`` are at least 16-bits and ``long`` is at least 32-bits and ``short`` is no longer than ``int`` which is no longer than ``long`` [2]"
   ]
  },
  {
   "cell_type": "markdown",
   "metadata": {},
   "source": [
    "< [Table of Contents](#top) | [References](#references) >\n",
    "<a id=\"intTypesshort\"></a>\n",
    "***\n",
    "###### ``short``\n",
    "***"
   ]
  },
  {
   "cell_type": "code",
   "execution_count": 1,
   "metadata": {},
   "outputs": [
    {
     "name": "stdout",
     "output_type": "stream",
     "text": [
      "(int) -32768\n"
     ]
    }
   ],
   "source": [
    "SHRT_MIN"
   ]
  },
  {
   "cell_type": "code",
   "execution_count": 2,
   "metadata": {},
   "outputs": [
    {
     "name": "stdout",
     "output_type": "stream",
     "text": [
      "(int) 32767\n"
     ]
    }
   ],
   "source": [
    "SHRT_MAX"
   ]
  },
  {
   "cell_type": "markdown",
   "metadata": {},
   "source": [
    "< [Table of Contents](#top) | [References](#references) >\n",
    "<a id=\"intTypeslong\"></a>\n",
    "***\n",
    "###### ``long``\n",
    "***"
   ]
  },
  {
   "cell_type": "markdown",
   "metadata": {},
   "source": [
    "- ``long`` integers are at least 32 bits although on some machines ``int`` and ``long`` are the same size [2]"
   ]
  },
  {
   "cell_type": "code",
   "execution_count": 1,
   "metadata": {},
   "outputs": [
    {
     "name": "stdout",
     "output_type": "stream",
     "text": [
      "(long) -9223372036854775808\n"
     ]
    }
   ],
   "source": [
    "LONG_MIN"
   ]
  },
  {
   "cell_type": "code",
   "execution_count": 2,
   "metadata": {},
   "outputs": [
    {
     "name": "stdout",
     "output_type": "stream",
     "text": [
      "(long) 9223372036854775807\n"
     ]
    }
   ],
   "source": [
    "LONG_MAX"
   ]
  },
  {
   "cell_type": "markdown",
   "metadata": {},
   "source": [
    "< [Table of Contents](#top) | [References](#references) >\n",
    "<a id=\"intSignedversusUnsigned\"></a>\n",
    "***\n",
    "###### ``signed/unsigned``\n",
    "***"
   ]
  },
  {
   "cell_type": "markdown",
   "metadata": {},
   "source": [
    "- assuming most machines are 32-bit or bigger then this is the size that an integer would be [1]"
   ]
  },
  {
   "cell_type": "markdown",
   "metadata": {},
   "source": [
    "- the ``C`` standard guarantees that an integer will be at least 16-bits - compilers under ``DOS`` are 16-bits which means it can store a number up to $32767$ [1]"
   ]
  },
  {
   "cell_type": "code",
   "execution_count": 1,
   "metadata": {},
   "outputs": [],
   "source": [
    "int n,zero=1; // capture the zero"
   ]
  },
  {
   "cell_type": "markdown",
   "metadata": {},
   "source": [
    "- reasonable to think that 16-bits would be $2^{16-1}$ which happens to be $65535$ but it turns out that integers can be ``signed`` and ``unsigned`` (``Java`` only has ``signed`` integers) [1]"
   ]
  },
  {
   "cell_type": "code",
   "execution_count": 2,
   "metadata": {},
   "outputs": [
    {
     "name": "stdout",
     "output_type": "stream",
     "text": [
      "(int) 65535\n"
     ]
    }
   ],
   "source": [
    "n=(pow(2,16)-zero) // unsigned integer representation "
   ]
  },
  {
   "cell_type": "markdown",
   "metadata": {},
   "source": [
    "- by default signed [1]"
   ]
  },
  {
   "cell_type": "code",
   "execution_count": 3,
   "metadata": {},
   "outputs": [
    {
     "name": "stdout",
     "output_type": "stream",
     "text": [
      "(int) 32767\n"
     ]
    }
   ],
   "source": [
    "n/=2 // maximum number stored"
   ]
  },
  {
   "cell_type": "code",
   "execution_count": 4,
   "metadata": {},
   "outputs": [
    {
     "name": "stdout",
     "output_type": "stream",
     "text": [
      "(int) -32768\n"
     ]
    }
   ],
   "source": [
    "-(n)-zero // minimum number stored"
   ]
  },
  {
   "cell_type": "code",
   "execution_count": 5,
   "metadata": {},
   "outputs": [
    {
     "name": "stdout",
     "output_type": "stream",
     "text": [
      "(int) 65535\n"
     ]
    }
   ],
   "source": [
    "32767+abs(-32768)"
   ]
  },
  {
   "cell_type": "markdown",
   "metadata": {},
   "source": [
    "- qualifiers may be applied to ``char`` or any integer [2]"
   ]
  },
  {
   "cell_type": "markdown",
   "metadata": {},
   "source": [
    "- unsigned numbers are always positive or zero and obey the laws of arithmetic modulo $2^n$ (where n is the number of data type bits) [2]"
   ]
  },
  {
   "cell_type": "markdown",
   "metadata": {},
   "source": [
    "- if ``char`` is 8-bits then an ``unsigned char`` has values between $0$ and $255$ [2]"
   ]
  },
  {
   "cell_type": "code",
   "execution_count": 6,
   "metadata": {},
   "outputs": [],
   "source": [
    "int c;"
   ]
  },
  {
   "cell_type": "code",
   "execution_count": 7,
   "metadata": {},
   "outputs": [
    {
     "name": "stdout",
     "output_type": "stream",
     "text": [
      "(int) 255\n"
     ]
    }
   ],
   "source": [
    "c=(pow(2,8)-zero) // unsigned character representation "
   ]
  },
  {
   "cell_type": "markdown",
   "metadata": {},
   "source": [
    "- ``signed char`` has values between $-128$ and $127$ (in a twos complement machine) [2]"
   ]
  },
  {
   "cell_type": "code",
   "execution_count": 8,
   "metadata": {},
   "outputs": [
    {
     "name": "stdout",
     "output_type": "stream",
     "text": [
      "(int) 127\n"
     ]
    }
   ],
   "source": [
    "c/=2"
   ]
  },
  {
   "cell_type": "code",
   "execution_count": 9,
   "metadata": {},
   "outputs": [
    {
     "name": "stdout",
     "output_type": "stream",
     "text": [
      "(int) -128\n"
     ]
    }
   ],
   "source": [
    "-(c)-zero"
   ]
  },
  {
   "cell_type": "code",
   "execution_count": 10,
   "metadata": {},
   "outputs": [
    {
     "name": "stdout",
     "output_type": "stream",
     "text": [
      "(int) 255\n"
     ]
    }
   ],
   "source": [
    "127+abs(-128)"
   ]
  },
  {
   "cell_type": "markdown",
   "metadata": {},
   "source": [
    "- whether plain ``chars`` are ``signed`` or ``unsigned`` is machine-dependent but printable characters are always positive [2]"
   ]
  },
  {
   "cell_type": "markdown",
   "metadata": {},
   "source": [
    "< [Table of Contents](#top) | [References](#references) >\n",
    "<a id=\"dataTypesSingle-PrecisionFloatingPoint\"></a>\n",
    "***\n",
    "###### Single-Precision Floating Point\n",
    "***"
   ]
  },
  {
   "cell_type": "markdown",
   "metadata": {},
   "source": [
    "- as with integers the size of floating-point objects are implementation-defined [2]"
   ]
  },
  {
   "cell_type": "markdown",
   "metadata": {},
   "source": [
    "- ``float`` and ``double`` and ``long double`` could represent one or two or three distinct sizes [2]"
   ]
  },
  {
   "cell_type": "markdown",
   "metadata": {},
   "source": [
    "< [Table of Contents](#top) | [References](#references) >\n",
    "<a id=\"dataTypesDoublePrecisionFloatingPointfloat\"></a>\n",
    "***\n",
    "###### ``float``\n",
    "***"
   ]
  },
  {
   "cell_type": "markdown",
   "metadata": {},
   "source": [
    "- a ``float`` is typically a 32-bit quantity with at least six significant digits and has a magnitude generally between about $10^{-38}$ and $10^{+38}$ [2]"
   ]
  },
  {
   "cell_type": "markdown",
   "metadata": {},
   "source": [
    "< [Table of Contents](#top) | [References](#references) >\n",
    "<a id=\"dataTypesDoublePrecisionFloatingPoint\"></a>\n",
    "***\n",
    "###### Double-Precision Floating Point\n",
    "***"
   ]
  },
  {
   "cell_type": "markdown",
   "metadata": {},
   "source": [
    "- as with integers the size of floating-point objects are implementation-defined - ``float`` and ``double`` and ``long double`` could represent one or two or three distinct sizes [2]"
   ]
  },
  {
   "cell_type": "markdown",
   "metadata": {},
   "source": [
    "< [Table of Contents](#top) | [References](#references) >\n",
    "<a id=\"dataTypeSymbolicConstant\"></a>\n",
    "***\n",
    "###### Symbolic Constant\n",
    "***"
   ]
  },
  {
   "cell_type": "markdown",
   "metadata": {},
   "source": [
    "- its bad practice to bury ``magic numbers`` in a program - these numbers convey little information to someone who might have to read the program later and are hard to change in a systematic way [2]"
   ]
  },
  {
   "cell_type": "markdown",
   "metadata": {},
   "source": [
    "- one way to deal with ``magic numbers`` is to give them meaningful names [2]"
   ]
  },
  {
   "cell_type": "markdown",
   "metadata": {},
   "source": [
    "< [Table of Contents](#top) | [References](#references) >\n",
    "<a id=\"dataTypeSymbolicConstantshashdefine\"></a>\n",
    "***\n",
    "###### ``#define``\n",
    "***"
   ]
  },
  {
   "cell_type": "markdown",
   "metadata": {},
   "source": [
    "- defines a symbolic name or symbolic constant to be a particular string of characters [2]"
   ]
  },
  {
   "cell_type": "markdown",
   "metadata": {},
   "source": [
    "- any occurence of ``name`` (not in quotes and not part of another name) will be replaced by the corresponding ``replacement text`` [2]"
   ]
  },
  {
   "cell_type": "markdown",
   "metadata": {},
   "source": [
    "- the ``name`` has the same form as a variable name (a sequence of letters and digits that begins with a letter) - the ``replacement text`` can be any sequence of characters (not limited to numbers) [2]\n",
    "\n",
    "```c\n",
    "#define name replacement text\n",
    "```"
   ]
  },
  {
   "cell_type": "markdown",
   "metadata": {},
   "source": [
    "< [Table of Contents](#top) | [References](#references) >\n",
    "<a id=\"introductionDataTypesenum\"></a>\n",
    "***\n",
    "###### ``enum``\n",
    "***"
   ]
  },
  {
   "cell_type": "markdown",
   "metadata": {},
   "source": [
    "- an enumerated data type is used to describe a set of integer values"
   ]
  },
  {
   "cell_type": "markdown",
   "metadata": {},
   "source": [
    "- the data type ``dtResponse`` is called the enumeration tag (optional like a structure tag)"
   ]
  },
  {
   "cell_type": "markdown",
   "metadata": {},
   "source": [
    "- names enclosed in braces are the integer constants ``0`` and ``1`` and ``2`` and ``3`` respectively"
   ]
  },
  {
   "cell_type": "markdown",
   "metadata": {},
   "source": [
    "- data type ``dtResponse`` declared to have one of four possible values"
   ]
  },
  {
   "cell_type": "code",
   "execution_count": 1,
   "metadata": {},
   "outputs": [],
   "source": [
    "enum dtResponse\n",
    "{\n",
    "    no,yes,none,unsure\n",
    "}"
   ]
  },
  {
   "cell_type": "markdown",
   "metadata": {},
   "source": [
    "- enumerated variable ``vAnswer`` is of the data type ``dtResponse``"
   ]
  },
  {
   "cell_type": "code",
   "execution_count": 2,
   "metadata": {},
   "outputs": [],
   "source": [
    "enum dtResponse vAnswer;"
   ]
  },
  {
   "cell_type": "code",
   "execution_count": 3,
   "metadata": {},
   "outputs": [
    {
     "name": "stdout",
     "output_type": "stream",
     "text": [
      "(enum dtResponse) (no) : (unsigned int) 0\n"
     ]
    }
   ],
   "source": [
    "vAnswer"
   ]
  },
  {
   "cell_type": "code",
   "execution_count": 4,
   "metadata": {},
   "outputs": [
    {
     "name": "stdout",
     "output_type": "stream",
     "text": [
      "(enum dtResponse) (yes) : (unsigned int) 1\n"
     ]
    }
   ],
   "source": [
    "vAnswer=yes"
   ]
  },
  {
   "cell_type": "markdown",
   "metadata": {},
   "source": [
    "- alternative [1]"
   ]
  },
  {
   "cell_type": "code",
   "execution_count": 5,
   "metadata": {},
   "outputs": [],
   "source": [
    "enum {no,yes,none,unsure} altAnswer;"
   ]
  },
  {
   "cell_type": "code",
   "execution_count": 6,
   "metadata": {},
   "outputs": [
    {
     "name": "stdout",
     "output_type": "stream",
     "text": [
      "(enum (anonymous)) (no) : (unsigned int) 0\n"
     ]
    }
   ],
   "source": [
    "altAnswer"
   ]
  },
  {
   "cell_type": "code",
   "execution_count": 7,
   "metadata": {},
   "outputs": [
    {
     "name": "stdout",
     "output_type": "stream",
     "text": [
      "#include <stdio.h>\r\n",
      "int main()\r\n",
      "{\r\n",
      "    enum res{no,yes,none,unsure}; // data type res\r\n",
      "    enum res ans; // variable of res\r\n",
      "    puts(\"Enter - 0 (no) - 1 (yes) - 2 (none) - 3 (unsure)\");\r\n",
      "    scanf(\"%d\",&ans);\r\n",
      "    printf(\"You entered: %d\\n\",ans);\r\n",
      "    switch(ans)\r\n",
      "    {\r\n",
      "        case 0:\r\n",
      "            puts(\"NO!\");\r\n",
      "            break;\r\n",
      "        case 1:\r\n",
      "            puts(\"YES!\");\r\n",
      "            break;\r\n",
      "        case 2:\r\n",
      "            puts(\"NONE!\");\r\n",
      "            break;\r\n",
      "        case 3:\r\n",
      "            puts(\"UNSURE!\");\r\n",
      "            break;\r\n",
      "    } \r\n",
      "    return 0;\r\n",
      "}\r\n",
      "\n"
     ]
    }
   ],
   "source": [
    "%%shell\n",
    "cat ./rc/tic/a01_Data-Types_Enum_Syn/e.c"
   ]
  },
  {
   "cell_type": "markdown",
   "metadata": {},
   "source": [
    "- the purpose of the ``enum`` data type is to improve readability of the program - can specify any value by including required value within brace"
   ]
  },
  {
   "cell_type": "code",
   "execution_count": 8,
   "metadata": {},
   "outputs": [],
   "source": [
    "enum {no=-1,yes=0,none=1,unsure=2} vAnswer;"
   ]
  },
  {
   "cell_type": "code",
   "execution_count": 9,
   "metadata": {},
   "outputs": [
    {
     "name": "stdout",
     "output_type": "stream",
     "text": [
      "(enum (anonymous)) (yes) : (int) 0\n"
     ]
    }
   ],
   "source": [
    "vAnswer"
   ]
  },
  {
   "cell_type": "markdown",
   "metadata": {},
   "source": [
    "< [Table of Contents](#top) | [References](#references) >\n",
    "<a id=\"introductionDataTypestypedef\"></a>\n",
    "***\n",
    "###### ``typedef``\n",
    "***"
   ]
  },
  {
   "cell_type": "markdown",
   "metadata": {},
   "source": [
    "- a synonym is a word/phrase that means exactly or nearly the same as another word/phrase in the same language"
   ]
  },
  {
   "cell_type": "markdown",
   "metadata": {},
   "source": [
    "- defining a new type ``Bool`` (not really defining a new type - for clarity only) - when defining a variable later on do not want to use ``int`` but instead draw attention that this is different"
   ]
  },
  {
   "cell_type": "code",
   "execution_count": 1,
   "metadata": {},
   "outputs": [],
   "source": [
    "typedef int Bool;"
   ]
  },
  {
   "cell_type": "markdown",
   "metadata": {},
   "source": [
    "- boolean types are not defined in standard ``C`` albeit workarounds available"
   ]
  },
  {
   "cell_type": "code",
   "execution_count": 2,
   "metadata": {},
   "outputs": [],
   "source": [
    "#define False 0\n",
    "#define True 1"
   ]
  },
  {
   "cell_type": "markdown",
   "metadata": {},
   "source": [
    "- variable ``aBoolVar`` is just an ``int`` (to assign values ``0`` and ``1``)"
   ]
  },
  {
   "cell_type": "code",
   "execution_count": 3,
   "metadata": {},
   "outputs": [],
   "source": [
    "Bool aBoolVar;"
   ]
  },
  {
   "cell_type": "code",
   "execution_count": 4,
   "metadata": {},
   "outputs": [
    {
     "name": "stdout",
     "output_type": "stream",
     "text": [
      "(int) 0\n"
     ]
    }
   ],
   "source": [
    "aBoolVar=False"
   ]
  },
  {
   "cell_type": "code",
   "execution_count": 5,
   "metadata": {},
   "outputs": [
    {
     "name": "stdout",
     "output_type": "stream",
     "text": [
      "0\n"
     ]
    }
   ],
   "source": [
    "printf(\"%d\\n\",aBoolVar=False);"
   ]
  },
  {
   "cell_type": "code",
   "execution_count": 6,
   "metadata": {},
   "outputs": [
    {
     "name": "stdout",
     "output_type": "stream",
     "text": [
      "(int) 1\n"
     ]
    }
   ],
   "source": [
    "aBoolVar=True"
   ]
  },
  {
   "cell_type": "code",
   "execution_count": 7,
   "metadata": {},
   "outputs": [
    {
     "name": "stdout",
     "output_type": "stream",
     "text": [
      "1\n"
     ]
    }
   ],
   "source": [
    "printf(\"%d\\n\",aBoolVar=True);"
   ]
  },
  {
   "cell_type": "markdown",
   "metadata": {},
   "source": [
    "- can define a synonym for an existing data type "
   ]
  },
  {
   "cell_type": "code",
   "execution_count": 8,
   "metadata": {},
   "outputs": [
    {
     "name": "stdout",
     "output_type": "stream",
     "text": [
      "(int) 1\n"
     ]
    }
   ],
   "source": [
    "int n=1"
   ]
  },
  {
   "cell_type": "code",
   "execution_count": 9,
   "metadata": {},
   "outputs": [],
   "source": [
    "int *ptr=&n;"
   ]
  },
  {
   "cell_type": "code",
   "execution_count": 10,
   "metadata": {},
   "outputs": [
    {
     "name": "stdout",
     "output_type": "stream",
     "text": [
      "Location: 0x7f48925c4024\n",
      "Value: 1\n"
     ]
    }
   ],
   "source": [
    "printf(\"Location: %p\\nValue: %d\\n\",ptr,*ptr);"
   ]
  },
  {
   "cell_type": "markdown",
   "metadata": {},
   "source": [
    "- creating a synonym ``INT_POINTER`` for the data type ``int*`` - usually a synonym is written in capital letters albeit not mandatory"
   ]
  },
  {
   "cell_type": "code",
   "execution_count": 11,
   "metadata": {},
   "outputs": [],
   "source": [
    "typedef int* INT_POINTER"
   ]
  },
  {
   "cell_type": "code",
   "execution_count": 12,
   "metadata": {},
   "outputs": [
    {
     "name": "stdout",
     "output_type": "stream",
     "text": [
      "(int) 0\n"
     ]
    }
   ],
   "source": [
    "int n=0"
   ]
  },
  {
   "cell_type": "code",
   "execution_count": 13,
   "metadata": {},
   "outputs": [],
   "source": [
    "INT_POINTER ptr=&n;"
   ]
  },
  {
   "cell_type": "code",
   "execution_count": 14,
   "metadata": {},
   "outputs": [
    {
     "name": "stdout",
     "output_type": "stream",
     "text": [
      "Location: 0x7f48925c4030\n",
      "Value: 0\n"
     ]
    }
   ],
   "source": [
    "printf(\"Location: %p\\nValue: %d\\n\",ptr,*ptr);"
   ]
  },
  {
   "cell_type": "markdown",
   "metadata": {},
   "source": [
    "< [Table of Contents](#top) | [References](#references) >\n",
    "<a id=\"operator\"></a>\n",
    "***\n",
    "###  Operator\n",
    "***  "
   ]
  },
  {
   "cell_type": "markdown",
   "metadata": {},
   "source": [
    "&#x1F6A7;"
   ]
  },
  {
   "cell_type": "markdown",
   "metadata": {},
   "source": [
    "< [Table of Contents](#top) | [References](#references) >\n",
    "<a id=\"introductionDataTypessizeof\"></a>\n",
    "***\n",
    "###### ``sizeof``\n",
    "***"
   ]
  },
  {
   "cell_type": "markdown",
   "metadata": {},
   "source": [
    "- returns ``unsigned long int``"
   ]
  },
  {
   "cell_type": "code",
   "execution_count": 1,
   "metadata": {},
   "outputs": [
    {
     "name": "stdout",
     "output_type": "stream",
     "text": [
      "// system header files\r\n",
      "#include <stdio.h>\r\n",
      "#include <limits.h>\r\n",
      "#include <float.h>\r\n",
      "// symbolic name constant\r\n",
      "#define BITS 8\r\n",
      "#define ZERO 0\r\n",
      "int main()\r\n",
      "{\r\n",
      "    printf(\"Data Type                              Bytes (Bits) (Range)\\n\");\r\n",
      "    printf(\"---------                              --------------------\\n\" );\r\n",
      "    printf(\"char(default signed)                   %lu (%lu) (%d to %d)\\n\",\r\n",
      "            sizeof(char),sizeof(char)*BITS,CHAR_MIN,CHAR_MAX);\r\n",
      "    printf(\"unsigned char                          %lu (%lu) (%d to %u)\\n\",\r\n",
      "            sizeof(unsigned char),sizeof(unsigned char)*BITS,ZERO,UCHAR_MAX); \r\n",
      "    printf(\"short\\nshort int\\nsigned short\\nsigned short int                       %lu (%lu) (%d to %d)\\n\",\r\n",
      "            sizeof(short),sizeof(short int)*BITS,SHRT_MIN,SHRT_MAX);\r\n",
      "    printf(\"unsigned short\\nunsigned short int                     %lu (%lu) (%d to %u)\\n\",\r\n",
      "            sizeof(unsigned short),sizeof(unsigned short int)*BITS,ZERO,USHRT_MAX);\r\n",
      "    printf(\"int\\nsigned\\nsigned int                             %lu (%lu) (%d to %d)\\n\",\r\n",
      "            sizeof(int),sizeof(signed)*BITS,INT_MIN,INT_MAX);\r\n",
      "    printf(\"unsigned\\nunsigned int                           %lu (%lu) (%d to %u)\\n\",\r\n",
      "            sizeof(unsigned),sizeof(unsigned int)*BITS,ZERO,UINT_MAX);\r\n",
      "    printf(\"long\\nlong int\\nsigned long\\nsigned long int                        %lu (%lu) (%ld to %ld)\\n\",\r\n",
      "            sizeof(long),sizeof(long int)*BITS,LONG_MIN,LONG_MAX);\r\n",
      "    printf(\"unsigned long\\nunsigned long int                      %lu (%lu) (%d to %lu)\\n\",\r\n",
      "            sizeof(unsigned long),sizeof(unsigned long int)*BITS,ZERO,ULONG_MAX);\r\n",
      "    printf(\"long long\\nlong long int\\nsigned long long\\nsigned long long int                   %lu (%lu) (%lli to %lli)\\n\",\r\n",
      "            sizeof(long long),sizeof(long long int)*BITS,LLONG_MIN,LLONG_MAX);\r\n",
      "    printf(\"unsigned long long\\nunsigned long long int                 %lu (%lu) (%d to %llu)\\n\",\r\n",
      "            sizeof(unsigned long long),sizeof(unsigned long long int)*BITS,ZERO,ULLONG_MAX);\r\n",
      "\r\n",
      "    printf(\"float                                  %lu (%lu) (%g to %g)\\n%f\\n\",\r\n",
      "            sizeof(float),sizeof(float)*BITS,FLT_MIN,FLT_MAX,FLT_MAX);\r\n",
      "    printf(\"double                                 %lu (%lu) (%g to %g)\\n%lf\\n\",\r\n",
      "            sizeof(double),sizeof(double)*BITS,DBL_MIN,DBL_MAX,DBL_MAX);\r\n",
      "    printf(\"long double                            %lu (%lu) (%Lg to %Lg)\\n%Lf\\n\", \r\n",
      "            sizeof(long double),sizeof(long double)*BITS,LDBL_MIN,LDBL_MAX,LDBL_MAX);\r\n",
      "    return 0;\r\n",
      "}\r\n",
      "\n"
     ]
    }
   ],
   "source": [
    "%%shell\n",
    "cat ./rc/tic/a01_Data-Types_Enum_Syn/s.c"
   ]
  },
  {
   "cell_type": "code",
   "execution_count": 2,
   "metadata": {},
   "outputs": [],
   "source": [
    "%%shell\n",
    "cc ./rc/tic/a01_Data-Types_Enum_Syn/s.c"
   ]
  },
  {
   "cell_type": "code",
   "execution_count": 3,
   "metadata": {},
   "outputs": [
    {
     "name": "stdout",
     "output_type": "stream",
     "text": [
      "Data Type                              Bytes (Bits) (Range)\r\n",
      "---------                              --------------------\r\n",
      "char(default signed)                   1 (8) (-128 to 127)\r\n",
      "unsigned char                          1 (8) (0 to 255)\r\n",
      "short\r\n",
      "short int\r\n",
      "signed short\r\n",
      "signed short int                       2 (16) (-32768 to 32767)\r\n",
      "unsigned short\r\n",
      "unsigned short int                     2 (16) (0 to 65535)\r\n",
      "int\r\n",
      "signed\r\n",
      "signed int                             4 (32) (-2147483648 to 2147483647)\r\n",
      "unsigned\r\n",
      "unsigned int                           4 (32) (0 to 4294967295)\r\n",
      "long\r\n",
      "long int\r\n",
      "signed long\r\n",
      "signed long int                        8 (64) (-9223372036854775808 to 9223372036854775807)\r\n",
      "unsigned long\r\n",
      "unsigned long int                      8 (64) (0 to 18446744073709551615)\r\n",
      "long long\r\n",
      "long long int\r\n",
      "signed long long\r\n",
      "signed long long int                   8 (64) (-9223372036854775808 to 9223372036854775807)\r\n",
      "unsigned long long\r\n",
      "unsigned long long int                 8 (64) (0 to 18446744073709551615)\r\n",
      "float                                  4 (32) (1.17549e-38 to 3.40282e+38)\r\n",
      "340282346638528859811704183484516925440.000000\r\n",
      "double                                 8 (64) (2.22507e-308 to 1.79769e+308)\r\n",
      "179769313486231570814527423731704356798070567525844996598917476803157260780028538760589558632766878171540458953514382464234321326889464182768467546703537516986049910576551282076245490090389328944075868508455133942304583236903222948165808559332123348274797826204144723168738177180919299881250404026184124858368.000000\r\n",
      "long double                            16 (128) (3.3621e-4932 to 1.18973e+4932)\r\n",
      "1189731495357231765021263853030970205169063322294624200440323733891737005522970722616410290336528882853545697807495577314427443153670288434198125573853743678673593200706973263201915918282961524365529510646791086614311790632169778838896134786560600399148753433211454911160088679845154866512852340149773037600009125479393966223151383622417838542743917838138717805889487540575168226347659235576974805113725649020884855222494791399377585026011773549180099796226026859508558883608159846900235645132346594476384939859276456284579661772930407806609229102715046085388087959327781622986827547830768080040150694942303411728957777100335714010559775242124057347007386251660110828379119623008469277200965153500208474470792443848545912886723000619085126472111951361467527633519562927597957250278002980795904193139603021470997035276467445530922022679656280991498232083329641241038509239184734786121921697210543484287048353408113042573002216421348917347174234800714880751002064390517234247656004721768096486107994943415703476320643558624207443504424380566136017608837478165389027809576975977286860071487028287955567141404632615832623602762896316173978484254486860609948270867968048078702511858930838546584223040908805996294594586201903766048446790926002225410530775901065760671347200125846406957030257138960983757998926954553052368560758683179223113639519468850880771872104705203957587480013143131444254943919940175753169339392366881856189129931729104252921236835159922322050998001677102784035360140829296398115122877768135706045789343535451696539561254048846447169786893211671087229088082778350518228857646062218739702851655083720992349483334435228984751232753726636066213902281264706234075352071724058665079518217303463782631353393706774901950197841690441824738063162828586857741432581165364040218402724913393320949219498422442730427019873044536620350262386957804682003601447291997123095530057206141866974852846856186514832715974481203121946751686379343096189615107330065552421485195201762858595091051839472502863871632494167613804996319791441870254302706758495192008837915169401581740046711477877201459644461175204059453504764721807975761111720846273639279600339670470037613374509553184150073796412605047923251661354841291884211340823015473304754067072818763503617332908005951896325207071673904547777129682265206225651439919376804400292380903112437912614776255964694221981375146967079446870358004392507659451618379811859392049544036114915310782251072691486979809240946772142727012404377187409216756613634938900451232351668146089322400697993176017805338191849981933008410985993938760292601390911414526003720284872132411955424282101831204216104467404621635336900583664606591156298764745525068145003932941404131495400677602951005962253022823003631473824681059648442441324864573137437595096416168048024129351876204668135636877532814675538798871771836512893947195335061885003267607354388673368002074387849657014576090349857571243045102038730494854256702479339322809110526041538528994849203991091946129912491633289917998094380337879522093131466946149705939664152375949285890960489916121944989986384837022486672249148924678410206183364627416969576307632480235587975245253737035433882960862753427740016333434055083537048507374544819754722228975281083020898682633020285259923084168054539687911418297629988964576482765287504562854924265165217750799516259669229114977788962356670956627138482018191348321687995863652637620978285070099337294396784639879024914514222742527006363942327998483976739987154418554201562244154926653014515504685489258620276085761837129763358761215382565129633538141663949516556000264159186554850057052611431952919918807954522394649627635630178580896692226406235382898535867595990647008385687123810329591926494846250768992258419305480763620215089022149220528069842018350840586938493815498909445461977893029113576516775406232278298314033473276603952231603422824717528181818844304880921321933550869873395861276073670866652375555675803171490108477320096424318780070008797346032906278943553743564448851907191616455141155761939399690767415156402826543664026760095087523945507341556135867933066031744720924446513532366647649735400851967040771103640538150073486891798364049570606189535005089840913826869535090066783324472578712196604415284924840041850932811908963634175739897166596000759487800619164094854338758520657116541072260996288150123144377944008749301944744330784388995701842710004808305012177123560622895076269042856800047718893158089358515593863176652948089031267747029662545110861548958395087796755464137944895960527975209874813839762578592105756284401759349324162148339565350189196811389091843795734703269406342890087805846940352453479398080674273236297887100867175802531561302356064878709259865288416350972529537091114317204887747405539054009425375424119317944175137064689643861517718849867010341532542385911089624710885385808688837777258648564145934262121086647588489260031762345960769508849149662444156604419552086811989770240.000000\r\n",
      "\n"
     ]
    }
   ],
   "source": [
    "%%shell\n",
    "./a.out"
   ]
  },
  {
   "cell_type": "markdown",
   "metadata": {},
   "source": [
    "  \n",
    "< [Table of Contents](#top) | [References](#references) >\n",
    "<a id=\"operatorAssignment\"></a>\n",
    "***\n",
    "###### Assignment\n",
    "***"
   ]
  },
  {
   "cell_type": "markdown",
   "metadata": {},
   "source": [
    "- all assignment operators fill a variable with a value (assigns a value!)"
   ]
  },
  {
   "cell_type": "code",
   "execution_count": 1,
   "metadata": {},
   "outputs": [
    {
     "name": "stdout",
     "output_type": "stream",
     "text": [
      "(int) 0\n"
     ]
    }
   ],
   "source": [
    "n=0"
   ]
  },
  {
   "cell_type": "markdown",
   "metadata": {},
   "source": [
    "- assignment operator that assigns positive value to variable ``n``"
   ]
  },
  {
   "cell_type": "code",
   "execution_count": 2,
   "metadata": {},
   "outputs": [
    {
     "name": "stdout",
     "output_type": "stream",
     "text": [
      "(int) 1\n"
     ]
    }
   ],
   "source": [
    "n=+1 // n=1"
   ]
  },
  {
   "cell_type": "markdown",
   "metadata": {},
   "source": [
    "- assignment operator that assigns negative value to variable ``n``"
   ]
  },
  {
   "cell_type": "code",
   "execution_count": 3,
   "metadata": {},
   "outputs": [
    {
     "name": "stdout",
     "output_type": "stream",
     "text": [
      "(int) -1\n"
     ]
    }
   ],
   "source": [
    "n=-1"
   ]
  },
  {
   "cell_type": "markdown",
   "metadata": {},
   "source": [
    "- assignment operator that increase the variable ``n`` value (math operator then equal sign)"
   ]
  },
  {
   "cell_type": "code",
   "execution_count": 4,
   "metadata": {},
   "outputs": [
    {
     "name": "stdout",
     "output_type": "stream",
     "text": [
      "(int) 0\n"
     ]
    }
   ],
   "source": [
    "n+=1 // n=n+1"
   ]
  },
  {
   "cell_type": "markdown",
   "metadata": {},
   "source": [
    "< [Table of Contents](#top) | [References](#references) >\n",
    "<a id=\"operatorPrePost\"></a>\n",
    "***\n",
    "###### Increment\n",
    "***"
   ]
  },
  {
   "cell_type": "markdown",
   "metadata": {},
   "source": [
    "- pre-increment and post-increment (relevant when an assignment is involved)"
   ]
  },
  {
   "cell_type": "code",
   "execution_count": 1,
   "metadata": {},
   "outputs": [],
   "source": [
    "int n1,n2,n3,n4;"
   ]
  },
  {
   "cell_type": "code",
   "execution_count": 2,
   "metadata": {},
   "outputs": [],
   "source": [
    "n1=n2=1;"
   ]
  },
  {
   "cell_type": "code",
   "execution_count": 3,
   "metadata": {},
   "outputs": [
    {
     "name": "stdout",
     "output_type": "stream",
     "text": [
      "(int) 1\n"
     ]
    }
   ],
   "source": [
    "n1"
   ]
  },
  {
   "cell_type": "code",
   "execution_count": 4,
   "metadata": {},
   "outputs": [
    {
     "name": "stdout",
     "output_type": "stream",
     "text": [
      "(int) 0\n"
     ]
    }
   ],
   "source": [
    "n3"
   ]
  },
  {
   "cell_type": "markdown",
   "metadata": {},
   "source": [
    "- ``++`` after ``n1`` then i. ``n1`` is used and then ``n1`` is incremented"
   ]
  },
  {
   "cell_type": "code",
   "execution_count": 5,
   "metadata": {},
   "outputs": [
    {
     "name": "stdout",
     "output_type": "stream",
     "text": [
      "(int) 1\n"
     ]
    }
   ],
   "source": [
    "n3=n1++"
   ]
  },
  {
   "cell_type": "code",
   "execution_count": 6,
   "metadata": {},
   "outputs": [
    {
     "name": "stdout",
     "output_type": "stream",
     "text": [
      "(int) 2\n"
     ]
    }
   ],
   "source": [
    "n1"
   ]
  },
  {
   "cell_type": "markdown",
   "metadata": {},
   "source": [
    "- ``++`` before ``n2`` then ``n2`` is increment before usage"
   ]
  },
  {
   "cell_type": "code",
   "execution_count": 7,
   "metadata": {},
   "outputs": [
    {
     "name": "stdout",
     "output_type": "stream",
     "text": [
      "(int) 1\n"
     ]
    }
   ],
   "source": [
    "n2"
   ]
  },
  {
   "cell_type": "code",
   "execution_count": 8,
   "metadata": {},
   "outputs": [
    {
     "name": "stdout",
     "output_type": "stream",
     "text": [
      "(int) 0\n"
     ]
    }
   ],
   "source": [
    "n4"
   ]
  },
  {
   "cell_type": "code",
   "execution_count": 9,
   "metadata": {},
   "outputs": [
    {
     "name": "stdout",
     "output_type": "stream",
     "text": [
      "(int) 2\n"
     ]
    }
   ],
   "source": [
    "n4=++n2"
   ]
  },
  {
   "cell_type": "code",
   "execution_count": 10,
   "metadata": {},
   "outputs": [
    {
     "name": "stdout",
     "output_type": "stream",
     "text": [
      "(int) 2\n"
     ]
    }
   ],
   "source": [
    "n2"
   ]
  },
  {
   "cell_type": "markdown",
   "metadata": {},
   "source": [
    "- without assignment involement"
   ]
  },
  {
   "cell_type": "code",
   "execution_count": 11,
   "metadata": {},
   "outputs": [
    {
     "name": "stdout",
     "output_type": "stream",
     "text": [
      "(int) 1\n"
     ]
    }
   ],
   "source": [
    "n3"
   ]
  },
  {
   "cell_type": "code",
   "execution_count": 12,
   "metadata": {},
   "outputs": [
    {
     "name": "stdout",
     "output_type": "stream",
     "text": [
      "(int) 1\n"
     ]
    }
   ],
   "source": [
    "n3++"
   ]
  },
  {
   "cell_type": "code",
   "execution_count": 13,
   "metadata": {},
   "outputs": [
    {
     "name": "stdout",
     "output_type": "stream",
     "text": [
      "(int) 2\n"
     ]
    }
   ],
   "source": [
    "n3"
   ]
  },
  {
   "cell_type": "code",
   "execution_count": 14,
   "metadata": {},
   "outputs": [
    {
     "name": "stdout",
     "output_type": "stream",
     "text": [
      "(int) 3\n"
     ]
    }
   ],
   "source": [
    "++n3"
   ]
  },
  {
   "cell_type": "code",
   "execution_count": 15,
   "metadata": {},
   "outputs": [
    {
     "name": "stdout",
     "output_type": "stream",
     "text": [
      "(int) 3\n"
     ]
    }
   ],
   "source": [
    "n3"
   ]
  },
  {
   "cell_type": "markdown",
   "metadata": {},
   "source": [
    "< [Table of Contents](#top) | [References](#references) >\n",
    "<a id=\"operatorCast\"></a>\n",
    "***\n",
    "###### Type-Casting\n",
    "***"
   ]
  },
  {
   "cell_type": "markdown",
   "metadata": {},
   "source": [
    "- calculatons involving mixed data types - ``C`` ranks data type in order"
   ]
  },
  {
   "cell_type": "markdown",
   "metadata": {},
   "source": [
    "$$char < short < int < long < float < double$$"
   ]
  },
  {
   "cell_type": "markdown",
   "metadata": {},
   "source": [
    "$$< signed < unsigned$$"
   ]
  },
  {
   "cell_type": "markdown",
   "metadata": {},
   "source": [
    "- implicit type-casting v explicit type-casting"
   ]
  },
  {
   "cell_type": "code",
   "execution_count": 1,
   "metadata": {},
   "outputs": [
    {
     "name": "stdout",
     "output_type": "stream",
     "text": [
      "(int) 1\n"
     ]
    }
   ],
   "source": [
    "int n1=1"
   ]
  },
  {
   "cell_type": "code",
   "execution_count": 2,
   "metadata": {},
   "outputs": [],
   "source": [
    "float n2=2.0,n3;"
   ]
  },
  {
   "cell_type": "code",
   "execution_count": 3,
   "metadata": {},
   "outputs": [
    {
     "name": "stdout",
     "output_type": "stream",
     "text": [
      "(float) 2.00000f\n"
     ]
    }
   ],
   "source": [
    "n2"
   ]
  },
  {
   "cell_type": "code",
   "execution_count": 4,
   "metadata": {},
   "outputs": [
    {
     "name": "stdout",
     "output_type": "stream",
     "text": [
      "(float) 0.00000f\n"
     ]
    }
   ],
   "source": [
    "n3"
   ]
  },
  {
   "cell_type": "markdown",
   "metadata": {},
   "source": [
    "- ``promotion`` or ``widening`` (variable ``n1``) converts lower to higher (data type) with no loss of data (more memory)"
   ]
  },
  {
   "cell_type": "markdown",
   "metadata": {},
   "source": [
    "- variable ``n1`` is automatically converted to a ``float`` before division by ``float`` variable ``n2`` - variable ``n1`` is still of type ``int``"
   ]
  },
  {
   "cell_type": "code",
   "execution_count": 5,
   "metadata": {},
   "outputs": [
    {
     "name": "stdout",
     "output_type": "stream",
     "text": [
      "(float) 0.500000f\n"
     ]
    }
   ],
   "source": [
    "n3=n1/n2 // mixed expression float"
   ]
  },
  {
   "cell_type": "code",
   "execution_count": 6,
   "metadata": {},
   "outputs": [
    {
     "name": "stdout",
     "output_type": "stream",
     "text": [
      "(double) 0.50000000\n"
     ]
    }
   ],
   "source": [
    "1.0/2.0"
   ]
  },
  {
   "cell_type": "code",
   "execution_count": 7,
   "metadata": {},
   "outputs": [
    {
     "name": "stdout",
     "output_type": "stream",
     "text": [
      "(int) 1\n"
     ]
    }
   ],
   "source": [
    "n1"
   ]
  },
  {
   "cell_type": "markdown",
   "metadata": {},
   "source": [
    "- ``demotion`` or ``narrowing`` (variable ``n1``) results in loss of data (lower may not have memory to store higher)\t"
   ]
  },
  {
   "cell_type": "markdown",
   "metadata": {},
   "source": [
    "- variable ``n4`` is an ``int`` so the fractional part is lost"
   ]
  },
  {
   "cell_type": "code",
   "execution_count": 8,
   "metadata": {},
   "outputs": [
    {
     "name": "stdout",
     "output_type": "stream",
     "text": [
      "(int) 3\n"
     ]
    }
   ],
   "source": [
    "int n4=3"
   ]
  },
  {
   "cell_type": "code",
   "execution_count": 9,
   "metadata": {},
   "outputs": [
    {
     "name": "stdout",
     "output_type": "stream",
     "text": [
      "(int) 0\n"
     ]
    }
   ],
   "source": [
    "n4=n1/n2 // mixed expression int"
   ]
  },
  {
   "cell_type": "code",
   "execution_count": 10,
   "metadata": {},
   "outputs": [
    {
     "name": "stdout",
     "output_type": "stream",
     "text": [
      "(int) 0\n"
     ]
    }
   ],
   "source": [
    "1/2"
   ]
  },
  {
   "cell_type": "markdown",
   "metadata": {},
   "source": [
    "- ``float`` assignment involving division with two ``int`` requires no type conversion  "
   ]
  },
  {
   "cell_type": "code",
   "execution_count": 11,
   "metadata": {},
   "outputs": [
    {
     "name": "stdout",
     "output_type": "stream",
     "text": [
      "(float) 0.00000f\n"
     ]
    }
   ],
   "source": [
    "float n5"
   ]
  },
  {
   "cell_type": "code",
   "execution_count": 12,
   "metadata": {},
   "outputs": [
    {
     "name": "stdout",
     "output_type": "stream",
     "text": [
      "(float) 0.00000f\n"
     ]
    }
   ],
   "source": [
    "n5=n1/2 // non-mixed expression"
   ]
  },
  {
   "cell_type": "markdown",
   "metadata": {},
   "source": [
    "- manual conversion casts via ``(type)expression``"
   ]
  },
  {
   "cell_type": "markdown",
   "metadata": {},
   "source": [
    "- variable ``n1`` is (promoted) cast from ``int`` to ``float``"
   ]
  },
  {
   "cell_type": "code",
   "execution_count": 13,
   "metadata": {},
   "outputs": [
    {
     "name": "stdout",
     "output_type": "stream",
     "text": [
      "(int) 0\n"
     ]
    }
   ],
   "source": [
    "n1/2"
   ]
  },
  {
   "cell_type": "code",
   "execution_count": 14,
   "metadata": {},
   "outputs": [
    {
     "name": "stdout",
     "output_type": "stream",
     "text": [
      "(double) 0.50000000\n"
     ]
    }
   ],
   "source": [
    "n1/2.0"
   ]
  },
  {
   "cell_type": "code",
   "execution_count": 15,
   "metadata": {},
   "outputs": [
    {
     "name": "stdout",
     "output_type": "stream",
     "text": [
      "(float) 0.500000f\n"
     ]
    }
   ],
   "source": [
    "float(n1)/2"
   ]
  },
  {
   "cell_type": "markdown",
   "metadata": {},
   "source": [
    "- ``sqrt`` (``math.h``) returns the square root of a ``double`` - given the variable ``n6`` is an ``int`` the conversion is automatic"
   ]
  },
  {
   "cell_type": "markdown",
   "metadata": {},
   "source": [
    "- variable ``n7`` (negative value) requires it be changed to a positive via ``abs`` (``stdlib.h``) "
   ]
  },
  {
   "cell_type": "code",
   "execution_count": 16,
   "metadata": {},
   "outputs": [
    {
     "name": "stdout",
     "output_type": "stream",
     "text": [
      "#include <stdio.h>\r\n",
      "#include <math.h> // call function sqrt\r\n",
      "#include <stdlib.h> // call function abs\r\n",
      "int main()\r\n",
      "{\r\n",
      "    int n6=25,n7=-25;\r\n",
      "    printf(\"%f\\n\",sqrt(n6));\r\n",
      "    printf(\"%f\\n\",sqrt(n7)); // output undefined nan\r\n",
      "    printf(\"%f\\n\",sqrt(abs(n7)));\r\n",
      "    return 0;\r\n",
      "}\r\n",
      "\n"
     ]
    }
   ],
   "source": [
    "%%shell\n",
    "cat ./rc/tic/a02_Operators_Cast/s.c"
   ]
  },
  {
   "cell_type": "code",
   "execution_count": 17,
   "metadata": {},
   "outputs": [],
   "source": [
    "%%shell\n",
    "cc ./rc/tic/a02_Operators_Cast/s.c -lm -o a"
   ]
  },
  {
   "cell_type": "code",
   "execution_count": 18,
   "metadata": {},
   "outputs": [
    {
     "name": "stdout",
     "output_type": "stream",
     "text": [
      "/home/seanohaileasa/fubar-c\r\n",
      "5.000000\r\n",
      "-nan\r\n",
      "5.000000\r\n",
      "\n"
     ]
    }
   ],
   "source": [
    "%%shell\n",
    "pwd && ./a"
   ]
  },
  {
   "cell_type": "markdown",
   "metadata": {},
   "source": [
    "- seed randomiser function ``srand`` (``stdlib.h``) requires an ``unsigned long int`` - the function uses its argument seed as a seed for a new sequence of pseudo-random numbers to be returned by calls to function ``rand`` - if function ``srand`` is not called the function ``rand`` seed is set as if function ``srand(1)`` was called at program start - function ``rand`` generates pseudo-random numbers"
   ]
  },
  {
   "cell_type": "markdown",
   "metadata": {},
   "source": [
    "- function ``time`` (``time.h``) fetchs the tick-tock value from the computers clock (constantly changing) - could return a negative value therefore an ``unsigned`` cast operator is required"
   ]
  },
  {
   "cell_type": "code",
   "execution_count": 19,
   "metadata": {},
   "outputs": [
    {
     "name": "stdout",
     "output_type": "stream",
     "text": [
      "(long) 1635750010\n"
     ]
    }
   ],
   "source": [
    "time(NULL)"
   ]
  },
  {
   "cell_type": "code",
   "execution_count": 20,
   "metadata": {},
   "outputs": [
    {
     "name": "stdout",
     "output_type": "stream",
     "text": [
      "(unsigned int) 1635750011\n"
     ]
    }
   ],
   "source": [
    "(unsigned)time(NULL)"
   ]
  },
  {
   "cell_type": "code",
   "execution_count": 21,
   "metadata": {},
   "outputs": [
    {
     "name": "stdout",
     "output_type": "stream",
     "text": [
      "#include <stdio.h>\r\n",
      "#include <stdlib.h> // call function rand\r\n",
      "#include <time.h> // call function time\r\n",
      "int main()\r\n",
      "{\r\n",
      "    srand((unsigned)time(NULL));\r\n",
      "    printf(\"%d\\n\",rand());\r\n",
      "    return 0;\r\n",
      "}\r\n",
      "\n"
     ]
    }
   ],
   "source": [
    "%%shell\n",
    "cat ./rc/tic/a02_Operators_Cast/t.c"
   ]
  },
  {
   "cell_type": "code",
   "execution_count": 22,
   "metadata": {},
   "outputs": [],
   "source": [
    "%%shell\n",
    "cc ./rc/tic/a02_Operators_Cast/t.c"
   ]
  },
  {
   "cell_type": "code",
   "execution_count": 23,
   "metadata": {},
   "outputs": [
    {
     "name": "stdout",
     "output_type": "stream",
     "text": [
      "729756484\r\n",
      "\n"
     ]
    }
   ],
   "source": [
    "%%shell\n",
    "./a.out"
   ]
  },
  {
   "cell_type": "markdown",
   "metadata": {},
   "source": [
    "- function ``malloc`` (``stdlib.h``) returns the address of a chunk of memory - to use this chunk of memory must tell the compiler what type of value will be stored at this location"
   ]
  },
  {
   "cell_type": "markdown",
   "metadata": {},
   "source": [
    "- the address returned by the function ``malloc`` is cast as an ``int`` pointer - the compiler knows how to treat the memory (storing an ``int`` value)"
   ]
  },
  {
   "cell_type": "code",
   "execution_count": 24,
   "metadata": {},
   "outputs": [
    {
     "name": "stdout",
     "output_type": "stream",
     "text": [
      "#include <stdio.h>\r\n",
      "#include <stdlib.h> // function call malloc\r\n",
      "int main()\r\n",
      "{\r\n",
      "    int *m;\r\n",
      "    m=(int*)malloc(sizeof(int)*16);\r\n",
      "    if (m==NULL)\r\n",
      "        puts(\"memory full\");\r\n",
      "    else\r\n",
      "        puts(\"storage for 16 integers allocated\");\r\n",
      "    return 0;\r\n",
      "}\r\n",
      "\n"
     ]
    }
   ],
   "source": [
    "%%shell\n",
    "cat ./rc/tic/a02_Operators_Cast/m.c"
   ]
  },
  {
   "cell_type": "code",
   "execution_count": 25,
   "metadata": {},
   "outputs": [],
   "source": [
    "%%shell\n",
    "cc ./rc/tic/a02_Operators_Cast/m.c"
   ]
  },
  {
   "cell_type": "code",
   "execution_count": 26,
   "metadata": {},
   "outputs": [
    {
     "name": "stdout",
     "output_type": "stream",
     "text": [
      "storage for 16 integers allocated\r\n",
      "\n"
     ]
    }
   ],
   "source": [
    "%%shell\n",
    "./a.out"
   ]
  },
  {
   "cell_type": "markdown",
   "metadata": {},
   "source": [
    "< [Table of Contents](#top) | [References](#references) >\n",
    "<a id=\"operatorRelational\"></a>\n",
    "***\n",
    "###### Relational\n",
    "***"
   ]
  },
  {
   "cell_type": "markdown",
   "metadata": {},
   "source": [
    "- asking the compiler to evaluate truth value of expression"
   ]
  },
  {
   "cell_type": "code",
   "execution_count": 1,
   "metadata": {},
   "outputs": [],
   "source": [
    "int x=3,y=12;"
   ]
  },
  {
   "cell_type": "code",
   "execution_count": 2,
   "metadata": {},
   "outputs": [
    {
     "name": "stdout",
     "output_type": "stream",
     "text": [
      "x=3 and y=12 then (x == y) is 0\n"
     ]
    }
   ],
   "source": [
    "printf(\"x=%d and y=%d then (x == y) is %d\\n\",x,y,(x==y)); // truth evaluation false"
   ]
  },
  {
   "cell_type": "code",
   "execution_count": 3,
   "metadata": {},
   "outputs": [
    {
     "name": "stdout",
     "output_type": "stream",
     "text": [
      "x=3 and y=12 then (x != y) is 1\n"
     ]
    }
   ],
   "source": [
    "printf(\"x=%d and y=%d then (x != y) is %d\\n\",x,y,(x!=y)); // truth evalution true"
   ]
  },
  {
   "cell_type": "code",
   "execution_count": 4,
   "metadata": {},
   "outputs": [
    {
     "name": "stdout",
     "output_type": "stream",
     "text": [
      "x=3 and y=12 then (x > y) is 0\n"
     ]
    }
   ],
   "source": [
    "printf(\"x=%d and y=%d then (x > y) is %d\\n\",x,y,(x>y)); // truth evaluation false"
   ]
  },
  {
   "cell_type": "code",
   "execution_count": 5,
   "metadata": {},
   "outputs": [
    {
     "name": "stdout",
     "output_type": "stream",
     "text": [
      "x=3 and y=12 then (x < y) is 1\n"
     ]
    }
   ],
   "source": [
    "printf(\"x=%d and y=%d then (x < y) is %d\\n\",x,y,(x<y)); // truth evalution true"
   ]
  },
  {
   "cell_type": "code",
   "execution_count": 6,
   "metadata": {},
   "outputs": [
    {
     "name": "stdout",
     "output_type": "stream",
     "text": [
      "x=3 and y=12 then (x >= y) is 0\n"
     ]
    }
   ],
   "source": [
    "printf(\"x=%d and y=%d then (x >= y) is %d\\n\",x,y,(x>=y)); // truth evalution false"
   ]
  },
  {
   "cell_type": "code",
   "execution_count": 7,
   "metadata": {},
   "outputs": [
    {
     "name": "stdout",
     "output_type": "stream",
     "text": [
      "x=3 and y=12 then (x <= y) is 1\n"
     ]
    }
   ],
   "source": [
    "printf(\"x=%d and y=%d then (x <= y) is %d\\n\",x,y,(x<=y)); // truth evalution true"
   ]
  },
  {
   "cell_type": "markdown",
   "metadata": {},
   "source": [
    "< [Table of Contents](#top) | [References](#references) >\n",
    "<a id=\"operatorLogical\"></a>\n",
    "***\n",
    "###### Logical\n",
    "***"
   ]
  },
  {
   "cell_type": "markdown",
   "metadata": {},
   "source": [
    "- results are always $1$ or $0$ (``true`` or ``false``)"
   ]
  },
  {
   "cell_type": "code",
   "execution_count": 8,
   "metadata": {},
   "outputs": [],
   "source": [
    "int x=0,y=1;"
   ]
  },
  {
   "cell_type": "code",
   "execution_count": 9,
   "metadata": {},
   "outputs": [
    {
     "name": "stdout",
     "output_type": "stream",
     "text": [
      "(bool) false\n"
     ]
    }
   ],
   "source": [
    "(x&&y) // both require true"
   ]
  },
  {
   "cell_type": "code",
   "execution_count": 10,
   "metadata": {},
   "outputs": [
    {
     "name": "stdout",
     "output_type": "stream",
     "text": [
      "x=0 and y=1 then (x && y) is 0\n"
     ]
    }
   ],
   "source": [
    "printf(\"x=%d and y=%d then (x && y) is %d\\n\",x,y,(x&&y));"
   ]
  },
  {
   "cell_type": "code",
   "execution_count": 11,
   "metadata": {},
   "outputs": [
    {
     "name": "stdout",
     "output_type": "stream",
     "text": [
      "(bool) true\n"
     ]
    }
   ],
   "source": [
    "(x||y) // either require true"
   ]
  },
  {
   "cell_type": "code",
   "execution_count": 12,
   "metadata": {},
   "outputs": [
    {
     "name": "stdout",
     "output_type": "stream",
     "text": [
      "x=0 and y=1 then (x || y) is 1\n"
     ]
    }
   ],
   "source": [
    "printf(\"x=%d and y=%d then (x || y) is %d\\n\",x,y,(x||y));"
   ]
  },
  {
   "cell_type": "code",
   "execution_count": 13,
   "metadata": {},
   "outputs": [
    {
     "name": "stdout",
     "output_type": "stream",
     "text": [
      "(bool) true\n"
     ]
    }
   ],
   "source": [
    "(!x) // inverse of x"
   ]
  },
  {
   "cell_type": "code",
   "execution_count": 14,
   "metadata": {},
   "outputs": [
    {
     "name": "stdout",
     "output_type": "stream",
     "text": [
      "x=0 and y=1 then (!x) is 1 and (!y) is 0\n"
     ]
    }
   ],
   "source": [
    "printf(\"x=%d and y=%d then (!x) is %d and (!y) is %d\\n\",x,y,(!x),(!y));"
   ]
  },
  {
   "cell_type": "markdown",
   "metadata": {},
   "source": [
    "< [Table of Contents](#top) | [References](#references) >\n",
    "<a id=\"operatorBitwise\"></a>\n",
    "***\n",
    "###### Bitwise\n",
    "***"
   ]
  },
  {
   "cell_type": "markdown",
   "metadata": {},
   "source": [
    "- bit-level calculations"
   ]
  },
  {
   "cell_type": "code",
   "execution_count": 1,
   "metadata": {},
   "outputs": [],
   "source": [
    "unsigned int a=60;\n",
    "unsigned int b=13;"
   ]
  },
  {
   "cell_type": "code",
   "execution_count": 2,
   "metadata": {},
   "outputs": [],
   "source": [
    "// repository ./fubar-c\n",
    "void fBin(unsigned n)\n",
    "{\n",
    "    /* Decimal to binary representation.\n",
    "Input: n\n",
    "Process: recursive binary representation of n\n",
    "Output: \n",
    "*/\n",
    "    if (n>1)\n",
    "        fBin(n/2);\n",
    "    printf(\"%d\",n%2);\n",
    "}\n",
    "// --- END ---"
   ]
  },
  {
   "cell_type": "markdown",
   "metadata": {},
   "source": [
    "- binary ``&`` operator on each pair of corresponding bits - if both bits are $1$ then the resulting binary representation is $1$ (otherwise $0$)"
   ]
  },
  {
   "cell_type": "code",
   "execution_count": 3,
   "metadata": {},
   "outputs": [
    {
     "name": "stdout",
     "output_type": "stream",
     "text": [
      "111100"
     ]
    }
   ],
   "source": [
    "fBin(a)"
   ]
  },
  {
   "cell_type": "code",
   "execution_count": 4,
   "metadata": {},
   "outputs": [
    {
     "name": "stdout",
     "output_type": "stream",
     "text": [
      "1101"
     ]
    }
   ],
   "source": [
    "fBin(b)"
   ]
  },
  {
   "cell_type": "code",
   "execution_count": 5,
   "metadata": {},
   "outputs": [
    {
     "name": "stdout",
     "output_type": "stream",
     "text": [
      "a=60 and b=13 ...12\n"
     ]
    }
   ],
   "source": [
    "printf(\"a=%d and b=%d ...%d\\n\",a,b,(a&b));"
   ]
  },
  {
   "cell_type": "code",
   "execution_count": 6,
   "metadata": {},
   "outputs": [
    {
     "name": "stdout",
     "output_type": "stream",
     "text": [
      "1100"
     ]
    }
   ],
   "source": [
    "fBin(12)"
   ]
  },
  {
   "cell_type": "markdown",
   "metadata": {},
   "source": [
    "- binary ``|`` operator on each pair of corresponding bits - if either bit is $1$ then the resulting binary representation is $1$ (otherwise $0$)"
   ]
  },
  {
   "cell_type": "code",
   "execution_count": 7,
   "metadata": {},
   "outputs": [
    {
     "name": "stdout",
     "output_type": "stream",
     "text": [
      "a=60 and b=13 ...61\n"
     ]
    }
   ],
   "source": [
    "printf(\"a=%d and b=%d ...%d\\n\",a,b,(a|b));"
   ]
  },
  {
   "cell_type": "code",
   "execution_count": 8,
   "metadata": {},
   "outputs": [
    {
     "name": "stdout",
     "output_type": "stream",
     "text": [
      "111101"
     ]
    }
   ],
   "source": [
    "fBin(61)"
   ]
  },
  {
   "cell_type": "markdown",
   "metadata": {},
   "source": [
    "- ``^`` (XOR) operator requires both truth values are the same (``false``)"
   ]
  },
  {
   "cell_type": "code",
   "execution_count": 9,
   "metadata": {},
   "outputs": [
    {
     "name": "stdout",
     "output_type": "stream",
     "text": [
      "a=60 and b=13 ...49\n"
     ]
    }
   ],
   "source": [
    "printf(\"a=%d and b=%d ...%d\\n\",a,b,(a^b));"
   ]
  },
  {
   "cell_type": "code",
   "execution_count": 10,
   "metadata": {},
   "outputs": [
    {
     "name": "stdout",
     "output_type": "stream",
     "text": [
      "110001"
     ]
    }
   ],
   "source": [
    "fBin(49)"
   ]
  },
  {
   "cell_type": "markdown",
   "metadata": {},
   "source": [
    "- add/remove zero to end of a number (base-10) is the same as multiplying or dividing by $10$ whereas the base-2 equivalent is multiplying or dividing by $2$"
   ]
  },
  {
   "cell_type": "markdown",
   "metadata": {},
   "source": [
    "- ``>>`` (right-shift) $1$ is equivalent to dividing by $2$ (result converted back into base-10)"
   ]
  },
  {
   "cell_type": "code",
   "execution_count": 11,
   "metadata": {},
   "outputs": [
    {
     "name": "stdout",
     "output_type": "stream",
     "text": [
      "(unsigned int) 30\n"
     ]
    }
   ],
   "source": [
    "a>>1 // shift to right"
   ]
  },
  {
   "cell_type": "code",
   "execution_count": 12,
   "metadata": {},
   "outputs": [
    {
     "name": "stdout",
     "output_type": "stream",
     "text": [
      "(unsigned int) 60\n"
     ]
    }
   ],
   "source": [
    "a"
   ]
  },
  {
   "cell_type": "markdown",
   "metadata": {},
   "source": [
    "- ``<<`` (left-shift) $1$ is equivalent to multiplying by $2$ (result converted back into base-10)"
   ]
  },
  {
   "cell_type": "code",
   "execution_count": 13,
   "metadata": {},
   "outputs": [
    {
     "name": "stdout",
     "output_type": "stream",
     "text": [
      "(unsigned int) 120\n"
     ]
    }
   ],
   "source": [
    "a<<1 // shift to left"
   ]
  },
  {
   "cell_type": "markdown",
   "metadata": {},
   "source": [
    "- beware of shifting bits with signed numbers"
   ]
  },
  {
   "cell_type": "code",
   "execution_count": 14,
   "metadata": {},
   "outputs": [
    {
     "name": "stdout",
     "output_type": "stream",
     "text": [
      "(int) -60\n"
     ]
    }
   ],
   "source": [
    "int c=-60"
   ]
  },
  {
   "cell_type": "code",
   "execution_count": 15,
   "metadata": {},
   "outputs": [
    {
     "name": "stdout",
     "output_type": "stream",
     "text": [
      "(int) -120\n"
     ]
    }
   ],
   "source": [
    "c<<1"
   ]
  },
  {
   "cell_type": "markdown",
   "metadata": {},
   "source": [
    "< [Table of Contents](#top) | [References](#references) >\n",
    "<a id=\"operatorTernary\"></a>\n",
    "***\n",
    "###### Ternary\n",
    "***"
   ]
  },
  {
   "cell_type": "markdown",
   "metadata": {},
   "source": [
    "- ``?:`` (ternary / conditional expression) operator\n",
    "\n",
    "```c\n",
    "variable=(condition)?v1:v2;\n",
    "```"
   ]
  },
  {
   "cell_type": "code",
   "execution_count": 1,
   "metadata": {},
   "outputs": [
    {
     "name": "stdout",
     "output_type": "stream",
     "text": [
      "#include <stdio.h>\r\n",
      "int main()\r\n",
      "{\r\n",
      "    float a,b,max;\r\n",
      "    printf(\"enter two ages: \");\r\n",
      "    if ((scanf(\"%f%f\",&a,&b))!=2) // sanity error check\r\n",
      "    {\r\n",
      "        puts(\"ERR\");\r\n",
      "        return 1; // exit fully program\r\n",
      "        puts(\"restart\"); // not called exited\r\n",
      "    } else\r\n",
      "        max=(a>b)?a:b; // max two inputs\r\n",
      "    printf(\"larger age is %0.0f\\n\",max);\r\n",
      "    printf(\"larger variable is %c\\n\",(a>b)?'a':'b');\r\n",
      "    printf(\"age classification is %s\\n\",((max<19)?\"child\":(max<65?\"adult\":\"pensioner\")));\r\n",
      "    return 0;\r\n",
      "}\r\n",
      "\n"
     ]
    }
   ],
   "source": [
    "%%shell\n",
    "cat ./rc/tic/a03_Operators_Ternary/t.c"
   ]
  },
  {
   "cell_type": "markdown",
   "metadata": {},
   "source": [
    "< [Table of Contents](#top) | [References](#references) >\n",
    "<a id=\"qualifier\"></a>\n",
    "***\n",
    "### Qualifier\n",
    "***"
   ]
  },
  {
   "cell_type": "markdown",
   "metadata": {},
   "source": [
    "&#x1F6A7;"
   ]
  },
  {
   "cell_type": "markdown",
   "metadata": {},
   "source": [
    "< [Table of Contents](#top) | [References](#references) >\n",
    "<a id=\"qualifierconst\"></a>\n",
    "***\n",
    "###### ``const``\n",
    "***"
   ]
  },
  {
   "cell_type": "markdown",
   "metadata": {},
   "source": [
    "- ``const`` qualifier is read-only"
   ]
  },
  {
   "cell_type": "code",
   "execution_count": 1,
   "metadata": {},
   "outputs": [
    {
     "name": "stdout",
     "output_type": "stream",
     "text": [
      "#include <stdio.h>\r\n",
      "const double boilingCelsius=100.0;\r\n",
      "int main()\r\n",
      "{\r\n",
      "    boilingCelsius=101; // assignment read-only variable\r\n",
      "    return 0;\r\n",
      "}\r\n",
      "\n"
     ]
    }
   ],
   "source": [
    "%%shell \n",
    "cat ./rc/tic/a04_Qualifier_Constant/q.c"
   ]
  },
  {
   "cell_type": "code",
   "execution_count": 2,
   "metadata": {},
   "outputs": [
    {
     "name": "stdout",
     "output_type": "stream",
     "text": [
      "./rc/tic/a04_Qualifier_Constant/q.c: In function ‘main’:\r\n",
      "./rc/tic/a04_Qualifier_Constant/q.c:5:19: error: assignment of read-only variable ‘boilingCelsius’\r\n",
      "    5 |     boilingCelsius=101; // assignment read-only variable\r\n",
      "      |                   ^\r\n",
      "\n"
     ]
    }
   ],
   "source": [
    "%%shell\n",
    "cc ./rc/tic/a04_Qualifier_Constant/q.c"
   ]
  },
  {
   "cell_type": "code",
   "execution_count": 3,
   "metadata": {},
   "outputs": [],
   "source": [
    "const double boilingCelsius=100.0,freezingCelsius=0.0;"
   ]
  },
  {
   "cell_type": "code",
   "execution_count": 4,
   "metadata": {},
   "outputs": [
    {
     "name": "stdout",
     "output_type": "stream",
     "text": [
      "Water boils at 212.0 degrees Fahrenheit and freezes at 32.0 degrees Fahrenheit.\n",
      "Water boils at 373.0 degrees Kelvin and freezes at 273.0 Kelvins.\n"
     ]
    }
   ],
   "source": [
    "printf( \"Water boils at %.1f degrees Fahrenheit and freezes at %.1f degrees Fahrenheit.\\n\",boilingCelsius*9/5+32.0,freezingCelsius*9/5+32.0);\n",
    "printf( \"Water boils at %.1f degrees Kelvin and freezes at %.1f Kelvins.\\n\",boilingCelsius+273.0,freezingCelsius+273.0);"
   ]
  },
  {
   "cell_type": "markdown",
   "metadata": {},
   "source": [
    "< [Table of Contents](#top) | [References](#references) >\n",
    "<a id=\"structure\"></a>\n",
    "***\n",
    "### Structure\n",
    "***"
   ]
  },
  {
   "cell_type": "markdown",
   "metadata": {},
   "source": [
    "- items of information that are logically related may not be of the same data type - ``C`` allows logically related items of information that may be of different data types to be combined into a ``struct`` (unlike an array) "
   ]
  },
  {
   "cell_type": "markdown",
   "metadata": {},
   "source": [
    "i. define the ``struct`` and its members (to define a ``struct`` is to declare a ``struct`` template)\n",
    "\n",
    "ii. declare a variable of that particular ``struct`` type"
   ]
  },
  {
   "cell_type": "code",
   "execution_count": 1,
   "metadata": {},
   "outputs": [
    {
     "name": "stdout",
     "output_type": "stream",
     "text": [
      "#include <stdio.h>\r\n",
      "#define MAX_SURNAME 21\r\n",
      "#define MAX_FIRST_NAME 11\r\n",
      "// globally defined struct\r\n",
      "struct sRecord // struct tag optional\r\n",
      "{\r\n",
      "    // declare struct members\r\n",
      "    int n;\r\n",
      "    char s[MAX_SURNAME];\r\n",
      "    char fn[MAX_FIRST_NAME];\r\n",
      "};\r\n",
      "int main()\r\n",
      "{\r\n",
      "    struct sRecord s1; // type struct sRecord\r\n",
      "    // read dot notation\r\n",
      "    printf(\"enter number: \");\r\n",
      "    scanf(\"%d\",&s1.n); // complex variable s1\r\n",
      "    printf(\"surname : \");\r\n",
      "    scanf(\"%20s\",s1.s); // no address operator\r\n",
      "    printf(\"first name: \");\r\n",
      "    scanf(\"%10s\",s1.fn); // no address operator\r\n",
      "    // display dot notation\r\n",
      "    printf(\"Add Student Record:\\n\");\r\n",
      "    printf(\"Number: %d\\n\",s1.n);\r\n",
      "    printf(\"First Name: %s\\n\",s1.fn);\r\n",
      "    printf(\"Surname: %s \\n\",s1.s);\r\n",
      "    return 0;\r\n",
      "}\r\n",
      "\n"
     ]
    }
   ],
   "source": [
    "%%shell\n",
    "cat ./rc/tic/a06_Structures_1of3/mv.c"
   ]
  },
  {
   "cell_type": "markdown",
   "metadata": {},
   "source": [
    "- alternative declare of a ``struct`` template (``struct`` tag ``sRecord`` is optional)"
   ]
  },
  {
   "cell_type": "code",
   "execution_count": 2,
   "metadata": {},
   "outputs": [
    {
     "name": "stdout",
     "output_type": "stream",
     "text": [
      "#include <stdio.h>\r\n",
      "#define MAX_SURNAME 21\r\n",
      "#define MAX_FIRST_NAME 11\r\n",
      "// globally defined struct\r\n",
      "struct // remove struct tag\r\n",
      "{\r\n",
      "    // declare struct members\r\n",
      "    int n;\r\n",
      "    char s[MAX_SURNAME];\r\n",
      "    char fn[MAX_FIRST_NAME];\r\n",
      "} s1; // variables after curly\r\n",
      "int main()\r\n",
      "{\r\n",
      "    // read dot notation\r\n",
      "    printf(\"enter number: \");\r\n",
      "    scanf(\"%d\",&s1.n); // complex variable s1\r\n",
      "    printf(\"surname : \");\r\n",
      "    scanf(\"%20s\",s1.s); // no address operator\r\n",
      "    printf(\"first name: \");\r\n",
      "    scanf(\"%10s\",s1.fn); // no address operator\r\n",
      "    // display dot notation\r\n",
      "    printf(\"Add Student Record:\\n\");\r\n",
      "    printf(\"Number: %d\\n\",s1.n);\r\n",
      "    printf(\"First Name: %s\\n\",s1.fn);\r\n",
      "    printf(\"Surname: %s \\n\",s1.s);\r\n",
      "    return 0;\r\n",
      "}\r\n",
      "\n"
     ]
    }
   ],
   "source": [
    "%%shell\n",
    "cat ./rc/tic/a06_Structures_1of3/alt.c"
   ]
  },
  {
   "cell_type": "markdown",
   "metadata": {},
   "source": [
    "- cannot use the assignment operator with a string - a string is not a variable but an array of characters"
   ]
  },
  {
   "cell_type": "code",
   "execution_count": 3,
   "metadata": {},
   "outputs": [
    {
     "name": "stdout",
     "output_type": "stream",
     "text": [
      "#include <stdio.h>\r\n",
      "#include <string.h> // call function strcpy\r\n",
      "#define MAX_SURNAME 21\r\n",
      "#define MAX_FIRST_NAME 11\r\n",
      "// globally defined struct\r\n",
      "struct // remove struct tag\r\n",
      "{\r\n",
      "    // declare struct members\r\n",
      "    int n;\r\n",
      "    char s[MAX_SURNAME];\r\n",
      "    char fn[MAX_FIRST_NAME];\r\n",
      "} s1,s2; // variables after curly\r\n",
      "int main()\r\n",
      "{\r\n",
      "    // read dot notation\r\n",
      "    printf(\"enter number: \");\r\n",
      "    scanf(\"%d\",&s1.n); // complex variable s1\r\n",
      "    printf(\"surname : \");\r\n",
      "    scanf(\"%20s\",s1.s); // no address operator\r\n",
      "    printf(\"first name: \");\r\n",
      "    scanf(\"%10s\",s1.fn); // no address operator\r\n",
      "    s2.n=s1.n+1;\r\n",
      "    strcpy(s2.s,\"Smith\");\r\n",
      "    strcpy(s2.fn,\"Jane\");\r\n",
      "    // display dot notation\r\n",
      "    printf(\"Student Records:\\n\");\r\n",
      "    puts(\"================\");\r\n",
      "    printf(\"Number: %d\\n\",s1.n);\r\n",
      "    printf(\"First Name: %s\\n\",s1.fn);\r\n",
      "    printf(\"Surname: %s\\n\",s1.s);\r\n",
      "    puts(\"================\");\r\n",
      "    printf(\"Number: %d\\n\",s2.n);\r\n",
      "    printf(\"First Name: %s\\n\",s2.fn);\r\n",
      "    printf(\"Surname: %s\\n\",s2.s);\r\n",
      "    return 0;\r\n",
      "}\r\n",
      "\n"
     ]
    }
   ],
   "source": [
    "%%shell\n",
    "cat ./rc/tic/a06_Structures_1of3/ss.c"
   ]
  },
  {
   "cell_type": "markdown",
   "metadata": {},
   "source": [
    "< [Table of Contents](#top) | [References](#references) >\n",
    "<a id=\"structureunion\"></a>\n",
    "***\n",
    "###### ``union``\n",
    "***"
   ]
  },
  {
   "cell_type": "markdown",
   "metadata": {},
   "source": [
    "- enable storage of different data types in the same exact location"
   ]
  },
  {
   "cell_type": "markdown",
   "metadata": {},
   "source": [
    "- member data types can be used interchangeable based on the last operation performed"
   ]
  },
  {
   "cell_type": "code",
   "execution_count": 1,
   "metadata": {},
   "outputs": [],
   "source": [
    "union symbol // union instead struct\n",
    "{\n",
    "    int number;\n",
    "    char letter;\n",
    "};"
   ]
  },
  {
   "cell_type": "code",
   "execution_count": 2,
   "metadata": {},
   "outputs": [],
   "source": [
    "union symbol value; // type union symbol"
   ]
  },
  {
   "cell_type": "markdown",
   "metadata": {},
   "source": [
    "- ``number`` and ``letter`` will be stored in the same place (useful for variables changing data type)"
   ]
  },
  {
   "cell_type": "code",
   "execution_count": 3,
   "metadata": {},
   "outputs": [
    {
     "name": "stdout",
     "output_type": "stream",
     "text": [
      "(int) 1\n"
     ]
    }
   ],
   "source": [
    "value.number=1"
   ]
  },
  {
   "cell_type": "markdown",
   "metadata": {},
   "source": [
    "- replacing location ``value.number``"
   ]
  },
  {
   "cell_type": "code",
   "execution_count": 4,
   "metadata": {},
   "outputs": [
    {
     "name": "stdout",
     "output_type": "stream",
     "text": [
      "(char) 'a'\n"
     ]
    }
   ],
   "source": [
    "value.letter='a'"
   ]
  },
  {
   "cell_type": "markdown",
   "metadata": {},
   "source": [
    "- ``ptr`` is a pointer of type ``union symbol``"
   ]
  },
  {
   "cell_type": "code",
   "execution_count": 5,
   "metadata": {},
   "outputs": [
    {
     "name": "stdout",
     "output_type": "stream",
     "text": [
      "(union symbol *) nullptr\n"
     ]
    }
   ],
   "source": [
    "union symbol *ptr"
   ]
  },
  {
   "cell_type": "markdown",
   "metadata": {},
   "source": [
    "- store the address of ``value`` in the union ``ptr``"
   ]
  },
  {
   "cell_type": "code",
   "execution_count": 6,
   "metadata": {},
   "outputs": [
    {
     "name": "stdout",
     "output_type": "stream",
     "text": [
      "(union symbol *) 0x7f5a2c105020\n"
     ]
    }
   ],
   "source": [
    "ptr=&value"
   ]
  },
  {
   "cell_type": "markdown",
   "metadata": {},
   "source": [
    "- using pointer notation to access the ``letter`` field ``'a'``"
   ]
  },
  {
   "cell_type": "code",
   "execution_count": 7,
   "metadata": {},
   "outputs": [
    {
     "name": "stdout",
     "output_type": "stream",
     "text": [
      "(char) 'a'\n"
     ]
    }
   ],
   "source": [
    "char anotherLetter=(*ptr).letter"
   ]
  },
  {
   "cell_type": "code",
   "execution_count": 8,
   "metadata": {},
   "outputs": [
    {
     "name": "stdout",
     "output_type": "stream",
     "text": [
      "(int) 97\n"
     ]
    }
   ],
   "source": [
    "int('a')"
   ]
  },
  {
   "cell_type": "code",
   "execution_count": 9,
   "metadata": {},
   "outputs": [
    {
     "name": "stdout",
     "output_type": "stream",
     "text": [
      "(char) 'a'\n"
     ]
    }
   ],
   "source": [
    "anotherLetter"
   ]
  },
  {
   "cell_type": "markdown",
   "metadata": {},
   "source": [
    "- using arrow notation to access the ``letter`` field ``'a'``"
   ]
  },
  {
   "cell_type": "code",
   "execution_count": 10,
   "metadata": {},
   "outputs": [
    {
     "name": "stdout",
     "output_type": "stream",
     "text": [
      "(char) 'a'\n"
     ]
    }
   ],
   "source": [
    "char yetAnotherLetter=ptr->letter"
   ]
  },
  {
   "cell_type": "code",
   "execution_count": 11,
   "metadata": {},
   "outputs": [
    {
     "name": "stdout",
     "output_type": "stream",
     "text": [
      "(int) 97\n"
     ]
    }
   ],
   "source": [
    "int('a')"
   ]
  },
  {
   "cell_type": "code",
   "execution_count": 12,
   "metadata": {},
   "outputs": [
    {
     "name": "stdout",
     "output_type": "stream",
     "text": [
      "(char) 'a'\n"
     ]
    }
   ],
   "source": [
    "yetAnotherLetter"
   ]
  },
  {
   "cell_type": "code",
   "execution_count": 13,
   "metadata": {},
   "outputs": [
    {
     "name": "stdout",
     "output_type": "stream",
     "text": [
      "(int *) 0x7f5a2c105020\n"
     ]
    }
   ],
   "source": [
    "&value.number"
   ]
  },
  {
   "cell_type": "code",
   "execution_count": 14,
   "metadata": {},
   "outputs": [
    {
     "name": "stdout",
     "output_type": "stream",
     "text": [
      "(int) 97\n"
     ]
    }
   ],
   "source": [
    "(*ptr).number // revert pointer notation"
   ]
  },
  {
   "cell_type": "code",
   "execution_count": 15,
   "metadata": {},
   "outputs": [
    {
     "name": "stdout",
     "output_type": "stream",
     "text": [
      "(char *) \"a\"\n"
     ]
    }
   ],
   "source": [
    "&value.letter"
   ]
  },
  {
   "cell_type": "code",
   "execution_count": 16,
   "metadata": {},
   "outputs": [
    {
     "name": "stdout",
     "output_type": "stream",
     "text": [
      "(char) 'a'\n"
     ]
    }
   ],
   "source": [
    "ptr->letter // revert array notation"
   ]
  },
  {
   "cell_type": "markdown",
   "metadata": {},
   "source": [
    "< [Introduction](#intro) >\n",
    "***\n",
    "## END"
   ]
  },
  {
   "cell_type": "markdown",
   "metadata": {},
   "source": [
    "< [Table of Contents](#top) | [Abstract](#abstract) | [Introduction](#introduction) | [Conclusion](#conclusion) | [References](#references) >\n",
    "<a id=\"solution\"></a>\n",
    "***\n",
    "## Solution\n",
    "***"
   ]
  },
  {
   "cell_type": "markdown",
   "metadata": {},
   "source": [
    "&#x1F6A7;"
   ]
  },
  {
   "cell_type": "markdown",
   "metadata": {},
   "source": [
    "***\n",
    "## END"
   ]
  },
  {
   "cell_type": "markdown",
   "metadata": {},
   "source": [
    "< [Table of Contents](#top) | [Abstract](#abstract) | [Introduction](#introduction) | [Solution](#solution) | [References](#references) >\n",
    "<a id=\"conclusion\"></a>\n",
    "***\n",
    "## Conclusion\n",
    "***"
   ]
  },
  {
   "cell_type": "markdown",
   "metadata": {},
   "source": [
    "&#x1F6A7;"
   ]
  },
  {
   "cell_type": "markdown",
   "metadata": {},
   "source": [
    "***\n",
    "## END"
   ]
  },
  {
   "cell_type": "markdown",
   "metadata": {},
   "source": [
    "< [Table of Contents](#top) | [Abstract](#abstract) | [Introduction](#introduction) | [Solution](#solution) | [Conclusion](#conclusion) | [References](#references) >\n",
    "<a id=\"appendix\"></a>\n",
    "***\n",
    "## Appendix\n",
    "***"
   ]
  },
  {
   "cell_type": "markdown",
   "metadata": {},
   "source": [
    "< [Table of Contents](#top) | [References](#references) >\n",
    "<a id=\"statement\"></a>\n",
    "***\n",
    "### Statement\n",
    "***"
   ]
  },
  {
   "cell_type": "markdown",
   "metadata": {},
   "source": [
    "- statements can contains one or more expressions - an expression being a function call or other operator(s) (mathematical/bitwise etc) - can be combined in a single statement although its important to use good judgement and not make things too complex (hard to read) [1]"
   ]
  },
  {
   "cell_type": "markdown",
   "metadata": {},
   "source": [
    "- its important from a readability point of view to put statements on a single line although sometimes that does not work (sometimes statements are to long and span multiple lines) - ``C`` does not care where statements are put [1]"
   ]
  },
  {
   "cell_type": "markdown",
   "metadata": {},
   "source": [
    "- the fact that statements on are a line by themselves so that they could be readable means nothing to the compiler - can write a whole program on one line albeit dumb thing to do - the point is that ``C`` is a free format syntax language whereby a line means nothing - Fortran on the otherhand is a little different whereby a line is very important and even column numbers are important [1]"
   ]
  },
  {
   "cell_type": "markdown",
   "metadata": {},
   "source": [
    "< [Table of Contents](#top) | [References](#references) >\n",
    "<a id=\"statementsCompound\"></a>\n",
    "***\n",
    "###### Compound\n",
    "***"
   ]
  },
  {
   "cell_type": "markdown",
   "metadata": {},
   "source": [
    "- every statement must end in a semicolon - this differs from some languages like Pascal where a semicolon is a statement separator meaning there is no need to have the last statement followed by a semicolon [1]"
   ]
  },
  {
   "cell_type": "markdown",
   "metadata": {},
   "source": [
    "- an exception is when a group of statements act almost as if it were a single statement - the ``if`` statement to make some decisions based on a condition being ``true`` then executing some statements - basically groups a number of statements together as a single unit called a compound statement - need to make a block out of it - a block being something that is surrounded with curly braces [1]"
   ]
  },
  {
   "cell_type": "markdown",
   "metadata": {},
   "source": [
    "- compound statements group single statements (end with semicolons) - the block of statements are surrounded by curly braces [1]"
   ]
  },
  {
   "cell_type": "markdown",
   "metadata": {},
   "source": [
    "***\n",
    "### END"
   ]
  },
  {
   "cell_type": "markdown",
   "metadata": {},
   "source": [
    "< [Table of Contents](#top) | [References](#references) >\n",
    "<a id=\"declaration\"></a>\n",
    "***\n",
    "### Declaration\n",
    "***"
   ]
  },
  {
   "cell_type": "markdown",
   "metadata": {},
   "source": [
    "- all variables must be declared before use and usually at the beginning of a function before any executable statements - a declaration announces the properties of variables consisting of a type name and a list of variables [2]"
   ]
  },
  {
   "cell_type": "markdown",
   "metadata": {},
   "source": [
    "***\n",
    "### END"
   ]
  },
  {
   "cell_type": "markdown",
   "metadata": {},
   "source": [
    "< [Table of Contents](#top) | [References](#references) >\n",
    "<a id=\"arrays\"></a>\n",
    "***\n",
    "### Arrays\n",
    "***"
   ]
  },
  {
   "cell_type": "markdown",
   "metadata": {},
   "source": [
    "- declares ``nDigits`` to be an array of 10 ``int`` [2]"
   ]
  },
  {
   "cell_type": "code",
   "execution_count": 13,
   "metadata": {},
   "outputs": [],
   "source": [
    "int nDigits[10];"
   ]
  },
  {
   "cell_type": "markdown",
   "metadata": {},
   "source": [
    "- array subscripts always start at zero in ``C`` so the elements are ``nDigits[0]`` to ``nDigits[9]`` - this is reflected in the ``for`` loop that initialise and prints the array [2]"
   ]
  },
  {
   "cell_type": "markdown",
   "metadata": {},
   "source": [
    "- a subscript can be any integer expression which includes integer variables like ``i`` and integer constants [2]"
   ]
  },
  {
   "cell_type": "code",
   "execution_count": 14,
   "metadata": {},
   "outputs": [],
   "source": [
    "for (int i=0;i<10;++i)\n",
    "    nDigits[i]=i;"
   ]
  },
  {
   "cell_type": "code",
   "execution_count": 15,
   "metadata": {},
   "outputs": [
    {
     "name": "stdout",
     "output_type": "stream",
     "text": [
      "(int [10]) { 0, 1, 2, 3, 4, 5, 6, 7, 8, 9 }\n"
     ]
    }
   ],
   "source": [
    "nDigits"
   ]
  },
  {
   "cell_type": "code",
   "execution_count": 16,
   "metadata": {},
   "outputs": [],
   "source": [
    "for (int i=0;i<10;++i)\n",
    "    nDigits[i]=0; // array populate zero"
   ]
  },
  {
   "cell_type": "code",
   "execution_count": 17,
   "metadata": {},
   "outputs": [
    {
     "name": "stdout",
     "output_type": "stream",
     "text": [
      "(int [10]) { 0, 0, 0, 0, 0, 0, 0, 0, 0, 0 }\n"
     ]
    }
   ],
   "source": [
    "nDigits"
   ]
  },
  {
   "cell_type": "markdown",
   "metadata": {},
   "source": [
    "***\n",
    "### END"
   ]
  },
  {
   "cell_type": "markdown",
   "metadata": {},
   "source": [
    "< [Table of Contents](#top) | [References](#references) >\n",
    "<a id=\"controlFlow\"></a>\n",
    "***\n",
    "### Control Flow\n",
    "***"
   ]
  },
  {
   "cell_type": "markdown",
   "metadata": {},
   "source": [
    "- the choice between the ``while`` and ``for`` is arbitrary and based on which seems clearer [2]"
   ]
  },
  {
   "cell_type": "markdown",
   "metadata": {},
   "source": [
    "- the ``for`` is usually appropriate for loops in which the initialisation and increment are single statements and logically related since it is more compact than ``while`` and it keeps the loop control statements together in one place [2]"
   ]
  },
  {
   "cell_type": "markdown",
   "metadata": {},
   "source": [
    "< [Table of Contents](#top) | [References](#references) >\n",
    "<a id=\"controlFlowswitch\"></a>\n",
    "***\n",
    "###### ``switch``\n",
    "***"
   ]
  },
  {
   "cell_type": "markdown",
   "metadata": {},
   "source": [
    "- the ``else if`` statement expresses a multi-way decision [2]"
   ]
  },
  {
   "cell_type": "markdown",
   "metadata": {},
   "source": [
    "- the ``switch`` provides another way to write a multi-way branch that is particularly suitable when the condition is whether some integer or character expression matches one of a set of constants [2]"
   ]
  },
  {
   "cell_type": "markdown",
   "metadata": {},
   "source": [
    "< [Table of Contents](#top) | [References](#references) >\n",
    "<a id=\"controlFlowwhile\"></a>\n",
    "***\n",
    "###### ``while``\n",
    "***"
   ]
  },
  {
   "cell_type": "markdown",
   "metadata": {},
   "source": [
    "- the condition in parentheses is tested - if ``true`` the body of the loop is executed - the condition is re-tested - if ``true`` the body is executed again - when the test becomes ``false`` then the loop ends and execution continues at the statement that follows the loop [2]"
   ]
  },
  {
   "cell_type": "markdown",
   "metadata": {},
   "source": [
    "- the body of a ``while`` can be one or more statements enclosed in braces or a single statement without braces [2]"
   ]
  },
  {
   "cell_type": "code",
   "execution_count": 24,
   "metadata": {},
   "outputs": [],
   "source": [
    "int i=1,j=5;\n",
    "while (i<j)\n",
    "    i=2*i;"
   ]
  },
  {
   "cell_type": "code",
   "execution_count": 25,
   "metadata": {},
   "outputs": [
    {
     "name": "stdout",
     "output_type": "stream",
     "text": [
      "(int) 8\n"
     ]
    }
   ],
   "source": [
    "i"
   ]
  },
  {
   "cell_type": "markdown",
   "metadata": {},
   "source": [
    "< [Table of Contents](#top) | [References](#references) >\n",
    "<a id=\"controlFlowfor\"></a>\n",
    "***\n",
    "###### ``for``\n",
    "***"
   ]
  },
  {
   "cell_type": "markdown",
   "metadata": {},
   "source": [
    "- a generalisation of the ``while`` [2]"
   ]
  },
  {
   "cell_type": "markdown",
   "metadata": {},
   "source": [
    "- the first part is the initialisation and done once before the loop proper is entered [2]"
   ]
  },
  {
   "cell_type": "markdown",
   "metadata": {},
   "source": [
    "- the second part is the test or condition that controls the loop [2]"
   ]
  },
  {
   "cell_type": "markdown",
   "metadata": {},
   "source": [
    "- the third part is the increment step with the second part (condition) re-evaluated [2]"
   ]
  },
  {
   "cell_type": "markdown",
   "metadata": {},
   "source": [
    "***\n",
    "### END"
   ]
  },
  {
   "cell_type": "markdown",
   "metadata": {},
   "source": [
    "< [Table of Contents](#top) | [References](#references) >\n",
    "<a id=\"function\"></a>\n",
    "***\n",
    "### Function\n",
    "***"
   ]
  },
  {
   "cell_type": "markdown",
   "metadata": {},
   "source": [
    "- functions contain statements that specify the computing operations to be done - provides a convenient way to encapsulate some computation which can then be used without worrying about its implementation [2]"
   ]
  },
  {
   "cell_type": "markdown",
   "metadata": {},
   "source": [
    "- with properly designed functions it is possible to ignore how a job is done (knowing what is done is sufficient) [2]"
   ]
  },
  {
   "cell_type": "markdown",
   "metadata": {},
   "source": [
    "- ``C`` makes the use of functions easy and convenient and efficient (will often see a short function defined and called only once just because it clarifies some piece of code) [2]"
   ]
  },
  {
   "cell_type": "markdown",
   "metadata": {},
   "source": [
    "< [Table of Contents](#top) | [References](#references) >\n",
    "<a id=\"functionsmain\"></a>\n",
    "***\n",
    "###### ``main``\n",
    "***"
   ]
  },
  {
   "cell_type": "markdown",
   "metadata": {},
   "source": [
    "- the ``C`` program begins executing at the beginning of ``main`` which means every program must have a ``main`` somewhere [2]"
   ]
  },
  {
   "cell_type": "markdown",
   "metadata": {},
   "source": [
    "< [Table of Contents](#top) | [References](#references) >\n",
    "<a id=\"functionreturnstatement\"></a>\n",
    "***\n",
    "###### ``return``\n",
    "***"
   ]
  },
  {
   "cell_type": "markdown",
   "metadata": {},
   "source": [
    "- a function need not ``return`` a value - a ``return`` statement with no expression causes control but no useful value to be returned to the caller (as does falling off the end of a function by reaching the terminating right brace) [2]"
   ]
  },
  {
   "cell_type": "markdown",
   "metadata": {},
   "source": [
    "- the calling function can ignore a value returned by a function [2]"
   ]
  },
  {
   "cell_type": "markdown",
   "metadata": {},
   "source": [
    "- since ``main`` is a function like any other it may return a value to its caller which is in effect the environment in which the program was executed [2]"
   ]
  },
  {
   "cell_type": "markdown",
   "metadata": {},
   "source": [
    "- typically a ``return`` value of $0$ implies normal termination and non-zero values signal unusual or erroneous termination conditions (should ``return`` status to the environment) [2]"
   ]
  },
  {
   "cell_type": "markdown",
   "metadata": {},
   "source": [
    "< [Table of Contents](#top) | [References](#references) >\n",
    "<a id=\"functionsPrototype\"></a>\n",
    "***\n",
    "###### Prototype ``fPower``\n",
    "***"
   ]
  },
  {
   "cell_type": "markdown",
   "metadata": {},
   "source": [
    "- the standard library contains a function ``pow(x,y)`` that computes $x^{y}$ - ``C`` has no exponentiation operator like the ``**`` of ``Python`` [2]"
   ]
  },
  {
   "cell_type": "code",
   "execution_count": 26,
   "metadata": {},
   "outputs": [],
   "source": [
    "// 2**2 // python result 4"
   ]
  },
  {
   "cell_type": "markdown",
   "metadata": {},
   "source": [
    "- illustrating the mechanics of a function definition by writing a function ``fPower`` to raise an integer ``m`` to a positive integer power ``n`` (not a practical exponentiation routine as it handles only positive powers of small integers) [2]"
   ]
  },
  {
   "cell_type": "markdown",
   "metadata": {},
   "source": [
    "- function definitions can appear in any order and in one source file or several although no function can be split between files [2]"
   ]
  },
  {
   "cell_type": "markdown",
   "metadata": {},
   "source": [
    "- if the source program appears in several files may have to say more to compile and load it than if it all appears in one but that is an operating system matter and not a language attribute [2]"
   ]
  },
  {
   "cell_type": "markdown",
   "metadata": {},
   "source": [
    "- the declaration before ``main`` says that ``fPower`` is a function that expects two ``int`` arguments and returns an ``int`` [2]"
   ]
  },
  {
   "cell_type": "markdown",
   "metadata": {},
   "source": [
    "- this declaration (function prototype) has to agree with the definition and uses of ``fPower`` - it is an error if the definition of a function or any uses of it do not agree with its prototype [2]"
   ]
  },
  {
   "cell_type": "markdown",
   "metadata": {},
   "source": [
    "- parameter names need not agree (are optional in a function prototype) [2]\n",
    "\n",
    "```c\n",
    "int fPower(int m, int n); // prototype parameters optional\n",
    "```"
   ]
  },
  {
   "cell_type": "code",
   "execution_count": 27,
   "metadata": {},
   "outputs": [],
   "source": [
    "int fPower(int, int); // function prototype - fPower"
   ]
  },
  {
   "cell_type": "markdown",
   "metadata": {},
   "source": [
    "- the function ``fPower`` is called twice by ``main`` - each call passes two arguments to ``fPower`` which each time returns an integer to be formatted and printed - the expression ``fPower(2,i)`` is an integer just as $2$ and $i$ are [[Skip to Definition](#functionsDefinition)] [2] <a id=\"fPowermain\"></a>"
   ]
  },
  {
   "cell_type": "code",
   "execution_count": 28,
   "metadata": {},
   "outputs": [],
   "source": [
    "int fPower(int base, int n) // function definition - fPower\n",
    "{\n",
    "    /* Raise base to n-th power; n >= 0.\n",
    "Input: base; n\n",
    "Process:\n",
    "Output:\n",
    "*/\n",
    "    int p=1;\n",
    "    for (int i=0;i<n;++i)\n",
    "        p*=base;\n",
    "    return p; // return to caller\n",
    "}"
   ]
  },
  {
   "cell_type": "code",
   "execution_count": 29,
   "metadata": {},
   "outputs": [
    {
     "name": "stdout",
     "output_type": "stream",
     "text": [
      " 0    1       1\n",
      " 1    2      -3\n",
      " 2    4       9\n",
      " 3    8     -27\n",
      " 4   16      81\n",
      " 5   32    -243\n",
      " 6   64     729\n",
      " 7  128   -2187\n",
      " 8  256    6561\n",
      " 9  512  -19683\n"
     ]
    }
   ],
   "source": [
    "for (int i=0;i<10;++i)\n",
    "    printf(\"%2d %4d %7d\\n\",i,fPower(2,i),fPower(-3,i)); // function call - fPower"
   ]
  },
  {
   "cell_type": "markdown",
   "metadata": {},
   "source": [
    "< [Table of Contents](#top) | [References](#references) >\n",
    "<a id=\"functionsDefinition\"></a>\n",
    "***\n",
    "###### Definition ``fPower``\n",
    "***"
   ]
  },
  {
   "cell_type": "markdown",
   "metadata": {},
   "source": [
    "- declaring the: i) type (``int``) of the result that the function returns and; ii) parameter types (``int`` and ``int``) and names (``base`` and ``n``) [2]"
   ]
  },
  {
   "cell_type": "markdown",
   "metadata": {},
   "source": [
    "- the names used by ``fPower`` for its parameters are local to ``fPower`` and are not visible to any other function (other routines can use the same names without conflict) - also true of variables defined within the function body [2]"
   ]
  },
  {
   "cell_type": "markdown",
   "metadata": {},
   "source": [
    "- generally use the term ``parameter`` for a variable named in the parenthesized list in a function definition and ``argument`` for the value used in a call of the function (terms formal argument and actual argument are sometimes used for the same distinction) [2]"
   ]
  },
  {
   "cell_type": "code",
   "execution_count": 30,
   "metadata": {},
   "outputs": [],
   "source": [
    "/*\n",
    "int fPower(int base, int n) // function definition - fPower\n",
    "{\n",
    "    // Raise base to n-th power; n >= 0.\n",
    "// Input: base; n\n",
    "// Process:\n",
    "// Output:\n",
    "    int p=1;\n",
    "    for (int i=0;i<n;++i)\n",
    "        p*=base;\n",
    "    return p; // return to caller\n",
    "}\n",
    "*/"
   ]
  },
  {
   "cell_type": "markdown",
   "metadata": {},
   "source": [
    "[[``main``](#fPowermain)]"
   ]
  },
  {
   "cell_type": "markdown",
   "metadata": {},
   "source": [
    "***\n",
    "### END"
   ]
  },
  {
   "cell_type": "markdown",
   "metadata": {},
   "source": [
    "< [Table of Contents](#top) | [References](#references) >\n",
    "<a id=\"preprocessor\"></a>\n",
    "***\n",
    "### Preprocessor\n",
    "***"
   ]
  },
  {
   "cell_type": "markdown",
   "metadata": {},
   "source": [
    "- a ``C`` program is a collection of functions (being the equivalent of a procedure or subroutine - itself a collection of statements enclosed by braces) in addition to some optional global variables/constants [1]"
   ]
  },
  {
   "cell_type": "markdown",
   "metadata": {},
   "source": [
    "- having all of the functions of a very large ``C`` program in a single source file could be awkward - can modularise a program so as to having many files which after compilation and linking comprise the program [1]"
   ]
  },
  {
   "cell_type": "markdown",
   "metadata": {},
   "source": [
    "- two source files (``s1.c`` and ``s2.c``) at the second level from the top [1]"
   ]
  },
  {
   "cell_type": "markdown",
   "metadata": {},
   "source": [
    "- each source file includes a couple of header files (other files that have some code) - the source file ``s1.c`` includes ``f1.h`` and ``f2.h`` - the source file ``s2.c`` includes ``f2.h`` and ``f3.h`` [1]"
   ]
  },
  {
   "cell_type": "markdown",
   "metadata": {},
   "source": [
    "- imagining the depiction of this executable ``C`` program is a project - it has a couple of main modules and is divided up into a couple of files - each of these files is including things that are defined elsewhere - in particular ``f2.h`` is included in both places so do not want to have to type that separately in the two source files so its put into its own file [1]"
   ]
  },
  {
   "cell_type": "markdown",
   "metadata": {},
   "source": [
    "- the types of things that go into header files are mainly just function declarations which are functions without a body - a function declaration identifies the function (name / return type / any other information that is necessary) - type once and reuse as necessary [1]"
   ]
  },
  {
   "cell_type": "markdown",
   "metadata": {},
   "source": [
    "- the fundamental compilation unit (the thing that gets compiled from source code into machine code) is the combination of the source file and its included text from any files that it chooses to include [1]"
   ]
  },
  {
   "cell_type": "markdown",
   "metadata": {},
   "source": [
    "- compiling ``s1.c`` and ``s2.c`` the compiler will automatically open and read the information in the header files included - the entire result gets put out in an object file (``s1.obj`` and ``s2.obj`` respectively) - is platform dependent (using Windows ``.obj`` - using Unix ``.o``) [1]"
   ]
  },
  {
   "cell_type": "markdown",
   "metadata": {},
   "source": [
    "- once everything is compiled then its linked together and made ready to execute with the final result being an executable file ``prog.exe`` [1]"
   ]
  },
  {
   "cell_type": "markdown",
   "metadata": {},
   "source": [
    "![Preprocessor-Executable](https://github.com/SeanOhAileasa/SeanOhAileasa/blob/master/rc/fubar-c/executable.png?raw=true)\n",
    "\n",
    "***(Image) C. Allison, \"Thinking in C,\" [MindView LLC](https://web.archive.org/web/20210617100433/http://ix.cs.uoregon.edu/~norris/cis330books/ThinkingInC/Index.html), (n.d.).***"
   ]
  },
  {
   "cell_type": "markdown",
   "metadata": {},
   "source": [
    "- idea of including files into a compilation stream shows an important step in the ``C`` compilation process (before the program is translated from ``C`` source code into machine code) - the preprocessing phase of the compiler will first process all of the preprocessing operations [1]"
   ]
  },
  {
   "cell_type": "markdown",
   "metadata": {},
   "source": [
    "< [Table of Contents](#top) | [References](#references) >\n",
    "<a id=\"preprocessorDirective\"></a>\n",
    "***\n",
    "###### Directive\n",
    "***"
   ]
  },
  {
   "cell_type": "markdown",
   "metadata": {},
   "source": [
    "&#x1F6A7;"
   ]
  },
  {
   "cell_type": "markdown",
   "metadata": {},
   "source": [
    "< [Table of Contents](#top) | [References](#references) >\n",
    "<a id=\"preprocessorDirectivehashinclude\"></a>\n",
    "***\n",
    "###### ``include``\n",
    "***"
   ]
  },
  {
   "cell_type": "markdown",
   "metadata": {},
   "source": [
    "- includes another file into the compilation stream - the pound sign ``#`` plus ``include`` is a special directive in C [1]"
   ]
  },
  {
   "cell_type": "markdown",
   "metadata": {},
   "source": [
    "- it invokes a preprocessor allowing the inclusion of other text into the program without retyping - these including declarations of special functions that are in the standard ``C`` library and in particular the header ``stdio.h`` (usually call ``standard IO.h``) [1]"
   ]
  },
  {
   "cell_type": "markdown",
   "metadata": {},
   "source": [
    "- the include directive occurs before the actual translation process - putting function declarations and maybe some constant declarations into a header file - its different in ``C++`` given there is other things you might want to put in there but for ``C`` that is pretty much it [1]"
   ]
  },
  {
   "cell_type": "markdown",
   "metadata": {},
   "source": [
    "< [Table of Contents](#top) | [References](#references) >\n",
    "<a id=\"preprocessorDirectivehashincludeHeaderFile\"></a>\n",
    "***\n",
    "###### Header File\n",
    "***"
   ]
  },
  {
   "cell_type": "markdown",
   "metadata": {},
   "source": [
    "- the standard ``C`` library makes use of the preprocessor - in other words each ``C`` compiler will make available header files such as ``stdio.h`` [1]"
   ]
  },
  {
   "cell_type": "markdown",
   "metadata": {},
   "source": [
    "- there is quite a number of header files in the standard ``C`` library and its possible to distinguish between standard header files from any other header files - other header files might be created by someone else in an organisation [1]"
   ]
  },
  {
   "cell_type": "markdown",
   "metadata": {},
   "source": [
    "- the standard header file uses angle brackets (``<`` ``>``) to delimit the standard header name - to the compiler any header which is delimited by angle brackets will occur in a particular place in the file system (in some directory) - there exists a standard system directory where those headers go and during compilation that is where the compiler will look [1]"
   ]
  },
  {
   "cell_type": "markdown",
   "metadata": {},
   "source": [
    "- to create user-defined headers use double quotes (``\"`` ``\"``) instead of the angle brackets (``<`` ``>``) - the compiler will look in the current directory for the file - there are some rules for finding them in other places but those are platform dependent - Unix and Windows can have environment variables - some compilers will look at a particular environment variable which has a set of path names (different directories to search) in case it does not find what its looking for in the current directory [1]"
   ]
  },
  {
   "cell_type": "markdown",
   "metadata": {},
   "source": [
    "< [Table of Contents](#top) | [References](#references) >\n",
    "<a id=\"preprocessorDirectivehashincludeHeaderFilesstdioh\"></a>\n",
    "***\n",
    "###### ``stdio.h``\n",
    "***"
   ]
  },
  {
   "cell_type": "markdown",
   "metadata": {},
   "source": [
    "- there are certain channels of input and output that are assumed (streams) [1]"
   ]
  },
  {
   "cell_type": "markdown",
   "metadata": {},
   "source": [
    "- the functions available in the standard ``C`` library (in particular ``stdio.h``) provide I/O services for using what is called the console (basically the screen) and the keyboard or for explicitly doing file input and output [1]"
   ]
  },
  {
   "cell_type": "markdown",
   "metadata": {},
   "source": [
    "- three basic categories of types of I/O: i) console I/O (goes to standard input and output); ii) file I/O (explicit file input and output - naming a file for reading from or writing to); iii) in-core or in-memory formatting [1]"
   ]
  },
  {
   "cell_type": "markdown",
   "metadata": {},
   "source": [
    "- there is three streams that are predefined in C:\n",
    "\n",
    "\n",
    "1. standard in standard input (``stdin``): the console functions in the standard ``C`` library will always read from standard input - standard input is by default the keyboard - there are ways to change this called redirection - just keep in mind that standard input is where a number of functions in the standard ``C`` library get their input [1]\n",
    "\n",
    "\n",
    "2. standard out (``stdout``): analogous situation for output (hooked to the screen) - functions like ``puts`` send output to standard output [1]\n",
    "\n",
    "\n",
    "3. standard error (``stderr``): channel or stream for output which is also connected to the screen by default - it is logically different than standard output - can send things separately to standard output and standard error - if not redirecting them to files or other devices then will see all on the screen together but it does allow for a logically separate place to put them and if its chosen to have standard output not go to the screen then can do that [1]"
   ]
  },
  {
   "cell_type": "markdown",
   "metadata": {},
   "source": [
    "< [Table of Contents](#top) | [References](#references) >\n",
    "<a id=\"preprocessorDirectivehashincludeHeaderFilesstdiohsymbolicconstantEOF\"></a>\n",
    "***\n",
    "###### ``EOF``\n",
    "***"
   ]
  },
  {
   "cell_type": "markdown",
   "metadata": {},
   "source": [
    "- end of file symbolic constant [2] "
   ]
  },
  {
   "cell_type": "code",
   "execution_count": 31,
   "metadata": {},
   "outputs": [
    {
     "name": "stdout",
     "output_type": "stream",
     "text": [
      "(int) -1\n"
     ]
    }
   ],
   "source": [
    "EOF"
   ]
  },
  {
   "cell_type": "markdown",
   "metadata": {},
   "source": [
    "< [Table of Contents](#top) | [References](#references) >\n",
    "<a id=\"preprocessorDirectivehashincludeHeaderFilesstdiohprintf\"></a>\n",
    "***\n",
    "###### ``printf``\n",
    "***"
   ]
  },
  {
   "cell_type": "markdown",
   "metadata": {},
   "source": [
    "- general-purpose output formatting function [2] ``printf`` works similar to function ``scanf`` [1]"
   ]
  },
  {
   "cell_type": "markdown",
   "metadata": {},
   "source": [
    "- the function is not part of the ``C`` language as there is no input or output defined in ``C`` itself - it is a useful function from the standard library of functions that are normally accessible to ``C`` programs - the behaviour of ``printf`` is defined in the ANSI standard however its properties should be the same with any compiler and library that conforms to the standard [2] "
   ]
  },
  {
   "cell_type": "markdown",
   "metadata": {},
   "source": [
    "- the first argument is a format specification and any literal text will just be echoed to standard out - any conversion specification ``%`` included within the string of characters to be printed indicates arguments to be substituted and in what form it is to be printed (``%d`` specifies an integer argument) [2] "
   ]
  },
  {
   "cell_type": "markdown",
   "metadata": {},
   "source": [
    "- the conversion specification ``%3.0f`` indicates a floating-point number to be printed with at least three characters wide with no decimal point and no fraction digits [2]"
   ]
  },
  {
   "cell_type": "code",
   "execution_count": 32,
   "metadata": {},
   "outputs": [
    {
     "name": "stdout",
     "output_type": "stream",
     "text": [
      "  1\n"
     ]
    }
   ],
   "source": [
    "float n=2.0/3;\n",
    "printf(\"%3.0f\\n\",n);"
   ]
  },
  {
   "cell_type": "markdown",
   "metadata": {},
   "source": [
    "- the conversion specification ``%6.1f`` prints at least size characters wide with 1 digit after the decimal point [2]"
   ]
  },
  {
   "cell_type": "code",
   "execution_count": 33,
   "metadata": {},
   "outputs": [
    {
     "name": "stdout",
     "output_type": "stream",
     "text": [
      "   0.7\n"
     ]
    }
   ],
   "source": [
    "printf(\"%6.1f\\n\",n);"
   ]
  },
  {
   "cell_type": "markdown",
   "metadata": {},
   "source": [
    "- width and precision may be omitted from a specification [2]"
   ]
  },
  {
   "cell_type": "code",
   "execution_count": 34,
   "metadata": {},
   "outputs": [
    {
     "name": "stdout",
     "output_type": "stream",
     "text": [
      "     0\n",
      "...print as decimal number - at least 6 characters wide\n"
     ]
    }
   ],
   "source": [
    "printf(\"%6d\\n...print as decimal number - at least 6 characters wide\\n\",int(n));"
   ]
  },
  {
   "cell_type": "code",
   "execution_count": 35,
   "metadata": {},
   "outputs": [
    {
     "name": "stdout",
     "output_type": "stream",
     "text": [
      "0.666667\n",
      "...print as floating point\n"
     ]
    }
   ],
   "source": [
    "printf(\"%f\\n...print as floating point\\n\",n);"
   ]
  },
  {
   "cell_type": "code",
   "execution_count": 36,
   "metadata": {},
   "outputs": [
    {
     "name": "stdout",
     "output_type": "stream",
     "text": [
      " 0.666667\n",
      "...print as floating point - at least 9 characters wide\n"
     ]
    }
   ],
   "source": [
    "printf(\"%9f\\n...print as floating point - at least 9 characters wide\\n\",n);"
   ]
  },
  {
   "cell_type": "code",
   "execution_count": 37,
   "metadata": {},
   "outputs": [
    {
     "name": "stdout",
     "output_type": "stream",
     "text": [
      "0.67\n",
      "...print as floating point - 2 characters after decimal point\n"
     ]
    }
   ],
   "source": [
    "printf(\"%.2f\\n...print as floating point - 2 characters after decimal point\\n\",n);"
   ]
  },
  {
   "cell_type": "markdown",
   "metadata": {},
   "source": [
    "- among other the function ``printf`` also recognises ``%o`` for octal and ``%x`` for hexadecimal and ``%c`` for character and ``%s`` for character string and ``%%`` for $\\%$ itself [2]"
   ]
  },
  {
   "cell_type": "markdown",
   "metadata": {},
   "source": [
    "< [Table of Contents](#top) | [References](#references) >\n",
    "<a id=\"preprocessorDirectivehashincludeHeaderFilesstdiohscanf\"></a>\n",
    "***\n",
    "###### ``scanf``\n",
    "***"
   ]
  },
  {
   "cell_type": "markdown",
   "metadata": {},
   "source": [
    "- ``scanf`` is like ``printf`` except that it reads input instead of writing output [2]"
   ]
  },
  {
   "cell_type": "markdown",
   "metadata": {},
   "source": [
    "- scans standard input for the input to read - the first argument is the format string (integer ``%d``) - the special character specifies that the character that follows is a code which describes the type of input - reading a decimal integer (base-10) by calling function ``scanf`` then standard input will be scanned for numbers - when it runs out (perhaps the user hits enter or space or something else) then the number that results from those numerals typed in will be stored [1]"
   ]
  },
  {
   "cell_type": "markdown",
   "metadata": {},
   "source": [
    "- take it as fact an ampersand ``&`` is required in front of whatever variable is read with ``scanf`` (relates to pointers) [1]"
   ]
  },
  {
   "cell_type": "markdown",
   "metadata": {},
   "source": [
    "< [Table of Contents](#top) | [References](#references) >\n",
    "<a id=\"preprocessorDirectivehashincludeHeaderFileslimitsh\"></a>\n",
    "***\n",
    "###### ``limits.h``\n",
    "***"
   ]
  },
  {
   "cell_type": "markdown",
   "metadata": {},
   "source": [
    "- its a little disconcerting (frustrating) that its not possible to specify what the range of the numeric types are (different for different systems) [1]"
   ]
  },
  {
   "cell_type": "markdown",
   "metadata": {},
   "source": [
    "- can be troublesome to write programs that will be run on different systems (want portability) - ``C`` is supposed to be a portable language and to some degree it is but the fact is it is a systems programming language (more system friendly than it is programmer friendly) - while its not true to a large degree it certainly is true with the underlying numeric types - cannot specify a universal value for the largest ``int`` or the smallest ``int`` as it differs from platform to platform [1]"
   ]
  },
  {
   "cell_type": "markdown",
   "metadata": {},
   "source": [
    "- its impossible to find out by querying it in a program by examining the symbolic constants for all of these sizes along with other properties of the machine and compiler [1][2]"
   ]
  },
  {
   "cell_type": "markdown",
   "metadata": {},
   "source": [
    "- integer limits are defined in ``limits.h`` - including this header file or looking up the documentation and examining the names of those constants then its possible can find out what is the largest ``int`` or the largest ``short`` or the largest ``long`` or the smallest as well etc - this does give some programmatic control over the numeric properties of the system - the same thing applies to the floating point numbers as well and this information can be found in the header ``float.h`` [1]"
   ]
  },
  {
   "cell_type": "code",
   "execution_count": 38,
   "metadata": {
    "scrolled": false
   },
   "outputs": [
    {
     "name": "stdout",
     "output_type": "stream",
     "text": [
      "/home/seanohaileasa/fubar-c\r\n",
      "\n"
     ]
    }
   ],
   "source": [
    "%%shell\n",
    "pwd\n",
    "# cat ../../../usr/include/limits.h"
   ]
  },
  {
   "cell_type": "markdown",
   "metadata": {},
   "source": [
    "- for integral limits can access constants (typically written with capital letters - convention thats been around for a long time) [13]"
   ]
  },
  {
   "cell_type": "markdown",
   "metadata": {},
   "source": [
    "< [Table of Contents](#top) | [References](#references) >\n",
    "<a id=\"preprocessorDirectivehashincludeHeaderFilesfloath\"></a>\n",
    "***\n",
    "###### ``float.h``\n",
    "***"
   ]
  },
  {
   "cell_type": "markdown",
   "metadata": {},
   "source": [
    "- contain symbolic constants for all floating-point sizes along with other properties of the machine and compiler [2]"
   ]
  },
  {
   "cell_type": "markdown",
   "metadata": {},
   "source": [
    "***\n",
    "### END"
   ]
  },
  {
   "cell_type": "markdown",
   "metadata": {},
   "source": [
    "***\n",
    "## END"
   ]
  },
  {
   "cell_type": "markdown",
   "metadata": {},
   "source": [
    "< [Table of Contents](#top) | [Abstract](#abstract) | [Introduction](#introduction) | [Solution](#solution) | [Conclusion](#conclusion) | [References](#references) >\n",
    "<a id=\"references\"></a>\n",
    "***\n",
    "## References\n",
    "***\n",
    "\n",
    "&nbsp;&nbsp;&nbsp;&nbsp;&nbsp;&nbsp;&nbsp;&nbsp;&nbsp;[1] C. Allison, \"Thinking in C,\" [MindView LLC](https://web.archive.org/web/20210617100433/http://ix.cs.uoregon.edu/~norris/cis330books/ThinkingInC/Index.html), (n.d.).\n",
    "\n",
    "&nbsp;&nbsp;&nbsp;&nbsp;&nbsp;&nbsp;&nbsp;&nbsp;&nbsp;[2] B. W. Kernighan, D. M. Ritchie, \"The C Programming Language (2nd Edition),\" Prentice Hall, 1988."
   ]
  },
  {
   "cell_type": "markdown",
   "metadata": {},
   "source": [
    "***\n",
    "## END"
   ]
  },
  {
   "cell_type": "markdown",
   "metadata": {},
   "source": [
    "# END JUPYTER NOTEBOOK"
   ]
  }
 ],
 "metadata": {
  "kernelspec": {
   "display_name": "ROOT C++",
   "language": "c++",
   "name": "root"
  },
  "language_info": {
   "codemirror_mode": "text/x-c++src",
   "file_extension": ".C",
   "mimetype": " text/x-c++src",
   "name": "c++"
  }
 },
 "nbformat": 4,
 "nbformat_minor": 5
}
